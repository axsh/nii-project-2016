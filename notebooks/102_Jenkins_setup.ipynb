{
 "cells": [
  {
   "cell_type": "code",
   "execution_count": 1,
   "metadata": {
    "hide_input": true,
    "hide_output": false,
    "init_cell": true,
    "locked": false,
    "run_control": {
     "marked": false
    }
   },
   "outputs": [
    {
     "name": "stdout",
     "output_type": "stream",
     "text": [
      "Ready.\n",
      "Changing global mode to 'my-script'\n"
     ]
    }
   ],
   "source": [
    "source extend_bashkernel-2modes.source\n",
    "\n",
    "# This cell should be hidden and execute automatically when the page loads\n",
    "\n",
    "# Make my-script the default when notebook is loaded:\n",
    "set-global-evaluation-mode \"my-script\""
   ]
  },
  {
   "cell_type": "markdown",
   "metadata": {
    "hide_input": false,
    "hide_output": false,
    "run_control": {
     "marked": false
    }
   },
   "source": [
    "To set the notebook mode, choose \"my-script\" or \"provided-script\" and run the cell."
   ]
  },
  {
   "cell_type": "code",
   "execution_count": null,
   "metadata": {
    "collapsed": true,
    "hide_input": false,
    "hide_output": false,
    "locked": false,
    "run_control": {
     "marked": false
    }
   },
   "outputs": [],
   "source": [
    "set-global-evaluation-mode \"my-script\""
   ]
  },
  {
   "cell_type": "markdown",
   "metadata": {
    "hide_input": false,
    "hide_output": false,
    "run_control": {
     "marked": false
    }
   },
   "source": [
    "\n",
    "# Jenkinsのセットアップ"
   ]
  },
  {
   "cell_type": "markdown",
   "metadata": {
    "run_control": {
     "marked": false
    }
   },
   "source": [
    "## はじめに"
   ]
  },
  {
   "cell_type": "markdown",
   "metadata": {
    "run_control": {
     "marked": false
    }
   },
   "source": [
    "今回は、Jenkinsを仮想マシンにインストールして演習を進めていきます。仮想マシンの操作にはIaaS基盤ソフトウェア「Wakame-vdc」を利用します。Wakame-vdcでは仮想マシンをインスタンスと呼んでいます。"
   ]
  },
  {
   "cell_type": "markdown",
   "metadata": {
    "run_control": {
     "marked": false
    }
   },
   "source": [
    "## 演習について"
   ]
  },
  {
   "cell_type": "markdown",
   "metadata": {
    "run_control": {
     "marked": false
    }
   },
   "source": [
    "* 本編の演習では、セルからコマンドを入力して実行しますが、Jenkinsが稼働するマシン上で実行する場合はsshを利用して実行して下さい。\n",
    "  + ```IP=\"$(< ~/vdc_host_ip)\" PORT=\"$(<~/vdc_instance_port)\" ssh -i ~/mykeypair -p ~/vdc_instance_port root@$IP CommandLine```\n",
    "* スクリプト例に記載されているコードは実際に実行できます。演習の参考にして下さい。\n",
    "* また、スクリプト例は自動化スクリプトを記述する際の参考にもできます。"
   ]
  },
  {
   "cell_type": "markdown",
   "metadata": {
    "run_control": {
     "marked": false
    }
   },
   "source": [
    "# Jenkinsをインストールする仮想マシンを起動する"
   ]
  },
  {
   "cell_type": "markdown",
   "metadata": {
    "hide_input": false,
    "hide_output": false,
    "run_control": {
     "marked": false
    }
   },
   "source": [
    "## 準備"
   ]
  },
  {
   "cell_type": "markdown",
   "metadata": {
    "hide_input": false,
    "hide_output": false,
    "run_control": {
     "marked": false
    }
   },
   "source": [
    "既に本編の演習を実施済みで、あらためて演習を実施する場合は、Wakame-vdcのGUIで稼働中のインスタンスをすべて破棄して下さい。\n",
    "本編の演習を初めて実施する場合は必要ありません。\n",
    "\n",
    "以下の手順でインスタンスを破棄します。\n",
    "1. ブラウザでWakame-vdcのGUIにアクセスしてログインします。接続先については「接続情報」を参照して下さい。\n",
    "* user: demo\n",
    "* password: demo\n",
    "2. [INSTANCES][Instances]をクリックします。「Instances」画面が表示されます。\n",
    "3. 稼働しているインスタンスがリストされていますので、先頭のチェックボックスをすべてチェックします。\n",
    "4. 画面上の[Setct an Action]プルダウンから[Terminate]を選択します。「Terminate Instances」ダイアログが開きます。\n",
    "5. [Terminate]ボタンをクリックします。\n",
    "6. 「Instances」画面に戻ります。インスタンスが破棄されると、Stateが\"terminated\"になります（Stateが変わらない場合は[Refesh]ボタンをクリックしてみて下さい）"
   ]
  },
  {
   "cell_type": "markdown",
   "metadata": {
    "hide_input": false,
    "hide_output": false,
    "run_control": {
     "marked": false
    }
   },
   "source": [
    "<a href=\"https://cloud.githubusercontent.com/assets/9693694/13846358/d09c4b80-ec89-11e5-90da-c3b216619f7b.png\"><img src=\"https://cloud.githubusercontent.com/assets/9693694/13846358/d09c4b80-ec89-11e5-90da-c3b216619f7b.png\" width=30% height=30% align=\"left\"></a>"
   ]
  },
  {
   "cell_type": "markdown",
   "metadata": {
    "hide_input": false,
    "hide_output": false,
    "run_control": {
     "marked": false
    }
   },
   "source": [
    "### スクリプト例"
   ]
  },
  {
   "cell_type": "markdown",
   "metadata": {
    "run_control": {
     "marked": false
    }
   },
   "source": [
    "Wakame-vdcには、Wakame-vdcの管理下にあるリソースを操作できるCUIが用意されています。\n",
    "今回はGUI画面からインスタンスを破棄しましたが、次のスクリプトでもインスタンスが破棄できます。Jenkinsを使った自動化用途に利用できます。"
   ]
  },
  {
   "cell_type": "code",
   "execution_count": null,
   "metadata": {
    "collapsed": true,
    "deletable": false,
    "hide_input": false,
    "hide_output": false,
    "locked": true,
    "run_control": {
     "marked": false
    },
    "scrolled": true
   },
   "outputs": [],
   "source": [
    "# Task: introduction-terminate-wakame-instances\n",
    "# Evaluation mode: provided-script\n",
    "# (if copying, only copy lines below here)\n",
    "\n",
    "# Here is an automated alternative to using the Wakame-vdc GUI.\n",
    "# The following Bash code will delete all Wakame-vdc instances by using\n",
    "# the output from \"mussel instance index\" to get a list of instance IDs,\n",
    "# and then using \"mussel instance destroy\" to terminate each ID.\n",
    "# These mussel commands can also be used in an interactive terminal.\n",
    "\n",
    "check_instances()\n",
    "{\n",
    "    mussel instance index | \\\n",
    "        (\n",
    "            date=xxx # only instances database rows with empty \"deleted_at\" should be displayed\n",
    "            while read ln; do\n",
    "                case \"$ln\" in\n",
    "                    *:id:*)\n",
    "                        [ \"$date\" = \"\" ] && echo \"$out\"\n",
    "                        read dash label theid <<<\"$ln\"\n",
    "                        out=\"     $theid \"\n",
    "                        ;;\n",
    "                    *:deleted_at:*)\n",
    "                        read label date rest <<<\"$ln\"\n",
    "                        ;;\n",
    "                esac\n",
    "            done\n",
    "            [ \"$date\" = \"\" ] && echo \"$out\"\n",
    "        )\n",
    "\n",
    "}\n",
    "\n",
    "ilist=\"$(check_instances 2>/dev/null)\"\n",
    "for inst in $ilist; do\n",
    "    echo \"Terminating instance: $inst\"\n",
    "    mussel instance destroy $inst 2>/dev/null\n",
    "done\n",
    "\n",
    "# This sleep is necessary so Wakame-vdc will reuse the 10.0.2.100 IP\n",
    "# addresss.\n",
    "sleep 15  # TODO: remove the need for this\n",
    "\n",
    "# Finally, flush the arp cache to workaround what is probably a bug in\n",
    "# the networking of the KVM that is hosting Jupyter.\n",
    "# sudo ip -s -s neigh flush all\n"
   ]
  },
  {
   "cell_type": "markdown",
   "metadata": {
    "hide_input": false,
    "hide_output": false,
    "run_control": {
     "marked": false
    }
   },
   "source": [
    "### 確認\n",
    "次のセルを実行して、インスタンスがすべて破棄されていることを確認して下さい。"
   ]
  },
  {
   "cell_type": "code",
   "execution_count": null,
   "metadata": {
    "collapsed": true,
    "hide_input": true,
    "hide_output": true,
    "locked": false,
    "run_control": {
     "marked": false
    }
   },
   "outputs": [],
   "source": [
    "# Task: introduction-terminate-wakame-instances\n",
    "# Evaluation mode: load\n",
    "\n",
    "# This cell should be hidden.\n",
    "\n",
    "# copy/paste of the provided-script code:\n",
    "check_instances()\n",
    "{\n",
    "    mussel instance index | \\\n",
    "        (\n",
    "            date=xxx # only instances database rows with empty \"deleted_at\" should be displayed\n",
    "            while read ln; do\n",
    "                case \"$ln\" in\n",
    "                    *:id:*)\n",
    "                        [ \"$date\" = \"\" ] && echo \"$out\"\n",
    "                        read dash label theid <<<\"$ln\"\n",
    "                        out=\"     $theid \"\n",
    "                        ;;\n",
    "                    *:deleted_at:*)\n",
    "                        read label date rest <<<\"$ln\"\n",
    "                        ;;\n",
    "                esac\n",
    "            done\n",
    "            [ \"$date\" = \"\" ] && echo \"$out\"\n",
    "        )\n",
    "\n",
    "}\n",
    "\n",
    "ilist=\"$(check_instances 2>/dev/null)\"\n",
    "for inst in $ilist; do\n",
    "    echo \"Terminating instance: $inst\"\n",
    "    mussel instance destroy $inst 2>/dev/null\n",
    "done\n",
    "\n",
    "# This sleep is necessary so Wakame-vdc will reuse the 10.0.2.100 IP\n",
    "# addresss.\n",
    "sleep 15  # TODO: remove the need for this\n"
   ]
  },
  {
   "cell_type": "code",
   "execution_count": null,
   "metadata": {
    "collapsed": true,
    "deletable": false,
    "hide_input": false,
    "hide_output": false,
    "locked": true,
    "run_control": {
     "marked": false
    }
   },
   "outputs": [],
   "source": [
    "# Task: introduction-terminate-wakame-instances\n",
    "# Evaluation Mode: check"
   ]
  },
  {
   "cell_type": "markdown",
   "metadata": {
    "hide_input": false,
    "hide_output": false,
    "run_control": {
     "marked": false
    }
   },
   "source": [
    "## 演習 : Wakame-vdcのインスタンスを起動する"
   ]
  },
  {
   "cell_type": "markdown",
   "metadata": {
    "hide_input": false,
    "hide_output": false,
    "run_control": {
     "marked": false
    }
   },
   "source": [
    "### 演習の内容"
   ]
  },
  {
   "cell_type": "markdown",
   "metadata": {
    "hide_input": false,
    "hide_output": false,
    "run_control": {
     "marked": false
    }
   },
   "source": [
    "まず、Jenkinsをインストールする仮想マシンを準備します。今回は、仮想マシンの操作にIaaS基盤ソフトウェア「Wakame-vdc」を利用して演習を進めていきます。Wakame-vdcでは仮想マシンをインスタンスと呼んでいます。<br>\n",
    "それでは、Wakame-vdcのGUIにアクセスしてインスタンスを起動しましょう。<br>\n",
    "以下の手順でインスタンスを起動します。\n",
    "1. ブラウザからWakame-vdcのGUIにログインします。\n",
    "* user: demo\n",
    "* password: demo\n",
    "2. 左メニューで[IMAGES][Machine Images]をクリックします。「Machine Images」画面が表示されます。\n",
    "3. リストで「centos1d64」のラジオボタンをクリックします。\n",
    "4. 画面上部の[Launch Instance]ボタンが有効になるのでクリックします。「Launch Instance」ダイアログが開きます。\n",
    "5. ダイアログで以下のように設定します。\n",
    "  * Instance Name: インスタンスを示す任意の名称を入力します。（例: jenkins）\n",
    "  * HostName: 空欄のまま\n",
    "  * Instance Spec: vz.xlarge\n",
    "  * SSH Key Pair: ssh-cicddemo\n",
    "  * Security Groups: cicddemo(sg-cicddemo)\n",
    "  * Vif: eth0: [nw-demo1]demo1\n",
    "6. [Launch]ボタンをクリックします。\n",
    "7. [INSTANCES][Instances]をクリックします。「Instances」画面が表示されます。\n",
    "8. 起動したインスタンスが表示されています。Stateが\"running\" になったらアクセス可能です。（\"running\"になる迄、若干時間がかかる場合があります）\n",
    "  * <del>**IP欄に表示されていIPアドレスがJenkinsをインストールするマシンのIPアドレスです。**</del>"
   ]
  },
  {
   "cell_type": "markdown",
   "metadata": {
    "hide_input": false,
    "hide_output": false,
    "run_control": {
     "marked": false
    }
   },
   "source": [
    "<a href=\"https://cloud.githubusercontent.com/assets/9693694/13846360/d3564506-ec89-11e5-843f-f3a71d77e76f.png\"><img src=\"https://cloud.githubusercontent.com/assets/9693694/13846360/d3564506-ec89-11e5-843f-f3a71d77e76f.png\" height=\"30%\" width=\"30%\" align=\"left\"></a>\n",
    "<a href=\"https://cloud.githubusercontent.com/assets/9693694/13846362/d7255e74-ec89-11e5-993a-682f15e14523.png\"><img src=\"https://cloud.githubusercontent.com/assets/9693694/13846362/d7255e74-ec89-11e5-993a-682f15e14523.png\" height=\"30%\" width=\"30%\" align=\"left\"></a>\n",
    "<a href=\"https://cloud.githubusercontent.com/assets/9693694/13846365/da32cf8e-ec89-11e5-9085-c9431a07362f.png\"><img src=\"https://cloud.githubusercontent.com/assets/9693694/13846365/da32cf8e-ec89-11e5-9085-c9431a07362f.png\" height=\"30%\" width=\"30%\" align=\"left\"></a>"
   ]
  },
  {
   "cell_type": "markdown",
   "metadata": {
    "hide_input": false,
    "hide_output": false,
    "run_control": {
     "marked": false
    }
   },
   "source": [
    "### スクリプト例"
   ]
  },
  {
   "cell_type": "markdown",
   "metadata": {
    "run_control": {
     "marked": false
    }
   },
   "source": [
    "Wakame-vdcには、Wakame-vdcの管理下にあるリソースを操作できるCUIが用意されています。<br>\n",
    "今回はGUI画面からインスタンスを起動しましたが、次のスクリプトでもインスタンスが起動できます。Jenkinsを使った自動化用途に利用できます。"
   ]
  },
  {
   "cell_type": "code",
   "execution_count": null,
   "metadata": {
    "collapsed": true,
    "deletable": false,
    "hide_input": false,
    "hide_output": false,
    "locked": true,
    "run_control": {
     "marked": false
    },
    "scrolled": true
   },
   "outputs": [],
   "source": [
    "# Task: introduction-launch-wakame-instance\n",
    "# Evaluation Mode: provided-script\n",
    "# (if copying, only copy lines below here)\n",
    "\n",
    "\n",
    "# Here is an automated alternative to using the Wakame-vdc GUI.\n",
    "# The following Bash code will launch a Wakame-vdc instance by using\n",
    "# \"mussel instance create\".\n",
    "\n",
    "cat <<EOS >vifs.json\n",
    "{\n",
    " \"eth0\":{\"network\":\"nw-demo1\",\"security_groups\":\"sg-cicddemo\"}\n",
    "}\n",
    "EOS\n",
    "\n",
    "mussel instance create --cpu-cores 2 --hypervisor openvz \\\n",
    "    --image-id wmi-centos1d64 --memory-size 2048 \\\n",
    "    --ssh-key-id ssh-cicddemo --vifs vifs.json --display-name centos"
   ]
  },
  {
   "cell_type": "markdown",
   "metadata": {
    "hide_input": false,
    "hide_output": false,
    "run_control": {
     "marked": false
    }
   },
   "source": [
    "### 確認\n",
    "次のセルを実行して、インスタンスの起動を確認して下さい。"
   ]
  },
  {
   "cell_type": "code",
   "execution_count": null,
   "metadata": {
    "collapsed": true,
    "hide_input": true,
    "hide_output": true,
    "locked": false,
    "run_control": {
     "marked": false
    },
    "scrolled": true
   },
   "outputs": [],
   "source": [
    "# Task: introduction-launch-wakame-instance\n",
    "# Evaluation Mode: load\n",
    "\n",
    "# This cell should be hidden.\n",
    "\n",
    "cat <<EOS >vifs.json\n",
    "{\n",
    " \"eth0\":{\"network\":\"nw-demo1\",\"security_groups\":\"sg-cicddemo\"}\n",
    "}\n",
    "EOS\n",
    "\n",
    "mussel instance create --cpu-cores 2 --hypervisor openvz \\\n",
    "    --image-id wmi-centos1d64 --memory-size 2048 \\\n",
    "    --ssh-key-id ssh-cicddemo --vifs vifs.json --display-name centos"
   ]
  },
  {
   "cell_type": "code",
   "execution_count": null,
   "metadata": {
    "collapsed": true,
    "deletable": false,
    "hide_input": false,
    "hide_output": false,
    "locked": true,
    "run_control": {
     "marked": false
    }
   },
   "outputs": [],
   "source": [
    "# Task: introduction-launch-wakame-instance\n",
    "# Evaluation Mode: check"
   ]
  },
  {
   "cell_type": "markdown",
   "metadata": {
    "hide_input": false,
    "hide_output": false,
    "run_control": {
     "marked": false
    }
   },
   "source": [
    "## 演習 : ssh接続を待つ"
   ]
  },
  {
   "cell_type": "markdown",
   "metadata": {
    "hide_input": false,
    "hide_output": false,
    "run_control": {
     "marked": false
    }
   },
   "source": [
    "### 演習の内容"
   ]
  },
  {
   "cell_type": "markdown",
   "metadata": {
    "hide_input": false,
    "hide_output": false,
    "run_control": {
     "marked": false
    }
   },
   "source": [
    "ここまでの演習で、インスタンスの起動をWakame-vdcのGUIで確認しました。ここではsshコマンドを使って、インスタンスが正常に起動していかを確認します。<br>\n",
    "sshの実行に先立って、インスタンスのIPアドレスがWakame-vdcが割り当てたものであることを確認するようにして下さい。\n",
    "\n",
    "**次のセルで、ssh接続を待つスクリプトを実行して下さい**"
   ]
  },
  {
   "cell_type": "code",
   "execution_count": null,
   "metadata": {
    "collapsed": true,
    "hide_input": false,
    "hide_output": false,
    "locked": false,
    "run_control": {
     "marked": false
    }
   },
   "outputs": [],
   "source": []
  },
  {
   "cell_type": "markdown",
   "metadata": {
    "hide_input": false,
    "hide_output": false,
    "run_control": {
     "marked": false
    }
   },
   "source": [
    "### スクリプト例"
   ]
  },
  {
   "cell_type": "markdown",
   "metadata": {
    "hide_input": false,
    "hide_output": false,
    "run_control": {
     "marked": false
    }
   },
   "source": [
    "ssh接続を待つスクリプトの例です。"
   ]
  },
  {
   "cell_type": "code",
   "execution_count": null,
   "metadata": {
    "collapsed": true,
    "deletable": false,
    "hide_input": false,
    "hide_output": false,
    "locked": true,
    "run_control": {
     "marked": false
    }
   },
   "outputs": [],
   "source": [
    "# Task: introduction-wait-for-ssh\n",
    "# Evaluation Mode: provided-script\n",
    "# (if copying, only copy lines below here)\n",
    "\n",
    "\n",
    "# The first part of this script waits for the ssh port (#22) to respond.\n",
    "# At the end, an ssh connection is attempted.\n",
    "\n",
    "IP=\"$(< ~/vdc_host_ip)\"\n",
    "PORT=\"$(<~/vdc_instance_port)\"\n",
    "while [[ \"$(echo | nc -w 1 \"$IP\" \"$PORT\")\" != *SSH* ]]; do\n",
    "  sleep 2\n",
    "  echo \"Waiting on SSH at $IP...\"\n",
    "done\n",
    "echo \"SSH is active at $IP, port $PORT\"\n",
    "\n",
    "ssh -qi ~/mykeypair -p $PORT root@$IP uptime"
   ]
  },
  {
   "cell_type": "markdown",
   "metadata": {
    "hide_input": false,
    "hide_output": false,
    "run_control": {
     "marked": false
    }
   },
   "source": [
    "### 確認\n",
    "次のセルを実行して、ssh接続が可能であることを確認して下さい。"
   ]
  },
  {
   "cell_type": "code",
   "execution_count": null,
   "metadata": {
    "collapsed": true,
    "deletable": false,
    "hide_input": true,
    "hide_output": true,
    "locked": true,
    "run_control": {
     "marked": false
    }
   },
   "outputs": [],
   "source": [
    "# Task: introduction-wait-for-ssh\n",
    "# Evaluation Mode: load\n",
    "\n",
    "# This script should be hidden.\n",
    "\n",
    "# It is also a bit awkward because the user's task is to check with ssh, but\n",
    "# really waiting for ssh is necessary.  Should the user learn how to write\n",
    "# a script that waits here?  If so how can it be checked?  ReRun the notebook.\n",
    "# Hmmm, maybe that would be a nice demo.\n",
    "\n",
    "IP=\"$(< ~/vdc_host_ip)\"\n",
    "PORT=\"$(<~/vdc_instance_port)\"\n",
    "while [[ \"$(echo | nc -w 1 \"$IP\" \"$PORT\")\" != *SSH* ]]; do\n",
    "  sleep 2\n",
    "  echo \"Waiting on SSH at $IP...\"\n",
    "done\n",
    "echo \"SSH is active at $IP, port $PORT\"\n",
    "\n",
    "ssh -qi ~/mykeypair -p $PORT root@$IP uptime"
   ]
  },
  {
   "cell_type": "code",
   "execution_count": null,
   "metadata": {
    "collapsed": true,
    "deletable": false,
    "hide_input": false,
    "hide_output": false,
    "locked": true,
    "run_control": {
     "marked": false
    }
   },
   "outputs": [],
   "source": [
    "# Task: introduction-wait-for-ssh\n",
    "# Evaluation Mode: check"
   ]
  },
  {
   "cell_type": "markdown",
   "metadata": {
    "hide_input": false,
    "hide_output": false,
    "run_control": {
     "marked": false
    }
   },
   "source": [
    "# Jenkinsのインストール\n"
   ]
  },
  {
   "cell_type": "markdown",
   "metadata": {
    "hide_input": false,
    "hide_output": false,
    "run_control": {
     "marked": false
    }
   },
   "source": [
    "## 演習 : java実行環境のインストール"
   ]
  },
  {
   "cell_type": "markdown",
   "metadata": {
    "hide_input": false,
    "hide_output": false,
    "run_control": {
     "marked": false
    }
   },
   "source": [
    "### 演習の内容"
   ]
  },
  {
   "cell_type": "markdown",
   "metadata": {
    "run_control": {
     "marked": false
    }
   },
   "source": [
    "javaの実行環境をインストールします。<br>\n",
    "インストール後、/etc/profile.d/java.shも設定するようにして下さい。\n",
    "\n",
    "**次のセルで、java実行環境のインストールとjava.shの設定スクリプトを実行して下さい。**"
   ]
  },
  {
   "cell_type": "code",
   "execution_count": null,
   "metadata": {
    "collapsed": true,
    "hide_input": false,
    "hide_output": false,
    "locked": false,
    "run_control": {
     "marked": false
    }
   },
   "outputs": [],
   "source": []
  },
  {
   "cell_type": "markdown",
   "metadata": {
    "hide_input": false,
    "hide_output": false,
    "run_control": {
     "marked": false
    }
   },
   "source": [
    "### スクリプト例"
   ]
  },
  {
   "cell_type": "markdown",
   "metadata": {
    "hide_input": false,
    "hide_output": false,
    "run_control": {
     "marked": false
    }
   },
   "source": [
    "java実行環境をインストール後、java.shを設定するスクリプト例です。"
   ]
  },
  {
   "cell_type": "code",
   "execution_count": null,
   "metadata": {
    "collapsed": true,
    "deletable": false,
    "hide_input": false,
    "hide_output": false,
    "locked": true,
    "run_control": {
     "marked": false
    }
   },
   "outputs": [],
   "source": [
    "# Task: introduction-install-java\n",
    "# Evaluation Mode: provided-script\n",
    "# (if copying, only copy lines below here)\n",
    "\n",
    " \n",
    "\n",
    "# This installs the Oracle version of Java.  The RPM file was\n",
    "# already downloaded to ~/notebooks/downloads\n",
    "\n",
    "IP=\"$(< ~/vdc_host_ip)\"\n",
    "PORT=\"$(<~/vdc_instance_port)\"\n",
    "cd ~/info\n",
    "tar c jdk-8u73-linux-x64.rpm | ssh -qi ~/mykeypair -p $PORT root@$IP tar xv\n",
    "\n",
    "ssh -qi ~/mykeypair -p $PORT root@$IP <<EOS\n",
    "\n",
    "rpm -ivh jdk-8u73-linux-x64.rpm\n",
    "\n",
    "cat <<CFG >/etc/profile.d/java.sh\n",
    "JAVA_HOME=/usr/java/jdk1.8.0_25/\n",
    "PATH=$JAVA_HOME/bin:$PATH\n",
    "export PATH JAVA_HOME\n",
    "export CLASSPATH=.\n",
    "CFG\n",
    "\n",
    "EOS"
   ]
  },
  {
   "cell_type": "markdown",
   "metadata": {
    "hide_input": false,
    "hide_output": false,
    "run_control": {
     "marked": false
    }
   },
   "source": [
    "### 確認\n",
    "次のセルを実行して、java実行環境のインストールと、java.shの設定が完了していることを確認して下さい。**"
   ]
  },
  {
   "cell_type": "code",
   "execution_count": null,
   "metadata": {
    "collapsed": true,
    "deletable": false,
    "hide_input": false,
    "hide_output": false,
    "locked": true,
    "run_control": {
     "marked": false
    }
   },
   "outputs": [],
   "source": [
    "# Task: introduction-install-java\n",
    "# Evaluation Mode: check"
   ]
  },
  {
   "cell_type": "markdown",
   "metadata": {
    "hide_input": false,
    "hide_output": false,
    "run_control": {
     "marked": false
    }
   },
   "source": [
    "## 演習 : Jenkins coreのインストール"
   ]
  },
  {
   "cell_type": "markdown",
   "metadata": {
    "hide_input": false,
    "hide_output": false,
    "run_control": {
     "marked": false
    }
   },
   "source": [
    "### 演習の内容"
   ]
  },
  {
   "cell_type": "markdown",
   "metadata": {
    "run_control": {
     "marked": false
    }
   },
   "source": [
    "Jenkins coreをインストールします。\n",
    "インストールにはyumコマンドを使用します。バージョン「1.656-1.1」のJenkinsをインストールします。\n",
    "```\n",
    "yum install -y jenkins-1.656-1.1\n",
    "```\n",
    "\n",
    "**次のセルで、Jenkins coreをインストールして下さい。**"
   ]
  },
  {
   "cell_type": "code",
   "execution_count": null,
   "metadata": {
    "collapsed": true,
    "hide_input": false,
    "hide_output": false,
    "init_cell": false,
    "locked": false,
    "run_control": {
     "marked": false
    },
    "scrolled": true
   },
   "outputs": [],
   "source": []
  },
  {
   "cell_type": "markdown",
   "metadata": {
    "hide_input": false,
    "hide_output": false,
    "run_control": {
     "marked": false
    }
   },
   "source": [
    "### スクリプト例"
   ]
  },
  {
   "cell_type": "markdown",
   "metadata": {
    "hide_input": false,
    "hide_output": false,
    "run_control": {
     "marked": false
    }
   },
   "source": [
    "Jenkins coreインストールのスクリプト例です。"
   ]
  },
  {
   "cell_type": "code",
   "execution_count": null,
   "metadata": {
    "collapsed": true,
    "deletable": false,
    "hide_input": false,
    "hide_output": false,
    "locked": true,
    "run_control": {
     "marked": false
    }
   },
   "outputs": [],
   "source": [
    "# Task: introduction-install-jenkins\n",
    "# Evaluation Mode: provided-script\n",
    "# (if copying, only copy lines below here)\n",
    "\n",
    "IP=\"$(< ~/vdc_host_ip)\"\n",
    "PORT=\"$(<~/vdc_instance_port)\"\n",
    "cd ~/info\n",
    "tar c jenkins-1.656-1.1.noarch.rpm | ssh -qi ~/mykeypair -p $PORT root@$IP tar xv\n",
    "\n",
    "ssh -qi ~/mykeypair -p $PORT root@$IP <<EOS\n",
    "\n",
    "rpm -ivh jenkins-1.656-1.1.noarch.rpm\n",
    "\n",
    "EOS"
   ]
  },
  {
   "cell_type": "markdown",
   "metadata": {
    "hide_input": false,
    "hide_output": false,
    "run_control": {
     "marked": false
    }
   },
   "source": [
    "### 確認\n",
    "次のセルを実行して、Jenkins coreがインストール済みであることを確認して下さい。"
   ]
  },
  {
   "cell_type": "code",
   "execution_count": null,
   "metadata": {
    "collapsed": true,
    "deletable": false,
    "hide_input": false,
    "hide_output": false,
    "locked": true,
    "run_control": {
     "marked": false
    }
   },
   "outputs": [],
   "source": [
    "# Task: introduction-install-jenkins\n",
    "# Evaluation Mode: check"
   ]
  },
  {
   "cell_type": "markdown",
   "metadata": {
    "run_control": {
     "marked": false
    }
   },
   "source": [
    "# 関連するツールのインストールとその他の設定"
   ]
  },
  {
   "cell_type": "markdown",
   "metadata": {
    "hide_input": false,
    "hide_output": false,
    "run_control": {
     "marked": false
    }
   },
   "source": [
    "## 演習 : 関連するビルドツールのインストール"
   ]
  },
  {
   "cell_type": "markdown",
   "metadata": {
    "hide_input": false,
    "hide_output": false,
    "run_control": {
     "marked": false
    }
   },
   "source": [
    "### 演習の内容"
   ]
  },
  {
   "cell_type": "markdown",
   "metadata": {
    "run_control": {
     "marked": false
    }
   },
   "source": [
    "パッケージビルド等で必要なパッケージをインストールしておきます。次のパッケージが必要です。\n",
    "* git iputils nc qemu-img parted kpartx rpm-build automake createrepo openssl-devel zlib-devel readline-devel gcc\n",
    "\n",
    "**次のセルで、パッケージインストールを実行して下さい。**"
   ]
  },
  {
   "cell_type": "code",
   "execution_count": null,
   "metadata": {
    "collapsed": true,
    "hide_input": false,
    "hide_output": false,
    "init_cell": false,
    "locked": false,
    "run_control": {
     "marked": false
    }
   },
   "outputs": [],
   "source": []
  },
  {
   "cell_type": "markdown",
   "metadata": {
    "hide_input": false,
    "hide_output": false,
    "run_control": {
     "marked": false
    }
   },
   "source": [
    "### スクリプト例"
   ]
  },
  {
   "cell_type": "markdown",
   "metadata": {
    "hide_input": false,
    "hide_output": false,
    "run_control": {
     "marked": false
    }
   },
   "source": [
    "パッケージインストールのスクリプト例です。"
   ]
  },
  {
   "cell_type": "code",
   "execution_count": null,
   "metadata": {
    "collapsed": true,
    "deletable": false,
    "hide_input": false,
    "hide_output": false,
    "locked": true,
    "run_control": {
     "marked": false
    }
   },
   "outputs": [],
   "source": [
    "# Task: introduction-install-others\n",
    "# Evaluation Mode: provided-script\n",
    "# (if copying, only copy lines below here)\n",
    "\n",
    "IP=\"$(< ~/vdc_host_ip)\"\n",
    "PORT=\"$(<~/vdc_instance_port)\"\n",
    "ssh -qi ~/mykeypair -p $PORT root@$IP <<'EOS'\n",
    "\n",
    "yum install -y git iputils nc qemu-img parted kpartx rpm-build automake createrepo openssl-devel zlib-devel readline-devel gcc\n",
    "\n",
    "EOS"
   ]
  },
  {
   "cell_type": "markdown",
   "metadata": {
    "hide_input": false,
    "hide_output": false,
    "run_control": {
     "marked": false
    }
   },
   "source": [
    "### 確認\n",
    "次のセルを実行して、必要なパッケージがインストール済みであることを確認して下さい。"
   ]
  },
  {
   "cell_type": "code",
   "execution_count": null,
   "metadata": {
    "collapsed": true,
    "deletable": false,
    "hide_input": false,
    "hide_output": false,
    "locked": true,
    "run_control": {
     "marked": false
    }
   },
   "outputs": [],
   "source": [
    "# Task: introduction-install-others\n",
    "# Evaluation Mode: check"
   ]
  },
  {
   "cell_type": "markdown",
   "metadata": {
    "hide_input": false,
    "hide_output": false,
    "run_control": {
     "marked": false
    }
   },
   "source": [
    "## 演習 : sudo権限の付与"
   ]
  },
  {
   "cell_type": "markdown",
   "metadata": {
    "hide_input": false,
    "hide_output": false,
    "run_control": {
     "marked": false
    }
   },
   "source": [
    "### 演習の内容"
   ]
  },
  {
   "cell_type": "markdown",
   "metadata": {
    "run_control": {
     "marked": false
    }
   },
   "source": [
    "jenkinsアカウントがsudoを使える様に権限を付与します。本来は``visudo``コマンドを使用しますが、この演習ではリモートで設定しますので/etc/sudoersに直接追加します。\n",
    "\n",
    "**次のセルで、sudo権限を付与するコマンドを実行して下さい。コマンド実行が成功しても、何も出力されません。**"
   ]
  },
  {
   "cell_type": "code",
   "execution_count": null,
   "metadata": {
    "collapsed": true,
    "hide_input": false,
    "hide_output": false,
    "init_cell": false,
    "locked": false,
    "run_control": {
     "marked": false
    }
   },
   "outputs": [],
   "source": []
  },
  {
   "cell_type": "markdown",
   "metadata": {
    "hide_input": false,
    "hide_output": false,
    "run_control": {
     "marked": false
    }
   },
   "source": [
    "### スクリプト例"
   ]
  },
  {
   "cell_type": "markdown",
   "metadata": {
    "hide_input": false,
    "hide_output": false,
    "run_control": {
     "marked": false
    }
   },
   "source": [
    "sudo権限を付与するスクリプト例です。リモートで設定するため、/etc/sudoersに直接追加しています。"
   ]
  },
  {
   "cell_type": "code",
   "execution_count": null,
   "metadata": {
    "collapsed": true,
    "deletable": false,
    "hide_input": false,
    "hide_output": false,
    "locked": true,
    "run_control": {
     "marked": false
    }
   },
   "outputs": [],
   "source": [
    "# Task: introduction-sudo-config\n",
    "# Evaluation Mode: provided-script\n",
    "# (if copying, only copy lines below here)\n",
    "\n",
    "IP=\"$(< ~/vdc_host_ip)\"\n",
    "PORT=\"$(<~/vdc_instance_port)\"\n",
    "ssh -qi ~/mykeypair -p $PORT root@$IP <<'EOS' 2>/dev/null\n",
    "\n",
    "echo 'jenkins ALL=(ALL) NOPASSWD: ALL' >>/etc/sudoers\n",
    "\n",
    "EOS"
   ]
  },
  {
   "cell_type": "markdown",
   "metadata": {
    "hide_input": false,
    "hide_output": false,
    "run_control": {
     "marked": false
    }
   },
   "source": [
    "### 確認\n",
    "次のセルを実行して、sudo権限が付与されていることを確認して下さい。"
   ]
  },
  {
   "cell_type": "code",
   "execution_count": null,
   "metadata": {
    "collapsed": true,
    "deletable": false,
    "hide_input": false,
    "hide_output": false,
    "locked": true,
    "run_control": {
     "marked": false
    }
   },
   "outputs": [],
   "source": [
    "# Task: introduction-sudo-config\n",
    "# Evaluation Mode: check"
   ]
  },
  {
   "cell_type": "markdown",
   "metadata": {
    "hide_input": false,
    "hide_output": false,
    "run_control": {
     "marked": false
    }
   },
   "source": [
    "## 演習 : tty設定の変更"
   ]
  },
  {
   "cell_type": "markdown",
   "metadata": {
    "hide_input": false,
    "hide_output": false,
    "run_control": {
     "marked": false
    }
   },
   "source": [
    "### 演習の内容"
   ]
  },
  {
   "cell_type": "markdown",
   "metadata": {
    "run_control": {
     "marked": false
    }
   },
   "source": [
    "sudoの初期設定ではttyを必要としています。Jenkinsからsudoを使うには、無効化する必要があるので無効化します。<br>\n",
    "sedコマンドを使用して/etc/sudoersを編集します。\n",
    "```\n",
    "sed -i \"s/^\\(^Defaults\\s*requiretty\\).*/# \\1/\" /etc/sudoers\n",
    "```\n",
    "\n",
    "**次のセルで、tty設定を変更するコマンドを実行して下さい。コマンド実行が成功しても、何も出力されません。**"
   ]
  },
  {
   "cell_type": "code",
   "execution_count": null,
   "metadata": {
    "collapsed": true,
    "hide_input": false,
    "hide_output": false,
    "init_cell": false,
    "locked": false,
    "run_control": {
     "marked": false
    }
   },
   "outputs": [],
   "source": []
  },
  {
   "cell_type": "markdown",
   "metadata": {
    "hide_input": false,
    "hide_output": false,
    "run_control": {
     "marked": false
    }
   },
   "source": [
    "### スクリプト例"
   ]
  },
  {
   "cell_type": "markdown",
   "metadata": {
    "hide_input": false,
    "hide_output": false,
    "run_control": {
     "marked": false
    }
   },
   "source": [
    "sudoersを編集するスクリプト例です。リモートで設定変更するため、/etc/sudoersを直接編集しています。"
   ]
  },
  {
   "cell_type": "code",
   "execution_count": null,
   "metadata": {
    "collapsed": true,
    "deletable": false,
    "hide_input": false,
    "hide_output": false,
    "locked": true,
    "run_control": {
     "marked": false
    }
   },
   "outputs": [],
   "source": [
    "# Task: introduction-sudo-notty\n",
    "# Evaluation Mode: provided-script\n",
    "# (if copying, only copy lines below here)\n",
    "\n",
    "IP=\"$(< ~/vdc_host_ip)\"\n",
    "PORT=\"$(<~/vdc_instance_port)\"\n",
    "ssh -qi ~/mykeypair -p $PORT root@$IP <<'EOS' 2>/dev/null\n",
    "\n",
    "sed -i \"s/^\\(^Defaults\\s*requiretty\\).*/# \\1/\" /etc/sudoers\n",
    "\n",
    "EOS"
   ]
  },
  {
   "cell_type": "markdown",
   "metadata": {
    "hide_input": false,
    "hide_output": false,
    "run_control": {
     "marked": false
    }
   },
   "source": [
    "### 確認\n",
    "次のセルを実行して、tty設定が変更済みであることを確認して下さい。"
   ]
  },
  {
   "cell_type": "code",
   "execution_count": null,
   "metadata": {
    "collapsed": true,
    "deletable": false,
    "hide_input": false,
    "hide_output": false,
    "locked": true,
    "run_control": {
     "marked": false
    }
   },
   "outputs": [],
   "source": [
    "# Task: introduction-sudo-notty\n",
    "# Evaluation Mode: check"
   ]
  },
  {
   "cell_type": "markdown",
   "metadata": {
    "run_control": {
     "marked": false
    }
   },
   "source": [
    "# Jenkinsの起動"
   ]
  },
  {
   "cell_type": "markdown",
   "metadata": {
    "hide_input": false,
    "hide_output": false,
    "run_control": {
     "marked": false
    }
   },
   "source": [
    "## 演習 : Jenkinを起動して起動完了を待つ"
   ]
  },
  {
   "cell_type": "markdown",
   "metadata": {
    "hide_input": false,
    "hide_output": false,
    "run_control": {
     "marked": false
    }
   },
   "source": [
    "### 演習の内容"
   ]
  },
  {
   "cell_type": "markdown",
   "metadata": {
    "hide_input": false,
    "hide_output": false,
    "run_control": {
     "marked": false
    }
   },
   "source": [
    "これまでの演習でJenkinsに関わるソフトウェアがインストールされ、Jenkinsが起動できる状態になりました。\n",
    "それでは、Jenkinsを起動してみましょう。<br>\n",
    "Jenkinsはserviceコマンドを使用して起動します。起動後、Jenkinsサービスが利用可能になるまで待つ処理も入れてみましょう。\n",
    "\n",
    "**次のセルで、Jenkinsの起動とJenkinsサービスが利用可能になるまで待つ処理を記述して実行して下さい。**"
   ]
  },
  {
   "cell_type": "code",
   "execution_count": null,
   "metadata": {
    "collapsed": true,
    "hide_input": false,
    "hide_output": false,
    "init_cell": false,
    "locked": false,
    "run_control": {
     "marked": false
    }
   },
   "outputs": [],
   "source": []
  },
  {
   "cell_type": "markdown",
   "metadata": {
    "hide_input": false,
    "hide_output": false,
    "run_control": {
     "marked": false
    }
   },
   "source": [
    "### スクリプト例"
   ]
  },
  {
   "cell_type": "code",
   "execution_count": null,
   "metadata": {
    "collapsed": true,
    "deletable": false,
    "hide_input": false,
    "hide_output": false,
    "locked": true,
    "run_control": {
     "marked": false
    }
   },
   "outputs": [],
   "source": [
    "# Task: introduction-start-service\n",
    "# Evaluation Mode: provided-script\n",
    "# (if copying, only copy lines below here)\n",
    "\n",
    "IP=\"$(< ~/vdc_host_ip)\"\n",
    "PORT=\"$(<~/vdc_instance_port)\"\n",
    "\n",
    "# (1) Enter script that uses ssh and service comands to\n",
    "#     start the Jenkins service:\n",
    "ssh -qi ~/mykeypair -p $PORT root@$IP <<'EOS'\n",
    "\n",
    "service jenkins start\n",
    "\n",
    "EOS\n",
    "\n",
    "# (2) Next write a script here that waits for Jenkins \n",
    "#     to become ready:\n",
    "ssh -qi ~/mykeypair -p $PORT root@${IP} <<'EOS'\n",
    "\n",
    "while ! curl -I -s http://localhost:8080/ | grep -q \"200 OK\" ; do\n",
    "    echo \"Waiting for Jenkins...\"\n",
    "    sleep 3\n",
    "done\n",
    "\n",
    "echo \"Jenkins is ready.\"\n",
    "\n",
    "EOS"
   ]
  },
  {
   "cell_type": "markdown",
   "metadata": {
    "hide_input": false,
    "hide_output": false,
    "run_control": {
     "marked": false
    }
   },
   "source": [
    "### 確認\n",
    "次のセルを実行して、Jenkinsがサービスを開始していることを確認して下さい。"
   ]
  },
  {
   "cell_type": "code",
   "execution_count": null,
   "metadata": {
    "collapsed": true,
    "deletable": false,
    "hide_input": false,
    "hide_output": false,
    "locked": true,
    "run_control": {
     "marked": false
    }
   },
   "outputs": [],
   "source": [
    "# Task: introduction-start-service\n",
    "# Evaluation Mode: check"
   ]
  },
  {
   "cell_type": "markdown",
   "metadata": {
    "run_control": {
     "marked": false
    }
   },
   "source": [
    "# curlのSSL connect対応"
   ]
  },
  {
   "cell_type": "markdown",
   "metadata": {
    "run_control": {
     "marked": false
    }
   },
   "source": [
    "curlのSSL接続対応のため、下記のセルを実行してlibcrulパッケージをアップデートして下さい。"
   ]
  },
  {
   "cell_type": "code",
   "execution_count": null,
   "metadata": {
    "collapsed": true,
    "deletable": false,
    "locked": true,
    "run_control": {
     "marked": false
    }
   },
   "outputs": [],
   "source": [
    "IP=\"$(< ~/vdc_host_ip)\"\n",
    "PORT=\"$(<~/vdc_instance_port)\"\n",
    "\n",
    "ssh -qi ~/mykeypair -p $PORT root@${IP} <<'EOS'\n",
    "yum install -y epel-release\n",
    "rpm -Uvh http://www.city-fan.org/ftp/contrib/yum-repo/city-fan.org-release-1-13.rhel6.noarch.rpm\n",
    "sed -i \"s,enabled=1,enabled=0,\" /etc/yum.repos.d/city-fan.org.repo\n",
    "yum update -y --enablerepo=city-fan.org libcurl\n",
    "EOS"
   ]
  }
 ],
 "metadata": {
  "kernelspec": {
   "display_name": "Bash",
   "language": "bash",
   "name": "bash"
  },
  "language_info": {
   "codemirror_mode": "shell",
   "file_extension": ".sh",
   "mimetype": "text/x-sh",
   "name": "bash"
  },
  "toc": {
   "colors": {
    "hover_highlight": "#DAA520",
    "navigate_num": "#000000",
    "navigate_text": "#333333",
    "running_highlight": "#FF0000",
    "selected_highlight": "#FFD700",
    "sidebar_border": "#EEEEEE",
    "wrapper_background": "#FFFFFF"
   },
   "moveMenuLeft": true,
   "nav_menu": {
    "height": "512px",
    "width": "252px"
   },
   "navigate_menu": true,
   "number_sections": true,
   "sideBar": true,
   "threshold": 4,
   "toc_cell": false,
   "toc_number_sections": true,
   "toc_section_display": "block",
   "toc_threshold": 6,
   "toc_window_display": false,
   "widenNotebook": false
  }
 },
 "nbformat": 4,
 "nbformat_minor": 1
}
