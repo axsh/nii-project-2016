{
 "cells": [
  {
   "cell_type": "code",
   "execution_count": 2,
   "metadata": {
    "collapsed": false
   },
   "outputs": [
    {
     "name": "stdout",
     "output_type": "stream",
     "text": [
      "Ready.\n"
     ]
    }
   ],
   "source": [
    "source extend_bashkernel.source"
   ]
  },
  {
   "cell_type": "code",
   "execution_count": null,
   "metadata": {
    "collapsed": false
   },
   "outputs": [],
   "source": [
    "# (1) optional reset of Wakame-vdc\n",
    "# Comment out the following lines and run cell to remove all\n",
    "# added images and instances.\n",
    "\n",
    "# reset-wakame.sh"
   ]
  },
  {
   "cell_type": "code",
   "execution_count": 3,
   "metadata": {
    "collapsed": false,
    "scrolled": true
   },
   "outputs": [
    {
     "name": "stdout",
     "output_type": "stream",
     "text": [
      "Now executing the following script to do this step:\n",
      "cat <<EOS >vifs.json\n",
      "{\n",
      " \"eth0\":{\"network\":\"nw-demo1\",\"security_groups\":\"sg-cicddemo\"}\n",
      "}\n",
      "EOS\n",
      "\n",
      "reset-wakame.sh\n",
      "\n",
      "sleep 10\n",
      "\n",
      "mussel instance create --cpu-cores 2 --hypervisor openvz     --image-id wmi-centos1d64 --memory-size 2048     --ssh-key-id ssh-cicddemo --vifs vifs.json --display-name centos\n",
      "\n",
      "Output follows:\n",
      "Terminating instance: i-43p7kbwc\n",
      "---\n",
      "- i-43p7kbwc\n",
      "---\n",
      ":id: i-n84n7t3q\n",
      ":account_id: a-shpoolxx\n",
      ":host_node: \n",
      ":cpu_cores: 2\n",
      ":memory_size: 2048\n",
      ":arch: x86_64\n",
      ":image_id: wmi-centos1d64\n",
      ":created_at: 2016-02-17 09:29:18.000000000 Z\n",
      ":updated_at: 2016-02-17 09:29:18.509242323 Z\n",
      ":terminated_at: \n",
      ":deleted_at: \n",
      ":state: scheduling\n",
      ":status: init\n",
      ":ssh_key_pair:\n",
      "  :uuid: ssh-cicddemo\n",
      "  :display_name: cicddemo\n",
      ":volume:\n",
      "- :vol_id: vol-989vmkr8\n",
      "  :state: scheduling\n",
      ":vif: []\n",
      ":hostname: n84n7t3q\n",
      ":ha_enabled: 0\n",
      ":hypervisor: openvz\n",
      ":display_name: centos\n",
      ":service_type: std\n",
      ":monitoring:\n",
      "  :enabled: false\n",
      "  :mail_address: []\n",
      "  :items: {}\n",
      ":labels:\n",
      "- :resource_uuid: i-n84n7t3q\n",
      "  :name: monitoring.enabled\n",
      "  :value_type: 1\n",
      "  :value: 'false'\n",
      "  :created_at: 2016-02-17 09:29:18.000000000 Z\n",
      "  :updated_at: 2016-02-17 09:29:18.000000000 Z\n",
      ":boot_volume_id: vol-989vmkr8\n"
     ]
    }
   ],
   "source": [
    "# (2) Create Centos instance using the Wakame-vdc GUI\n",
    "\n",
    "# If needed, one of these can\n",
    "# be entered on the next line: (hint, restore, or check)\n",
    "# restore"
   ]
  },
  {
   "cell_type": "code",
   "execution_count": null,
   "metadata": {
    "collapsed": false
   },
   "outputs": [],
   "source": [
    "# (3) Wait for instance's ssh port to become active\n",
    ": ${IP:=10.0.2.100}\n",
    "while [[ \"$(echo | nc -w 1 \"$IP\" 22)\" != *SSH* ]]; do\n",
    "  sleep 2\n",
    "  echo \"Waiting on SSH at $IP...\"\n",
    "done\n",
    "echo \"SSH is active at $IP, port 22\""
   ]
  },
  {
   "cell_type": "markdown",
   "metadata": {},
   "source": [
    "## repoファイルのインストール"
   ]
  },
  {
   "cell_type": "code",
   "execution_count": 5,
   "metadata": {
    "collapsed": false
   },
   "outputs": [
    {
     "name": "stdout",
     "output_type": "stream",
     "text": [
      "  % Total    % Received % Xferd  Average Speed   Time    Time     Time  Current\n",
      "                                 Dload  Upload   Total   Spent    Left  Speed\n",
      "  0    75    0    75    0     0     10      0 --:--:--  0:00:07 --:--:--    19\n"
     ]
    }
   ],
   "source": [
    "ssh -qi ../mykeypair root@10.0.2.100 curl -fSkL http://pkg.jenkins-ci.org/redhat/jenkins.repo -o /etc/yum.repos.d/jenkins.repo"
   ]
  },
  {
   "cell_type": "markdown",
   "metadata": {},
   "source": [
    "## 公開鍵のインポート"
   ]
  },
  {
   "cell_type": "code",
   "execution_count": 6,
   "metadata": {
    "collapsed": false
   },
   "outputs": [
    {
     "name": "stdout",
     "output_type": "stream",
     "text": [
      "\n"
     ]
    }
   ],
   "source": [
    "ssh -qi ../mykeypair root@10.0.2.100 rpm --import http://pkg.jenkins-ci.org/redhat/jenkins-ci.org.key"
   ]
  },
  {
   "cell_type": "markdown",
   "metadata": {},
   "source": [
    "## java実行環境のインストール"
   ]
  },
  {
   "cell_type": "code",
   "execution_count": 8,
   "metadata": {
    "collapsed": false
   },
   "outputs": [
    {
     "name": "stdout",
     "output_type": "stream",
     "text": [
      "jdk-8u73-linux-x64.rpm\n",
      "Pseudo-terminal will not be allocated because stdin is not a terminal.\n",
      "Preparing...                ##################################################\n",
      "jdk1.8.0_73                 ##################################################\n",
      "Unpacking JAR files...\n",
      "\ttools.jar...\n",
      "\tplugin.jar...\n",
      "\tjavaws.jar...\n",
      "\tdeploy.jar...\n",
      "\trt.jar...\n",
      "\tjsse.jar...\n",
      "\tcharsets.jar...\n",
      "\tlocaledata.jar...\n",
      "\tjfxrt.jar...\n"
     ]
    }
   ],
   "source": [
    "# This installs the Oracle version of Java.  The RPM file was\n",
    "# already downloaded to /home/centos/notebooks/downloads\n",
    "\n",
    "cd /home/centos/notebooks/downloads\n",
    "tar c jdk-8u73-linux-x64.rpm | ssh -qi /home/centos/mykeypair root@10.0.2.100 tar xv\n",
    "\n",
    "ssh -qi /home/centos/mykeypair root@10.0.2.100 <<EOS\n",
    "\n",
    "rpm -ivh jdk-8u73-linux-x64.rpm\n",
    "\n",
    "cat <<CFG >/etc/profile.d/java.sh\n",
    "JAVA_HOME=/usr/java/jdk1.8.0_25/\n",
    "PATH=$JAVA_HOME/bin:$PATH\n",
    "export PATH JAVA_HOME\n",
    "export CLASSPATH=.\n",
    "CFG\n",
    "\n",
    "EOS"
   ]
  },
  {
   "cell_type": "markdown",
   "metadata": {},
   "source": [
    "## jenkins coreのインストール"
   ]
  },
  {
   "cell_type": "code",
   "execution_count": 9,
   "metadata": {
    "collapsed": false
   },
   "outputs": [
    {
     "name": "stdout",
     "output_type": "stream",
     "text": [
      "Loaded plugins: fastestmirror\n",
      "Setting up Install Process\n",
      "Determining fastest mirrors\n",
      " * base: ftp.iij.ad.jp\n",
      " * extras: ftp.iij.ad.jp\n",
      " * updates: ftp.iij.ad.jp\n",
      "Resolving Dependencies\n",
      "--> Running transaction check\n",
      "---> Package jenkins.noarch 0:1.647-1.1 will be installed\n",
      "--> Finished Dependency Resolution\n",
      "\n",
      "Dependencies Resolved\n",
      "\n",
      "================================================================================\n",
      " Package           Arch             Version             Repository         Size\n",
      "================================================================================\n",
      "Installing:\n",
      " jenkins           noarch           1.647-1.1           jenkins            60 M\n",
      "\n",
      "Transaction Summary\n",
      "================================================================================\n",
      "Install       1 Package(s)\n",
      "\n",
      "Total download size: 60 M\n",
      "Installed size: 60 M\n",
      "Downloading Packages:\n",
      "Running rpm_check_debug\n",
      "Running Transaction Test\n",
      "Transaction Test Succeeded\n",
      "Running Transaction\n",
      "Warning: RPMDB altered outside of yum.\n",
      "  Installing : jenkins-1.647-1.1.noarch                                     1/1 \n",
      "  Verifying  : jenkins-1.647-1.1.noarch                                     1/1 \n",
      "\n",
      "Installed:\n",
      "  jenkins.noarch 0:1.647-1.1                                                    \n",
      "\n",
      "Complete!\n"
     ]
    }
   ],
   "source": [
    "ssh -qi ../mykeypair root@10.0.2.100 yum install -y jenkins"
   ]
  },
  {
   "cell_type": "markdown",
   "metadata": {},
   "source": [
    "## 関連するビルドツールのインストール"
   ]
  },
  {
   "cell_type": "code",
   "execution_count": null,
   "metadata": {
    "collapsed": false
   },
   "outputs": [
    {
     "name": "stdout",
     "output_type": "stream",
     "text": [
      "Loaded plugins: fastestmirror\n",
      "Setting up Install Process\n",
      "Loading mirror speeds from cached hostfile\n",
      " * base: ftp.iij.ad.jp\n",
      " * extras: ftp.iij.ad.jp\n",
      " * updates: ftp.iij.ad.jp\n",
      "Resolving Dependencies\n",
      "--> Running transaction check\n",
      "---> Package automake.noarch 0:1.11.1-4.el6 will be installed\n",
      "--> Processing Dependency: perl >= 5.006 for package: automake-1.11.1-4.el6.noarch\n",
      "--> Processing Dependency: perl >= 5.005_03 for package: automake-1.11.1-4.el6.noarch\n",
      "--> Processing Dependency: perl >= 5.005 for package: automake-1.11.1-4.el6.noarch\n",
      "--> Processing Dependency: perl >= 5.000 for package: automake-1.11.1-4.el6.noarch\n",
      "--> Processing Dependency: autoconf >= 2.62 for package: automake-1.11.1-4.el6.noarch\n",
      "--> Processing Dependency: perl(vars) for package: automake-1.11.1-4.el6.noarch\n",
      "--> Processing Dependency: perl(strict) for package: automake-1.11.1-4.el6.noarch\n",
      "--> Processing Dependency: perl(constant) for package: automake-1.11.1-4.el6.noarch\n",
      "--> Processing Dependency: perl(POSIX) for package: automake-1.11.1-4.el6.noarch\n",
      "--> Processing Dependency: perl(IO::File) for package: automake-1.11.1-4.el6.noarch\n",
      "--> Processing Dependency: perl(Getopt::Long) for package: automake-1.11.1-4.el6.noarch\n",
      "--> Processing Dependency: perl(File::stat) for package: automake-1.11.1-4.el6.noarch\n",
      "--> Processing Dependency: perl(File::Spec) for package: automake-1.11.1-4.el6.noarch\n",
      "--> Processing Dependency: perl(File::Copy) for package: automake-1.11.1-4.el6.noarch\n",
      "--> Processing Dependency: perl(File::Compare) for package: automake-1.11.1-4.el6.noarch\n",
      "--> Processing Dependency: perl(File::Basename) for package: automake-1.11.1-4.el6.noarch\n",
      "--> Processing Dependency: perl(Exporter) for package: automake-1.11.1-4.el6.noarch\n",
      "--> Processing Dependency: perl(Errno) for package: automake-1.11.1-4.el6.noarch\n",
      "--> Processing Dependency: perl(DynaLoader) for package: automake-1.11.1-4.el6.noarch\n",
      "--> Processing Dependency: perl(Cwd) for package: automake-1.11.1-4.el6.noarch\n",
      "--> Processing Dependency: perl(Carp) for package: automake-1.11.1-4.el6.noarch\n",
      "--> Processing Dependency: /usr/bin/perl for package: automake-1.11.1-4.el6.noarch\n",
      "---> Package createrepo.noarch 0:0.9.9-22.el6 will be installed\n",
      "--> Processing Dependency: python-deltarpm for package: createrepo-0.9.9-22.el6.noarch\n",
      "--> Processing Dependency: libxml2-python for package: createrepo-0.9.9-22.el6.noarch\n",
      "---> Package gcc.x86_64 0:4.4.7-16.el6 will be installed\n",
      "--> Processing Dependency: libgomp = 4.4.7-16.el6 for package: gcc-4.4.7-16.el6.x86_64\n",
      "--> Processing Dependency: cpp = 4.4.7-16.el6 for package: gcc-4.4.7-16.el6.x86_64\n",
      "--> Processing Dependency: libgcc >= 4.4.7-16.el6 for package: gcc-4.4.7-16.el6.x86_64\n",
      "--> Processing Dependency: glibc-devel >= 2.2.90-12 for package: gcc-4.4.7-16.el6.x86_64\n",
      "--> Processing Dependency: cloog-ppl >= 0.15 for package: gcc-4.4.7-16.el6.x86_64\n",
      "--> Processing Dependency: libgomp.so.1()(64bit) for package: gcc-4.4.7-16.el6.x86_64\n",
      "---> Package git.x86_64 0:1.7.1-3.el6_4.1 will be installed\n",
      "--> Processing Dependency: perl-Git = 1.7.1-3.el6_4.1 for package: git-1.7.1-3.el6_4.1.x86_64\n",
      "--> Processing Dependency: rsync for package: git-1.7.1-3.el6_4.1.x86_64\n",
      "--> Processing Dependency: perl(Git) for package: git-1.7.1-3.el6_4.1.x86_64\n",
      "--> Processing Dependency: perl(Error) for package: git-1.7.1-3.el6_4.1.x86_64\n",
      "---> Package iputils.x86_64 0:20071127-17.el6_4.2 will be updated\n",
      "---> Package iputils.x86_64 0:20071127-20.el6 will be an update\n",
      "---> Package kpartx.x86_64 0:0.4.9-80.el6 will be updated\n",
      "---> Package kpartx.x86_64 0:0.4.9-87.el6 will be an update\n",
      "---> Package nc.x86_64 0:1.84-24.el6 will be installed\n",
      "---> Package openssl-devel.x86_64 0:1.0.1e-42.el6_7.2 will be installed\n",
      "--> Processing Dependency: openssl = 1.0.1e-42.el6_7.2 for package: openssl-devel-1.0.1e-42.el6_7.2.x86_64\n",
      "--> Processing Dependency: krb5-devel for package: openssl-devel-1.0.1e-42.el6_7.2.x86_64\n",
      "---> Package parted.x86_64 0:2.1-29.el6 will be installed\n",
      "---> Package qemu-img.x86_64 2:0.12.1.2-2.479.el6_7.4 will be installed\n",
      "--> Processing Dependency: libaio.so.1(LIBAIO_0.4)(64bit) for package: 2:qemu-img-0.12.1.2-2.479.el6_7.4.x86_64\n",
      "--> Processing Dependency: libaio.so.1(LIBAIO_0.1)(64bit) for package: 2:qemu-img-0.12.1.2-2.479.el6_7.4.x86_64\n",
      "--> Processing Dependency: libusbredirparser.so.1()(64bit) for package: 2:qemu-img-0.12.1.2-2.479.el6_7.4.x86_64\n",
      "--> Processing Dependency: libgfxdr.so.0()(64bit) for package: 2:qemu-img-0.12.1.2-2.479.el6_7.4.x86_64\n",
      "--> Processing Dependency: libgfrpc.so.0()(64bit) for package: 2:qemu-img-0.12.1.2-2.479.el6_7.4.x86_64\n",
      "--> Processing Dependency: libgfapi.so.0()(64bit) for package: 2:qemu-img-0.12.1.2-2.479.el6_7.4.x86_64\n",
      "--> Processing Dependency: libaio.so.1()(64bit) for package: 2:qemu-img-0.12.1.2-2.479.el6_7.4.x86_64\n",
      "---> Package qemu-kvm.x86_64 2:0.12.1.2-2.479.el6_7.4 will be installed\n",
      "--> Processing Dependency: seabios >= 0.6.1.2-20.el6 for package: 2:qemu-kvm-0.12.1.2-2.479.el6_7.4.x86_64\n",
      "--> Processing Dependency: vgabios-vmware for package: 2:qemu-kvm-0.12.1.2-2.479.el6_7.4.x86_64\n",
      "--> Processing Dependency: vgabios-stdvga for package: 2:qemu-kvm-0.12.1.2-2.479.el6_7.4.x86_64\n",
      "--> Processing Dependency: vgabios-qxl for package: 2:qemu-kvm-0.12.1.2-2.479.el6_7.4.x86_64\n",
      "--> Processing Dependency: vgabios for package: 2:qemu-kvm-0.12.1.2-2.479.el6_7.4.x86_64\n",
      "--> Processing Dependency: libspice-server.so.1(SPICE_SERVER_0.8.3)(64bit) for package: 2:qemu-kvm-0.12.1.2-2.479.el6_7.4.x86_64\n",
      "--> Processing Dependency: libspice-server.so.1(SPICE_SERVER_0.8.2)(64bit) for package: 2:qemu-kvm-0.12.1.2-2.479.el6_7.4.x86_64\n",
      "--> Processing Dependency: libspice-server.so.1(SPICE_SERVER_0.8.1)(64bit) for package: 2:qemu-kvm-0.12.1.2-2.479.el6_7.4.x86_64\n",
      "--> Processing Dependency: libspice-server.so.1(SPICE_SERVER_0.6.0)(64bit) for package: 2:qemu-kvm-0.12.1.2-2.479.el6_7.4.x86_64\n",
      "--> Processing Dependency: libspice-server.so.1(SPICE_SERVER_0.12.4)(64bit) for package: 2:qemu-kvm-0.12.1.2-2.479.el6_7.4.x86_64\n",
      "--> Processing Dependency: libspice-server.so.1(SPICE_SERVER_0.11.2)(64bit) for package: 2:qemu-kvm-0.12.1.2-2.479.el6_7.4.x86_64\n",
      "--> Processing Dependency: libspice-server.so.1(SPICE_SERVER_0.10.4)(64bit) for package: 2:qemu-kvm-0.12.1.2-2.479.el6_7.4.x86_64\n",
      "--> Processing Dependency: libspice-server.so.1(SPICE_SERVER_0.10.2)(64bit) for package: 2:qemu-kvm-0.12.1.2-2.479.el6_7.4.x86_64\n",
      "--> Processing Dependency: libspice-server.so.1(SPICE_SERVER_0.10.0)(64bit) for package: 2:qemu-kvm-0.12.1.2-2.479.el6_7.4.x86_64\n",
      "--> Processing Dependency: libpulse.so.0(PULSE_0)(64bit) for package: 2:qemu-kvm-0.12.1.2-2.479.el6_7.4.x86_64\n",
      "--> Processing Dependency: libpulse-simple.so.0(PULSE_0)(64bit) for package: 2:qemu-kvm-0.12.1.2-2.479.el6_7.4.x86_64\n",
      "--> Processing Dependency: libgnutls.so.26(GNUTLS_1_4)(64bit) for package: 2:qemu-kvm-0.12.1.2-2.479.el6_7.4.x86_64\n",
      "--> Processing Dependency: libasound.so.2(ALSA_0.9.0rc4)(64bit) for package: 2:qemu-kvm-0.12.1.2-2.479.el6_7.4.x86_64\n",
      "--> Processing Dependency: libasound.so.2(ALSA_0.9)(64bit) for package: 2:qemu-kvm-0.12.1.2-2.479.el6_7.4.x86_64\n",
      "--> Processing Dependency: /usr/share/sgabios/sgabios.bin for package: 2:qemu-kvm-0.12.1.2-2.479.el6_7.4.x86_64\n",
      "--> Processing Dependency: /usr/share/gpxe/virtio-net.rom for package: 2:qemu-kvm-0.12.1.2-2.479.el6_7.4.x86_64\n",
      "--> Processing Dependency: /usr/share/gpxe/rtl8139.rom for package: 2:qemu-kvm-0.12.1.2-2.479.el6_7.4.x86_64\n",
      "--> Processing Dependency: /usr/share/gpxe/rtl8029.rom for package: 2:qemu-kvm-0.12.1.2-2.479.el6_7.4.x86_64\n",
      "--> Processing Dependency: /usr/share/gpxe/pcnet32.rom for package: 2:qemu-kvm-0.12.1.2-2.479.el6_7.4.x86_64\n",
      "--> Processing Dependency: /usr/share/gpxe/e1000-0x100e.rom for package: 2:qemu-kvm-0.12.1.2-2.479.el6_7.4.x86_64\n",
      "--> Processing Dependency: libspice-server.so.1()(64bit) for package: 2:qemu-kvm-0.12.1.2-2.479.el6_7.4.x86_64\n",
      "--> Processing Dependency: libpulse.so.0()(64bit) for package: 2:qemu-kvm-0.12.1.2-2.479.el6_7.4.x86_64\n",
      "--> Processing Dependency: libpulse-simple.so.0()(64bit) for package: 2:qemu-kvm-0.12.1.2-2.479.el6_7.4.x86_64\n",
      "--> Processing Dependency: libgnutls.so.26()(64bit) for package: 2:qemu-kvm-0.12.1.2-2.479.el6_7.4.x86_64\n",
      "--> Processing Dependency: libasound.so.2()(64bit) for package: 2:qemu-kvm-0.12.1.2-2.479.el6_7.4.x86_64\n",
      "---> Package readline-devel.x86_64 0:6.0-4.el6 will be installed\n",
      "--> Processing Dependency: ncurses-devel for package: readline-devel-6.0-4.el6.x86_64\n",
      "---> Package rpm-build.x86_64 0:4.8.0-47.el6 will be installed\n",
      "--> Processing Dependency: rpm = 4.8.0-47.el6 for package: rpm-build-4.8.0-47.el6.x86_64\n",
      "--> Processing Dependency: patch >= 2.5 for package: rpm-build-4.8.0-47.el6.x86_64\n",
      "--> Processing Dependency: elfutils >= 0.128 for package: rpm-build-4.8.0-47.el6.x86_64\n",
      "--> Processing Dependency: xz for package: rpm-build-4.8.0-47.el6.x86_64\n",
      "--> Processing Dependency: unzip for package: rpm-build-4.8.0-47.el6.x86_64\n",
      "--> Processing Dependency: system-rpm-config for package: rpm-build-4.8.0-47.el6.x86_64\n",
      "--> Processing Dependency: lzma for package: rpm-build-4.8.0-47.el6.x86_64\n",
      "--> Processing Dependency: /usr/bin/gdb-add-index for package: rpm-build-4.8.0-47.el6.x86_64\n",
      "---> Package zlib-devel.x86_64 0:1.2.3-29.el6 will be installed\n",
      "--> Running transaction check\n",
      "---> Package alsa-lib.x86_64 0:1.0.22-3.el6 will be installed\n",
      "---> Package autoconf.noarch 0:2.63-5.1.el6 will be installed\n",
      "---> Package cloog-ppl.x86_64 0:0.15.7-1.2.el6 will be installed\n",
      "--> Processing Dependency: libppl_c.so.2()(64bit) for package: cloog-ppl-0.15.7-1.2.el6.x86_64\n",
      "--> Processing Dependency: libppl.so.7()(64bit) for package: cloog-ppl-0.15.7-1.2.el6.x86_64\n",
      "---> Package cpp.x86_64 0:4.4.7-16.el6 will be installed\n",
      "--> Processing Dependency: libmpfr.so.1()(64bit) for package: cpp-4.4.7-16.el6.x86_64\n",
      "---> Package elfutils.x86_64 0:0.161-3.el6 will be installed\n",
      "--> Processing Dependency: elfutils-libs(x86-64) = 0.161-3.el6 for package: elfutils-0.161-3.el6.x86_64\n",
      "--> Processing Dependency: elfutils-libelf(x86-64) = 0.161-3.el6 for package: elfutils-0.161-3.el6.x86_64\n",
      "---> Package gdb.x86_64 0:7.2-83.el6 will be installed\n",
      "---> Package glibc-devel.x86_64 0:2.12-1.166.el6_7.7 will be installed\n",
      "--> Processing Dependency: glibc-headers = 2.12-1.166.el6_7.7 for package: glibc-devel-2.12-1.166.el6_7.7.x86_64\n",
      "--> Processing Dependency: glibc = 2.12-1.166.el6_7.7 for package: glibc-devel-2.12-1.166.el6_7.7.x86_64\n",
      "--> Processing Dependency: glibc-headers for package: glibc-devel-2.12-1.166.el6_7.7.x86_64\n",
      "---> Package glusterfs-api.x86_64 0:3.6.0.54-1.el6 will be installed\n",
      "--> Processing Dependency: glusterfs = 3.6.0.54-1.el6 for package: glusterfs-api-3.6.0.54-1.el6.x86_64\n",
      "---> Package glusterfs-libs.x86_64 0:3.6.0.54-1.el6 will be installed\n",
      "---> Package gnutls.x86_64 0:2.8.5-19.el6_7 will be installed\n",
      "---> Package gpxe-roms-qemu.noarch 0:0.9.7-6.14.el6 will be installed\n",
      "---> Package krb5-devel.x86_64 0:1.10.3-42.el6 will be installed\n",
      "--> Processing Dependency: krb5-libs = 1.10.3-42.el6 for package: krb5-devel-1.10.3-42.el6.x86_64\n",
      "--> Processing Dependency: libselinux-devel for package: krb5-devel-1.10.3-42.el6.x86_64\n",
      "--> Processing Dependency: libcom_err-devel for package: krb5-devel-1.10.3-42.el6.x86_64\n",
      "--> Processing Dependency: keyutils-libs-devel for package: krb5-devel-1.10.3-42.el6.x86_64\n",
      "---> Package libaio.x86_64 0:0.3.107-10.el6 will be installed\n",
      "---> Package libgcc.x86_64 0:4.4.7-11.el6 will be updated\n",
      "---> Package libgcc.x86_64 0:4.4.7-16.el6 will be an update\n",
      "---> Package libgomp.x86_64 0:4.4.7-16.el6 will be installed\n",
      "---> Package libxml2-python.x86_64 0:2.7.6-20.el6_7.1 will be installed\n",
      "--> Processing Dependency: libxml2 = 2.7.6-20.el6_7.1 for package: libxml2-python-2.7.6-20.el6_7.1.x86_64\n",
      "---> Package ncurses-devel.x86_64 0:5.7-4.20090207.el6 will be installed\n",
      "--> Processing Dependency: ncurses-libs = 5.7-4.20090207.el6 for package: ncurses-devel-5.7-4.20090207.el6.x86_64\n",
      "---> Package openssl.x86_64 0:1.0.1e-30.el6 will be updated\n",
      "---> Package openssl.x86_64 0:1.0.1e-42.el6_7.2 will be an update\n",
      "---> Package patch.x86_64 0:2.6-6.el6 will be installed\n",
      "---> Package perl.x86_64 4:5.10.1-141.el6_7.1 will be installed\n",
      "--> Processing Dependency: perl-libs = 4:5.10.1-141.el6_7.1 for package: 4:perl-5.10.1-141.el6_7.1.x86_64\n",
      "--> Processing Dependency: perl-libs for package: 4:perl-5.10.1-141.el6_7.1.x86_64\n",
      "--> Processing Dependency: perl(version) for package: 4:perl-5.10.1-141.el6_7.1.x86_64\n",
      "--> Processing Dependency: perl(Pod::Simple) for package: 4:perl-5.10.1-141.el6_7.1.x86_64\n",
      "--> Processing Dependency: perl(Module::Pluggable) for package: 4:perl-5.10.1-141.el6_7.1.x86_64\n",
      "--> Processing Dependency: libperl.so()(64bit) for package: 4:perl-5.10.1-141.el6_7.1.x86_64\n",
      "---> Package perl-Error.noarch 1:0.17015-4.el6 will be installed\n",
      "---> Package perl-Git.noarch 0:1.7.1-3.el6_4.1 will be installed\n",
      "---> Package pulseaudio-libs.x86_64 0:0.9.21-21.el6 will be installed\n",
      "--> Processing Dependency: libsndfile.so.1(libsndfile.so.1.0)(64bit) for package: pulseaudio-libs-0.9.21-21.el6.x86_64\n",
      "--> Processing Dependency: libsndfile.so.1()(64bit) for package: pulseaudio-libs-0.9.21-21.el6.x86_64\n",
      "--> Processing Dependency: libasyncns.so.0()(64bit) for package: pulseaudio-libs-0.9.21-21.el6.x86_64\n",
      "--> Processing Dependency: libXtst.so.6()(64bit) for package: pulseaudio-libs-0.9.21-21.el6.x86_64\n",
      "--> Processing Dependency: libX11.so.6()(64bit) for package: pulseaudio-libs-0.9.21-21.el6.x86_64\n",
      "--> Processing Dependency: libSM.so.6()(64bit) for package: pulseaudio-libs-0.9.21-21.el6.x86_64\n",
      "--> Processing Dependency: libICE.so.6()(64bit) for package: pulseaudio-libs-0.9.21-21.el6.x86_64\n",
      "---> Package python-deltarpm.x86_64 0:3.5-0.5.20090913git.el6 will be installed\n",
      "--> Processing Dependency: deltarpm = 3.5-0.5.20090913git.el6 for package: python-deltarpm-3.5-0.5.20090913git.el6.x86_64\n",
      "---> Package redhat-rpm-config.noarch 0:9.0.3-44.el6.centos will be installed\n",
      "---> Package rpm.x86_64 0:4.8.0-37.el6 will be updated\n",
      "--> Processing Dependency: rpm = 4.8.0-37.el6 for package: rpm-libs-4.8.0-37.el6.x86_64\n",
      "--> Processing Dependency: rpm = 4.8.0-37.el6 for package: rpm-python-4.8.0-37.el6.x86_64\n",
      "---> Package rpm.x86_64 0:4.8.0-47.el6 will be an update\n",
      "---> Package rsync.x86_64 0:3.0.6-12.el6 will be installed\n",
      "---> Package seabios.x86_64 0:0.6.1.2-30.el6 will be installed\n",
      "---> Package sgabios-bin.noarch 0:0-0.3.20110621svn.el6 will be installed\n",
      "---> Package spice-server.x86_64 0:0.12.4-12.el6_7.3 will be installed\n",
      "--> Processing Dependency: pixman >= 0.18 for package: spice-server-0.12.4-12.el6_7.3.x86_64\n",
      "--> Processing Dependency: libjpeg.so.62(LIBJPEG_6.2)(64bit) for package: spice-server-0.12.4-12.el6_7.3.x86_64\n",
      "--> Processing Dependency: libpixman-1.so.0()(64bit) for package: spice-server-0.12.4-12.el6_7.3.x86_64\n",
      "--> Processing Dependency: libjpeg.so.62()(64bit) for package: spice-server-0.12.4-12.el6_7.3.x86_64\n",
      "--> Processing Dependency: libcelt051.so.0()(64bit) for package: spice-server-0.12.4-12.el6_7.3.x86_64\n",
      "---> Package unzip.x86_64 0:6.0-2.el6_6 will be installed\n",
      "---> Package usbredir.x86_64 0:0.5.1-2.el6 will be installed\n",
      "--> Processing Dependency: libusb-1.0.so.0()(64bit) for package: usbredir-0.5.1-2.el6.x86_64\n",
      "---> Package vgabios.noarch 0:0.6b-3.7.el6 will be installed\n",
      "---> Package xz.x86_64 0:4.999.9-0.5.beta.20091007git.el6 will be installed\n",
      "---> Package xz-lzma-compat.x86_64 0:4.999.9-0.5.beta.20091007git.el6 will be installed\n",
      "--> Running transaction check\n",
      "---> Package celt051.x86_64 0:0.5.1.3-0.el6 will be installed\n",
      "--> Processing Dependency: libogg.so.0()(64bit) for package: celt051-0.5.1.3-0.el6.x86_64\n",
      "---> Package deltarpm.x86_64 0:3.5-0.5.20090913git.el6 will be installed\n",
      "---> Package elfutils-libelf.x86_64 0:0.158-3.2.el6 will be updated\n",
      "---> Package elfutils-libelf.x86_64 0:0.161-3.el6 will be an update\n",
      "---> Package elfutils-libs.x86_64 0:0.158-3.2.el6 will be updated\n",
      "---> Package elfutils-libs.x86_64 0:0.161-3.el6 will be an update\n",
      "---> Package glibc.x86_64 0:2.12-1.149.el6 will be updated\n",
      "--> Processing Dependency: glibc = 2.12-1.149.el6 for package: glibc-common-2.12-1.149.el6.x86_64\n",
      "---> Package glibc.x86_64 0:2.12-1.166.el6_7.7 will be an update\n",
      "---> Package glibc-headers.x86_64 0:2.12-1.166.el6_7.7 will be installed\n",
      "--> Processing Dependency: kernel-headers >= 2.2.1 for package: glibc-headers-2.12-1.166.el6_7.7.x86_64\n",
      "--> Processing Dependency: kernel-headers for package: glibc-headers-2.12-1.166.el6_7.7.x86_64\n",
      "---> Package glusterfs.x86_64 0:3.6.0.54-1.el6 will be installed\n",
      "---> Package keyutils-libs-devel.x86_64 0:1.4-5.el6 will be installed\n",
      "---> Package krb5-libs.x86_64 0:1.10.3-33.el6 will be updated\n",
      "---> Package krb5-libs.x86_64 0:1.10.3-42.el6 will be an update\n",
      "---> Package libICE.x86_64 0:1.0.6-1.el6 will be installed\n",
      "---> Package libSM.x86_64 0:1.2.1-2.el6 will be installed\n",
      "---> Package libX11.x86_64 0:1.6.0-6.el6 will be installed\n",
      "--> Processing Dependency: libX11-common = 1.6.0-6.el6 for package: libX11-1.6.0-6.el6.x86_64\n",
      "--> Processing Dependency: libxcb.so.1()(64bit) for package: libX11-1.6.0-6.el6.x86_64\n",
      "---> Package libXtst.x86_64 0:1.2.2-2.1.el6 will be installed\n",
      "--> Processing Dependency: libXi.so.6()(64bit) for package: libXtst-1.2.2-2.1.el6.x86_64\n",
      "--> Processing Dependency: libXext.so.6()(64bit) for package: libXtst-1.2.2-2.1.el6.x86_64\n",
      "---> Package libasyncns.x86_64 0:0.8-1.1.el6 will be installed\n",
      "---> Package libcom_err-devel.x86_64 0:1.41.12-22.el6 will be installed\n",
      "--> Processing Dependency: libcom_err = 1.41.12-22.el6 for package: libcom_err-devel-1.41.12-22.el6.x86_64\n",
      "---> Package libjpeg-turbo.x86_64 0:1.2.1-3.el6_5 will be installed\n",
      "---> Package libselinux-devel.x86_64 0:2.0.94-5.8.el6 will be installed\n",
      "--> Processing Dependency: libsepol-devel >= 2.0.32-1 for package: libselinux-devel-2.0.94-5.8.el6.x86_64\n",
      "--> Processing Dependency: pkgconfig(libsepol) for package: libselinux-devel-2.0.94-5.8.el6.x86_64\n",
      "---> Package libsndfile.x86_64 0:1.0.20-5.el6 will be installed\n",
      "--> Processing Dependency: libvorbisenc.so.2()(64bit) for package: libsndfile-1.0.20-5.el6.x86_64\n",
      "--> Processing Dependency: libvorbis.so.0()(64bit) for package: libsndfile-1.0.20-5.el6.x86_64\n",
      "--> Processing Dependency: libFLAC.so.8()(64bit) for package: libsndfile-1.0.20-5.el6.x86_64\n",
      "---> Package libusb1.x86_64 0:1.0.9-0.6.rc1.el6 will be installed\n",
      "---> Package libxml2.x86_64 0:2.7.6-14.el6_5.2 will be updated\n",
      "---> Package libxml2.x86_64 0:2.7.6-20.el6_7.1 will be an update\n",
      "---> Package mpfr.x86_64 0:2.4.1-6.el6 will be installed\n",
      "---> Package ncurses-libs.x86_64 0:5.7-3.20090208.el6 will be updated\n",
      "---> Package ncurses-libs.x86_64 0:5.7-4.20090207.el6 will be an update\n",
      "--> Processing Dependency: ncurses-base = 5.7-4.20090207.el6 for package: ncurses-libs-5.7-4.20090207.el6.x86_64\n",
      "---> Package perl-Module-Pluggable.x86_64 1:3.90-141.el6_7.1 will be installed\n",
      "---> Package perl-Pod-Simple.x86_64 1:3.13-141.el6_7.1 will be installed\n",
      "--> Processing Dependency: perl(Pod::Escapes) >= 1.04 for package: 1:perl-Pod-Simple-3.13-141.el6_7.1.x86_64\n",
      "---> Package perl-libs.x86_64 4:5.10.1-141.el6_7.1 will be installed\n",
      "---> Package perl-version.x86_64 3:0.77-141.el6_7.1 will be installed\n",
      "---> Package pixman.x86_64 0:0.32.4-4.el6 will be installed\n",
      "---> Package ppl.x86_64 0:0.10.2-11.el6 will be installed\n",
      "---> Package rpm-libs.x86_64 0:4.8.0-37.el6 will be updated\n",
      "---> Package rpm-libs.x86_64 0:4.8.0-47.el6 will be an update\n",
      "---> Package rpm-python.x86_64 0:4.8.0-37.el6 will be updated\n",
      "---> Package rpm-python.x86_64 0:4.8.0-47.el6 will be an update\n",
      "--> Running transaction check\n",
      "---> Package flac.x86_64 0:1.2.1-7.el6_6 will be installed\n",
      "---> Package glibc-common.x86_64 0:2.12-1.149.el6 will be updated\n",
      "---> Package glibc-common.x86_64 0:2.12-1.166.el6_7.7 will be an update\n",
      "---> Package kernel-headers.x86_64 0:2.6.32-573.18.1.el6 will be installed\n",
      "---> Package libX11-common.noarch 0:1.6.0-6.el6 will be installed\n",
      "---> Package libXext.x86_64 0:1.3.2-2.1.el6 will be installed\n",
      "---> Package libXi.x86_64 0:1.7.2-2.2.el6 will be installed\n",
      "---> Package libcom_err.x86_64 0:1.41.12-21.el6 will be updated\n",
      "--> Processing Dependency: libcom_err = 1.41.12-21.el6 for package: e2fsprogs-1.41.12-21.el6.x86_64\n",
      "--> Processing Dependency: libcom_err = 1.41.12-21.el6 for package: e2fsprogs-libs-1.41.12-21.el6.x86_64\n",
      "--> Processing Dependency: libcom_err = 1.41.12-21.el6 for package: libss-1.41.12-21.el6.x86_64\n",
      "---> Package libcom_err.x86_64 0:1.41.12-22.el6 will be an update\n",
      "---> Package libogg.x86_64 2:1.1.4-2.1.el6 will be installed\n",
      "---> Package libsepol-devel.x86_64 0:2.0.41-4.el6 will be installed\n",
      "---> Package libvorbis.x86_64 1:1.2.3-4.el6_2.1 will be installed\n",
      "---> Package libxcb.x86_64 0:1.9.1-3.el6 will be installed\n",
      "--> Processing Dependency: libXau.so.6()(64bit) for package: libxcb-1.9.1-3.el6.x86_64\n",
      "---> Package ncurses-base.x86_64 0:5.7-3.20090208.el6 will be updated\n",
      "---> Package ncurses-base.x86_64 0:5.7-4.20090207.el6 will be an update\n",
      "---> Package perl-Pod-Escapes.x86_64 1:1.04-141.el6_7.1 will be installed\n",
      "--> Running transaction check\n",
      "---> Package e2fsprogs.x86_64 0:1.41.12-21.el6 will be updated\n",
      "---> Package e2fsprogs.x86_64 0:1.41.12-22.el6 will be an update\n",
      "---> Package e2fsprogs-libs.x86_64 0:1.41.12-21.el6 will be updated\n",
      "---> Package e2fsprogs-libs.x86_64 0:1.41.12-22.el6 will be an update\n",
      "---> Package libXau.x86_64 0:1.0.6-4.el6 will be installed\n",
      "---> Package libss.x86_64 0:1.41.12-21.el6 will be updated\n",
      "---> Package libss.x86_64 0:1.41.12-22.el6 will be an update\n",
      "--> Finished Dependency Resolution\n",
      "\n",
      "Dependencies Resolved\n",
      "\n",
      "================================================================================\n",
      " Package               Arch   Version                             Repository\n",
      "                                                                           Size\n",
      "================================================================================\n",
      "Installing:\n",
      " automake              noarch 1.11.1-4.el6                        base    550 k\n",
      " createrepo            noarch 0.9.9-22.el6                        base     96 k\n",
      " gcc                   x86_64 4.4.7-16.el6                        base     10 M\n",
      " git                   x86_64 1.7.1-3.el6_4.1                     base    4.6 M\n",
      " nc                    x86_64 1.84-24.el6                         base     57 k\n",
      " openssl-devel         x86_64 1.0.1e-42.el6_7.2                   updates 1.2 M\n",
      " parted                x86_64 2.1-29.el6                          base    608 k\n",
      " qemu-img              x86_64 2:0.12.1.2-2.479.el6_7.4            updates 831 k\n",
      " qemu-kvm              x86_64 2:0.12.1.2-2.479.el6_7.4            updates 1.6 M\n",
      " readline-devel        x86_64 6.0-4.el6                           base    134 k\n",
      " rpm-build             x86_64 4.8.0-47.el6                        base    130 k\n",
      " zlib-devel            x86_64 1.2.3-29.el6                        base     44 k\n",
      "Updating:\n",
      " iputils               x86_64 20071127-20.el6                     base    120 k\n",
      " kpartx                x86_64 0.4.9-87.el6                        base     65 k\n",
      "Installing for dependencies:\n",
      " alsa-lib              x86_64 1.0.22-3.el6                        base    370 k\n",
      " autoconf              noarch 2.63-5.1.el6                        base    781 k\n",
      " celt051               x86_64 0.5.1.3-0.el6                       base     50 k\n",
      " cloog-ppl             x86_64 0.15.7-1.2.el6                      base     93 k\n",
      " cpp                   x86_64 4.4.7-16.el6                        base    3.7 M\n",
      " deltarpm              x86_64 3.5-0.5.20090913git.el6             base     71 k\n",
      " elfutils              x86_64 0.161-3.el6                         base    237 k\n",
      " flac                  x86_64 1.2.1-7.el6_6                       base    242 k\n",
      " gdb                   x86_64 7.2-83.el6                          base    2.3 M\n",
      " glibc-devel           x86_64 2.12-1.166.el6_7.7                  updates 986 k\n",
      " glibc-headers         x86_64 2.12-1.166.el6_7.7                  updates 615 k\n",
      " glusterfs             x86_64 3.6.0.54-1.el6                      base    1.3 M\n",
      " glusterfs-api         x86_64 3.6.0.54-1.el6                      base     62 k\n",
      " glusterfs-libs        x86_64 3.6.0.54-1.el6                      base    272 k\n",
      " gnutls                x86_64 2.8.5-19.el6_7                      updates 347 k\n",
      " gpxe-roms-qemu        noarch 0.9.7-6.14.el6                      base    221 k\n",
      " kernel-headers        x86_64 2.6.32-573.18.1.el6                 updates 3.9 M\n",
      " keyutils-libs-devel   x86_64 1.4-5.el6                           base     29 k\n",
      " krb5-devel            x86_64 1.10.3-42.el6                       base    502 k\n",
      " libICE                x86_64 1.0.6-1.el6                         base     53 k\n",
      " libSM                 x86_64 1.2.1-2.el6                         base     37 k\n",
      " libX11                x86_64 1.6.0-6.el6                         base    586 k\n",
      " libX11-common         noarch 1.6.0-6.el6                         base    192 k\n",
      " libXau                x86_64 1.0.6-4.el6                         base     24 k\n",
      " libXext               x86_64 1.3.2-2.1.el6                       base     35 k\n",
      " libXi                 x86_64 1.7.2-2.2.el6                       base     37 k\n",
      " libXtst               x86_64 1.2.2-2.1.el6                       base     19 k\n",
      " libaio                x86_64 0.3.107-10.el6                      base     21 k\n",
      " libasyncns            x86_64 0.8-1.1.el6                         base     24 k\n",
      " libcom_err-devel      x86_64 1.41.12-22.el6                      base     33 k\n",
      " libgomp               x86_64 4.4.7-16.el6                        base    134 k\n",
      " libjpeg-turbo         x86_64 1.2.1-3.el6_5                       base    174 k\n",
      " libogg                x86_64 2:1.1.4-2.1.el6                     base     21 k\n",
      " libselinux-devel      x86_64 2.0.94-5.8.el6                      base    137 k\n",
      " libsepol-devel        x86_64 2.0.41-4.el6                        base     64 k\n",
      " libsndfile            x86_64 1.0.20-5.el6                        base    233 k\n",
      " libusb1               x86_64 1.0.9-0.6.rc1.el6                   base     80 k\n",
      " libvorbis             x86_64 1:1.2.3-4.el6_2.1                   base    168 k\n"
     ]
    }
   ],
   "source": [
    "ssh -qi ../mykeypair root@10.0.2.100 yum install -y \\\n",
    "    git \\\n",
    "    iputils nc \\\n",
    "    qemu-kvm qemu-img \\\n",
    "    parted kpartx \\\n",
    "    rpm-build automake createrepo \\\n",
    "    openssl-devel zlib-devel readline-devel \\\n",
    "    gcc"
   ]
  },
  {
   "cell_type": "markdown",
   "metadata": {},
   "source": [
    "## sudo設定\n",
    "\n",
    "### sudo権限の付与\n"
   ]
  },
  {
   "cell_type": "code",
   "execution_count": null,
   "metadata": {
    "collapsed": false
   },
   "outputs": [],
   "source": [
    "ssh -qi ../mykeypair root@10.0.2.100 \"echo 'jenkins ALL=(ALL) NOPASSWD: ALL' >>/etc/sudoers\"\n",
    "ssh -qi ../mykeypair root@10.0.2.100 grep jenkins /etc/sudoers"
   ]
  },
  {
   "cell_type": "markdown",
   "metadata": {},
   "source": [
    "### tty設定の変更"
   ]
  },
  {
   "cell_type": "code",
   "execution_count": null,
   "metadata": {
    "collapsed": false
   },
   "outputs": [],
   "source": [
    "ssh -qi ../mykeypair root@10.0.2.100 'sed -i \"s/^\\(^Defaults\\s*requiretty\\).*/# \\1/\" /etc/sudoers'"
   ]
  },
  {
   "cell_type": "markdown",
   "metadata": {},
   "source": [
    "### Loosen Java Security so Jenkins Plugins will work"
   ]
  },
  {
   "cell_type": "code",
   "execution_count": null,
   "metadata": {
    "collapsed": false
   },
   "outputs": [],
   "source": [
    "# see https://issues.jenkins-ci.org/browse/JENKINS-31089\n",
    "javadir=/usr/lib/jvm/java-1.7.0-openjdk-1.7.0.95.x86_64/\n",
    "secfile=jre/lib/security/java.security\n",
    "ssh -qi ../mykeypair root@10.0.2.100 \\\n",
    "   \"sudo sed -i 's/, MD5, RSA keySize < 1024//' $javadir/$secfile\""
   ]
  },
  {
   "cell_type": "markdown",
   "metadata": {},
   "source": [
    "\n",
    "## jenkinsの起動\n"
   ]
  },
  {
   "cell_type": "code",
   "execution_count": null,
   "metadata": {
    "collapsed": false
   },
   "outputs": [],
   "source": [
    "ssh -qi ../mykeypair root@10.0.2.100 service jenkins start"
   ]
  }
 ],
 "metadata": {
  "kernelspec": {
   "display_name": "Bash",
   "language": "bash",
   "name": "bash"
  },
  "language_info": {
   "codemirror_mode": "shell",
   "file_extension": ".sh",
   "mimetype": "text/x-sh",
   "name": "bash"
  }
 },
 "nbformat": 4,
 "nbformat_minor": 0
}
