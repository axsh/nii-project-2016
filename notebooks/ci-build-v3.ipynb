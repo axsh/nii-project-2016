{
 "cells": [
  {
   "cell_type": "code",
   "execution_count": null,
   "metadata": {
    "collapsed": false
   },
   "outputs": [],
   "source": [
    "source extend_bashkernel.source"
   ]
  },
  {
   "cell_type": "code",
   "execution_count": null,
   "metadata": {
    "collapsed": false
   },
   "outputs": [],
   "source": [
    "# (1) optional reset of Wakame-vdc\n",
    "# Comment out the following lines and run cell to remove all\n",
    "# added images and instances.\n",
    "\n",
    "# reset-wakame.sh"
   ]
  },
  {
   "cell_type": "code",
   "execution_count": null,
   "metadata": {
    "collapsed": false,
    "scrolled": true
   },
   "outputs": [],
   "source": [
    "# (2) Create Centos instance using the Wakame-vdc GUI\n",
    "\n",
    "# If needed, one of these can\n",
    "# be entered on the next line: (hint, restore, or check)\n",
    "# check"
   ]
  },
  {
   "cell_type": "code",
   "execution_count": null,
   "metadata": {
    "collapsed": false
   },
   "outputs": [],
   "source": [
    "# (teststep) Wait for instance's ssh port to become active\n",
    ": ${IP:=10.0.2.100}\n",
    "\n",
    "# echo"
   ]
  },
  {
   "cell_type": "markdown",
   "metadata": {},
   "source": [
    "## repoファイルのインストール"
   ]
  },
  {
   "cell_type": "code",
   "execution_count": null,
   "metadata": {
    "collapsed": false
   },
   "outputs": [],
   "source": [
    "ssh -qi ../mykeypair root@10.0.2.100 curl -fSkL http://pkg.jenkins-ci.org/redhat/jenkins.repo -o /etc/yum.repos.d/jenkins.repo"
   ]
  },
  {
   "cell_type": "markdown",
   "metadata": {},
   "source": [
    "## 公開鍵のインポート"
   ]
  },
  {
   "cell_type": "code",
   "execution_count": null,
   "metadata": {
    "collapsed": false
   },
   "outputs": [],
   "source": [
    "ssh -qi ../mykeypair root@10.0.2.100 rpm --import http://pkg.jenkins-ci.org/redhat/jenkins-ci.org.key"
   ]
  },
  {
   "cell_type": "markdown",
   "metadata": {},
   "source": [
    "## java実行環境のインストール"
   ]
  },
  {
   "cell_type": "code",
   "execution_count": null,
   "metadata": {
    "collapsed": false
   },
   "outputs": [],
   "source": [
    "ssh -qi ../mykeypair root@10.0.2.100 yum install -y java-1.7.0-openjdk"
   ]
  },
  {
   "cell_type": "markdown",
   "metadata": {},
   "source": [
    "## jenkins coreのインストール"
   ]
  },
  {
   "cell_type": "code",
   "execution_count": null,
   "metadata": {
    "collapsed": false
   },
   "outputs": [],
   "source": [
    "ssh -qi ../mykeypair root@10.0.2.100 yum install -y jenkins"
   ]
  },
  {
   "cell_type": "markdown",
   "metadata": {},
   "source": [
    "## 関連するビルドツールのインストール"
   ]
  },
  {
   "cell_type": "code",
   "execution_count": null,
   "metadata": {
    "collapsed": false
   },
   "outputs": [],
   "source": [
    "ssh -qi ../mykeypair root@10.0.2.100 yum install -y \\\n",
    "    git \\\n",
    "    iputils nc \\\n",
    "    qemu-kvm qemu-img \\\n",
    "    parted kpartx \\\n",
    "    rpm-build automake createrepo \\\n",
    "    openssl-devel zlib-devel readline-devel \\\n",
    "    gcc"
   ]
  },
  {
   "cell_type": "markdown",
   "metadata": {},
   "source": [
    "## sudo設定\n",
    "\n",
    "### sudo権限の付与\n"
   ]
  },
  {
   "cell_type": "code",
   "execution_count": null,
   "metadata": {
    "collapsed": false
   },
   "outputs": [],
   "source": [
    "ssh -qi ../mykeypair root@10.0.2.100 \"echo 'jenkins ALL=(ALL) NOPASSWD: ALL' >>/etc/sudoers\"\n",
    "ssh -qi ../mykeypair root@10.0.2.100 grep jenkins /etc/sudoers"
   ]
  },
  {
   "cell_type": "markdown",
   "metadata": {},
   "source": [
    "### tty設定の変更"
   ]
  },
  {
   "cell_type": "code",
   "execution_count": null,
   "metadata": {
    "collapsed": false
   },
   "outputs": [],
   "source": [
    "ssh -qi ../mykeypair root@10.0.2.100 'sed -i \"s/^\\(^Defaults\\s*requiretty\\).*/# \\1/\" /etc/sudoers'"
   ]
  },
  {
   "cell_type": "markdown",
   "metadata": {},
   "source": [
    "### Loosen Java Security so Jenkins Plugins will work"
   ]
  },
  {
   "cell_type": "code",
   "execution_count": null,
   "metadata": {
    "collapsed": false
   },
   "outputs": [],
   "source": [
    "# see https://issues.jenkins-ci.org/browse/JENKINS-31089\n",
    "javadir=/usr/lib/jvm/java-1.7.0-openjdk-1.7.0.95.x86_64/\n",
    "secfile=jre/lib/security/java.security\n",
    "ssh -qi ../mykeypair root@10.0.2.100 \\\n",
    "   \"sudo sed -i 's/, MD5, RSA keySize < 1024//' $javadir/$secfile\""
   ]
  },
  {
   "cell_type": "markdown",
   "metadata": {},
   "source": [
    "\n",
    "## jenkinsの起動\n"
   ]
  },
  {
   "cell_type": "code",
   "execution_count": null,
   "metadata": {
    "collapsed": false
   },
   "outputs": [],
   "source": [
    "ssh -qi ../mykeypair root@10.0.2.100 service jenkins start"
   ]
  }
 ],
 "metadata": {
  "kernelspec": {
   "display_name": "Bash",
   "language": "bash",
   "name": "bash"
  },
  "language_info": {
   "codemirror_mode": "shell",
   "file_extension": ".sh",
   "mimetype": "text/x-sh",
   "name": "bash"
  }
 },
 "nbformat": 4,
 "nbformat_minor": 0
}
