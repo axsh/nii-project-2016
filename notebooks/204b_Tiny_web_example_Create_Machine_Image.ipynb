{
 "cells": [
  {
   "cell_type": "code",
   "execution_count": 2,
   "metadata": {
    "collapsed": false,
    "deletable": false,
    "hide_input": true,
    "hide_output": false,
    "init_cell": true,
    "locked": true,
    "run_control": {
     "marked": false
    }
   },
   "outputs": [
    {
     "name": "stdout",
     "output_type": "stream",
     "text": [
      "Changing global mode to 'my-script'\n"
     ]
    }
   ],
   "source": [
    "source extend_bashkernel-2modes.source\n",
    "set-global-evaluation-mode \"my-script\"\n",
    "# (initialization cell, input hidden)"
   ]
  },
  {
   "cell_type": "code",
   "execution_count": null,
   "metadata": {
    "collapsed": false,
    "run_control": {
     "marked": false
    }
   },
   "outputs": [],
   "source": [
    "set-global-evaluation-mode \"my-script\""
   ]
  },
  {
   "cell_type": "markdown",
   "metadata": {
    "run_control": {
     "marked": false
    }
   },
   "source": [
    "# Tiny_web_exampleのマシンイメージ作成ジョブ"
   ]
  },
  {
   "cell_type": "markdown",
   "metadata": {
    "run_control": {
     "marked": false
    }
   },
   "source": [
    "## はじめに"
   ]
  },
  {
   "cell_type": "markdown",
   "metadata": {
    "run_control": {
     "marked": false
    }
   },
   "source": [
    "Tiny_web_exampleはWebサーバ、DBサーバで構成される、シンプルですが実際に動作するシステムです。ここでは、WebサーバとDBサーバを仮想マシンで起動するため、Tiny_web_exampleを導入したマシンイメージを作成するJenkinsジョブの作成手順について学んでいきます。"
   ]
  },
  {
   "cell_type": "markdown",
   "metadata": {
    "run_control": {
     "marked": false
    }
   },
   "source": [
    "## 演習について"
   ]
  },
  {
   "cell_type": "markdown",
   "metadata": {
    "run_control": {
     "marked": false
    }
   },
   "source": [
    "各演習の最後に「確認」セルが配置されています。演習で実行、設定した内容が正しいかどうかの確認できますので、必ず実行して下さい。"
   ]
  },
  {
   "cell_type": "markdown",
   "metadata": {
    "run_control": {
     "marked": false
    }
   },
   "source": [
    "# ジョブを作成する"
   ]
  },
  {
   "cell_type": "markdown",
   "metadata": {
    "run_control": {
     "marked": false
    }
   },
   "source": [
    "## 準備"
   ]
  },
  {
   "cell_type": "markdown",
   "metadata": {
    "run_control": {
     "marked": false
    }
   },
   "source": [
    "### イメージ作成ジョブの削除"
   ]
  },
  {
   "cell_type": "markdown",
   "metadata": {
    "run_control": {
     "marked": false
    }
   },
   "source": [
    "既に本編の演習を実施済みで、あらためて演習を実施する場合は、前回の演習で作成したマシンイメージ作成ジョブを削除して下さい。本編の演習を初めて実施する場合は必要ありません。<br>\n",
    "\n",
    "ジョブの削除は、JenkinsのGUIで実施して下さい。"
   ]
  },
  {
   "cell_type": "code",
   "execution_count": null,
   "metadata": {
    "collapsed": false,
    "deletable": false,
    "hide_input": true,
    "hide_output": true,
    "locked": true,
    "run_control": {
     "marked": false
    }
   },
   "outputs": [],
   "source": [
    "# Task: imagebuild-reset-job\n",
    "# Evaluation Mode: load\n",
    "# (hidden load cell)\n",
    "ssh -i ../mykeypair root@10.0.2.100\n",
    "\n",
    "# Call to jenkins-cli client to delete the job.\n",
    "java -jar jenkins-cli.jar -s http://localhost:8080/ delete-job tiny_web.imagebuild"
   ]
  },
  {
   "cell_type": "code",
   "execution_count": null,
   "metadata": {
    "collapsed": false,
    "deletable": false,
    "hide_input": true,
    "hide_output": true,
    "locked": true,
    "run_control": {
     "marked": false
    }
   },
   "outputs": [],
   "source": [
    "# Task: imagebuild-reset-job\n",
    "# Evaluation Mode: provided-script\n",
    "\n",
    "IP=\"$(< /home/centos/jenkins-instance-ip)\"\n",
    "ssh -i ../mykeypair root@$IP\n",
    "\n",
    "# Call to jenkins-cli client to delete the job.\n",
    "java -jar jenkins-cli.jar -s http://localhost:8080/ delete-job tiny_web.imagebuild"
   ]
  },
  {
   "cell_type": "markdown",
   "metadata": {
    "run_control": {
     "marked": false
    }
   },
   "source": [
    "### 確認\n",
    "次のセルを実行して、マシンイメージ作成ジョブの削除が完了していることを確認して下さい。"
   ]
  },
  {
   "cell_type": "code",
   "execution_count": null,
   "metadata": {
    "collapsed": false,
    "deletable": false,
    "hide_input": false,
    "hide_output": false,
    "locked": true,
    "run_control": {
     "marked": false
    }
   },
   "outputs": [],
   "source": [
    "# Task: imagebuild-reset-job\n",
    "# Evaluation Mode: check"
   ]
  },
  {
   "cell_type": "markdown",
   "metadata": {
    "run_control": {
     "marked": false
    }
   },
   "source": [
    "## 演習 : 新規ジョブを作成する"
   ]
  },
  {
   "cell_type": "markdown",
   "metadata": {
    "run_control": {
     "marked": false
    }
   },
   "source": [
    "### 演習の内容"
   ]
  },
  {
   "cell_type": "markdown",
   "metadata": {
    "run_control": {
     "marked": false
    }
   },
   "source": [
    "Tiny_web_exampleのマシンイメージを作成する新規ジョブを作成します。 ジョブ名は「tiny_web.imagebuild」とします。\n",
    "\n",
    "[103_jenkins_job_execution_script](./103_jenkins_job_execution_script.ipynb)を参考にして、ジョブを作成して下さい。"
   ]
  },
  {
   "cell_type": "code",
   "execution_count": null,
   "metadata": {
    "collapsed": false,
    "deletable": false,
    "hide_input": true,
    "hide_output": true,
    "locked": true,
    "run_control": {
     "marked": false
    }
   },
   "outputs": [],
   "source": [
    "# Task: imagebuild-create-job\n",
    "# Evaluation Mode: load\n",
    "# (hidden load cell)\n",
    "ssh -i ../mykeypair root@10.0.2.100\n",
    "\n",
    "# Call to jenkins-cli client to create an empty job.\n",
    "java -jar jenkins-cli.jar -s http://localhost:8080/ create-job tiny_web.imagebuild < ~/templates/config.xml"
   ]
  },
  {
   "cell_type": "code",
   "execution_count": null,
   "metadata": {
    "collapsed": false,
    "deletable": false,
    "hide_input": true,
    "hide_output": true,
    "locked": true,
    "run_control": {
     "marked": true
    }
   },
   "outputs": [],
   "source": [
    "# Task: imagebuild-create-job\n",
    "# Evaluation Mode: provided-script\n",
    "\n",
    "IP=\"$(< /home/centos/jenkins-instance-ip)\"\n",
    "ssh -i ../mykeypair root@$IP\n",
    "\n",
    "# Call to jenkins-cli client to create an empty job.\n",
    "java -jar jenkins-cli.jar -s http://localhost:8080/ create-job tiny_web.imagebuild < ~/templates/config.xml"
   ]
  },
  {
   "cell_type": "markdown",
   "metadata": {
    "run_control": {
     "marked": false
    }
   },
   "source": [
    "### 確認\n",
    "次のセルを実行して、マシンイメージ作成ジョブの作成が完了していることを確認して下さい。"
   ]
  },
  {
   "cell_type": "code",
   "execution_count": null,
   "metadata": {
    "collapsed": false,
    "deletable": false,
    "hide_input": false,
    "hide_output": false,
    "locked": true,
    "run_control": {
     "marked": false
    }
   },
   "outputs": [],
   "source": [
    "# Task: imagebuild-create-job\n",
    "# Evaluation Mode: check"
   ]
  },
  {
   "cell_type": "markdown",
   "metadata": {
    "run_control": {
     "marked": false
    }
   },
   "source": [
    "## 演習 : githubからTiny_web_exampleを取得するための設定を行う"
   ]
  },
  {
   "cell_type": "markdown",
   "metadata": {
    "run_control": {
     "marked": false
    }
   },
   "source": [
    "### 演習の内容"
   ]
  },
  {
   "cell_type": "markdown",
   "metadata": {
    "run_control": {
     "marked": false
    }
   },
   "source": [
    "githubからTiny_web_exampleのソースコード取得する設定を行います。\n",
    "\n",
    "[106b_Tiny_web_example_unit_test](106b_Tiny_web_example_unit_test.ipynb)で行った設定と同じです。"
   ]
  },
  {
   "cell_type": "code",
   "execution_count": null,
   "metadata": {
    "collapsed": false,
    "deletable": false,
    "hide_input": true,
    "hide_output": true,
    "locked": true,
    "run_control": {
     "marked": false
    }
   },
   "outputs": [],
   "source": [
    "# Task: imagebuild-configure-git\n",
    "# Evaluation Mode: load\n",
    "# (hidden load cell)"
   ]
  },
  {
   "cell_type": "code",
   "execution_count": null,
   "metadata": {
    "collapsed": false,
    "deletable": false,
    "locked": true,
    "run_control": {
     "marked": false
    }
   },
   "outputs": [],
   "source": [
    "# (imagebuild-configure-git)\n",
    "# Evaluation Mode: provided-script "
   ]
  },
  {
   "cell_type": "markdown",
   "metadata": {
    "run_control": {
     "marked": false
    }
   },
   "source": [
    "### 確認\n",
    "次のセルを実行して、githubからのソースコード取得設定が完了していることを確認して下さい。"
   ]
  },
  {
   "cell_type": "code",
   "execution_count": null,
   "metadata": {
    "collapsed": false,
    "deletable": false,
    "locked": true,
    "run_control": {
     "marked": false
    }
   },
   "outputs": [],
   "source": [
    "# Task: imagebuild-configure-git\n",
    "# Evaluation Mode: check"
   ]
  },
  {
   "cell_type": "markdown",
   "metadata": {
    "run_control": {
     "marked": false
    }
   },
   "source": [
    "## 演習 : HipChatへの通知設定を行う"
   ]
  },
  {
   "cell_type": "markdown",
   "metadata": {
    "run_control": {
     "marked": false
    }
   },
   "source": [
    "### 演習の内容"
   ]
  },
  {
   "cell_type": "markdown",
   "metadata": {
    "run_control": {
     "marked": false
    }
   },
   "source": [
    "HipChatへ単体テストの実行状況を通知するための設定を行います。\n",
    "\n",
    "[106b_Tiny_web_example_unit_test](106b_Tiny_web_example_unit_test.ipynb)で行った設定と同じです。"
   ]
  },
  {
   "cell_type": "code",
   "execution_count": null,
   "metadata": {
    "collapsed": false,
    "deletable": false,
    "hide_input": true,
    "hide_output": true,
    "locked": true,
    "run_control": {
     "marked": false
    }
   },
   "outputs": [],
   "source": [
    "# Task: imagebuild-configure-hipchat\n",
    "# Evaluation Mode: load\n",
    "# (hidden load cell)"
   ]
  },
  {
   "cell_type": "code",
   "execution_count": null,
   "metadata": {
    "collapsed": false,
    "deletable": false,
    "locked": true,
    "run_control": {
     "marked": false
    }
   },
   "outputs": [],
   "source": [
    "# Task: imagebuild-configure-hipchat\n",
    "# Evaluation Mode: provided-script"
   ]
  },
  {
   "cell_type": "markdown",
   "metadata": {
    "run_control": {
     "marked": false
    }
   },
   "source": [
    "### 確認\n",
    "次のセルを実行して、HipChatへの通知設定が完了していることを確認して下さい。"
   ]
  },
  {
   "cell_type": "code",
   "execution_count": null,
   "metadata": {
    "collapsed": false,
    "deletable": false,
    "locked": true,
    "run_control": {
     "marked": false
    }
   },
   "outputs": [],
   "source": [
    "# Task: imagebuild-configure-hipchat\n",
    "# Evaluation Mode: check"
   ]
  },
  {
   "cell_type": "markdown",
   "metadata": {
    "hide_input": true,
    "hide_output": true,
    "run_control": {
     "marked": false
    }
   },
   "source": [
    "# マシンイメージ作成スクリプトを設定する"
   ]
  },
  {
   "cell_type": "markdown",
   "metadata": {
    "run_control": {
     "marked": false
    }
   },
   "source": [
    "## 演習 : スクリプト実行に必要なパラメータを設定する"
   ]
  },
  {
   "cell_type": "markdown",
   "metadata": {
    "run_control": {
     "marked": false
    }
   },
   "source": [
    "### 演習の内容"
   ]
  },
  {
   "cell_type": "markdown",
   "metadata": {
    "run_control": {
     "marked": false
    }
   },
   "source": [
    "Jenkinsには、スクリプトで利用できる変数にパラメータを設定する機能が備わっています。<br>\n",
    "この機能により、変数に特定の値を設定することにより、条件でジョブを実行することがきます。また、他のジョブから実行結果を受け取って、それを変数に設定することも可能です。他のジョブから実行結果を受け取る方法については、[202a_Post_build_trigger](202a_Post_build_trigger.ipynb)を参照して下さい。\n",
    "\n",
    "この演習では、2つの文字列パラメータ'image_id'と'yum_host'を追加して、デフォルト値として次の値を設定します。ます。ここで設定したパラメータは、後述するマシンイメージ作成スクリプトの中で利用します。\n",
    "\n",
    "* image_id\n",
    "  + これから作成するマシンイメージの元とするマシンイメージのID。\n",
    "  + Jenkinsをインストールしたマシンと同じマシンイメージを使用します。\n",
    "* yum_host\n",
    "  + [108b_YUM_Tiny_web_example_repository](108b_YUM_Tiny_web_example_repository.ipynb)で作成したYUMリポジトリのホストのIPアドレス。\n",
    "  + 今回はJenkinsをインストールした仮想マシンと同じです。"
   ]
  },
  {
   "cell_type": "code",
   "execution_count": null,
   "metadata": {
    "collapsed": false,
    "deletable": false,
    "hide_input": true,
    "hide_output": true,
    "locked": true,
    "run_control": {
     "marked": false
    }
   },
   "outputs": [],
   "source": [
    "# Task: imagebuild-configure-params\n",
    "# Evaluation Mode: load\n",
    "# (hidden load cell)"
   ]
  },
  {
   "cell_type": "markdown",
   "metadata": {
    "run_control": {
     "marked": false
    }
   },
   "source": [
    "<a href=\"https://cloud.githubusercontent.com/assets/9693694/14378391/9d896656-fdaf-11e5-954a-1ee38858c0f0.png\"><img width=\"40%\" height =\"40%\" align=\"left\" alt=\"imagebuild-configure-params-01\" src=\"https://cloud.githubusercontent.com/assets/9693694/14378391/9d896656-fdaf-11e5-954a-1ee38858c0f0.png\"></a>\n",
    "<a href=\"https://cloud.githubusercontent.com/assets/9693694/14378392/9d8f4d32-fdaf-11e5-91ff-d41107ed001f.png\"><img width=\"40%\" height =\"40%\" align=\"left\" alt=\"imagebuild-configure-params-02\" src=\"https://cloud.githubusercontent.com/assets/9693694/14378392/9d8f4d32-fdaf-11e5-91ff-d41107ed001f.png\"></a>"
   ]
  },
  {
   "cell_type": "code",
   "execution_count": null,
   "metadata": {
    "collapsed": false,
    "deletable": false,
    "locked": true,
    "run_control": {
     "marked": false
    }
   },
   "outputs": [],
   "source": [
    "# Task: imagebuild-configure-params\n",
    "# Evaluation Mode: provided-script"
   ]
  },
  {
   "cell_type": "markdown",
   "metadata": {
    "run_control": {
     "marked": false
    }
   },
   "source": [
    "### 確認\n",
    "次のセルを実行して、必要なパラメータが設定されていることを確認して下さい。"
   ]
  },
  {
   "cell_type": "code",
   "execution_count": null,
   "metadata": {
    "collapsed": false,
    "deletable": false,
    "locked": true,
    "run_control": {
     "marked": false
    }
   },
   "outputs": [],
   "source": [
    "# Task: imagebuild-configure-params\n",
    "# Evaluation Mode: check"
   ]
  },
  {
   "cell_type": "markdown",
   "metadata": {
    "run_control": {
     "marked": false
    }
   },
   "source": [
    "## 演習 : ジョブに「シェルの実行」を追加する"
   ]
  },
  {
   "cell_type": "markdown",
   "metadata": {
    "run_control": {
     "marked": false
    }
   },
   "source": [
    "### 演習の内容"
   ]
  },
  {
   "cell_type": "markdown",
   "metadata": {
    "run_control": {
     "marked": false
    }
   },
   "source": [
    "マシンイメージ作成ジョブに「シェルの実行」を追加します。\n",
    "\n",
    "[106b_Tiny_web_example_unit_test](106b_Tiny_web_example_unit_test.ipynb)で行った設定と同じです。"
   ]
  },
  {
   "cell_type": "code",
   "execution_count": null,
   "metadata": {
    "collapsed": false,
    "deletable": false,
    "hide_input": true,
    "hide_output": true,
    "locked": true,
    "run_control": {
     "marked": false
    }
   },
   "outputs": [],
   "source": [
    "# Task: imagebuild-configure-rbenv\n",
    "# Evaluation Mode: load\n",
    "# (hidden load cell)"
   ]
  },
  {
   "cell_type": "code",
   "execution_count": null,
   "metadata": {
    "collapsed": false,
    "deletable": false,
    "locked": true,
    "run_control": {
     "marked": false
    }
   },
   "outputs": [],
   "source": [
    "# Task: imagebuild-add-build-script\n",
    "# Evaluation Mode: provided-script"
   ]
  },
  {
   "cell_type": "markdown",
   "metadata": {
    "run_control": {
     "marked": false
    }
   },
   "source": [
    "### 確認\n",
    "次のセルを実行して、「シェルの実行」が追加済みであることを確認して下さい。"
   ]
  },
  {
   "cell_type": "code",
   "execution_count": null,
   "metadata": {
    "collapsed": false,
    "deletable": false,
    "locked": true,
    "run_control": {
     "marked": false
    }
   },
   "outputs": [],
   "source": [
    "# Task: imagebuild-add-build-script\n",
    "# Evaluation Mode: check"
   ]
  },
  {
   "cell_type": "markdown",
   "metadata": {
    "run_control": {
     "marked": false
    }
   },
   "source": [
    "## 演習 : マシンイメージ作成スクリプトを設定する"
   ]
  },
  {
   "cell_type": "markdown",
   "metadata": {
    "run_control": {
     "marked": false
    }
   },
   "source": [
    "### 演習の内容"
   ]
  },
  {
   "cell_type": "markdown",
   "metadata": {
    "run_control": {
     "marked": false
    }
   },
   "source": [
    "次のマシンイメージ作成スクリプトのテンプレートをコピーし、上記で追加した「シェルの実行」欄へペーストして下さい。\n",
    "スクリプトは、まだ未完成です。次の２つのタスクが不足しています。この項目に続いて各タスクの説明がありますので、タスクを追加してスクリプトを完成させて下さい。\n",
    "* Task: Configure params\n",
    "* Task: Save params"
   ]
  },
  {
   "cell_type": "markdown",
   "metadata": {
    "run_control": {
     "marked": false
    }
   },
   "source": [
    "#### マシンイメージ作成スクリプトのテンプレート"
   ]
  },
  {
   "cell_type": "markdown",
   "metadata": {
    "collapsed": false,
    "deletable": false,
    "hide_input": false,
    "hide_output": false,
    "locked": true,
    "run_control": {
     "marked": false
    }
   },
   "source": [
    "```\n",
    "#!/bin/bash\n",
    "\n",
    "set -eux\n",
    "set -o pipefail\n",
    "\n",
    "export PATH=$PATH:/opt/axsh/wakame-vdc/client/mussel/bin\n",
    "\n",
    "SCRIPT_DIR=\"${WORKSPACE}/ciscripts/wakame-vdc\"\n",
    "\n",
    "# Task: Configure params\n",
    "\n",
    "cd ${SCRIPT_DIR}\n",
    "\n",
    "# wait for the instance to be running\n",
    ". retry.sh\n",
    "\n",
    "# vifs\n",
    "network_id=\"nw-demo1\"\n",
    "security_group_id=\"sg-cicddemo\"\n",
    "vifs=vifs.json\n",
    "\n",
    "# instance-specific parameter\n",
    "cpu_cores=\"1\"\n",
    "hypervisor=\"openvz\"\n",
    "memory_size=\"512\"\n",
    "image_id=\"${IMAGE_ID}\"\n",
    "ssh_key_id=\"ssh-cicddemo\"\n",
    "\n",
    "# create an musselrc\n",
    "cat <<EOS > ~/.musselrc\n",
    "DCMGR_HOST=10.0.2.15\n",
    "account_id=a-shpoolxx\n",
    "EOS\n",
    "\n",
    "# create an vifs\n",
    "cat <<EOS > \"${vifs}\"\n",
    "{\n",
    "　　\"eth0\":{\"network\":\"${network_id}\",\"security_groups\":\"${security_group_id}\"}\n",
    "}\n",
    "EOS\n",
    "## create database image\n",
    "\n",
    "# db display name\n",
    "display_name=\"db\"\n",
    "\n",
    "# create an instance\n",
    "instance_id=\"$(\n",
    "  mussel instance create \\\n",
    "  --cpu-cores    \"${cpu_cores}\"    \\\n",
    "  --hypervisor   \"${hypervisor}\"   \\\n",
    "  --image-id     \"${image_id}\"     \\\n",
    "  --memory-size  \"${memory_size}\"  \\\n",
    "  --ssh-key-id   \"${ssh_key_id}\"   \\\n",
    "  --vifs         \"${vifs}\"         \\\n",
    "  --display-name \"${display_name}\" \\\n",
    "  | egrep ^:id: | awk '{print $2}'\n",
    ")\"\n",
    "\n",
    ": \"${instance_id:?\"should not be empty\"}\"\n",
    "echo \"${instance_id} is initializing...\"\n",
    "\n",
    "trap 'mussel instance destroy \"${instance_id}\"' ERR\n",
    "\n",
    "# wait for the instance to be running\n",
    "retry_until [[ '\"$(mussel instance show \"${instance_id}\" | egrep -w \"^:state: running\")\"' ]]\n",
    "echo \"${instance_id} is running\"\n",
    "\n",
    "# get instance ipaddr\n",
    "ipaddr=\"$(\n",
    "  mussel instance show \"${instance_id}\" \\\n",
    "  | egrep :address:  \\\n",
    "  | awk '{print $2}' \\\n",
    "  | tr '\\n' ','\n",
    ")\"\n",
    ": \"${ipaddr:?\"should not be empty\"}\"\n",
    "ipaddr=\"${ipaddr%%,}\"\n",
    "echo \"${instance_id} ipaddr: ${ipaddr}\"\n",
    "\n",
    "# wait for ssh to be ready\n",
    "${SCRIPT_DIR}/instance-wait4ssh.sh  \"${instance_id}\"\n",
    "\n",
    "# install package\n",
    "${SCRIPT_DIR}/instance-exec.sh      \"${instance_id}\" < ${SCRIPT_DIR}/provision-imgdb.sh\n",
    "\n",
    "# instance state: running -> halted\n",
    "mussel instance poweroff --force false ${instance_id}\n",
    "echo \"${instance_id} is halting\"\n",
    "\n",
    "# wait for the instance to be halted\n",
    "retry_until [[ '\"$(mussel instance show \"${instance_id}\" | egrep -w \"^:state: halted\")\"' ]]\n",
    "echo \"${instance_id} is halted\"\n",
    "\n",
    "# instance backup\n",
    "DB_IMAGE_ID=\"$(mussel instance backup ${instance_id} --display-name db | egrep ^:image_id: | awk '{print $2}')\"\n",
    "echo \"database image id: ${DB_IMAGE_ID}\"\n",
    "\n",
    "# wait for the image to be available\n",
    "retry_until [[ '\"$(mussel image show \"${DB_IMAGE_ID}\" | egrep -w \"^:state: available\")\"' ]]\n",
    "echo \"${DB_IMAGE_ID} is available\"\n",
    "\n",
    "# instance destroy\n",
    "mussel instance destroy \"${instance_id}\"\n",
    "echo \"${instance_id} is deleted\"\n",
    "\n",
    "## create app image\n",
    "\n",
    "# app display name\n",
    "display_name=\"app\"\n",
    "\n",
    "# create an instance\n",
    "instance_id=\"$(\n",
    "  mussel instance create \\\n",
    "   --cpu-cores    \"${cpu_cores}\"    \\\n",
    "   --hypervisor   \"${hypervisor}\"   \\\n",
    "   --image-id     \"${image_id}\"     \\\n",
    "   --memory-size  \"${memory_size}\"  \\\n",
    "   --ssh-key-id   \"${ssh_key_id}\"   \\\n",
    "   --vifs         \"${vifs}\"         \\\n",
    "   --display-name \"${display_name}\" \\\n",
    "  | egrep ^:id: | awk '{print $2}'\n",
    ")\"\n",
    ": \"${instance_id:?\"should not be empty\"}\"\n",
    "echo \"${instance_id} is initializing...\"\n",
    "\n",
    "trap 'mussel instance destroy \"${instance_id}\"' ERR\n",
    "\n",
    "# wait for the instance to be running\n",
    "retry_until [[ '\"$(mussel instance show \"${instance_id}\" | egrep -w \"^:state: running\")\"' ]]\n",
    "echo \"${instance_id} is running\"\n",
    "\n",
    "# get instance ipaddr\n",
    "ipaddr=\"$(\n",
    "  mussel instance show \"${instance_id}\" \\\n",
    "  | egrep :address:  \\\n",
    "  | awk '{print $2}' \\\n",
    "  | tr '\\n' ','\n",
    ")\"\n",
    ": \"${ipaddr:?\"should not be empty\"}\"\n",
    "ipaddr=\"${ipaddr%%,}\"\n",
    "echo \"${instance_id} ipaddr: ${ipaddr}\"\n",
    "\n",
    "# wait for ssh to be ready\n",
    "${SCRIPT_DIR}/instance-wait4ssh.sh  \"${instance_id}\"\n",
    "\n",
    "# install package\n",
    "${SCRIPT_DIR}/instance-exec.sh  \"${instance_id}\" \\\n",
    "    YUM_HOST=\"${YUM_HOST}\" \\\n",
    "    bash -l < ${SCRIPT_DIR}/provision-imgapp.sh\n",
    "\n",
    "# instance state: running -> halted\n",
    "mussel instance poweroff --force false ${instance_id}\n",
    "echo \"${instance_id} is halting\"\n",
    "\n",
    "# wait for the instance to be halted\n",
    "retry_until [[ '\"$(mussel instance show \"${instance_id}\" | egrep -w \"^:state: halted\")\"' ]]\n",
    "echo \"${instance_id} is halted\"\n",
    "\n",
    "# instance backup\n",
    "APP_IMAGE_ID=\"$(mussel instance backup ${instance_id} --display-name app | egrep ^:image_id: | awk '{print $2}')\"\n",
    "echo \"app image id: ${APP_IMAGE_ID}\"\n",
    "\n",
    "# wait for the image to be available\n",
    "RETRY_WAIT_SEC=180 retry_until [[ '\"$(mussel image show \"${APP_IMAGE_ID}\" | egrep -w \"^:state: available\")\"' ]]\n",
    "echo \"${DB_IMAGE_ID} is available\"\n",
    "\n",
    "# instance destroy\n",
    "mussel instance destroy \"${instance_id}\"\n",
    "echo \"${instance_id} is deleted\"\n",
    "\n",
    "# Task: Save params\n",
    "\n",
    "```"
   ]
  },
  {
   "cell_type": "markdown",
   "metadata": {
    "run_control": {
     "marked": false
    }
   },
   "source": [
    "\n",
    "### Task: Configure params "
   ]
  },
  {
   "cell_type": "markdown",
   "metadata": {
    "run_control": {
     "marked": false
    }
   },
   "source": [
    "次の変数の設定を、「Task: Configure params」の位置に追加して下さい。\n",
    "* `IMAGE_ID` : `image_id`で設定したパラメータを代入します。\n",
    "* `YUM_HOST` : `yum_host`で設定したパラメータを代入します。\n",
    "* `WRITE_FILE` : このジョブで生成した値を保持するファイルのパス名を設定します。次のジョブで利用します。"
   ]
  },
  {
   "cell_type": "code",
   "execution_count": null,
   "metadata": {
    "collapsed": true,
    "deletable": false,
    "hide_input": true,
    "hide_output": true,
    "locked": true,
    "run_control": {
     "marked": false
    }
   },
   "outputs": [],
   "source": [
    "# Task: imagebuild-script-configure-params\n",
    "# Evaluation Mode: load\n",
    "# (hidden load cell)"
   ]
  },
  {
   "cell_type": "code",
   "execution_count": null,
   "metadata": {
    "collapsed": true,
    "deletable": false,
    "locked": true,
    "run_control": {
     "marked": false
    }
   },
   "outputs": [],
   "source": [
    "# Task: imagebuild-script-configure-params\n",
    "# Evaluation Mode: provided-script"
   ]
  },
  {
   "cell_type": "markdown",
   "metadata": {
    "run_control": {
     "marked": false
    }
   },
   "source": [
    "#### 確認\n",
    "次のセルを実行して、変数が設定されていることを確認して下さい。"
   ]
  },
  {
   "cell_type": "code",
   "execution_count": null,
   "metadata": {
    "collapsed": false,
    "deletable": false,
    "locked": true,
    "run_control": {
     "marked": false
    }
   },
   "outputs": [],
   "source": [
    "# Task: imagebuild-script-configure-params\n",
    "# Evaluation Mode: check"
   ]
  },
  {
   "cell_type": "markdown",
   "metadata": {
    "run_control": {
     "marked": false
    }
   },
   "source": [
    "### Task: Save result"
   ]
  },
  {
   "cell_type": "markdown",
   "metadata": {
    "run_control": {
     "marked": false
    }
   },
   "source": [
    "マシンイメージ作成スクリプトは、次の値を生成します。\n",
    "```\n",
    "$DB_IMAGE_ID\n",
    "$APP_IMAGE_ID\n",
    "```\n",
    "[204a_Create_Machine_Image.ipynb](204a_Create_Machine_Image.ipynb)を参考に、変数の設定式をファイルに格納するコマンドを「Task: Save result」の位置に追加して下さい。"
   ]
  },
  {
   "cell_type": "code",
   "execution_count": null,
   "metadata": {
    "collapsed": true,
    "deletable": false,
    "hide_input": true,
    "hide_output": true,
    "locked": true,
    "run_control": {
     "marked": false
    }
   },
   "outputs": [],
   "source": [
    "# Task: imagebuild-script-save-params\n",
    "# Evaluation Mode: load\n",
    "# (hidden load cell)"
   ]
  },
  {
   "cell_type": "code",
   "execution_count": null,
   "metadata": {
    "collapsed": true,
    "deletable": false,
    "locked": true,
    "run_control": {
     "marked": false
    }
   },
   "outputs": [],
   "source": [
    "# Task: imagebuild-script-save-params\n",
    "# Evaluation Mode: provided-script"
   ]
  },
  {
   "cell_type": "markdown",
   "metadata": {
    "run_control": {
     "marked": false
    }
   },
   "source": [
    "#### 確認\n",
    "次のセルを実行して、変数の設定式が保存されていることを確認して下さい。"
   ]
  },
  {
   "cell_type": "code",
   "execution_count": null,
   "metadata": {
    "collapsed": false,
    "run_control": {
     "marked": false
    }
   },
   "outputs": [],
   "source": [
    "# Task: imagebuild-script-save-params\n",
    "# Evaluation Mode: check"
   ]
  },
  {
   "cell_type": "markdown",
   "metadata": {
    "run_control": {
     "marked": false
    }
   },
   "source": [
    "# 作成したジョブでマシンイメージを作成してみる"
   ]
  },
  {
   "cell_type": "markdown",
   "metadata": {
    "hide_input": true,
    "hide_output": true,
    "run_control": {
     "marked": false
    }
   },
   "source": [
    "## 演習 : Tiny_web_exampleのマシンイメージを作成する"
   ]
  },
  {
   "cell_type": "markdown",
   "metadata": {
    "hide_input": true,
    "hide_output": true,
    "run_control": {
     "marked": false
    }
   },
   "source": [
    "最後に、作成したマシンイメージ作成ジョブを実行してみましょう。\n",
    "[103_jenkins_job_execution_script](./103_jenkins_job_execution_script.ipynb)を参考にして作成したジョブを実行して下さい。"
   ]
  },
  {
   "cell_type": "code",
   "execution_count": null,
   "metadata": {
    "collapsed": true,
    "hide_input": true,
    "hide_output": true,
    "run_control": {
     "marked": false
    }
   },
   "outputs": [],
   "source": []
  }
 ],
 "metadata": {
  "kernelspec": {
   "display_name": "Bash",
   "language": "bash",
   "name": "bash"
  },
  "language_info": {
   "codemirror_mode": "shell",
   "file_extension": ".sh",
   "mimetype": "text/x-sh",
   "name": "bash"
  },
  "toc": {
   "toc_cell": false,
   "toc_number_sections": true,
   "toc_threshold": 6,
   "toc_window_display": false
  }
 },
 "nbformat": 4,
 "nbformat_minor": 0
}
