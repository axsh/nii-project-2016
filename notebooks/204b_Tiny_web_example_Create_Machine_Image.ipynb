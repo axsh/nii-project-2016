{
 "cells": [
  {
   "cell_type": "code",
   "execution_count": 1,
   "metadata": {
    "collapsed": false,
    "deletable": false,
    "hide_input": true,
    "hide_output": false,
    "init_cell": true,
    "locked": true,
    "run_control": {
     "marked": false
    }
   },
   "outputs": [
    {
     "name": "stdout",
     "output_type": "stream",
     "text": [
      "Ready.\n",
      "Changing global mode to 'my-script'\n"
     ]
    }
   ],
   "source": [
    "source extend_bashkernel-2modes.source\n",
    "set-global-evaluation-mode \"my-script\"\n",
    "# (initialization cell, input hidden)"
   ]
  },
  {
   "cell_type": "code",
   "execution_count": null,
   "metadata": {
    "collapsed": false,
    "run_control": {
     "marked": false
    }
   },
   "outputs": [],
   "source": [
    "set-global-evaluation-mode \"provided-script\""
   ]
  },
  {
   "cell_type": "markdown",
   "metadata": {
    "run_control": {
     "marked": false
    }
   },
   "source": [
    "# Objective: Create and configure imagebuild job"
   ]
  },
  {
   "cell_type": "markdown",
   "metadata": {
    "run_control": {
     "marked": false
    }
   },
   "source": [
    "## Task: Reset job"
   ]
  },
  {
   "cell_type": "markdown",
   "metadata": {
    "heading_collapsed": true,
    "run_control": {
     "marked": false
    }
   },
   "source": [
    "### Task Details"
   ]
  },
  {
   "cell_type": "markdown",
   "metadata": {
    "hidden": true,
    "run_control": {
     "marked": false
    }
   },
   "source": [
    "Same as previous"
   ]
  },
  {
   "cell_type": "code",
   "execution_count": null,
   "metadata": {
    "collapsed": false,
    "deletable": false,
    "hidden": true,
    "hide_input": true,
    "hide_output": true,
    "locked": true,
    "run_control": {
     "marked": false
    }
   },
   "outputs": [],
   "source": [
    "# Task: imagebuild-reset-job\n",
    "# Evaluation Mode: load\n",
    "# (hidden load cell)\n",
    "ssh -i ../mykeypair root@10.0.2.100\n",
    "\n",
    "# Call to jenkins-cli client to delete the job.\n",
    "java -jar jenkins-cli.jar -s http://localhost:8080/ delete-job tiny_web.imagebuild"
   ]
  },
  {
   "cell_type": "markdown",
   "metadata": {
    "heading_collapsed": true,
    "run_control": {
     "marked": false
    }
   },
   "source": [
    "### Example"
   ]
  },
  {
   "cell_type": "markdown",
   "metadata": {
    "hidden": true,
    "run_control": {
     "marked": false
    }
   },
   "source": [
    "Refer to the tiny_web.rspec job."
   ]
  },
  {
   "cell_type": "markdown",
   "metadata": {
    "heading_collapsed": true,
    "hidden": true,
    "run_control": {
     "marked": false
    }
   },
   "source": [
    "#### Provided script"
   ]
  },
  {
   "cell_type": "code",
   "execution_count": null,
   "metadata": {
    "collapsed": false,
    "deletable": false,
    "hidden": true,
    "locked": true,
    "run_control": {
     "marked": false
    }
   },
   "outputs": [],
   "source": [
    "# Task: imagebuild-reset-job\n",
    "# Evaluation Mode: provided-script\n",
    "\n",
    "ssh -i ../mykeypair root@10.0.2.100\n",
    "\n",
    "# Call to jenkins-cli client to delete the job.\n",
    "java -jar jenkins-cli.jar -s http://localhost:8080/ delete-job tiny_web.imagebuild"
   ]
  },
  {
   "cell_type": "markdown",
   "metadata": {
    "run_control": {
     "marked": false
    }
   },
   "source": [
    "### Check"
   ]
  },
  {
   "cell_type": "code",
   "execution_count": null,
   "metadata": {
    "collapsed": false,
    "deletable": false,
    "hide_input": false,
    "hide_output": false,
    "locked": true,
    "run_control": {
     "marked": false
    }
   },
   "outputs": [],
   "source": [
    "# Task: imagebuild-reset-job\n",
    "# Evaluation Mode: check"
   ]
  },
  {
   "cell_type": "markdown",
   "metadata": {
    "run_control": {
     "marked": false
    }
   },
   "source": [
    "## _Task: Create the job_"
   ]
  },
  {
   "cell_type": "markdown",
   "metadata": {
    "heading_collapsed": true,
    "run_control": {
     "marked": false
    }
   },
   "source": [
    "### Task details"
   ]
  },
  {
   "cell_type": "markdown",
   "metadata": {
    "hidden": true,
    "run_control": {
     "marked": false
    }
   },
   "source": [
    "Same as previous"
   ]
  },
  {
   "cell_type": "code",
   "execution_count": null,
   "metadata": {
    "collapsed": false,
    "deletable": false,
    "hidden": true,
    "hide_input": true,
    "hide_output": true,
    "locked": true,
    "run_control": {
     "marked": false
    }
   },
   "outputs": [],
   "source": [
    "# Task: imagebuild-create-job\n",
    "# Evaluation Mode: load\n",
    "# (hidden load cell)\n",
    "ssh -i ../mykeypair root@10.0.2.100\n",
    "\n",
    "# Call to jenkins-cli client to create an empty job.\n",
    "java -jar jenkins-cli.jar -s http://localhost:8080/ create-job tiny_web.imagebuild < ~/templates/config.xml"
   ]
  },
  {
   "cell_type": "markdown",
   "metadata": {
    "heading_collapsed": true,
    "run_control": {
     "marked": false
    }
   },
   "source": [
    "### Example"
   ]
  },
  {
   "cell_type": "markdown",
   "metadata": {
    "hidden": true,
    "run_control": {
     "marked": false
    }
   },
   "source": [
    "Refer to the tiny_web.rspec job."
   ]
  },
  {
   "cell_type": "markdown",
   "metadata": {
    "heading_collapsed": true,
    "hidden": true,
    "run_control": {
     "marked": false
    }
   },
   "source": [
    "#### Provided script"
   ]
  },
  {
   "cell_type": "code",
   "execution_count": null,
   "metadata": {
    "collapsed": false,
    "deletable": false,
    "hidden": true,
    "hide_input": false,
    "hide_output": true,
    "locked": true,
    "run_control": {
     "marked": false
    }
   },
   "outputs": [],
   "source": [
    "# Task: imagebuild-create-job\n",
    "# Evaluation Mode: provided-script\n",
    "\n",
    "ssh -i ../mykeypair root@10.0.2.100\n",
    "\n",
    "# Call to jenkins-cli client to create an empty job.\n",
    "java -jar jenkins-cli.jar -s http://localhost:8080/ create-job tiny_web.imagebuild < ~/templates/config.xml"
   ]
  },
  {
   "cell_type": "markdown",
   "metadata": {
    "run_control": {
     "marked": false
    }
   },
   "source": [
    "### Check"
   ]
  },
  {
   "cell_type": "code",
   "execution_count": null,
   "metadata": {
    "collapsed": false,
    "deletable": false,
    "hide_input": false,
    "hide_output": false,
    "locked": true,
    "run_control": {
     "marked": false
    }
   },
   "outputs": [],
   "source": [
    "# Task: imagebuild-create-job\n",
    "# Evaluation Mode: check"
   ]
  },
  {
   "cell_type": "markdown",
   "metadata": {
    "run_control": {
     "marked": false
    }
   },
   "source": [
    "## _Task: Configure git_"
   ]
  },
  {
   "cell_type": "markdown",
   "metadata": {
    "heading_collapsed": true,
    "run_control": {
     "marked": false
    }
   },
   "source": [
    "### Task details"
   ]
  },
  {
   "cell_type": "markdown",
   "metadata": {
    "hidden": true,
    "run_control": {
     "marked": false
    }
   },
   "source": [
    "Same as previous"
   ]
  },
  {
   "cell_type": "code",
   "execution_count": null,
   "metadata": {
    "collapsed": false,
    "deletable": false,
    "hidden": true,
    "hide_input": true,
    "hide_output": true,
    "locked": true,
    "run_control": {
     "marked": false
    }
   },
   "outputs": [],
   "source": [
    "# Task: imagebuild-configure-git\n",
    "# Evaluation Mode: load\n",
    "# (hidden load cell)"
   ]
  },
  {
   "cell_type": "markdown",
   "metadata": {
    "heading_collapsed": true,
    "run_control": {
     "marked": false
    }
   },
   "source": [
    "### Example"
   ]
  },
  {
   "cell_type": "markdown",
   "metadata": {
    "hidden": true,
    "run_control": {
     "marked": false
    }
   },
   "source": [
    "Refer to the tiny_web.rspec job."
   ]
  },
  {
   "cell_type": "markdown",
   "metadata": {
    "collapsed": true,
    "heading_collapsed": true,
    "hidden": true,
    "run_control": {
     "marked": false
    }
   },
   "source": [
    "#### Provided script"
   ]
  },
  {
   "cell_type": "code",
   "execution_count": null,
   "metadata": {
    "collapsed": false,
    "deletable": false,
    "hidden": true,
    "locked": true,
    "run_control": {
     "marked": false
    }
   },
   "outputs": [],
   "source": [
    "# (imagebuild-configure-git)\n",
    "# Evaluation Mode: provided-script "
   ]
  },
  {
   "cell_type": "markdown",
   "metadata": {
    "run_control": {
     "marked": false
    }
   },
   "source": [
    "### Check"
   ]
  },
  {
   "cell_type": "code",
   "execution_count": null,
   "metadata": {
    "collapsed": false,
    "deletable": false,
    "locked": true,
    "run_control": {
     "marked": false
    }
   },
   "outputs": [],
   "source": [
    "# Task: imagebuild-configure-git\n",
    "# Evaluation Mode: check"
   ]
  },
  {
   "cell_type": "markdown",
   "metadata": {
    "run_control": {
     "marked": false
    }
   },
   "source": [
    "## _Task: Configure hipchat_"
   ]
  },
  {
   "cell_type": "markdown",
   "metadata": {
    "heading_collapsed": true,
    "run_control": {
     "marked": false
    }
   },
   "source": [
    "### Task details"
   ]
  },
  {
   "cell_type": "markdown",
   "metadata": {
    "hidden": true,
    "run_control": {
     "marked": false
    }
   },
   "source": [
    "Same as previous"
   ]
  },
  {
   "cell_type": "code",
   "execution_count": null,
   "metadata": {
    "collapsed": false,
    "deletable": false,
    "hidden": true,
    "hide_input": true,
    "hide_output": true,
    "locked": true,
    "run_control": {
     "marked": false
    }
   },
   "outputs": [],
   "source": [
    "# Task: imagebuild-configure-hipchat\n",
    "# Evaluation Mode: load\n",
    "# (hidden load cell)"
   ]
  },
  {
   "cell_type": "markdown",
   "metadata": {
    "heading_collapsed": true,
    "run_control": {
     "marked": false
    }
   },
   "source": [
    "### Example"
   ]
  },
  {
   "cell_type": "markdown",
   "metadata": {
    "hidden": true,
    "run_control": {
     "marked": false
    }
   },
   "source": [
    "Refer to the tiny_web.rspec job."
   ]
  },
  {
   "cell_type": "markdown",
   "metadata": {
    "heading_collapsed": true,
    "hidden": true,
    "run_control": {
     "marked": false
    }
   },
   "source": [
    "#### Provided script"
   ]
  },
  {
   "cell_type": "code",
   "execution_count": null,
   "metadata": {
    "collapsed": false,
    "deletable": false,
    "hidden": true,
    "locked": true,
    "run_control": {
     "marked": false
    }
   },
   "outputs": [],
   "source": [
    "# Task: imagebuild-configure-hipchat\n",
    "# Evaluation Mode: provided-script"
   ]
  },
  {
   "cell_type": "markdown",
   "metadata": {
    "run_control": {
     "marked": false
    }
   },
   "source": [
    "### Check"
   ]
  },
  {
   "cell_type": "code",
   "execution_count": null,
   "metadata": {
    "collapsed": false,
    "deletable": false,
    "locked": true,
    "run_control": {
     "marked": false
    }
   },
   "outputs": [],
   "source": [
    "# Task: imagebuild-configure-hipchat\n",
    "# Evaluation Mode: check"
   ]
  },
  {
   "cell_type": "markdown",
   "metadata": {
    "run_control": {
     "marked": false
    }
   },
   "source": [
    "## Task Configure parameters"
   ]
  },
  {
   "cell_type": "markdown",
   "metadata": {
    "heading_collapsed": true,
    "run_control": {
     "marked": false
    }
   },
   "source": [
    "### Task details"
   ]
  },
  {
   "cell_type": "markdown",
   "metadata": {
    "hidden": true,
    "run_control": {
     "marked": false
    }
   },
   "source": [
    "Jenkins allows for setting up parametrs which can later be used within the script. This can let us run the same job on enviroments where the task stays the same but certain variables can change depending on circumstances, results from previous job, who is building the job etc.\n",
    "\n",
    "Add two string parameters and name them image_id and yum_host, insert appropriate values as the default value\n",
    "where image_id is the name of the image that will be cloned and yum_host is the ip address of the machine that\n",
    "provides the yum repository."
   ]
  },
  {
   "cell_type": "code",
   "execution_count": null,
   "metadata": {
    "collapsed": false,
    "deletable": false,
    "hidden": true,
    "hide_input": true,
    "hide_output": true,
    "locked": true,
    "run_control": {
     "marked": false
    }
   },
   "outputs": [],
   "source": [
    "# Task: imagebuild-configure-params\n",
    "# Evaluation Mode: load\n",
    "# (hidden load cell)"
   ]
  },
  {
   "cell_type": "markdown",
   "metadata": {
    "run_control": {
     "marked": false
    }
   },
   "source": [
    "### Example"
   ]
  },
  {
   "cell_type": "markdown",
   "metadata": {
    "run_control": {
     "marked": false
    }
   },
   "source": [
    "<a href=\"https://cloud.githubusercontent.com/assets/9693694/14378391/9d896656-fdaf-11e5-954a-1ee38858c0f0.png\"><img width=\"20%\" height =\"20%\" align=\"left\" alt=\"imagebuild-configure-params-01\" src=\"https://cloud.githubusercontent.com/assets/9693694/14378391/9d896656-fdaf-11e5-954a-1ee38858c0f0.png\"></a>\n",
    "<a href=\"https://cloud.githubusercontent.com/assets/9693694/14378392/9d8f4d32-fdaf-11e5-91ff-d41107ed001f.png\"><img width=\"20%\" height =\"20%\" align=\"left\" alt=\"imagebuild-configure-params-02\" src=\"https://cloud.githubusercontent.com/assets/9693694/14378392/9d8f4d32-fdaf-11e5-91ff-d41107ed001f.png\"></a>"
   ]
  },
  {
   "cell_type": "markdown",
   "metadata": {
    "heading_collapsed": true,
    "run_control": {
     "marked": false
    }
   },
   "source": [
    "#### Provided script"
   ]
  },
  {
   "cell_type": "code",
   "execution_count": null,
   "metadata": {
    "collapsed": false,
    "deletable": false,
    "hidden": true,
    "locked": true,
    "run_control": {
     "marked": false
    }
   },
   "outputs": [],
   "source": [
    "# Task: imagebuild-configure-params\n",
    "# Evaluation Mode: provided-script"
   ]
  },
  {
   "cell_type": "markdown",
   "metadata": {
    "run_control": {
     "marked": false
    }
   },
   "source": [
    "### Check"
   ]
  },
  {
   "cell_type": "code",
   "execution_count": null,
   "metadata": {
    "collapsed": false,
    "deletable": false,
    "locked": true,
    "run_control": {
     "marked": false
    }
   },
   "outputs": [],
   "source": [
    "# Task: imagebuild-configure-params\n",
    "# Evaluation Mode: check"
   ]
  },
  {
   "cell_type": "markdown",
   "metadata": {
    "run_control": {
     "marked": false
    }
   },
   "source": [
    "## _Task: Add build script_"
   ]
  },
  {
   "cell_type": "markdown",
   "metadata": {
    "heading_collapsed": true,
    "run_control": {
     "marked": false
    }
   },
   "source": [
    "### Task: Run a script as part of the build job"
   ]
  },
  {
   "cell_type": "markdown",
   "metadata": {
    "hidden": true,
    "run_control": {
     "marked": false
    }
   },
   "source": [
    "Same as previous"
   ]
  },
  {
   "cell_type": "code",
   "execution_count": null,
   "metadata": {
    "collapsed": false,
    "deletable": false,
    "hidden": true,
    "hide_input": true,
    "hide_output": true,
    "locked": true,
    "run_control": {
     "marked": false
    }
   },
   "outputs": [],
   "source": [
    "# Task: imagebuild-configure-rbenv\n",
    "# Evaluation Mode: load\n",
    "# (hidden load cell)"
   ]
  },
  {
   "cell_type": "markdown",
   "metadata": {
    "heading_collapsed": true,
    "run_control": {
     "marked": false
    }
   },
   "source": [
    "### Example"
   ]
  },
  {
   "cell_type": "markdown",
   "metadata": {
    "hidden": true,
    "run_control": {
     "marked": false
    }
   },
   "source": [
    "Refer to the tiny_web.rspec job."
   ]
  },
  {
   "cell_type": "markdown",
   "metadata": {
    "heading_collapsed": true,
    "hidden": true,
    "run_control": {
     "marked": false
    }
   },
   "source": [
    "#### Provided script"
   ]
  },
  {
   "cell_type": "code",
   "execution_count": null,
   "metadata": {
    "collapsed": false,
    "deletable": false,
    "hidden": true,
    "locked": true,
    "run_control": {
     "marked": false
    }
   },
   "outputs": [],
   "source": [
    "# Task: imagebuild-add-build-script\n",
    "# Evaluation Mode: provided-script"
   ]
  },
  {
   "cell_type": "markdown",
   "metadata": {
    "run_control": {
     "marked": false
    }
   },
   "source": [
    "### Check"
   ]
  },
  {
   "cell_type": "code",
   "execution_count": null,
   "metadata": {
    "collapsed": false,
    "deletable": false,
    "locked": true,
    "run_control": {
     "marked": false
    }
   },
   "outputs": [],
   "source": [
    "# Task: imagebuild-add-build-script\n",
    "# Evaluation Mode: check"
   ]
  },
  {
   "cell_type": "markdown",
   "metadata": {
    "run_control": {
     "marked": false
    }
   },
   "source": [
    "## _Task: Insert Template_"
   ]
  },
  {
   "cell_type": "markdown",
   "metadata": {
    "run_control": {
     "marked": false
    }
   },
   "source": [
    "Execute the following cell to load in a template, where there are certain parts missing from the final script. The following tasks will work towards filling in the missing parts to complete the script."
   ]
  },
  {
   "cell_type": "markdown",
   "metadata": {
    "run_control": {
     "marked": false
    }
   },
   "source": [
    "#### Provided script"
   ]
  },
  {
   "cell_type": "markdown",
   "metadata": {
    "collapsed": false,
    "deletable": false,
    "hide_input": false,
    "hide_output": false,
    "locked": true,
    "run_control": {
     "marked": false
    }
   },
   "source": [
    "```\n",
    "#!/bin/bash\n",
    "\n",
    "set -eux\n",
    "set -o pipefail\n",
    "\n",
    "export PATH=$PATH:/opt/axsh/wakame-vdc/client/mussel/bin\n",
    "\n",
    "SCRIPT_DIR=\"${WORKSPACE}/ciscripts/wakame-vdc\"\n",
    "\n",
    "# Task: Configure params\n",
    "\n",
    "cd ${SCRIPT_DIR}\n",
    "\n",
    "# wait for the instance to be running\n",
    ". retry.sh\n",
    "\n",
    "# vifs\n",
    "network_id=\"nw-demo1\"\n",
    "security_group_id=\"sg-cicddemo\"\n",
    "vifs=vifs.json\n",
    "\n",
    "# instance-specific parameter\n",
    "cpu_cores=\"1\"\n",
    "hypervisor=\"openvz\"\n",
    "memory_size=\"512\"\n",
    "image_id=\"${IMAGE_ID}\"\n",
    "ssh_key_id=\"ssh-cicddemo\"\n",
    "\n",
    "# create an musselrc\n",
    "cat <<EOS > ~/.musselrc\n",
    "DCMGR_HOST=10.0.2.15\n",
    "account_id=a-shpoolxx\n",
    "EOS\n",
    "\n",
    "# create an vifs\n",
    "cat <<EOS > \"${vifs}\"\n",
    "{\n",
    "\t\"eth0\":{\"network\":\"${network_id}\",\"security_groups\":\"${security_group_id}\"}\n",
    "}\n",
    "EOS\n",
    "## create database image\n",
    "\n",
    "# db display name\n",
    "display_name=\"db\"\n",
    "\n",
    "# create an instance\n",
    "instance_id=\"$(\n",
    "  mussel instance create \\\n",
    "  --cpu-cores    \"${cpu_cores}\"    \\\n",
    "  --hypervisor   \"${hypervisor}\"   \\\n",
    "  --image-id     \"${image_id}\"     \\\n",
    "  --memory-size  \"${memory_size}\"  \\\n",
    "  --ssh-key-id   \"${ssh_key_id}\"   \\\n",
    "  --vifs         \"${vifs}\"         \\\n",
    "  --display-name \"${display_name}\" \\\n",
    "  | egrep ^:id: | awk '{print $2}'\n",
    ")\"\n",
    "\n",
    ": \"${instance_id:?\"should not be empty\"}\"\n",
    "echo \"${instance_id} is initializing...\"\n",
    "\n",
    "trap 'mussel instance destroy \"${instance_id}\"' ERR\n",
    "\n",
    "# wait for the instance to be running\n",
    "retry_until [[ '\"$(mussel instance show \"${instance_id}\" | egrep -w \"^:state: running\")\"' ]]\n",
    "echo \"${instance_id} is running\"\n",
    "\n",
    "# get instance ipaddr\n",
    "ipaddr=\"$(\n",
    "  mussel instance show \"${instance_id}\" \\\n",
    "  | egrep :address:  \\\n",
    "  | awk '{print $2}' \\\n",
    "  | tr '\\n' ','\n",
    ")\"\n",
    ": \"${ipaddr:?\"should not be empty\"}\"\n",
    "ipaddr=\"${ipaddr%%,}\"\n",
    "echo \"${instance_id} ipaddr: ${ipaddr}\"\n",
    "\n",
    "# wait for ssh to be ready\n",
    "${SCRIPT_DIR}/instance-wait4ssh.sh  \"${instance_id}\"\n",
    "\n",
    "# install package\n",
    "${SCRIPT_DIR}/instance-exec.sh      \"${instance_id}\" < ${SCRIPT_DIR}/provision-imgdb.sh\n",
    "\n",
    "# instance state: running -> halted\n",
    "mussel instance poweroff --force false ${instance_id}\n",
    "echo \"${instance_id} is halting\"\n",
    "\n",
    "# wait for the instance to be halted\n",
    "retry_until [[ '\"$(mussel instance show \"${instance_id}\" | egrep -w \"^:state: halted\")\"' ]]\n",
    "echo \"${instance_id} is halted\"\n",
    "\n",
    "# instance backup\n",
    "DB_IMAGE_ID=\"$(mussel instance backup ${instance_id} --display-name db | egrep ^:image_id: | awk '{print $2}')\"\n",
    "echo \"database image id: ${DB_IMAGE_ID}\"\n",
    "\n",
    "# wait for the image to be available\n",
    "retry_until [[ '\"$(mussel image show \"${DB_IMAGE_ID}\" | egrep -w \"^:state: available\")\"' ]]\n",
    "echo \"${DB_IMAGE_ID} is available\"\n",
    "\n",
    "# instance destroy\n",
    "mussel instance destroy \"${instance_id}\"\n",
    "echo \"${instance_id} is deleted\"\n",
    "\n",
    "## create app image\n",
    "\n",
    "# app display name\n",
    "display_name=\"app\"\n",
    "\n",
    "# create an instance\n",
    "instance_id=\"$(\n",
    "  mussel instance create \\\n",
    "   --cpu-cores    \"${cpu_cores}\"    \\\n",
    "   --hypervisor   \"${hypervisor}\"   \\\n",
    "   --image-id     \"${image_id}\"     \\\n",
    "   --memory-size  \"${memory_size}\"  \\\n",
    "   --ssh-key-id   \"${ssh_key_id}\"   \\\n",
    "   --vifs         \"${vifs}\"         \\\n",
    "   --display-name \"${display_name}\" \\\n",
    "  | egrep ^:id: | awk '{print $2}'\n",
    ")\"\n",
    ": \"${instance_id:?\"should not be empty\"}\"\n",
    "echo \"${instance_id} is initializing...\"\n",
    "\n",
    "trap 'mussel instance destroy \"${instance_id}\"' ERR\n",
    "\n",
    "# wait for the instance to be running\n",
    "retry_until [[ '\"$(mussel instance show \"${instance_id}\" | egrep -w \"^:state: running\")\"' ]]\n",
    "echo \"${instance_id} is running\"\n",
    "\n",
    "# get instance ipaddr\n",
    "ipaddr=\"$(\n",
    "  mussel instance show \"${instance_id}\" \\\n",
    "  | egrep :address:  \\\n",
    "  | awk '{print $2}' \\\n",
    "  | tr '\\n' ','\n",
    ")\"\n",
    ": \"${ipaddr:?\"should not be empty\"}\"\n",
    "ipaddr=\"${ipaddr%%,}\"\n",
    "echo \"${instance_id} ipaddr: ${ipaddr}\"\n",
    "\n",
    "# wait for ssh to be ready\n",
    "${SCRIPT_DIR}/instance-wait4ssh.sh  \"${instance_id}\"\n",
    "\n",
    "# install package\n",
    "${SCRIPT_DIR}/instance-exec.sh      \"${instance_id}\" \\\n",
    "\t\t    YUM_HOST=\"${YUM_HOST}\" \\\n",
    "\t\t    bash -l < ${SCRIPT_DIR}/provision-imgapp.sh\n",
    "\n",
    "# instance state: running -> halted\n",
    "mussel instance poweroff --force false ${instance_id}\n",
    "echo \"${instance_id} is halting\"\n",
    "\n",
    "# wait for the instance to be halted\n",
    "retry_until [[ '\"$(mussel instance show \"${instance_id}\" | egrep -w \"^:state: halted\")\"' ]]\n",
    "echo \"${instance_id} is halted\"\n",
    "\n",
    "# instance backup\n",
    "APP_IMAGE_ID=\"$(mussel instance backup ${instance_id} --display-name app | egrep ^:image_id: | awk '{print $2}')\"\n",
    "echo \"app image id: ${APP_IMAGE_ID}\"\n",
    "\n",
    "# wait for the image to be available\n",
    "RETRY_WAIT_SEC=180 retry_until [[ '\"$(mussel image show \"${APP_IMAGE_ID}\" | egrep -w \"^:state: available\")\"' ]]\n",
    "echo \"${DB_IMAGE_ID} is available\"\n",
    "\n",
    "# instance destroy\n",
    "mussel instance destroy \"${instance_id}\"\n",
    "echo \"${instance_id} is deleted\"\n",
    "\n",
    "# Task: Save params\n",
    "\n",
    "```"
   ]
  },
  {
   "cell_type": "markdown",
   "metadata": {
    "run_control": {
     "marked": false
    }
   },
   "source": [
    "\n",
    "## Task: Configure params "
   ]
  },
  {
   "cell_type": "markdown",
   "metadata": {
    "run_control": {
     "marked": false
    }
   },
   "source": [
    "### Task details"
   ]
  },
  {
   "cell_type": "markdown",
   "metadata": {
    "run_control": {
     "marked": false
    }
   },
   "source": [
    "Set up the following variables\n",
    "* `IMAGE_ID` to hold the image_id paramter we created earlier\n",
    "* `YUM_HOST` to hold the yum_host paramter we created earlier.\n",
    "* `WRITE_FILE` to represent a path that holds values generated by this job for future use."
   ]
  },
  {
   "cell_type": "code",
   "execution_count": null,
   "metadata": {
    "collapsed": true,
    "deletable": false,
    "hide_input": true,
    "hide_output": true,
    "locked": true,
    "run_control": {
     "marked": true
    }
   },
   "outputs": [],
   "source": [
    "# Task: imagebuild-script-configure-params\n",
    "# Evaluation Mode: load\n",
    "# (hidden load cell)"
   ]
  },
  {
   "cell_type": "markdown",
   "metadata": {
    "run_control": {
     "marked": false
    }
   },
   "source": [
    "### Examples"
   ]
  },
  {
   "cell_type": "markdown",
   "metadata": {
    "run_control": {
     "marked": false
    }
   },
   "source": [
    "Creating variable:\n",
    "```\n",
    "variable_name=value\n",
    "```"
   ]
  },
  {
   "cell_type": "markdown",
   "metadata": {
    "run_control": {
     "marked": false
    }
   },
   "source": [
    "#### Provided script"
   ]
  },
  {
   "cell_type": "code",
   "execution_count": null,
   "metadata": {
    "collapsed": true,
    "deletable": false,
    "locked": true,
    "run_control": {
     "marked": false
    }
   },
   "outputs": [],
   "source": [
    "# Task: imagebuild-script-configure-params\n",
    "# Evaluation Mode: provided-script"
   ]
  },
  {
   "cell_type": "markdown",
   "metadata": {
    "run_control": {
     "marked": false
    }
   },
   "source": [
    "### Check"
   ]
  },
  {
   "cell_type": "code",
   "execution_count": null,
   "metadata": {
    "collapsed": false,
    "deletable": false,
    "locked": true,
    "run_control": {
     "marked": false
    }
   },
   "outputs": [],
   "source": [
    "# Task: imagebuild-script-configure-params\n",
    "# Evaluation Mode: check"
   ]
  },
  {
   "cell_type": "markdown",
   "metadata": {
    "run_control": {
     "marked": false
    }
   },
   "source": [
    "## Task: Save result\n"
   ]
  },
  {
   "cell_type": "markdown",
   "metadata": {
    "run_control": {
     "marked": false
    }
   },
   "source": [
    "### Task details"
   ]
  },
  {
   "cell_type": "markdown",
   "metadata": {},
   "source": [
    "The script will generate the following values\n",
    "```\n",
    "$DB_IMAGE_ID\n",
    "$APP_IMAGE_ID\n",
    "```\n",
    "Reference to 204a on how to save values to a file, and save them in variable format."
   ]
  },
  {
   "cell_type": "code",
   "execution_count": null,
   "metadata": {
    "collapsed": true,
    "deletable": false,
    "hide_input": true,
    "hide_output": true,
    "locked": true,
    "run_control": {
     "marked": true
    }
   },
   "outputs": [],
   "source": [
    "# Task: imagebuild-script-save-params\n",
    "# Evaluation Mode: load\n",
    "# (hidden load cell)"
   ]
  },
  {
   "cell_type": "markdown",
   "metadata": {
    "run_control": {
     "marked": false
    }
   },
   "source": [
    "### Examples"
   ]
  },
  {
   "cell_type": "markdown",
   "metadata": {},
   "source": [
    "To print output to files the \"greater than\" symbol can be used.\n",
    "```\n",
    "echo \"content\" > file_path\n",
    "```\n",
    "Refeence to 204a create image for more information"
   ]
  },
  {
   "cell_type": "markdown",
   "metadata": {
    "run_control": {
     "marked": false
    }
   },
   "source": [
    "#### Provided script"
   ]
  },
  {
   "cell_type": "code",
   "execution_count": null,
   "metadata": {
    "collapsed": true,
    "deletable": false,
    "locked": true,
    "run_control": {
     "marked": false
    }
   },
   "outputs": [],
   "source": [
    "# Task: imagebuild-script-save-params\n",
    "# Evaluation Mode: provided-script"
   ]
  },
  {
   "cell_type": "markdown",
   "metadata": {
    "run_control": {
     "marked": false
    }
   },
   "source": [
    "### Check"
   ]
  },
  {
   "cell_type": "code",
   "execution_count": null,
   "metadata": {
    "collapsed": false,
    "run_control": {
     "marked": false
    }
   },
   "outputs": [],
   "source": [
    "# Task: imagebuild-script-save-params\n",
    "# Evaluation Mode: check"
   ]
  }
 ],
 "metadata": {
  "kernelspec": {
   "display_name": "Bash",
   "language": "bash",
   "name": "bash"
  },
  "language_info": {
   "codemirror_mode": "shell",
   "file_extension": ".sh",
   "mimetype": "text/x-sh",
   "name": "bash"
  },
  "toc": {
   "toc_cell": false,
   "toc_number_sections": true,
   "toc_threshold": 6,
   "toc_window_display": false
  }
 },
 "nbformat": 4,
 "nbformat_minor": 0
}
