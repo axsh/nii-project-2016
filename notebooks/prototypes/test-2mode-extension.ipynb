{
 "cells": [
  {
   "cell_type": "markdown",
   "metadata": {},
   "source": [
    "# Notes:"
   ]
  },
  {
   "cell_type": "markdown",
   "metadata": {},
   "source": [
    "This is a simple notebook to test the 2-mode strategy."
   ]
  },
  {
   "cell_type": "markdown",
   "metadata": {},
   "source": [
    "## design summary"
   ]
  },
  {
   "cell_type": "markdown",
   "metadata": {},
   "source": [
    "### Two modes: myscript/providedscript (or student/system??  manual/automatic??)  "
   ]
  },
  {
   "cell_type": "markdown",
   "metadata": {},
   "source": [
    "### Cell types: script(blank), load, system, check, template."
   ]
  },
  {
   "cell_type": "markdown",
   "metadata": {},
   "source": [
    "**script** is the where the student enters bash scripts to be directly executed to do the task.\n",
    "\n",
    "**load** is a hidden (read-only) locked cell that is only executed when the user does Jupyter \"Run All\" commands.  It restores user edits to (Jenkins) scripts and configurations.\n",
    "\n",
    "**system** is a read-only locked cell that contains a bash script to do the task.  If the task has a **script** cell, then it should be possible to copy/paste (some) of the contents. If there is no script cell, the provided script may just (magically?) call a hidden script, or it may show some details if would be good for the student to see.\n",
    "\n",
    "**check** is a read-only locked cell that contains enough information to call a script that checks if the task is done.  **PLUS**, if the system is running in myscript mode\n",
    "\n",
    "**template** is a read-only locked cell that is similar to the **load** cell.  The differences are that it is visible, because it must be possible for the student to select and run the cell, and it restores a template that does not contain any user edits."
   ]
  },
  {
   "cell_type": "markdown",
   "metadata": {},
   "source": [
    "### In myscript mode: \n",
    "```\n",
    "myscript: doit\n",
    "  or\n",
    "load: if saved diff/script/config, restore to system\n",
    "  or\n",
    "template: doit\n",
    "\n",
    "providedscript: skip\n",
    "check: doit, and re-save diff/script/config\n",
    "```"
   ]
  },
  {
   "cell_type": "markdown",
   "metadata": {},
   "source": [
    "### In providedscript mode: \n",
    "```\n",
    "myscript: skip\n",
    "  or\n",
    "load: skip\n",
    "  or\n",
    "template: skip\n",
    "\n",
    "providedscript: doit\n",
    "check: doit, and but DO NOT re-save diff/script/config\n",
    "```"
   ]
  },
  {
   "cell_type": "markdown",
   "metadata": {
    "heading_collapsed": true
   },
   "source": [
    "# Load bash_kernel extension"
   ]
  },
  {
   "cell_type": "code",
   "execution_count": null,
   "metadata": {
    "collapsed": true
   },
   "outputs": [],
   "source": [
    "source extend_bashkernel-2modes.source"
   ]
  },
  {
   "cell_type": "markdown",
   "metadata": {},
   "source": [
    "Set Mode: Choose \"student\" or \"system\":"
   ]
  },
  {
   "cell_type": "code",
   "execution_count": null,
   "metadata": {
    "collapsed": true
   },
   "outputs": [],
   "source": [
    "set-global-evaluation-mode \"student\""
   ]
  },
  {
   "cell_type": "markdown",
   "metadata": {},
   "source": [
    "# Test 1: script task"
   ]
  },
  {
   "cell_type": "markdown",
   "metadata": {},
   "source": [
    "## Task: output date\n",
    "Write a script to output the date a new file at /tmp/thedate."
   ]
  },
  {
   "cell_type": "code",
   "execution_count": null,
   "metadata": {
    "collapsed": true
   },
   "outputs": [],
   "source": [
    "# Enter your script here:"
   ]
  },
  {
   "cell_type": "markdown",
   "metadata": {},
   "source": [
    "## Example"
   ]
  },
  {
   "cell_type": "markdown",
   "metadata": {
    "heading_collapsed": true
   },
   "source": [
    "### Hint"
   ]
  },
  {
   "cell_type": "markdown",
   "metadata": {},
   "source": [
    "Use the **date** command and file redirection."
   ]
  },
  {
   "cell_type": "markdown",
   "metadata": {},
   "source": [
    "### Full script"
   ]
  },
  {
   "cell_type": "code",
   "execution_count": null,
   "metadata": {
    "collapsed": true
   },
   "outputs": [],
   "source": [
    "# Task: install-jenkins-reset-task\n",
    "# Evaluation Mode: system-script\n",
    "# (If copying, only copy the lines below this line.)\n",
    "date >/tmp/date"
   ]
  },
  {
   "cell_type": "markdown",
   "metadata": {},
   "source": [
    "## Check"
   ]
  },
  {
   "cell_type": "code",
   "execution_count": null,
   "metadata": {
    "collapsed": true
   },
   "outputs": [],
   "source": [
    "# Task: install-jenkins-reset-task\n",
    "# Evaluation Mode: check"
   ]
  }
 ],
 "metadata": {
  "kernelspec": {
   "display_name": "Bash",
   "language": "bash",
   "name": "bash"
  },
  "language_info": {
   "codemirror_mode": "shell",
   "file_extension": ".sh",
   "mimetype": "text/x-sh",
   "name": "bash"
  },
  "toc": {
   "toc_cell": false,
   "toc_number_sections": true,
   "toc_threshold": 6,
   "toc_window_display": false
  },
  "toc_position": {
   "height": "392px",
   "left": "1056.98962402344px",
   "right": "20px",
   "top": "114.000007629395px",
   "width": "448px"
  }
 },
 "nbformat": 4,
 "nbformat_minor": 0
}
