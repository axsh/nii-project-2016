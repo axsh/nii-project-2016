{
 "cells": [
  {
   "cell_type": "markdown",
   "metadata": {},
   "source": [
    "# Notes:"
   ]
  },
  {
   "cell_type": "markdown",
   "metadata": {},
   "source": [
    "This is a simple notebook to test the 2-mode strategy."
   ]
  },
  {
   "cell_type": "markdown",
   "metadata": {},
   "source": [
    "## design summary"
   ]
  },
  {
   "cell_type": "markdown",
   "metadata": {},
   "source": [
    "**** Two modes: student/system.  manual/automatic.  \n",
    "\n",
    "**** Cell types: script(blank), load, system, check, template.\n",
    "\n",
    "**** In student mode: \n",
    "\n",
    "student script(blank): doit\n",
    "  or\n",
    "load: if saved diff/script/config, restore to system\n",
    "  or\n",
    "template: doit\n",
    "\n",
    "system: skip\n",
    "check: doit, and re-save diff/script/config\n",
    "\n",
    "\n",
    "**** In system mode: \n",
    "\n",
    "student script(blank): skip\n",
    "  or\n",
    "load: skip\n",
    "  or\n",
    "template: skip\n",
    "\n",
    "system: doit\n",
    "check: doit, and but DO NOT re-save diff/script/config\n"
   ]
  },
  {
   "cell_type": "markdown",
   "metadata": {},
   "source": [
    "# Load bash_kernel extension"
   ]
  },
  {
   "cell_type": "code",
   "execution_count": null,
   "metadata": {
    "collapsed": true
   },
   "outputs": [],
   "source": [
    "source extend_bashkernel-2modes.source"
   ]
  },
  {
   "cell_type": "code",
   "execution_count": null,
   "metadata": {
    "collapsed": true
   },
   "outputs": [],
   "source": []
  }
 ],
 "metadata": {
  "kernelspec": {
   "display_name": "Bash",
   "language": "bash",
   "name": "bash"
  },
  "language_info": {
   "codemirror_mode": "shell",
   "file_extension": ".sh",
   "mimetype": "text/x-sh",
   "name": "bash"
  },
  "toc": {
   "toc_cell": false,
   "toc_number_sections": true,
   "toc_threshold": 6,
   "toc_window_display": false
  }
 },
 "nbformat": 4,
 "nbformat_minor": 0
}
