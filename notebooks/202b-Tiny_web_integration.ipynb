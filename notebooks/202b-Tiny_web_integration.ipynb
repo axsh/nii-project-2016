{
 "cells": [
  {
   "cell_type": "code",
   "execution_count": 1,
   "metadata": {
    "collapsed": false,
    "deletable": false,
    "hide_input": true,
    "hide_output": false,
    "init_cell": true,
    "locked": true,
    "run_control": {
     "marked": false
    }
   },
   "outputs": [
    {
     "name": "stdout",
     "output_type": "stream",
     "text": [
      "Ready.\n",
      "Changing global mode to 'my-script'\n"
     ]
    }
   ],
   "source": [
    "source extend_bashkernel-2modes.source\n",
    "set-global-evaluation-mode \"my-script\"\n",
    "# (initialization cell, input hidden)"
   ]
  },
  {
   "cell_type": "code",
   "execution_count": null,
   "metadata": {
    "collapsed": false,
    "run_control": {
     "marked": false
    }
   },
   "outputs": [],
   "source": [
    "set-global-evaluation-mode \"provided-script\""
   ]
  },
  {
   "cell_type": "markdown",
   "metadata": {
    "run_control": {
     "marked": false
    }
   },
   "source": [
    "# Tiny_web_exampleのインテグレーションテスト実行ジョブ"
   ]
  },
  {
   "cell_type": "markdown",
   "metadata": {
    "run_control": {
     "marked": false
    }
   },
   "source": [
    "## はじめに"
   ]
  },
  {
   "cell_type": "markdown",
   "metadata": {
    "run_control": {
     "marked": false
    }
   },
   "source": [
    "ここではTiny_web_exampleを例に、インテグレーションテストを実行するJenkinsジョブの作成手順について学んでいきます。"
   ]
  },
  {
   "cell_type": "markdown",
   "metadata": {
    "run_control": {
     "marked": false
    }
   },
   "source": [
    "## 演習について"
   ]
  },
  {
   "cell_type": "markdown",
   "metadata": {
    "run_control": {
     "marked": false
    }
   },
   "source": [
    "各演習の最後に「確認」セルが配置されています。演習で実行、設定した内容が正しいかどうかの確認できますので、必ず実行して下さい。"
   ]
  },
  {
   "cell_type": "markdown",
   "metadata": {
    "run_control": {
     "marked": false
    }
   },
   "source": [
    "# ジョブを作成する"
   ]
  },
  {
   "cell_type": "markdown",
   "metadata": {
    "run_control": {
     "marked": false
    }
   },
   "source": [
    "## 準備"
   ]
  },
  {
   "cell_type": "markdown",
   "metadata": {
    "run_control": {
     "marked": false
    }
   },
   "source": [
    "### インテグレーションテスト実行ジョブの削除"
   ]
  },
  {
   "cell_type": "markdown",
   "metadata": {
    "run_control": {
     "marked": false
    }
   },
   "source": [
    "Tiny_web_exampleのインテグレーションテストを実行する新規ジョブを作成します。 ジョブ名は「tiny_web.integration」とします。"
   ]
  },
  {
   "cell_type": "code",
   "execution_count": null,
   "metadata": {
    "collapsed": false,
    "deletable": false,
    "hide_input": true,
    "hide_output": true,
    "locked": true,
    "run_control": {
     "marked": false
    }
   },
   "outputs": [],
   "source": [
    "# Task: integration-reset-job\n",
    "# Evaluation Mode: load\n",
    "# (hidden load cell)\n",
    "ssh -i ../mykeypair root@10.0.2.100\n",
    "\n",
    "# Call to jenkins-cli client to delete the job.\n",
    "java -jar jenkins-cli.jar -s http://localhost:8080/ delete-job tiny_web.integration"
   ]
  },
  {
   "cell_type": "code",
   "execution_count": null,
   "metadata": {
    "collapsed": false,
    "deletable": false,
    "hide_input": true,
    "hide_output": true,
    "locked": true,
    "run_control": {
     "marked": false
    }
   },
   "outputs": [],
   "source": [
    "# Task: integration-reset-job\n",
    "# Evaluation Mode: provided-script\n",
    "\n",
    "IP=\"$(< /home/centos/jenkins-instance-ip)\"\n",
    "ssh -i ../mykeypair root@$IP\n",
    "\n",
    "# Call to jenkins-cli client to delete the job.\n",
    "java -jar jenkins-cli.jar -s http://localhost:8080/ delete-job tiny_web.integration"
   ]
  },
  {
   "cell_type": "markdown",
   "metadata": {
    "run_control": {
     "marked": false
    }
   },
   "source": [
    "### 確認\n",
    "次のセルを実行して、インテグレーションテスト実行ジョブの作成が完了していることを確認して下さい。"
   ]
  },
  {
   "cell_type": "code",
   "execution_count": 3,
   "metadata": {
    "collapsed": false,
    "deletable": false,
    "locked": true,
    "run_control": {
     "marked": false
    }
   },
   "outputs": [
    {
     "name": "stdout",
     "output_type": "stream",
     "text": [
      "先頭が「[ ]」で始まる項目がすべて緑のチェックマークになったら、次の演習に進めます。\n",
      "Saving progress...\n",
      "[\u001b[00;32m✓\u001b[0m] Job reset\n"
     ]
    }
   ],
   "source": [
    "# Task: integration-reset-job\n",
    "# Evaluation Mode: check"
   ]
  },
  {
   "cell_type": "markdown",
   "metadata": {
    "run_control": {
     "marked": false
    }
   },
   "source": [
    "## 演習 : githubからTiny_web_exampleを取得するための設定を行う"
   ]
  },
  {
   "cell_type": "markdown",
   "metadata": {
    "run_control": {
     "marked": false
    }
   },
   "source": [
    "### 演習の内容"
   ]
  },
  {
   "cell_type": "code",
   "execution_count": null,
   "metadata": {
    "collapsed": false,
    "deletable": false,
    "hide_input": true,
    "hide_output": true,
    "locked": true,
    "run_control": {
     "marked": false
    }
   },
   "outputs": [],
   "source": [
    "# Task: integration-create-job\n",
    "# Evaluation Mode: load\n",
    "# (hidden load cell)\n",
    "ssh -i ../mykeypair root@10.0.2.100\n",
    "\n",
    "# Call to jenkins-cli client to create an empty job.\n",
    "java -jar jenkins-cli.jar -s http://localhost:8080/ create-job tiny_web.integration < ~/templates/config.xml"
   ]
  },
  {
   "cell_type": "markdown",
   "metadata": {
    "run_control": {
     "marked": false
    }
   },
   "source": [
    "iny_web_exampleのインテグレーションテストを実行する新規ジョブを作成します。 ジョブ名は「tiny_web.integration」とします。"
   ]
  },
  {
   "cell_type": "code",
   "execution_count": null,
   "metadata": {
    "collapsed": false,
    "deletable": false,
    "hide_input": false,
    "hide_output": true,
    "locked": true,
    "run_control": {
     "marked": false
    }
   },
   "outputs": [],
   "source": [
    "# Task: integration-create-job\n",
    "# Evaluation Mode: provided-script\n",
    "\n",
    "IP=\"$(< /home/centos/jenkins-instance-ip)\"\n",
    "ssh -i ../mykeypair root@$IP <<EOS\n",
    "\n",
    "# Call to jenkins-cli client to create an empty job.\n",
    "curl -O http://localhost:8080/jnlpJars/jenkins-cli.jar\n",
    "java -jar jenkins-cli.jar -s http://localhost:8080/ create-job tiny_web.integration < ~/templates/config.xml\n",
    "\n",
    "EOS"
   ]
  },
  {
   "cell_type": "markdown",
   "metadata": {
    "run_control": {
     "marked": false
    }
   },
   "source": [
    "### 確認\n",
    "次のセルを実行して、インテグレーションテスト実行ジョブの作成が完了していることを確認して下さい。"
   ]
  },
  {
   "cell_type": "code",
   "execution_count": 4,
   "metadata": {
    "collapsed": false,
    "deletable": false,
    "hide_input": false,
    "hide_output": false,
    "locked": true,
    "run_control": {
     "marked": false
    }
   },
   "outputs": [
    {
     "name": "stdout",
     "output_type": "stream",
     "text": [
      "先頭が「[ ]」で始まる項目がすべて緑のチェックマークになったら、次の演習に進めます。\n",
      "[\u001b[00;32m✓\u001b[0m] Job created\n"
     ]
    }
   ],
   "source": [
    "# Task: integration-create-job\n",
    "# Evaluation Mode: check"
   ]
  },
  {
   "cell_type": "markdown",
   "metadata": {
    "run_control": {
     "marked": false
    }
   },
   "source": [
    "## 演習 : githubからTiny_web_exampleを取得するための設定を行う"
   ]
  },
  {
   "cell_type": "markdown",
   "metadata": {
    "run_control": {
     "marked": false
    }
   },
   "source": [
    "### 演習の内容"
   ]
  },
  {
   "cell_type": "markdown",
   "metadata": {
    "run_control": {
     "marked": false
    }
   },
   "source": [
    "githubからTiny_web_exampleのソースコード取得する設定を行います。<br>\n",
    "[106b_Tiny_web_example_unit_test](106b_Tiny_web_example_unit_test.ipynb)で行った設定と同じです。"
   ]
  },
  {
   "cell_type": "code",
   "execution_count": null,
   "metadata": {
    "collapsed": false,
    "deletable": false,
    "hide_input": true,
    "hide_output": true,
    "locked": true,
    "run_control": {
     "marked": false
    }
   },
   "outputs": [],
   "source": [
    "# Task: integration-configure-git\n",
    "# Evaluation Mode: load\n",
    "# (hidden load cell)"
   ]
  },
  {
   "cell_type": "code",
   "execution_count": 5,
   "metadata": {
    "collapsed": false,
    "deletable": false,
    "hide_input": true,
    "hide_output": true,
    "locked": true,
    "run_control": {
     "marked": false
    }
   },
   "outputs": [
    {
     "name": "stdout",
     "output_type": "stream",
     "text": [
      "Cell being skipped because global mode is my-script.\n"
     ]
    }
   ],
   "source": [
    "# (integration-configure-git)\n",
    "# Evaluation Mode: provided-script "
   ]
  },
  {
   "cell_type": "markdown",
   "metadata": {
    "run_control": {
     "marked": false
    }
   },
   "source": [
    "### 確認\n",
    "次のセルを実行して、githubからのソースコード取得設定が完了していることを確認して下さい。"
   ]
  },
  {
   "cell_type": "code",
   "execution_count": 6,
   "metadata": {
    "collapsed": false,
    "deletable": false,
    "locked": true,
    "run_control": {
     "marked": false
    }
   },
   "outputs": [
    {
     "name": "stdout",
     "output_type": "stream",
     "text": [
      "先頭が「[ ]」で始まる項目がすべて緑のチェックマークになったら、次の演習に進めます。\n",
      "Saving progress...\n",
      "[\u001b[00;32m✓\u001b[0m] Entered github repository\n"
     ]
    }
   ],
   "source": [
    "# Task: integration-configure-git\n",
    "# Evaluation Mode: check"
   ]
  },
  {
   "cell_type": "markdown",
   "metadata": {
    "run_control": {
     "marked": false
    }
   },
   "source": [
    "## 演習 : HipChatへの通知設定を行う"
   ]
  },
  {
   "cell_type": "markdown",
   "metadata": {
    "run_control": {
     "marked": false
    }
   },
   "source": [
    "### 演習の内容"
   ]
  },
  {
   "cell_type": "markdown",
   "metadata": {
    "run_control": {
     "marked": false
    }
   },
   "source": [
    "HipChatへ単体テストの実行状況を通知するための設定を行います。<br>\n",
    "[106b_Tiny_web_example_unit_test](106b_Tiny_web_example_unit_test.ipynb)で行った設定と同じです。"
   ]
  },
  {
   "cell_type": "code",
   "execution_count": null,
   "metadata": {
    "collapsed": false,
    "deletable": false,
    "hide_input": true,
    "hide_output": true,
    "locked": true,
    "run_control": {
     "marked": false
    }
   },
   "outputs": [],
   "source": [
    "# Task: integration-configure-hipchat\n",
    "# Evaluation Mode: load\n",
    "# (hidden load cell)"
   ]
  },
  {
   "cell_type": "code",
   "execution_count": null,
   "metadata": {
    "collapsed": false,
    "deletable": false,
    "hide_input": true,
    "hide_output": true,
    "locked": true,
    "run_control": {
     "marked": false
    }
   },
   "outputs": [],
   "source": [
    "# Task: integration-configure-hipchat\n",
    "# Evaluation Mode: provided-script"
   ]
  },
  {
   "cell_type": "markdown",
   "metadata": {
    "run_control": {
     "marked": false
    }
   },
   "source": [
    "### 確認\n",
    "次のセルを実行して、HipChatへの通知設定が完了していることを確認して下さい。"
   ]
  },
  {
   "cell_type": "code",
   "execution_count": 7,
   "metadata": {
    "collapsed": false,
    "deletable": false,
    "locked": true,
    "run_control": {
     "marked": false
    }
   },
   "outputs": [
    {
     "name": "stdout",
     "output_type": "stream",
     "text": [
      "先頭が「[ ]」で始まる項目がすべて緑のチェックマークになったら、次の演習に進めます。\n",
      "Saving progress...\n",
      "[\u001b[00;32m✓\u001b[0m] Added HipChat notifications\n",
      "[\u001b[00;32m✓\u001b[0m] Enabled HipChat notifications\n"
     ]
    }
   ],
   "source": [
    "# Task: integration-configure-hipchat\n",
    "# Evaluation Mode: check"
   ]
  },
  {
   "cell_type": "markdown",
   "metadata": {
    "run_control": {
     "marked": false
    }
   },
   "source": [
    "## 演習 : rbenvを設定する"
   ]
  },
  {
   "cell_type": "markdown",
   "metadata": {
    "run_control": {
     "marked": false
    }
   },
   "source": [
    "### 演習の内容"
   ]
  },
  {
   "cell_type": "markdown",
   "metadata": {
    "run_control": {
     "marked": false
    }
   },
   "source": [
    "Tiny_web_exampleのインテグレーションテストを実行するには、単体テストと同様、rubyの環境が必要です。<br>\n",
    "[106b_Tiny_web_example_unit_test](106b_Tiny_web_example_unit_test.ipynb)で行った設定と同じです。"
   ]
  },
  {
   "cell_type": "code",
   "execution_count": null,
   "metadata": {
    "collapsed": false,
    "deletable": false,
    "hide_input": true,
    "hide_output": true,
    "locked": true,
    "run_control": {
     "marked": false
    }
   },
   "outputs": [],
   "source": [
    "# Task: integration-configure-rbenv\n",
    "# Evaluation Mode: load\n",
    "# (Hidden load cell)"
   ]
  },
  {
   "cell_type": "code",
   "execution_count": null,
   "metadata": {
    "collapsed": false,
    "deletable": false,
    "hide_input": true,
    "hide_output": true,
    "locked": true,
    "run_control": {
     "marked": false
    }
   },
   "outputs": [],
   "source": [
    "# Task: integration-configure-rbenv\n",
    "# Evaluation Mode: provided-script"
   ]
  },
  {
   "cell_type": "markdown",
   "metadata": {
    "run_control": {
     "marked": false
    }
   },
   "source": [
    "### 確認\n",
    "次のセルを実行して、rbenvの設定が完了していることを確認して下さい。"
   ]
  },
  {
   "cell_type": "code",
   "execution_count": 10,
   "metadata": {
    "collapsed": false,
    "deletable": false,
    "locked": true,
    "run_control": {
     "marked": false
    }
   },
   "outputs": [
    {
     "name": "stdout",
     "output_type": "stream",
     "text": [
      "先頭が「[ ]」で始まる項目がすべて緑のチェックマークになったら、次の演習に進めます。\n",
      "Saving progress...\n",
      "[\u001b[00;32m✓\u001b[0m] Set ruby version\n",
      "[\u001b[00;32m✓\u001b[0m] Set ruby gems\n"
     ]
    }
   ],
   "source": [
    "# Task: integration-configure-rbenv\n",
    "# Evaluation Mode: check"
   ]
  },
  {
   "cell_type": "markdown",
   "metadata": {
    "run_control": {
     "marked": false
    }
   },
   "source": [
    "# インテグレーションテスト実行スクリプトを設定する"
   ]
  },
  {
   "cell_type": "markdown",
   "metadata": {
    "run_control": {
     "marked": false
    }
   },
   "source": [
    "## 演習 : スクリプト実行に必要なパラメータを設定する"
   ]
  },
  {
   "cell_type": "markdown",
   "metadata": {
    "run_control": {
     "marked": false
    }
   },
   "source": [
    "### 演習の内容"
   ]
  },
  {
   "cell_type": "markdown",
   "metadata": {
    "run_control": {
     "marked": false
    }
   },
   "source": [
    "マシンイメージ作成ジョブ([204b_Tiny_web_example_Create_Machine_Image](204b_Tiny_web_example_Create_Machine_Image.ipynb))で、ファイルに保存した変数名と一致する名前で、2つのパラメータを設定します。<br>\n",
    "例えば、`APP_IMAGE_ID=${APP_IMAGE_ID} > ${WRITE_FILE}`で保存した変数は、パラメータ`APP_IMAGE_ID`\n",
    "を作成して、マシンイメージ作成ジョブで作成したイメージID(接頭辞'wmi-'で始まる値)をデフォルト値として設定します。\n",
    "\n",
    "ここで設定したパラメータは「シェルの実行」欄に設定したスクリプトで参照できます。\n",
    "\n",
    "なお、パラメータの設定方法については、[202a_Post_build_trigger](202a_Post_build_trigger.ipynb)を参照して下さい。\n"
   ]
  },
  {
   "cell_type": "code",
   "execution_count": null,
   "metadata": {
    "collapsed": false,
    "deletable": false,
    "hide_input": true,
    "hide_output": true,
    "locked": true,
    "run_control": {
     "marked": false
    }
   },
   "outputs": [],
   "source": [
    "# Task: integration-configure-params\n",
    "# Evaluation Mode: load\n",
    "# (Hidden load cell)"
   ]
  },
  {
   "cell_type": "code",
   "execution_count": null,
   "metadata": {
    "collapsed": false,
    "hide_input": true,
    "hide_output": true,
    "locked": true,
    "run_control": {
     "marked": false
    }
   },
   "outputs": [],
   "source": [
    "# Task: integration-configure-params\n",
    "# Evaluation Mode: provided-script"
   ]
  },
  {
   "cell_type": "markdown",
   "metadata": {
    "run_control": {
     "marked": false
    }
   },
   "source": [
    "### 確認\n",
    "次のセルを実行して、必要なパラメータが設定されているか確認して下さい。"
   ]
  },
  {
   "cell_type": "code",
   "execution_count": 17,
   "metadata": {
    "collapsed": false,
    "locked": true,
    "run_control": {
     "marked": false
    }
   },
   "outputs": [
    {
     "name": "stdout",
     "output_type": "stream",
     "text": [
      "先頭が「[ ]」で始まる項目がすべて緑のチェックマークになったら、次の演習に進めます。\n",
      "Saving progress...\n",
      "[\u001b[00;32m✓\u001b[0m] DB_IMAGE_ID is used as a build parameter\n",
      "[\u001b[00;32m✓\u001b[0m] wmi-908b84vr is used as a value for DB_IMAGE_ID\n",
      "[\u001b[00;32m✓\u001b[0m] APP_IMAGE_ID is used as a build parameter\n",
      "[\u001b[00;32m✓\u001b[0m] wmi-x9o3ai21 is used as a value for APP_IMAGE_ID\n"
     ]
    }
   ],
   "source": [
    "# Task: integration-configure-params\n",
    "# Evaluation Mode: check"
   ]
  },
  {
   "cell_type": "markdown",
   "metadata": {
    "run_control": {
     "marked": false
    }
   },
   "source": [
    "## 演習 : ジョブに「シェルの実行」を追加する"
   ]
  },
  {
   "cell_type": "markdown",
   "metadata": {
    "run_control": {
     "marked": false
    }
   },
   "source": [
    "### 演習の内容"
   ]
  },
  {
   "cell_type": "markdown",
   "metadata": {
    "run_control": {
     "marked": false
    }
   },
   "source": [
    "インテグレーションテスト実行ジョブに「シェルの実行」を追加します。<br>\n",
    "[106b_Tiny_web_example_unit_test](106b_Tiny_web_example_unit_test.ipynb)で行った設定と同じです。"
   ]
  },
  {
   "cell_type": "code",
   "execution_count": null,
   "metadata": {
    "collapsed": false,
    "deletable": false,
    "hide_input": true,
    "hide_output": true,
    "locked": true,
    "run_control": {
     "marked": false
    }
   },
   "outputs": [],
   "source": [
    "# Task: integration-configure-rbenv\n",
    "# Evaluation Mode: load\n",
    "# (hidden load cell)"
   ]
  },
  {
   "cell_type": "code",
   "execution_count": null,
   "metadata": {
    "collapsed": false,
    "deletable": false,
    "hide_input": true,
    "hide_output": true,
    "locked": true,
    "run_control": {
     "marked": false
    }
   },
   "outputs": [],
   "source": [
    "# Task: integration-add-build-script\n",
    "# Evaluation Mode: provided-script"
   ]
  },
  {
   "cell_type": "markdown",
   "metadata": {
    "run_control": {
     "marked": false
    }
   },
   "source": [
    "### 確認\n",
    "次のセルを実行して、「シェルの実行」が追加済みであることを確認して下さい。"
   ]
  },
  {
   "cell_type": "code",
   "execution_count": 18,
   "metadata": {
    "collapsed": false,
    "deletable": false,
    "locked": true,
    "run_control": {
     "marked": false
    }
   },
   "outputs": [
    {
     "name": "stdout",
     "output_type": "stream",
     "text": [
      "先頭が「[ ]」で始まる項目がすべて緑のチェックマークになったら、次の演習に進めます。\n",
      "Saving progress...\n",
      "[\u001b[00;32m✓\u001b[0m] Added shell script\n"
     ]
    }
   ],
   "source": [
    "# Task: integration-add-build-script\n",
    "# Evaluation Mode: check"
   ]
  },
  {
   "cell_type": "markdown",
   "metadata": {
    "run_control": {
     "marked": false
    }
   },
   "source": [
    "## 演習 : インテグレーションテスト実行スクリプトを作成する"
   ]
  },
  {
   "cell_type": "markdown",
   "metadata": {
    "run_control": {
     "marked": false
    }
   },
   "source": [
    "### 演習の内容"
   ]
  },
  {
   "cell_type": "markdown",
   "metadata": {
    "run_control": {
     "marked": false
    }
   },
   "source": [
    "次のインテグレーションテスト実行スクリプトのテンプレートをコピーし、上記で追加した「シェルの実行」欄へペーストして下さい。<br>\n",
    "スクリプトは、まだ未完成です。次の2つのタスクが不足しています。この項目に続いて各タスクの説明がありますので、タスクを追加してスクリプトを完成させて下さい。\n",
    "* Task: install dependencies\n",
    "* Task: Execute integration test"
   ]
  },
  {
   "cell_type": "markdown",
   "metadata": {
    "run_control": {
     "marked": false
    }
   },
   "source": [
    "#### インテグレーションテストスクリプトのテンプレート"
   ]
  },
  {
   "cell_type": "markdown",
   "metadata": {
    "collapsed": false,
    "deletable": false,
    "hide_input": false,
    "hide_output": false,
    "locked": true,
    "run_control": {
     "marked": false
    }
   },
   "source": [
    "```\n",
    "#!/bin/bash\n",
    "#\n",
    "#\n",
    "set -e\n",
    "set -o pipefail\n",
    "set -u\n",
    "\n",
    "export PATH=${PATH}:/opt/axsh/wakame-vdc/client/mussel/bin/\n",
    "\n",
    "# required shell params\n",
    "\n",
    "SCRIPT_DIR=\"${WORKSPACE}/ciscripts/wakame-vdc\"\n",
    "YUM_HOST=\"$(< /metadata/meta-data/local-ipv4)\"\n",
    ": \"${DB_IMAGE_ID:?\"should not be empty\"}\"\n",
    ": \"${APP_IMAGE_ID:?\"should not be empty\"}\"\n",
    "\n",
    "cd ${SCRIPT_DIR}\n",
    "\n",
    "# setup instances\n",
    "\n",
    "eval \"$(\n",
    " IMAGE_ID=\"${DB_IMAGE_ID}\" \\\n",
    "  ${SCRIPT_DIR}/setup-db.sh\n",
    ")\"\n",
    "\n",
    "eval \"$(\n",
    " IMAGE_ID=\"${APP_IMAGE_ID}\" \\\n",
    "  YUM_HOST=\"${YUM_HOST}\" DB_HOST=\"${DB_HOST}\" \\\n",
    "  ${SCRIPT_DIR}/setup-app.sh\n",
    ")\"\n",
    "\n",
    "eval \"$(\n",
    "  APP_ID=\"${APP_ID}\" \\\n",
    "  ${SCRIPT_DIR}/setup-lbweb.sh\n",
    ")\"\n",
    "\n",
    "# cleanup\n",
    "\n",
    "trap '\n",
    " mussel instance destroy \"${DB_ID}\"\n",
    " mussel instance destroy \"${APP_ID}\"\n",
    " ${SCRIPT_DIR}/load_balancer-kill.sh \"${LDWEB_ID}\"\n",
    "' ERR \n",
    "\n",
    "\n",
    "cd ${WORKSPACE}/spec_integration\n",
    "\n",
    "# Task: Install gems\n",
    "\n",
    "\n",
    "cp config/webapi.conf.example config/webapi.conf\n",
    "\n",
    "if [[ -n \"${APP_HOST:-\"\"}\" ]]; then\n",
    "  sed -i s,localhost,${APP_HOST}, config/webapi.conf\n",
    "fi\n",
    "\n",
    "# Task: Execute integration test\n",
    "```"
   ]
  },
  {
   "cell_type": "code",
   "execution_count": null,
   "metadata": {
    "collapsed": false,
    "hide_input": true,
    "hide_output": true,
    "run_control": {
     "marked": false
    }
   },
   "outputs": [],
   "source": [
    "# Task: integration-script-configure-params\n",
    "# Evaluation Mode: load\n",
    "# (hidden load cell)"
   ]
  },
  {
   "cell_type": "code",
   "execution_count": null,
   "metadata": {
    "collapsed": false,
    "hide_input": true,
    "hide_output": true,
    "run_control": {
     "marked": false
    }
   },
   "outputs": [],
   "source": [
    "# Task: integration-script-configure-params\n",
    "# Evaluation Mode: provided-script"
   ]
  },
  {
   "cell_type": "code",
   "execution_count": 19,
   "metadata": {
    "collapsed": false,
    "hide_input": true,
    "hide_output": true,
    "run_control": {
     "marked": true
    }
   },
   "outputs": [
    {
     "name": "stdout",
     "output_type": "stream",
     "text": [
      "先頭が「[ ]」で始まる項目がすべて緑のチェックマークになったら、次の演習に進めます。\n",
      "Saving progress...\n",
      "[\u001b[00;31m✗\u001b[0m] Parameter: APP_IMAGE_ID value is defined to variable: Undefined\n",
      "[\u001b[00;31m✗\u001b[0m] Parameter: DB_IMAGE_ID value is defined to variable: Undefined\n"
     ]
    }
   ],
   "source": [
    "# Task: integration-script-configure-params\n",
    "# Evaluation Mode: check"
   ]
  },
  {
   "cell_type": "markdown",
   "metadata": {
    "run_control": {
     "marked": false
    }
   },
   "source": [
    " "
   ]
  },
  {
   "cell_type": "markdown",
   "metadata": {
    "collapsed": true,
    "run_control": {
     "marked": false
    }
   },
   "source": [
    "## Task: install dependencies"
   ]
  },
  {
   "cell_type": "markdown",
   "metadata": {
    "run_control": {
     "marked": false
    }
   },
   "source": [
    "インテグレーションテストの実行環境で必要なgemをインストールするためのbundlerコマンドを追加して下さい。\n",
    "次のコマンドを実行します。\n",
    "```\n",
    "bundle install\n",
    "```"
   ]
  },
  {
   "cell_type": "code",
   "execution_count": null,
   "metadata": {
    "collapsed": false,
    "hide_input": true,
    "hide_output": true,
    "run_control": {
     "marked": false
    }
   },
   "outputs": [],
   "source": [
    "# Task: integration-script-install-gems\n",
    "# Evaluation Mode: load\n",
    "# (hidden load cell)"
   ]
  },
  {
   "cell_type": "code",
   "execution_count": null,
   "metadata": {
    "collapsed": false,
    "hide_input": true,
    "hide_output": true,
    "run_control": {
     "marked": false
    }
   },
   "outputs": [],
   "source": [
    "# Task: integration-script-install-gems\n",
    "# Evaluation Mode: provided-script"
   ]
  },
  {
   "cell_type": "markdown",
   "metadata": {
    "run_control": {
     "marked": false
    }
   },
   "source": [
    "#### 確認\n",
    "次のセルを実行して、コマンドが追加されていることを確認して下さい。"
   ]
  },
  {
   "cell_type": "code",
   "execution_count": null,
   "metadata": {
    "collapsed": false,
    "run_control": {
     "marked": false
    }
   },
   "outputs": [],
   "source": [
    "# Task: integration-script-install-gems\n",
    "# Evaluation Mode: check"
   ]
  },
  {
   "cell_type": "markdown",
   "metadata": {
    "run_control": {
     "marked": false
    }
   },
   "source": [
    "## ここでインスタンスの起動を確認してみましょう"
   ]
  },
  {
   "cell_type": "markdown",
   "metadata": {
    "run_control": {
     "marked": false
    }
   },
   "source": [
    "ここまでの設定が完了すると、ジョブの実行によってTiny_web_exampleを構成するロードバランサ、Webサーバ、DBサーバのインスタンス（仮想マシン）が起動します。試しに起動してみましょう。\n",
    "1. JenkinsのGUIからインテグレーションテスト実行ジョブを実行します。\n",
    "2. ジョブの実行が正常に終了すると、ロードバランサ、Webサーバ、DBサーバがインスタンスで起動します。\n",
    "3. 下記のスクリプトを、次のセルで実行して下さい。\n",
    "```\n",
    "IP=\"$(< /home/centos/jenkins-instance-ip)\"\n",
    "ssh -i /home/centos/mykeypair root@$IP <<EOS\n",
    "curl ロードバランサのIPアドレス\n",
    "EOS\n",
    "```\n",
    "\n",
    "ロードバランサのIPアドレスはWakame-vdcのGUIで確認できます。<br>\n",
    "`<body>`の先頭に``<h1>Sample BBS</h1>``と表示されれば、Tyny_web_exampleシステムは正常に動作しています。\n"
   ]
  },
  {
   "cell_type": "code",
   "execution_count": 2,
   "metadata": {
    "collapsed": false,
    "run_control": {
     "marked": false
    }
   },
   "outputs": [
    {
     "name": "stdout",
     "output_type": "stream",
     "text": [
      "Pseudo-terminal will not be allocated because stdin is not a terminal.\n",
      "Warning: Permanently added '10.0.2.100' (RSA) to the list of known hosts.\n",
      "  % Total    % Received % Xferd  Average Speed   Time    Time     Time  Current\n",
      "                                 Dload  Upload   Total   Spent    Left  Speed\n",
      "10<!DOCTYPE html>\n",
      "<html lang=en>\n",
      "<head>\n",
      "  <meta charset=\"utf-8\">\n",
      "  <link rel=\"stylesheet\" href=\"css/bootstrap.min.css\">\n",
      "  <link rel=\"stylesheet\" href=\"css/bootstrap-theme.min.css\">\n",
      "  <title>tiny web example</title>\n",
      "</head>\n",
      "<body>\n",
      "  <h1>Sample BBS</h1>\n",
      "<div class=\"container-fluid\">\n",
      "  <div class=\"panel panel-success\">\n",
      "    <div class=\"panel-heading\">\n",
      "      <div class=\"panel-title\">\n",
      "        <h4>Posting</h3>\n",
      "      </div>\n",
      "    </div>\n",
      "    <div class=\"panel-body\">\n",
      "      <div class=\"col-sm-offset-2\">\n",
      "        <h4>\n",
      "          <p class=\"text-danger\"></p>\n",
      "        </h4>\n",
      "      </div>\n",
      "      <form action=\"/comment\" method=\"post\" class=\"form-horizontal\">\n",
      "        <div class=\"form-group\">\n",
      "          <label for=\"exampleInputName\" class=\"col-sm-2 control-label\">Name</label>\n",
      "          <div class=\"col-sm-10\">\n",
      "            <input type=\"text\" name=\"display_name\" class=\"form-control\" id=\"exampleInputName\" placeholder=\"Name\">\n",
      "          </div>\n",
      "        </div>\n",
      "        <div class=\"form-group\">\n",
      "          <label for=\"exampleInputComment\" class=\"col-sm-2 control-label\">Comment</label>\n",
      "          <dev class=\"col-sm-10\">\n",
      "            <textarea name=\"comment\" class=\"form-control\" id=\"exampleInputComment\" placeholder=\"Comment\" rows=10></textarea>\n",
      "          </div>\n",
      "        </div>\n",
      "        <div class=\"form-group\">\n",
      "          <div class=\"col-sm-offset-2\">\n",
      "            <button type=\"submit\" class=\"btn btn-default\">Submit</button>\n",
      "          </div>\n",
      "        </div>\n",
      "      </form>\n",
      "    </div>\n",
      "  </div>\n",
      "</div>\n",
      "\n",
      "<div class=\"container-fluid\">\n",
      "  \n",
      "</div>\n",
      "\n",
      "  <script src=\"js/bootstrap.min.js\"></script>\n",
      "</body>\n",
      "</html>\n",
      "5  1576  105  1576    0     0   143k      0 --:--:-- --:--:-- --:--:--  192k\n"
     ]
    }
   ],
   "source": []
  },
  {
   "cell_type": "markdown",
   "metadata": {
    "run_control": {
     "marked": false
    }
   },
   "source": [
    "**インスタンスを破棄しておく**\n",
    "\n",
    "次のタスクの準備のため、ここで起動したTiny_web_exampleのロードバランサ、Webサーバ、DBサーバを破棄して下さい。<br>\n",
    "破棄は、Wakame-vdcのGUIから行います。"
   ]
  },
  {
   "cell_type": "markdown",
   "metadata": {
    "run_control": {
     "marked": false
    }
   },
   "source": [
    "## Task: Execute integration test"
   ]
  },
  {
   "cell_type": "markdown",
   "metadata": {
    "run_control": {
     "marked": false
    }
   },
   "source": [
    "Tiny_web_exampleを構成するインスタンスの起動が確認できたら、インテグレーションテストの本体を組み込みます。<br>\n",
    "1. まず、ジョブ終了時にテストに使ったインスタンスを破棄するため、trapに`EXIT`を追加します。\n",
    "`' ERR`  -> `' ERR EXIT`\n",
    "2. 次に「Task: Execute integration test」の位置に、インテグレーションテストのrubyスクリプトを呼び出すコマンドラインを追加して下さい。\n",
    "```\n",
    "bundle exec rspec path/to/test.tb\n",
    "```\n",
    "インテグレーションテストのrubyスクリプトは、次の場所にあります。\n",
    "```\n",
    "${WORKSPACE}/spec_integration/spec/webapi_integration_spec.rb\n",
    "```"
   ]
  },
  {
   "cell_type": "code",
   "execution_count": null,
   "metadata": {
    "collapsed": false,
    "hide_input": true,
    "hide_output": true,
    "run_control": {
     "marked": false
    }
   },
   "outputs": [],
   "source": [
    "# Task: integration-script-execute-integration-test\n",
    "# Evaluation Mode: load\n",
    "# (hidden load cell)"
   ]
  },
  {
   "cell_type": "code",
   "execution_count": null,
   "metadata": {
    "collapsed": false,
    "hide_input": true,
    "hide_output": true,
    "run_control": {
     "marked": false
    }
   },
   "outputs": [],
   "source": [
    "# Task: integration-script-execute-integration-test\n",
    "# Evaluation Mode: provided-script"
   ]
  },
  {
   "cell_type": "markdown",
   "metadata": {
    "run_control": {
     "marked": false
    }
   },
   "source": [
    "#### 確認\n",
    "次のセルを実行して、インテグレーションテストの設定が完了していることを確認して下さい。"
   ]
  },
  {
   "cell_type": "code",
   "execution_count": 4,
   "metadata": {
    "collapsed": false,
    "run_control": {
     "marked": false
    }
   },
   "outputs": [
    {
     "name": "stdout",
     "output_type": "stream",
     "text": [
      "先頭が「[ ]」で始まる項目がすべて緑のチェックマークになったら、次の演習に進めます。\n",
      "Saving progress...\n",
      "[\u001b[00;32m✓\u001b[0m] Executes integration test\n"
     ]
    }
   ],
   "source": [
    "# Task: integration-script-execute-integration-test\n",
    "# Evaluation Mode: check"
   ]
  },
  {
   "cell_type": "markdown",
   "metadata": {
    "run_control": {
     "marked": false
    }
   },
   "source": [
    "# インテグレーションテストを実行してみる"
   ]
  },
  {
   "cell_type": "markdown",
   "metadata": {
    "run_control": {
     "marked": false
    }
   },
   "source": [
    "## 演習 : Tiny_web_exampleのインテグレーションテストを実行する"
   ]
  },
  {
   "cell_type": "markdown",
   "metadata": {
    "run_control": {
     "marked": false
    }
   },
   "source": [
    "最後に、作成したインテグレーションテスト実行ジョブを実行してみましょう。\n",
    "[103_jenkins_job_execution_script](./103_jenkins_job_execution_script.ipynb)を参考にして作成したジョブを実行して下さい。"
   ]
  }
 ],
 "metadata": {
  "kernelspec": {
   "display_name": "Bash",
   "language": "bash",
   "name": "bash"
  },
  "language_info": {
   "codemirror_mode": "shell",
   "file_extension": ".sh",
   "mimetype": "text/x-sh",
   "name": "bash"
  },
  "toc": {
   "toc_cell": false,
   "toc_number_sections": true,
   "toc_threshold": 6,
   "toc_window_display": false
  }
 },
 "nbformat": 4,
 "nbformat_minor": 0
}
