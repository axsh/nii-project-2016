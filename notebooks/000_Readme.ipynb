{
 "cells": [
  {
   "cell_type": "markdown",
   "metadata": {},
   "source": [
    "# 演習を始める前に"
   ]
  },
  {
   "cell_type": "markdown",
   "metadata": {},
   "source": [
    "## 接続情報"
   ]
  },
  {
   "cell_type": "markdown",
   "metadata": {},
   "source": [
    "演習用の仮想マシンの操作、設定を行うために必要な「接続情報」は、座席表ファイルにあります。現在お座りの席に対応した情報が記載されています。<br>\n",
    "この情報は後述する「2 演習環境の基本設定」や演習の中で使用します。"
   ]
  },
  {
   "cell_type": "markdown",
   "metadata": {},
   "source": [
    "## 演習Notebookの取得"
   ]
  },
  {
   "cell_type": "markdown",
   "metadata": {},
   "source": [
    "演習Notebookは、\"textbook\" フォルダから取得して、ホーム直下で実行します。<br>\n",
    "演習Notebookを取得するには、教材の取得Notebook (tools/10_AcquireMaterials.ipynb)を使用して下さい。"
   ]
  },
  {
   "cell_type": "markdown",
   "metadata": {
    "run_control": {
     "marked": false
    }
   },
   "source": [
    "# 演習環境の基本設定"
   ]
  },
  {
   "cell_type": "markdown",
   "metadata": {
    "run_control": {
     "marked": false
    }
   },
   "source": [
    "ここでは、これから始める演習の基本的な設定を行います。以後の演習で必要な設定ですので、必ず実行してください。"
   ]
  },
  {
   "cell_type": "markdown",
   "metadata": {
    "run_control": {
     "marked": false
    }
   },
   "source": [
    "## SSH接続の設定"
   ]
  },
  {
   "cell_type": "markdown",
   "metadata": {
    "run_control": {
     "marked": false
    }
   },
   "source": [
    "演習で利用するスクリプトは、演習環境にSSH接続してコマンドを実行する方法を取ります。ここでは、SSH接続するための環境を設定します。<br>\n",
    "次のセルを実行して下さい。"
   ]
  },
  {
   "cell_type": "code",
   "execution_count": null,
   "metadata": {
    "collapsed": true,
    "run_control": {
     "marked": false
    }
   },
   "outputs": [],
   "source": [
    "~/tools/create-ssh-env.sh"
   ]
  },
  {
   "cell_type": "markdown",
   "metadata": {
    "run_control": {
     "marked": false
    }
   },
   "source": [
    "## 演習環境への接続設定"
   ]
  },
  {
   "cell_type": "markdown",
   "metadata": {
    "run_control": {
     "marked": false
    }
   },
   "source": [
    "本編の実習では、IaaS環境のWakame-vdcで起動した仮想マシンに接続して演習を実施します。ここでは、仮想マシンへの接続情報を設定します。<br>\n",
    "\n",
    "次のセルで、接続先ホストのIPアドレスとポート番号を設定し、セルを実行して下さい。接続先ホストのIPアドレスとポート番号は「接続情報」に記載されています。こちらを参照して下さい。<br>\n",
    "* VDC_HOST_IP : 接続情報ののVDC_HOST_IP\n",
    "* VDC_INSTANCE_PORT : 接続情報のVDC_INSTANCE_PORT"
   ]
  },
  {
   "cell_type": "code",
   "execution_count": null,
   "metadata": {
    "collapsed": true,
    "run_control": {
     "marked": false
    }
   },
   "outputs": [],
   "source": [
    "echo \"VDC_HOST_IP\" > ~/vdc_host_ip\n",
    "echo \"VDC_INSTANCE_PORT\" > ~/vdc_instance_port"
   ]
  },
  {
   "cell_type": "markdown",
   "metadata": {
    "run_control": {
     "marked": false
    }
   },
   "source": [
    "## Wakame-vdcをスクリプトから操作するための設定"
   ]
  },
  {
   "cell_type": "markdown",
   "metadata": {
    "run_control": {
     "marked": false
    }
   },
   "source": [
    "演習で利用するIaaS環境Wakame-vdcをスクリプトから操作するための接続情報です。<br>\n",
    "\n",
    "次のセルで、接続先のIPアドレスとポート番号を設定し、セルを実行して下さい。接続先ホストのIPアドレスとポート番号は「接続情報」に記載されています。こちらを参照して下さい。\n",
    "* VDC_HOST_IP : 接続情報のVDC_HOST_IP\n",
    "* VDC_API_PORT : 接続情報のVDC_API_PORT"
   ]
  },
  {
   "cell_type": "code",
   "execution_count": null,
   "metadata": {
    "collapsed": true,
    "run_control": {
     "marked": false
    }
   },
   "outputs": [],
   "source": [
    "cat << EOT > ~/.musselrc\n",
    "DCMGR_HOST=VDC_HOST_IP\n",
    "DCMGR_PORT=VDC_API_PORT\n",
    "account_id=a-shpoolxx\n",
    "EOT"
   ]
  }
 ],
 "metadata": {
  "kernelspec": {
   "display_name": "Bash",
   "language": "bash",
   "name": "bash"
  },
  "language_info": {
   "codemirror_mode": "shell",
   "file_extension": ".sh",
   "mimetype": "text/x-sh",
   "name": "bash"
  },
  "toc": {
   "colors": {
    "hover_highlight": "#DAA520",
    "navigate_num": "#000000",
    "navigate_text": "#333333",
    "running_highlight": "#FF0000",
    "selected_highlight": "#FFD700",
    "sidebar_border": "#EEEEEE",
    "wrapper_background": "#FFFFFF"
   },
   "moveMenuLeft": true,
   "nav_menu": {
    "height": "30px",
    "width": "252px"
   },
   "navigate_menu": true,
   "number_sections": true,
   "sideBar": true,
   "threshold": 4,
   "toc_cell": false,
   "toc_section_display": "block",
   "toc_window_display": false,
   "widenNotebook": false
  }
 },
 "nbformat": 4,
 "nbformat_minor": 2
}
