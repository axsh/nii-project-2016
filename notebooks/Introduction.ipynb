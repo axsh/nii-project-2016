{
 "cells": [
  {
   "cell_type": "code",
   "execution_count": null,
   "metadata": {
    "collapsed": false,
    "hide_input": true,
    "hide_output": false,
    "init_cell": true,
    "run_control": {
     "marked": false
    }
   },
   "outputs": [],
   "source": [
    "source extend_bashkernel-2modes.source\n",
    "\n",
    "# This cell should be hidden and execute automatically when the page loads\n",
    "\n",
    "# Make my-script the default when notebook is loaded:\n",
    "set-global-evaluation-mode \"my-script\""
   ]
  },
  {
   "cell_type": "markdown",
   "metadata": {
    "run_control": {
     "marked": false
    }
   },
   "source": [
    "To set the notebook mode, choose \"my-script\" or \"provided-script\" and run the cell."
   ]
  },
  {
   "cell_type": "code",
   "execution_count": null,
   "metadata": {
    "collapsed": false,
    "run_control": {
     "marked": false
    }
   },
   "outputs": [],
   "source": [
    "set-global-evaluation-mode \"provided-script\""
   ]
  },
  {
   "cell_type": "markdown",
   "metadata": {
    "run_control": {
     "marked": false
    }
   },
   "source": [
    "# Instructions"
   ]
  },
  {
   "cell_type": "markdown",
   "metadata": {
    "run_control": {
     "marked": false
    }
   },
   "source": [
    "## Overview: objectives, tasks, sections"
   ]
  },
  {
   "cell_type": "markdown",
   "metadata": {
    "run_control": {
     "marked": false
    }
   },
   "source": [
    "This notebook has two main objectives.  The first is to install Jenkins inside a Wakame-vdc instance.  The second is to install plugins into Jenkins that will be needed for subsequent notebooks.\n",
    "\n",
    "In the notebook sections below, each objective is split into a number of small tasks that must be done in-order.  Each task has three sections:\n",
    "\n",
    "  * **task details**: This section explains exactly what needs to be done.  Sometimes the task can be done from the command line, therefore an empty **\"my-script cell\"** is provided here, and your goal is to write a script in the my-script cell and then run the cell to do the task. In other cases, the task needs to be done in a graphical user interface, so your goal is to open separate web page, connect to the appropriate web GUI, and do the task there.\n",
    "  \n",
    "  * **examples**: This section is divided into sub-sections that give examples or hints about how to do the task, if you need them.  In most cases there is a special **provided-script** section that has a cell that can be evaluated to do the task automatically.  When there is a my-script cell for the task, lines appear in the provided-script that can be copied to the my-script cell to do the task.  Note that you should only look at the examples one-by-one and only after you have tried to do the task without looking at the next hint.  Copying and pasting from the provided-script should only be done if time does not allow for you to come up with your own solution.\n",
    "    \n",
    "  * **check**: This section contains a cell that can be run to automatically check that the task has been done.  You should run this cell and confirm success before moving on to the next task.\n",
    " \n",
    "Sometimes the **task details** and **examples** sections are replaced by a **template** section. Such templates are used to simply later tasks that are too complicated to be done in a reasonable amount of time.\n"
   ]
  },
  {
   "cell_type": "markdown",
   "metadata": {
    "run_control": {
     "marked": false
    }
   },
   "source": [
    "## Notebook modes: my-script and provided-script"
   ]
  },
  {
   "cell_type": "markdown",
   "metadata": {
    "run_control": {
     "marked": false
    }
   },
   "source": [
    "Jupyter notebooks have a \"Run All Above\" feature that can be used with this notebook.  In order for this to work, it is important that only my-script or provided-script cells are run, but not both.  The cell at the top of notebook is used to selecting the mode.\n",
    "\n",
    "This mode is also in effect when you run cells individually.  Therefore, the mode must be changed to my-script before running the scripts you create in the cells below."
   ]
  },
  {
   "cell_type": "markdown",
   "metadata": {
    "run_control": {
     "marked": false
    }
   },
   "source": [
    "# Objective #1: Install Jenkins in a Wakame-vdc instance"
   ]
  },
  {
   "cell_type": "markdown",
   "metadata": {
    "run_control": {
     "marked": false
    }
   },
   "source": [
    "## Task: Reset Wakame-vdc"
   ]
  },
  {
   "cell_type": "markdown",
   "metadata": {
    "run_control": {
     "marked": false
    }
   },
   "source": [
    "### Task Details"
   ]
  },
  {
   "cell_type": "markdown",
   "metadata": {
    "run_control": {
     "marked": false
    }
   },
   "source": [
    "The first task is to terminate any Wakame-vdc instances that are currently running.  (Doing this task is not necessary if this Jupyter notebook has not been run yet and no instances are currently running.)  Connect to the Wakame-vdc Web GUI, check if there are any instances running, and terminate them, if so."
   ]
  },
  {
   "cell_type": "markdown",
   "metadata": {
    "heading_collapsed": true,
    "run_control": {
     "marked": false
    }
   },
   "source": [
    "### Examples"
   ]
  },
  {
   "cell_type": "markdown",
   "metadata": {
    "hidden": true,
    "run_control": {
     "marked": false
    }
   },
   "source": [
    "<a href=\"https://cloud.githubusercontent.com/assets/9693694/13846358/d09c4b80-ec89-11e5-90da-c3b216619f7b.png\"><img src=\"https://cloud.githubusercontent.com/assets/9693694/13846358/d09c4b80-ec89-11e5-90da-c3b216619f7b.png\" width=15% height=15% align=\"left\"></a>"
   ]
  },
  {
   "cell_type": "markdown",
   "metadata": {
    "heading_collapsed": true,
    "hidden": true,
    "run_control": {
     "marked": false
    }
   },
   "source": [
    "#### Provided script"
   ]
  },
  {
   "cell_type": "code",
   "execution_count": null,
   "metadata": {
    "collapsed": false,
    "deletable": true,
    "hidden": true,
    "locked": false,
    "run_control": {
     "marked": false
    },
    "scrolled": true
   },
   "outputs": [],
   "source": [
    "# Task: introduction-terminate-wakame-instances\n",
    "# Evaluation mode: provided-script\n",
    "\n",
    "# Here is an automated alternative to using the Wakame-vdc GUI.\n",
    "# The following Bash code will delete all Wakame-vdc instances by using\n",
    "# the output from \"mussel instance index\" to get a list of instance IDs,\n",
    "# and then using \"mussel instance destroy\" to terminate each ID.\n",
    "# These mussel commands can also be used in an interactive terminal.\n",
    "\n",
    "check_instances()\n",
    "{\n",
    "    mussel instance index | \\\n",
    "        (\n",
    "            date=xxx # only instances database rows with empty \"deleted_at\" should be displayed\n",
    "            while read ln; do\n",
    "                case \"$ln\" in\n",
    "                    *:id:*)\n",
    "                        [ \"$date\" = \"\" ] && echo \"$out\"\n",
    "                        read dash label theid <<<\"$ln\"\n",
    "                        out=\"     $theid \"\n",
    "                        ;;\n",
    "                    *:deleted_at:*)\n",
    "                        read label date rest <<<\"$ln\"\n",
    "                        ;;\n",
    "                esac\n",
    "            done\n",
    "            [ \"$date\" = \"\" ] && echo \"$out\"\n",
    "        )\n",
    "\n",
    "}\n",
    "\n",
    "ilist=\"$(check_instances 2>/dev/null)\"\n",
    "for inst in $ilist; do\n",
    "    echo \"Terminating instance: $inst\"\n",
    "    mussel instance destroy $inst 2>/dev/null\n",
    "done\n",
    "\n",
    "# This sleep is necessary so Wakame-vdc will reuse the 10.0.2.100 IP\n",
    "# addresss.\n",
    "sleep 15  # TODO: remove the need for this\n"
   ]
  },
  {
   "cell_type": "markdown",
   "metadata": {
    "run_control": {
     "marked": false
    }
   },
   "source": [
    "### Check"
   ]
  },
  {
   "cell_type": "code",
   "execution_count": null,
   "metadata": {
    "collapsed": false,
    "deletable": true,
    "hide_input": true,
    "locked": false,
    "run_control": {
     "marked": false
    }
   },
   "outputs": [],
   "source": [
    "# Task: introduction-terminate-wakame-instances\n",
    "# Evaluation mode: load\n",
    "\n",
    "# This cell should be hidden.\n",
    "\n",
    "# copy/paste of the provided-script code:\n",
    "check_instances()\n",
    "{\n",
    "    mussel instance index | \\\n",
    "        (\n",
    "            date=xxx # only instances database rows with empty \"deleted_at\" should be displayed\n",
    "            while read ln; do\n",
    "                case \"$ln\" in\n",
    "                    *:id:*)\n",
    "                        [ \"$date\" = \"\" ] && echo \"$out\"\n",
    "                        read dash label theid <<<\"$ln\"\n",
    "                        out=\"     $theid \"\n",
    "                        ;;\n",
    "                    *:deleted_at:*)\n",
    "                        read label date rest <<<\"$ln\"\n",
    "                        ;;\n",
    "                esac\n",
    "            done\n",
    "            [ \"$date\" = \"\" ] && echo \"$out\"\n",
    "        )\n",
    "\n",
    "}\n",
    "\n",
    "ilist=\"$(check_instances 2>/dev/null)\"\n",
    "for inst in $ilist; do\n",
    "    echo \"Terminating instance: $inst\"\n",
    "    mussel instance destroy $inst 2>/dev/null\n",
    "done\n",
    "\n",
    "# This sleep is necessary so Wakame-vdc will reuse the 10.0.2.100 IP\n",
    "# addresss.\n",
    "sleep 15  # TODO: remove the need for this\n"
   ]
  },
  {
   "cell_type": "code",
   "execution_count": null,
   "metadata": {
    "collapsed": false,
    "run_control": {
     "marked": false
    }
   },
   "outputs": [],
   "source": [
    "# Task: introduction-terminate-wakame-instances\n",
    "# Evaluation Mode: check\n"
   ]
  },
  {
   "cell_type": "markdown",
   "metadata": {
    "run_control": {
     "marked": false
    }
   },
   "source": [
    "## Task: Start up Wakame-vdc Instance"
   ]
  },
  {
   "cell_type": "markdown",
   "metadata": {
    "run_control": {
     "marked": false
    }
   },
   "source": [
    "### Task Details"
   ]
  },
  {
   "cell_type": "markdown",
   "metadata": {
    "run_control": {
     "marked": false
    }
   },
   "source": [
    "Using the Wakame-vdc Web GUI, start a Wakame-vdc instance we can start virtual instances from a machine image that we can work on.\n",
    "\n",
    "Start an instance using **wmi-centos1d64** as the machine image. Choose **vz.xlarge** for the instance spec, and **ssh-cicddemo** and **sg-cicddemo** for the SSH key pair and Security group.  Connect eth0 to the **demo1** network."
   ]
  },
  {
   "cell_type": "markdown",
   "metadata": {
    "heading_collapsed": true,
    "run_control": {
     "marked": false
    }
   },
   "source": [
    "### Examples"
   ]
  },
  {
   "cell_type": "markdown",
   "metadata": {
    "hidden": true,
    "run_control": {
     "marked": false
    }
   },
   "source": [
    "<a href=\"https://cloud.githubusercontent.com/assets/9693694/13846360/d3564506-ec89-11e5-843f-f3a71d77e76f.png\"><img src=\"https://cloud.githubusercontent.com/assets/9693694/13846360/d3564506-ec89-11e5-843f-f3a71d77e76f.png\" height=\"15%\" width=\"15%\" align=\"left\"></a>\n",
    "<a href=\"https://cloud.githubusercontent.com/assets/9693694/13846362/d7255e74-ec89-11e5-993a-682f15e14523.png\"><img src=\"https://cloud.githubusercontent.com/assets/9693694/13846362/d7255e74-ec89-11e5-993a-682f15e14523.png\" height=\"15%\" width=\"15%\" align=\"left\"></a>\n",
    "<a href=\"https://cloud.githubusercontent.com/assets/9693694/13846365/da32cf8e-ec89-11e5-9085-c9431a07362f.png\"><img src=\"https://cloud.githubusercontent.com/assets/9693694/13846365/da32cf8e-ec89-11e5-9085-c9431a07362f.png\" height=\"15%\" width=\"15%\" align=\"left\"></a>"
   ]
  },
  {
   "cell_type": "markdown",
   "metadata": {
    "hidden": true,
    "run_control": {
     "marked": false
    }
   },
   "source": [
    "#### Provided script"
   ]
  },
  {
   "cell_type": "code",
   "execution_count": null,
   "metadata": {
    "collapsed": false,
    "deletable": true,
    "hidden": true,
    "locked": false,
    "run_control": {
     "marked": false
    },
    "scrolled": true
   },
   "outputs": [],
   "source": [
    "# Task: introduction-launch-wakame-instance\n",
    "# Evaluation Mode: provided-script\n",
    "\n",
    "# Here is an automated alternative to using the Wakame-vdc GUI.\n",
    "# The following Bash code will launch a Wakame-vdc instance by using\n",
    "# \"mussel instance create\".\n",
    "\n",
    "cat <<EOS >vifs.json\n",
    "{\n",
    " \"eth0\":{\"network\":\"nw-demo1\",\"security_groups\":\"sg-cicddemo\"}\n",
    "}\n",
    "EOS\n",
    "\n",
    "mussel instance create --cpu-cores 2 --hypervisor openvz \\\n",
    "    --image-id wmi-centos1d64 --memory-size 2048 \\\n",
    "    --ssh-key-id ssh-cicddemo --vifs vifs.json --display-name centos"
   ]
  },
  {
   "cell_type": "markdown",
   "metadata": {
    "run_control": {
     "marked": false
    }
   },
   "source": [
    "### Check"
   ]
  },
  {
   "cell_type": "code",
   "execution_count": null,
   "metadata": {
    "collapsed": false,
    "hide_input": true,
    "locked": false,
    "run_control": {
     "marked": false
    },
    "scrolled": true
   },
   "outputs": [],
   "source": [
    "# Task: introduction-launch-wakame-instance\n",
    "# Evaluation Mode: load\n",
    "\n",
    "# This cell should be hidden.\n",
    "\n",
    "cat <<EOS >vifs.json\n",
    "{\n",
    " \"eth0\":{\"network\":\"nw-demo1\",\"security_groups\":\"sg-cicddemo\"}\n",
    "}\n",
    "EOS\n",
    "\n",
    "mussel instance create --cpu-cores 2 --hypervisor openvz \\\n",
    "    --image-id wmi-centos1d64 --memory-size 2048 \\\n",
    "    --ssh-key-id ssh-cicddemo --vifs vifs.json --display-name centos"
   ]
  },
  {
   "cell_type": "code",
   "execution_count": null,
   "metadata": {
    "collapsed": false,
    "run_control": {
     "marked": false
    }
   },
   "outputs": [],
   "source": [
    "# Task: introduction-launch-wakame-instance\n",
    "# Evaluation Mode: check"
   ]
  },
  {
   "cell_type": "markdown",
   "metadata": {
    "run_control": {
     "marked": false
    }
   },
   "source": [
    "## Task: Wait for ssh to be ready"
   ]
  },
  {
   "cell_type": "markdown",
   "metadata": {
    "run_control": {
     "marked": false
    }
   },
   "source": [
    "### Task Details"
   ]
  },
  {
   "cell_type": "markdown",
   "metadata": {
    "run_control": {
     "marked": false
    }
   },
   "source": [
    "After confirming that the instance is running in the Wakame-vdc Web GUI, use the ssh command in the following cell to confirm that the instance is running correctly.  Be sure to confirm that the IP address matches the one assigned to the instance by Wakame-vdc.  ((As a bonus, it would be good to be able to write a script that actually waits for the instanace and its ssh server to become active, since that technique is necessary for later scripts.))"
   ]
  },
  {
   "cell_type": "code",
   "execution_count": null,
   "metadata": {
    "collapsed": false,
    "run_control": {
     "marked": false
    }
   },
   "outputs": [],
   "source": [
    "# Enter and run your commands and scripts in this cell:\n",
    "\n"
   ]
  },
  {
   "cell_type": "markdown",
   "metadata": {
    "heading_collapsed": true,
    "run_control": {
     "marked": false
    }
   },
   "source": [
    "### Examples"
   ]
  },
  {
   "cell_type": "markdown",
   "metadata": {
    "heading_collapsed": true,
    "hidden": true,
    "run_control": {
     "marked": false
    }
   },
   "source": [
    "#### Provided script"
   ]
  },
  {
   "cell_type": "code",
   "execution_count": null,
   "metadata": {
    "collapsed": false,
    "deletable": false,
    "hidden": true,
    "hide_input": true,
    "locked": true,
    "run_control": {
     "marked": false
    }
   },
   "outputs": [],
   "source": [
    "# Task: introduction-wait-for-ssh\n",
    "# Evaluation Mode: provided-script\n",
    "\n",
    "# The first part of this script waits for the ssh port (#22) to respond.\n",
    "# At the end, an ssh connection is attempted.\n",
    "\n",
    ": ${IP:=10.0.2.100}\n",
    "while [[ \"$(echo | nc -w 1 \"$IP\" 22)\" != *SSH* ]]; do\n",
    "  sleep 2\n",
    "  echo \"Waiting on SSH at $IP...\"\n",
    "done\n",
    "echo \"SSH is active at $IP, port 22\"\n",
    "\n",
    "ssh -qi ../mykeypair root@10.0.2.100 uptime"
   ]
  },
  {
   "cell_type": "markdown",
   "metadata": {
    "run_control": {
     "marked": false
    }
   },
   "source": [
    "### Check"
   ]
  },
  {
   "cell_type": "code",
   "execution_count": null,
   "metadata": {
    "collapsed": false,
    "deletable": false,
    "hide_input": true,
    "locked": true,
    "run_control": {
     "marked": false
    }
   },
   "outputs": [],
   "source": [
    "# Task: introduction-wait-for-ssh\n",
    "# Evaluation Mode: load\n",
    "\n",
    "# This script should be hidden.\n",
    "\n",
    "# It is also a bit awkward because the user's task is to check with ssh, but\n",
    "# really waiting for ssh is necessary.  Should the user learn how to write\n",
    "# a script that waits here?  If so how can it be checked?  ReRun the notebook.\n",
    "# Hmmm, maybe that would be a nice demo.\n",
    "\n",
    ": ${IP:=10.0.2.100}\n",
    "while [[ \"$(echo | nc -w 1 \"$IP\" 22)\" != *SSH* ]]; do\n",
    "  sleep 2\n",
    "  echo \"Waiting on SSH at $IP...\"\n",
    "done\n",
    "echo \"SSH is active at $IP, port 22\"\n",
    "\n",
    "ssh -qi ../mykeypair root@10.0.2.100 uptime"
   ]
  },
  {
   "cell_type": "code",
   "execution_count": null,
   "metadata": {
    "collapsed": false,
    "deletable": true,
    "locked": false,
    "run_control": {
     "marked": false
    }
   },
   "outputs": [],
   "source": [
    "# Task: introduction-wait-for-ssh\n",
    "# Evaluation Mode: check"
   ]
  },
  {
   "cell_type": "markdown",
   "metadata": {
    "run_control": {
     "marked": false
    }
   },
   "source": [
    "# Objective #2: Install Packages"
   ]
  },
  {
   "cell_type": "markdown",
   "metadata": {
    "run_control": {
     "marked": false
    }
   },
   "source": [
    "## Task: repoファイルのインストール"
   ]
  },
  {
   "cell_type": "markdown",
   "metadata": {
    "heading_collapsed": true,
    "run_control": {
     "marked": false
    }
   },
   "source": [
    "### Task Details"
   ]
  },
  {
   "cell_type": "markdown",
   "metadata": {
    "hidden": true,
    "run_control": {
     "marked": false
    }
   },
   "source": [
    "jenkins用yumリポジトリを追加します。 Download the file at http://pkg.jenkins-ci.org/redhat/jenkins.repo and put it at /etc/yum.repos.d/jenkins.repo inside the instance."
   ]
  },
  {
   "cell_type": "code",
   "execution_count": null,
   "metadata": {
    "collapsed": false,
    "hidden": true,
    "run_control": {
     "marked": false
    }
   },
   "outputs": [],
   "source": [
    "# Evaluation Mode: myscript\n"
   ]
  },
  {
   "cell_type": "markdown",
   "metadata": {},
   "source": [
    "### Examples"
   ]
  },
  {
   "cell_type": "markdown",
   "metadata": {
    "run_control": {
     "marked": false
    }
   },
   "source": [
    "ssh -i ../mykeypair root@10.0.2.100 curl -fSkL some-url -o some-directory"
   ]
  },
  {
   "cell_type": "markdown",
   "metadata": {
    "run_control": {
     "marked": false
    }
   },
   "source": [
    "#### Provided script"
   ]
  },
  {
   "cell_type": "code",
   "execution_count": null,
   "metadata": {
    "collapsed": false,
    "deletable": true,
    "locked": false,
    "run_control": {
     "marked": true
    }
   },
   "outputs": [],
   "source": [
    "# Task: introduction-jenkins-repo-file\n",
    "# Evaluation Mode: provided-script\n",
    ": ${IP:=10.0.2.100}\n",
    "ssh -qi ../mykeypair root@$IP curl -fSkL http://pkg.jenkins-ci.org/redhat/jenkins.repo -o /etc/yum.repos.d/jenkins.repo"
   ]
  },
  {
   "cell_type": "markdown",
   "metadata": {
    "run_control": {
     "marked": false
    }
   },
   "source": [
    "### Check"
   ]
  },
  {
   "cell_type": "code",
   "execution_count": null,
   "metadata": {
    "collapsed": false,
    "run_control": {
     "marked": false
    }
   },
   "outputs": [],
   "source": [
    "# Task: introduction-jenkins-repo-file\n",
    "# Evaluation Mode: check\n"
   ]
  },
  {
   "cell_type": "markdown",
   "metadata": {
    "run_control": {
     "marked": false
    }
   },
   "source": [
    "## Task: 公開鍵のインポート"
   ]
  },
  {
   "cell_type": "markdown",
   "metadata": {
    "heading_collapsed": true,
    "run_control": {
     "marked": false
    }
   },
   "source": [
    "### Task Details"
   ]
  },
  {
   "cell_type": "code",
   "execution_count": null,
   "metadata": {
    "collapsed": false,
    "hidden": true,
    "run_control": {
     "marked": false
    }
   },
   "outputs": [],
   "source": [
    "# Evaluation Mode: myscript\n"
   ]
  },
  {
   "cell_type": "markdown",
   "metadata": {
    "run_control": {
     "marked": false
    }
   },
   "source": [
    "### Examples"
   ]
  },
  {
   "cell_type": "markdown",
   "metadata": {
    "run_control": {
     "marked": false
    }
   },
   "source": [
    "#### Provided script"
   ]
  },
  {
   "cell_type": "code",
   "execution_count": null,
   "metadata": {
    "collapsed": false,
    "deletable": true,
    "locked": false,
    "run_control": {
     "marked": true
    }
   },
   "outputs": [],
   "source": [
    "# Task: introduction-import-public-key\n",
    "# Evaluation Mode: provided-script\n",
    "\n",
    ": ${IP:=10.0.2.100}\n",
    "ssh -qi ../mykeypair root@$IP rpm --import http://pkg.jenkins-ci.org/redhat/jenkins-ci.org.key"
   ]
  },
  {
   "cell_type": "markdown",
   "metadata": {
    "run_control": {
     "marked": false
    }
   },
   "source": [
    "### Check"
   ]
  },
  {
   "cell_type": "code",
   "execution_count": null,
   "metadata": {
    "collapsed": false,
    "run_control": {
     "marked": false
    }
   },
   "outputs": [],
   "source": [
    "# Task: introduction-import-public-key\n",
    "# Evaluation Mode: check\n"
   ]
  },
  {
   "cell_type": "markdown",
   "metadata": {
    "run_control": {
     "marked": false
    }
   },
   "source": [
    "## Task: java実行環境のインストール"
   ]
  },
  {
   "cell_type": "markdown",
   "metadata": {
    "heading_collapsed": true,
    "run_control": {
     "marked": false
    }
   },
   "source": [
    "### Task Details"
   ]
  },
  {
   "cell_type": "code",
   "execution_count": null,
   "metadata": {
    "collapsed": false,
    "hidden": true,
    "run_control": {
     "marked": false
    }
   },
   "outputs": [],
   "source": [
    "# Evaluation Mode: myscript\n"
   ]
  },
  {
   "cell_type": "markdown",
   "metadata": {
    "run_control": {
     "marked": false
    }
   },
   "source": [
    "### Examples"
   ]
  },
  {
   "cell_type": "markdown",
   "metadata": {
    "run_control": {
     "marked": false
    }
   },
   "source": [
    "#### Provided script"
   ]
  },
  {
   "cell_type": "code",
   "execution_count": null,
   "metadata": {
    "collapsed": false,
    "deletable": true,
    "locked": false,
    "run_control": {
     "marked": false
    }
   },
   "outputs": [],
   "source": [
    "# Task: introduction-install-java\n",
    "# Evaluation Mode: provided-script\n",
    "\n",
    "# This installs the Oracle version of Java.  The RPM file was\n",
    "# already downloaded to /home/centos/notebooks/downloads\n",
    "\n",
    ": ${IP:=10.0.2.100}\n",
    "cd /home/centos/notebooks/.downloads\n",
    "tar c jdk-8u73-linux-x64.rpm | ssh -qi /home/centos/mykeypair root@$IP tar xv\n",
    "\n",
    "ssh -qi /home/centos/mykeypair root@$IP <<EOS\n",
    "\n",
    "rpm -ivh jdk-8u73-linux-x64.rpm\n",
    "\n",
    "cat <<CFG >/etc/profile.d/java.sh\n",
    "JAVA_HOME=/usr/java/jdk1.8.0_25/\n",
    "PATH=$JAVA_HOME/bin:$PATH\n",
    "export PATH JAVA_HOME\n",
    "export CLASSPATH=.\n",
    "CFG\n",
    "\n",
    "EOS"
   ]
  },
  {
   "cell_type": "markdown",
   "metadata": {
    "run_control": {
     "marked": false
    }
   },
   "source": [
    "### Check"
   ]
  },
  {
   "cell_type": "code",
   "execution_count": null,
   "metadata": {
    "collapsed": false,
    "run_control": {
     "marked": false
    }
   },
   "outputs": [],
   "source": [
    "# Task: introduction-install-java\n",
    "# Evaluation Mode: check\n"
   ]
  },
  {
   "cell_type": "markdown",
   "metadata": {
    "run_control": {
     "marked": false
    }
   },
   "source": [
    "## Task: jenkins coreのインストール"
   ]
  },
  {
   "cell_type": "markdown",
   "metadata": {
    "heading_collapsed": true,
    "run_control": {
     "marked": false
    }
   },
   "source": [
    "### Task Details"
   ]
  },
  {
   "cell_type": "code",
   "execution_count": null,
   "metadata": {
    "collapsed": false,
    "hidden": true,
    "run_control": {
     "marked": false
    }
   },
   "outputs": [],
   "source": [
    "# Evaluation Mode: myscript\n"
   ]
  },
  {
   "cell_type": "markdown",
   "metadata": {
    "run_control": {
     "marked": false
    }
   },
   "source": [
    "### Examples"
   ]
  },
  {
   "cell_type": "markdown",
   "metadata": {
    "run_control": {
     "marked": false
    }
   },
   "source": [
    "#### Provided script"
   ]
  },
  {
   "cell_type": "code",
   "execution_count": null,
   "metadata": {
    "collapsed": false,
    "deletable": true,
    "locked": false,
    "run_control": {
     "marked": false
    }
   },
   "outputs": [],
   "source": [
    "# Task: introduction-install-jenkins\n",
    "# Evaluation Mode: provided-script\n",
    ": ${IP:=10.0.2.100}\n",
    "ssh -qi /home/centos/mykeypair root@$IP <<EOS\n",
    "\n",
    "yum install -y jenkins\n",
    "\n",
    "EOS"
   ]
  },
  {
   "cell_type": "markdown",
   "metadata": {
    "run_control": {
     "marked": false
    }
   },
   "source": [
    "### Check"
   ]
  },
  {
   "cell_type": "code",
   "execution_count": null,
   "metadata": {
    "collapsed": false,
    "run_control": {
     "marked": false
    }
   },
   "outputs": [],
   "source": [
    "# Task: introduction-install-jenkins\n",
    "# Evaluation Mode: check"
   ]
  },
  {
   "cell_type": "markdown",
   "metadata": {
    "run_control": {
     "marked": false
    }
   },
   "source": [
    "## Task: 関連するビルドツールのインストール"
   ]
  },
  {
   "cell_type": "markdown",
   "metadata": {
    "heading_collapsed": true,
    "run_control": {
     "marked": false
    }
   },
   "source": [
    "### Task Details"
   ]
  },
  {
   "cell_type": "code",
   "execution_count": null,
   "metadata": {
    "collapsed": false,
    "hidden": true,
    "run_control": {
     "marked": false
    }
   },
   "outputs": [],
   "source": [
    "# Evaluation Mode: myscript\n"
   ]
  },
  {
   "cell_type": "markdown",
   "metadata": {
    "run_control": {
     "marked": false
    }
   },
   "source": [
    "### Examples"
   ]
  },
  {
   "cell_type": "markdown",
   "metadata": {
    "run_control": {
     "marked": false
    }
   },
   "source": [
    "#### Provided script"
   ]
  },
  {
   "cell_type": "code",
   "execution_count": null,
   "metadata": {
    "collapsed": false,
    "deletable": true,
    "locked": false,
    "run_control": {
     "marked": true
    }
   },
   "outputs": [],
   "source": [
    "# Task: introduction-install-others\n",
    "# Evaluation Mode: provided-script\n",
    ": ${IP:=10.0.2.100}\n",
    "\n",
    "ssh -qi /home/centos/mykeypair root@$IP <<'EOS'\n",
    "\n",
    "yum install -y git iputils nc qemu-img parted kpartx rpm-build automake createrepo openssl-devel zlib-devel readline-devel gcc\n",
    "\n",
    "EOS"
   ]
  },
  {
   "cell_type": "markdown",
   "metadata": {
    "run_control": {
     "marked": false
    }
   },
   "source": [
    "### Check"
   ]
  },
  {
   "cell_type": "code",
   "execution_count": null,
   "metadata": {
    "collapsed": false,
    "run_control": {
     "marked": false
    }
   },
   "outputs": [],
   "source": [
    "# Task: introduction-install-others\n",
    "# Evaluation Mode: check"
   ]
  },
  {
   "cell_type": "markdown",
   "metadata": {
    "run_control": {
     "marked": false
    }
   },
   "source": [
    "# Objective #3: Configuration and Start Jenkins"
   ]
  },
  {
   "cell_type": "markdown",
   "metadata": {
    "run_control": {
     "marked": false
    }
   },
   "source": [
    "## Task: sudo権限の付与"
   ]
  },
  {
   "cell_type": "markdown",
   "metadata": {
    "heading_collapsed": true,
    "run_control": {
     "marked": false
    }
   },
   "source": [
    "### Task Details"
   ]
  },
  {
   "cell_type": "code",
   "execution_count": null,
   "metadata": {
    "collapsed": false,
    "hidden": true,
    "run_control": {
     "marked": false
    }
   },
   "outputs": [],
   "source": [
    "# Evaluation Mode: myscript\n"
   ]
  },
  {
   "cell_type": "markdown",
   "metadata": {
    "run_control": {
     "marked": false
    }
   },
   "source": [
    "### Examples"
   ]
  },
  {
   "cell_type": "markdown",
   "metadata": {
    "run_control": {
     "marked": false
    }
   },
   "source": [
    "#### Provided script"
   ]
  },
  {
   "cell_type": "code",
   "execution_count": null,
   "metadata": {
    "collapsed": false,
    "deletable": true,
    "locked": false,
    "run_control": {
     "marked": true
    }
   },
   "outputs": [],
   "source": [
    "# Task: introduction-sudo-config\n",
    "# Evaluation Mode: provided-script\n",
    ": ${IP:=10.0.2.100}\n",
    "\n",
    "ssh -qi /home/centos/mykeypair root@$IP <<'EOS' 2>/dev/null\n",
    "\n",
    "echo 'jenkins ALL=(ALL) NOPASSWD: ALL' >>/etc/sudoers\n",
    "\n",
    "EOS"
   ]
  },
  {
   "cell_type": "markdown",
   "metadata": {
    "run_control": {
     "marked": false
    }
   },
   "source": [
    "### Check"
   ]
  },
  {
   "cell_type": "code",
   "execution_count": null,
   "metadata": {
    "collapsed": false,
    "run_control": {
     "marked": false
    }
   },
   "outputs": [],
   "source": [
    "# Task: introduction-sudo-config\n",
    "# Evaluation Mode: check"
   ]
  },
  {
   "cell_type": "markdown",
   "metadata": {
    "run_control": {
     "marked": false
    }
   },
   "source": [
    "## Task: tty設定の変更"
   ]
  },
  {
   "cell_type": "markdown",
   "metadata": {
    "heading_collapsed": true,
    "run_control": {
     "marked": false
    }
   },
   "source": [
    "### Task Details"
   ]
  },
  {
   "cell_type": "code",
   "execution_count": null,
   "metadata": {
    "collapsed": false,
    "hidden": true,
    "run_control": {
     "marked": false
    }
   },
   "outputs": [],
   "source": [
    "# Evaluation Mode: myscript\n"
   ]
  },
  {
   "cell_type": "markdown",
   "metadata": {
    "run_control": {
     "marked": false
    }
   },
   "source": [
    "### Examples"
   ]
  },
  {
   "cell_type": "markdown",
   "metadata": {
    "run_control": {
     "marked": false
    }
   },
   "source": [
    "#### Provided script"
   ]
  },
  {
   "cell_type": "code",
   "execution_count": null,
   "metadata": {
    "collapsed": false,
    "deletable": true,
    "locked": false,
    "run_control": {
     "marked": false
    }
   },
   "outputs": [],
   "source": [
    "# Task: introduction-sudo-notty\n",
    "# Evaluation Mode: provided-script\n",
    ": ${IP:=10.0.2.100}\n",
    "\n",
    "ssh -qi /home/centos/mykeypair root@$IP <<'EOS' 2>/dev/null\n",
    "\n",
    "sed -i \"s/^\\(^Defaults\\s*requiretty\\).*/# \\1/\" /etc/sudoers\n",
    "\n",
    "EOS"
   ]
  },
  {
   "cell_type": "markdown",
   "metadata": {
    "run_control": {
     "marked": false
    }
   },
   "source": [
    "### Check"
   ]
  },
  {
   "cell_type": "code",
   "execution_count": null,
   "metadata": {
    "collapsed": false,
    "run_control": {
     "marked": false
    }
   },
   "outputs": [],
   "source": [
    "# Task: introduction-sudo-notty\n",
    "# Evaluation Mode: check"
   ]
  },
  {
   "cell_type": "markdown",
   "metadata": {
    "run_control": {
     "marked": false
    }
   },
   "source": [
    "## Task: Starting jenkins"
   ]
  },
  {
   "cell_type": "markdown",
   "metadata": {
    "heading_collapsed": true,
    "run_control": {
     "marked": false
    }
   },
   "source": [
    "### Task Details"
   ]
  },
  {
   "cell_type": "code",
   "execution_count": null,
   "metadata": {
    "collapsed": false,
    "hidden": true,
    "run_control": {
     "marked": false
    }
   },
   "outputs": [],
   "source": [
    "# Evaluation Mode: myscript\n"
   ]
  },
  {
   "cell_type": "markdown",
   "metadata": {
    "run_control": {
     "marked": false
    }
   },
   "source": [
    "### Examples"
   ]
  },
  {
   "cell_type": "markdown",
   "metadata": {
    "run_control": {
     "marked": false
    }
   },
   "source": [
    "#### Provided script"
   ]
  },
  {
   "cell_type": "code",
   "execution_count": null,
   "metadata": {
    "collapsed": false,
    "deletable": true,
    "locked": false,
    "run_control": {
     "marked": true
    }
   },
   "outputs": [],
   "source": [
    "# Task: introduction-start-service\n",
    "# Evaluation Mode: provided-script\n",
    ": ${IP:=10.0.2.100}\n",
    "\n",
    "ssh -qi /home/centos/mykeypair root@$IP <<'EOS' 2>/dev/null\n",
    "\n",
    "service jenkins start\n",
    "\n",
    "EOS"
   ]
  },
  {
   "cell_type": "markdown",
   "metadata": {
    "run_control": {
     "marked": false
    }
   },
   "source": [
    "### Check"
   ]
  },
  {
   "cell_type": "code",
   "execution_count": null,
   "metadata": {
    "collapsed": false,
    "run_control": {
     "marked": false
    }
   },
   "outputs": [],
   "source": [
    "# Task: introduction-start-service\n",
    "# Evaluation Mode: check"
   ]
  },
  {
   "cell_type": "markdown",
   "metadata": {},
   "source": [
    "# Objective #4: Install plugins into Jenkins"
   ]
  },
  {
   "cell_type": "markdown",
   "metadata": {
    "run_control": {
     "marked": false
    }
   },
   "source": [
    "## Task: Install plugins into Jenkins"
   ]
  },
  {
   "cell_type": "markdown",
   "metadata": {
    "heading_collapsed": true,
    "run_control": {
     "marked": false
    }
   },
   "source": [
    "### Task Details"
   ]
  },
  {
   "cell_type": "markdown",
   "metadata": {
    "hidden": true,
    "run_control": {
     "marked": false
    }
   },
   "source": [
    "In order to build our enviroment and make better use of jenkins we need to install certain plugins. \n",
    "\n",
    "Install the following plugins and then restart jenkins.\n",
    "* git\n",
    "* git-client\n",
    "* hipchat\n",
    "* rbenv\n",
    "* parameterized-trigger"
   ]
  },
  {
   "cell_type": "markdown",
   "metadata": {
    "run_control": {
     "marked": false
    }
   },
   "source": [
    "### Examples"
   ]
  },
  {
   "cell_type": "markdown",
   "metadata": {
    "run_control": {
     "marked": false
    }
   },
   "source": [
    "#### Provided script"
   ]
  },
  {
   "cell_type": "code",
   "execution_count": null,
   "metadata": {
    "collapsed": false,
    "deletable": true,
    "locked": false,
    "run_control": {
     "marked": false
    }
   },
   "outputs": [],
   "source": [
    "# Task: introduction-install-jenkins-plugins\n",
    "# Evaluation Mode: provided-script\n",
    ": ${IP:=10.0.2.100}\n",
    "\n",
    "ssh -qi /home/centos/mykeypair root@${IP} <<'EOS' 2> /dev/null\n",
    "\n",
    "# Installs jenkins cli tool to make calls through terminal\n",
    "curl -O http://localhost:8080/jnlpJars/jenkins-cli.jar\n",
    "\n",
    "# Installs the plugins\n",
    "java -jar jenkins-cli.jar -s http://localhost:8080 install-plugin rbenv hipchat git git-client parameterized-trigger\n",
    "\n",
    "service jenkins restart\n",
    "EOS"
   ]
  },
  {
   "cell_type": "markdown",
   "metadata": {
    "heading_collapsed": true,
    "run_control": {
     "marked": false
    }
   },
   "source": [
    "### Check"
   ]
  },
  {
   "cell_type": "markdown",
   "metadata": {
    "run_control": {
     "marked": false
    }
   },
   "source": [
    "## Task: Make sure jenkins is up and running"
   ]
  },
  {
   "cell_type": "markdown",
   "metadata": {},
   "source": [
    "### Task Details"
   ]
  },
  {
   "cell_type": "markdown",
   "metadata": {
    "run_control": {
     "marked": false
    }
   },
   "source": [
    "### Examples"
   ]
  },
  {
   "cell_type": "markdown",
   "metadata": {
    "run_control": {
     "marked": false
    }
   },
   "source": [
    "#### Provided script"
   ]
  },
  {
   "cell_type": "code",
   "execution_count": null,
   "metadata": {
    "collapsed": false,
    "deletable": false,
    "locked": true,
    "run_control": {
     "marked": false
    }
   },
   "outputs": [],
   "source": [
    ": ${IP:=10.0.2.100}\n",
    "\n",
    "ssh -qi /home/centos/mykeypair root@${IP} <<'EOS' 2> /dev/null\n",
    "\n",
    "while ! curl -I -s http://localhost:8080/ | grep -q \"200 OK\" ; do\n",
    "    echo \"Waiting for jenkins...\"\n",
    "    sleep 3\n",
    "done\n",
    "\n",
    "echo \"Jenkins is ready.\"\n",
    "\n",
    "EOS"
   ]
  },
  {
   "cell_type": "markdown",
   "metadata": {
    "run_control": {
     "marked": false
    }
   },
   "source": [
    "### Check"
   ]
  },
  {
   "cell_type": "markdown",
   "metadata": {
    "run_control": {
     "marked": false
    }
   },
   "source": [
    "## Task: Configure the git plugin"
   ]
  }
 ],
 "metadata": {
  "kernelspec": {
   "display_name": "Bash",
   "language": "bash",
   "name": "bash"
  },
  "language_info": {
   "codemirror_mode": "shell",
   "file_extension": ".sh",
   "mimetype": "text/x-sh",
   "name": "bash"
  },
  "toc": {
   "toc_cell": false,
   "toc_number_sections": true,
   "toc_section_display": "none",
   "toc_threshold": 6,
   "toc_window_display": false
  },
  "toc_position": {
   "height": "267px",
   "left": "1074.078125px",
   "right": "20px",
   "top": "120px",
   "width": "191px"
  }
 },
 "nbformat": 4,
 "nbformat_minor": 0
}
