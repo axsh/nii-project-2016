{
 "cells": [
  {
   "cell_type": "markdown",
   "metadata": {},
   "source": [
    "# Introduction"
   ]
  },
  {
   "cell_type": "markdown",
   "metadata": {},
   "source": [
    "Follow the instructions for each task below.  \n",
    "\n",
    "Either complete the task by using a web page graphical user interface, or by typing shell code in the special Jupyter cell that follows the instruction and then evaluating it in \"shell\" mode.  **Do not delete the comments at the top of the special cells.**\n",
    "\n",
    "Other than \"shell\" mode, the following evaluation modes are possible:\n",
    "\n",
    " * **shell**: Evaluation will pipe the cell contents through a new bash process.\n",
    "\n",
    " * **hint**: Evaluation will output a hint for how to complete the task.\n",
    "\n",
    " * **check**: Evaluation will check whether the task has been completed by\n",
    "examining the system state.\n",
    "\n",
    " * **doit**: Evaluation will show and execute shell commands that can do the task.\n",
    " But first, it will check whether previous tasks have been completed and will also check that it has not already been done. "
   ]
  },
  {
   "cell_type": "markdown",
   "metadata": {},
   "source": [
    "# Initialization\n"
   ]
  },
  {
   "cell_type": "markdown",
   "metadata": {},
   "source": [
    "## Set up extra Jupyter functionality\n",
    "\n",
    "Evaluation of the next cell is required.  However, before doing so please change the values of the environment variables to the correct values for your accounts.\n"
   ]
  },
  {
   "cell_type": "code",
   "execution_count": 1,
   "metadata": {
    "collapsed": false
   },
   "outputs": [
    {
     "name": "stdout",
     "output_type": "stream",
     "text": [
      "Ready.\n"
     ]
    }
   ],
   "source": [
    "source extend_bashkernel-global-filter.source"
   ]
  },
  {
   "cell_type": "markdown",
   "metadata": {},
   "source": [
    "## Set Global Evaluation Mode\n",
    "\n",
    "A global evaluation mode can be set in the next cell. This mode will be used for evaluation of each task when using Jupyters run all. By setting it to **\"myscript\"** the cells which contains your scripts will be executed, by setting it to **\"providedscript\"** a working script which has been provided will be executed"
   ]
  },
  {
   "cell_type": "code",
   "execution_count": null,
   "metadata": {
    "collapsed": false
   },
   "outputs": [],
   "source": [
    "set-global-evaluation-mode \"myscript\""
   ]
  },
  {
   "cell_type": "markdown",
   "metadata": {},
   "source": [
    "## Reset Wakame-vdc\n",
    "\n",
    "The first task is to terminate any Wakame-vdc instances that are currently running.  (Doing this task is not necessary if this Jupyter notebook has not been run yet and no instances are currently running.)"
   ]
  },
  {
   "cell_type": "markdown",
   "metadata": {
    "heading_collapsed": true
   },
   "source": [
    "### Task: Terminate any running instances"
   ]
  },
  {
   "cell_type": "markdown",
   "metadata": {},
   "source": [
    "Connect to the Wakame-vdc Web GUI, check if there are any instances running, and terminate them, if so."
   ]
  },
  {
   "cell_type": "markdown",
   "metadata": {
    "heading_collapsed": true
   },
   "source": [
    "### Example "
   ]
  },
  {
   "cell_type": "markdown",
   "metadata": {},
   "source": [
    "<a href=\"https://cloud.githubusercontent.com/assets/9693694/13846358/d09c4b80-ec89-11e5-90da-c3b216619f7b.png\"><img src=\"https://cloud.githubusercontent.com/assets/9693694/13846358/d09c4b80-ec89-11e5-90da-c3b216619f7b.png\" width=15% height=15% align=\"left\"></a>"
   ]
  },
  {
   "cell_type": "markdown",
   "metadata": {
    "heading_collapsed": true
   },
   "source": [
    "#### Provided script"
   ]
  },
  {
   "cell_type": "code",
   "execution_count": null,
   "metadata": {
    "collapsed": false,
    "deletable": false,
    "locked": true,
    "run_control": {
     "marked": true
    }
   },
   "outputs": [
    {
     "name": "stdout",
     "output_type": "stream",
     "text": [
      "Terminating instance: i-qfahnydt\n",
      "---\n",
      "- i-qfahnydt\n",
      "Terminating instance: i-nh3to5b2\n",
      "---\n",
      "- i-nh3to5b2\n",
      "Terminating instance: i-mpmszgne\n",
      "---\n",
      "- i-mpmszgne\n"
     ]
    }
   ],
   "source": [
    "# Evaluation mode: providedscript\n",
    "reset-wakame.sh\n",
    "\n",
    "# This sleep is necessary so Wakame-vdc will reuse the 10.0.2.100 IP\n",
    "# addresss.\n",
    "sleep 15  # TODO: remove the need for this\n"
   ]
  },
  {
   "cell_type": "markdown",
   "metadata": {
    "heading_collapsed": true
   },
   "source": [
    "### Check"
   ]
  },
  {
   "cell_type": "code",
   "execution_count": null,
   "metadata": {
    "collapsed": false
   },
   "outputs": [],
   "source": [
    "# Task: install-jenkins-reset-task\n",
    "# Evaluation Mode: check\n"
   ]
  },
  {
   "cell_type": "markdown",
   "metadata": {
    "heading_collapsed": true
   },
   "source": [
    "# Start up Wakame-vdc Instance"
   ]
  },
  {
   "cell_type": "markdown",
   "metadata": {},
   "source": [
    "## Create a wakame-vdc instnace\n",
    "\n",
    "Using the Wakame-vdc Web GUI, start a Wakame-vdc instance we can start virtual instances from a machine image that we can work on."
   ]
  },
  {
   "cell_type": "markdown",
   "metadata": {
    "heading_collapsed": true
   },
   "source": [
    "### Task: Create a new instance"
   ]
  },
  {
   "cell_type": "markdown",
   "metadata": {},
   "source": [
    "Start an instance using **wmi-centos1d64** as the machine image. Choose **vz.xlarge** for the instance spec, and **ssh-cicddemo** and **sg-cicddemo** for the SSH key pair and Security group.  Connect eth0 to the **demo1** network."
   ]
  },
  {
   "cell_type": "markdown",
   "metadata": {
    "heading_collapsed": true
   },
   "source": [
    "### Example"
   ]
  },
  {
   "cell_type": "markdown",
   "metadata": {},
   "source": [
    "<a href=\"https://cloud.githubusercontent.com/assets/9693694/13846360/d3564506-ec89-11e5-843f-f3a71d77e76f.png\"><img src=\"https://cloud.githubusercontent.com/assets/9693694/13846360/d3564506-ec89-11e5-843f-f3a71d77e76f.png\" height=\"15%\" width=\"15%\" align=\"left\"></a>\n",
    "<a href=\"https://cloud.githubusercontent.com/assets/9693694/13846362/d7255e74-ec89-11e5-993a-682f15e14523.png\"><img src=\"https://cloud.githubusercontent.com/assets/9693694/13846362/d7255e74-ec89-11e5-993a-682f15e14523.png\" height=\"15%\" width=\"15%\" align=\"left\"></a>\n",
    "<a href=\"https://cloud.githubusercontent.com/assets/9693694/13846365/da32cf8e-ec89-11e5-9085-c9431a07362f.png\"><img src=\"https://cloud.githubusercontent.com/assets/9693694/13846365/da32cf8e-ec89-11e5-9085-c9431a07362f.png\" height=\"15%\" width=\"15%\" align=\"left\"></a>"
   ]
  },
  {
   "cell_type": "markdown",
   "metadata": {
    "heading_collapsed": true
   },
   "source": [
    "#### Provided script"
   ]
  },
  {
   "cell_type": "code",
   "execution_count": null,
   "metadata": {
    "collapsed": false,
    "deletable": false,
    "locked": true,
    "run_control": {
     "marked": true
    },
    "scrolled": true
   },
   "outputs": [
    {
     "name": "stdout",
     "output_type": "stream",
     "text": [
      "---\n",
      ":id: i-7uq0rd00\n",
      ":account_id: a-shpoolxx\n",
      ":host_node: \n",
      ":cpu_cores: 2\n",
      ":memory_size: 2048\n",
      ":arch: x86_64\n",
      ":image_id: wmi-centos1d64\n",
      ":created_at: 2016-03-24 07:22:32.000000000 Z\n",
      ":updated_at: 2016-03-24 07:22:32.279177100 Z\n",
      ":terminated_at: \n",
      ":deleted_at: \n",
      ":state: scheduling\n",
      ":status: init\n",
      ":ssh_key_pair:\n",
      "  :uuid: ssh-cicddemo\n",
      "  :display_name: cicddemo\n",
      ":volume:\n",
      "- :vol_id: vol-eqf179wv\n",
      "  :state: scheduling\n",
      ":vif: []\n",
      ":hostname: 7uq0rd00\n",
      ":ha_enabled: 0\n",
      ":hypervisor: openvz\n",
      ":display_name: centos\n",
      ":service_type: std\n",
      ":monitoring:\n",
      "  :enabled: false\n",
      "  :mail_address: []\n",
      "  :items: {}\n",
      ":labels:\n",
      "- :resource_uuid: i-7uq0rd00\n",
      "  :name: monitoring.enabled\n",
      "  :value_type: 1\n",
      "  :value: 'false'\n",
      "  :created_at: 2016-03-24 07:22:32.000000000 Z\n",
      "  :updated_at: 2016-03-24 07:22:32.000000000 Z\n",
      ":boot_volume_id: vol-eqf179wv\n",
      "bash: line 11: EEE: command not found\n"
     ]
    }
   ],
   "source": [
    "# Evaluation Mode: providedscript\n",
    "cat <<EOS >vifs.json\n",
    "{\n",
    " \"eth0\":{\"network\":\"nw-demo1\",\"security_groups\":\"sg-cicddemo\"}\n",
    "}\n",
    "EOS\n",
    "\n",
    "mussel instance create --cpu-cores 2 --hypervisor openvz \\\n",
    "    --image-id wmi-centos1d64 --memory-size 2048 \\\n",
    "    --ssh-key-id ssh-cicddemo --vifs vifs.json --display-name centos\n",
    "EEE\n"
   ]
  },
  {
   "cell_type": "markdown",
   "metadata": {
    "heading_collapsed": true
   },
   "source": [
    "### Check"
   ]
  },
  {
   "cell_type": "code",
   "execution_count": null,
   "metadata": {
    "collapsed": true
   },
   "outputs": [],
   "source": [
    "# Task: install-jenkins-reset-task\n",
    "# Evaluation Mode: check"
   ]
  },
  {
   "cell_type": "markdown",
   "metadata": {},
   "source": [
    "## Wait for ssh to be ready\n",
    "\n",
    "After confirming that the instance is running in the Wakame-vdc Web GUI, use the ssh command in the following cell to confirm that the instance is running correctly.  Be sure to confirm that the IP address matches the one assigned to the instance by Wakame-vdc."
   ]
  },
  {
   "cell_type": "markdown",
   "metadata": {
    "heading_collapsed": true
   },
   "source": [
    "### Your script"
   ]
  },
  {
   "cell_type": "code",
   "execution_count": null,
   "metadata": {
    "collapsed": false
   },
   "outputs": [],
   "source": [
    "# Evaluation Mode: myscript\n",
    "\n"
   ]
  },
  {
   "cell_type": "markdown",
   "metadata": {
    "heading_collapsed": true
   },
   "source": [
    "### Example"
   ]
  },
  {
   "cell_type": "markdown",
   "metadata": {
    "heading_collapsed": true
   },
   "source": [
    "#### Provided script"
   ]
  },
  {
   "cell_type": "code",
   "execution_count": null,
   "metadata": {
    "collapsed": false,
    "deletable": false,
    "locked": true,
    "run_control": {
     "marked": true
    }
   },
   "outputs": [
    {
     "name": "stdout",
     "output_type": "stream",
     "text": [
      "Waiting on SSH at 10.0.2.100...\n",
      "Waiting on SSH at 10.0.2.100...\n",
      "Waiting on SSH at 10.0.2.100...\n",
      "Waiting on SSH at 10.0.2.100...\n",
      "SSH is active at 10.0.2.100, port 22\n"
     ]
    }
   ],
   "source": [
    "# Evaluation Mode: providedscript\n",
    ": ${IP:=10.0.2.100}\n",
    "while [[ \"$(echo | nc -w 1 \"$IP\" 22)\" != *SSH* ]]; do\n",
    "  sleep 2\n",
    "  echo \"Waiting on SSH at $IP...\"\n",
    "done\n",
    "echo \"SSH is active at $IP, port 22\""
   ]
  },
  {
   "cell_type": "markdown",
   "metadata": {
    "heading_collapsed": true
   },
   "source": [
    "### Check"
   ]
  },
  {
   "cell_type": "code",
   "execution_count": null,
   "metadata": {
    "collapsed": false
   },
   "outputs": [],
   "source": [
    "# Task: install-jenkins-wait-for-ssh\n",
    "# Evaluation Mode: check\n",
    "\n",
    "# ssh -qi ../mykeypair root@10.0.2.100 uptime"
   ]
  },
  {
   "cell_type": "markdown",
   "metadata": {},
   "source": [
    "# Install Packages"
   ]
  },
  {
   "cell_type": "markdown",
   "metadata": {},
   "source": [
    "## repoファイルのインストール\n",
    "\n",
    "jenkins用yumリポジトリを追加します。 Download the file at http://pkg.jenkins-ci.org/redhat/jenkins.repo and put it at /etc/yum.repos.d/jenkins.repo inside the instance.\n"
   ]
  },
  {
   "cell_type": "markdown",
   "metadata": {
    "heading_collapsed": true
   },
   "source": [
    "### Your script"
   ]
  },
  {
   "cell_type": "code",
   "execution_count": null,
   "metadata": {
    "collapsed": false
   },
   "outputs": [],
   "source": [
    "# Evaluation Mode: myscript\n"
   ]
  },
  {
   "cell_type": "markdown",
   "metadata": {},
   "source": [
    "### Example\n",
    "\n",
    "ssh -i ../mykeypair root@10.0.2.100 curl -fSkL some-url -o some-directory"
   ]
  },
  {
   "cell_type": "markdown",
   "metadata": {},
   "source": [
    "#### Provided script"
   ]
  },
  {
   "cell_type": "code",
   "execution_count": null,
   "metadata": {
    "collapsed": false,
    "deletable": false,
    "locked": true,
    "run_control": {
     "marked": true
    }
   },
   "outputs": [
    {
     "name": "stdout",
     "output_type": "stream",
     "text": [
      "  % Total    % Received % Xferd  Average Speed   Time    Time     Time  Current\n",
      "                                 Dload  Upload   Total   Spent    Left  Speed\n",
      "  0    75    0    75    0     0    212      0 --:--:-- --:--:-- --:--:--   477\n"
     ]
    }
   ],
   "source": [
    "# Evaluation Mode: providedscript\n",
    ": ${IP:=10.0.2.100}\n",
    "ssh -qi ../mykeypair root@$IP curl -fSkL http://pkg.jenkins-ci.org/redhat/jenkins.repo -o /etc/yum.repos.d/jenkins.repo"
   ]
  },
  {
   "cell_type": "markdown",
   "metadata": {
    "heading_collapsed": true
   },
   "source": [
    "### Check"
   ]
  },
  {
   "cell_type": "code",
   "execution_count": null,
   "metadata": {
    "collapsed": false
   },
   "outputs": [],
   "source": [
    "# Task: install-jenkins-repo-file\n",
    "# Evaluation Mode: check\n"
   ]
  },
  {
   "cell_type": "markdown",
   "metadata": {},
   "source": [
    "## 公開鍵のインポート"
   ]
  },
  {
   "cell_type": "markdown",
   "metadata": {
    "heading_collapsed": true
   },
   "source": [
    "### Your script"
   ]
  },
  {
   "cell_type": "code",
   "execution_count": null,
   "metadata": {
    "collapsed": false
   },
   "outputs": [],
   "source": [
    "# Evaluation Mode: myscript\n"
   ]
  },
  {
   "cell_type": "markdown",
   "metadata": {},
   "source": [
    "### Example"
   ]
  },
  {
   "cell_type": "markdown",
   "metadata": {},
   "source": [
    "#### Providide script"
   ]
  },
  {
   "cell_type": "code",
   "execution_count": null,
   "metadata": {
    "collapsed": true,
    "deletable": false,
    "locked": true,
    "run_control": {
     "marked": true
    }
   },
   "outputs": [],
   "source": [
    ": ${IP:=10.0.2.100}\n",
    "ssh -qi ../mykeypair root@$IP rpm --import http://pkg.jenkins-ci.org/redhat/jenkins-ci.org.key"
   ]
  },
  {
   "cell_type": "markdown",
   "metadata": {
    "heading_collapsed": true
   },
   "source": [
    "### Check"
   ]
  },
  {
   "cell_type": "code",
   "execution_count": null,
   "metadata": {
    "collapsed": false
   },
   "outputs": [],
   "source": [
    "# Task: install-jenkins-import-public-key\n",
    "# Evaluation Mode: check\n"
   ]
  },
  {
   "cell_type": "markdown",
   "metadata": {},
   "source": [
    "## java実行環境のインストール"
   ]
  },
  {
   "cell_type": "markdown",
   "metadata": {},
   "source": [
    "### Your script"
   ]
  },
  {
   "cell_type": "code",
   "execution_count": null,
   "metadata": {
    "collapsed": false
   },
   "outputs": [],
   "source": [
    "# Evaluation Mode: myscript\n"
   ]
  },
  {
   "cell_type": "markdown",
   "metadata": {},
   "source": [
    "### Example"
   ]
  },
  {
   "cell_type": "markdown",
   "metadata": {},
   "source": [
    "#### Provided script"
   ]
  },
  {
   "cell_type": "code",
   "execution_count": null,
   "metadata": {
    "collapsed": false,
    "deletable": false,
    "locked": true,
    "run_control": {
     "marked": true
    }
   },
   "outputs": [
    {
     "name": "stdout",
     "output_type": "stream",
     "text": [
      "jdk-8u73-linux-x64.rpm\n",
      "Pseudo-terminal will not be allocated because stdin is not a terminal.\n",
      "Preparing...                ##################################################\n",
      "jdk1.8.0_73                 ##################################################\n",
      "Unpacking JAR files...\n",
      "\ttools.jar...\n",
      "\tplugin.jar...\n",
      "\tjavaws.jar...\n",
      "\tdeploy.jar...\n",
      "\trt.jar...\n",
      "\tjsse.jar...\n",
      "\tcharsets.jar...\n",
      "\tlocaledata.jar...\n",
      "\tjfxrt.jar...\n"
     ]
    }
   ],
   "source": [
    "# This installs the Oracle version of Java.  The RPM file was\n",
    "# already downloaded to /home/centos/notebooks/downloads\n",
    "\n",
    ": ${IP:=10.0.2.100}\n",
    "cd /home/centos/notebooks/downloads\n",
    "tar c jdk-8u73-linux-x64.rpm | ssh -qi /home/centos/mykeypair root@$IP tar xv\n",
    "\n",
    "ssh -qi /home/centos/mykeypair root@$IP <<EOS\n",
    "\n",
    "rpm -ivh jdk-8u73-linux-x64.rpm\n",
    "\n",
    "cat <<CFG >/etc/profile.d/java.sh\n",
    "JAVA_HOME=/usr/java/jdk1.8.0_25/\n",
    "PATH=$JAVA_HOME/bin:$PATH\n",
    "export PATH JAVA_HOME\n",
    "export CLASSPATH=.\n",
    "CFG\n",
    "\n",
    "EOS"
   ]
  },
  {
   "cell_type": "markdown",
   "metadata": {
    "heading_collapsed": true
   },
   "source": [
    "### Check"
   ]
  },
  {
   "cell_type": "code",
   "execution_count": null,
   "metadata": {
    "collapsed": false
   },
   "outputs": [],
   "source": [
    "# Task: install-jenkins-install-java\n",
    "# Evaluation Mode: check\n"
   ]
  },
  {
   "cell_type": "markdown",
   "metadata": {},
   "source": [
    "## jenkins coreのインストール"
   ]
  },
  {
   "cell_type": "markdown",
   "metadata": {
    "heading_collapsed": true
   },
   "source": [
    "### Your script"
   ]
  },
  {
   "cell_type": "code",
   "execution_count": null,
   "metadata": {
    "collapsed": false
   },
   "outputs": [],
   "source": [
    "# Evaluation Mode: myscript\n"
   ]
  },
  {
   "cell_type": "markdown",
   "metadata": {},
   "source": [
    "### Example"
   ]
  },
  {
   "cell_type": "markdown",
   "metadata": {},
   "source": [
    "#### Providide script"
   ]
  },
  {
   "cell_type": "code",
   "execution_count": null,
   "metadata": {
    "collapsed": false,
    "deletable": false,
    "locked": true,
    "run_control": {
     "marked": true
    }
   },
   "outputs": [
    {
     "name": "stdout",
     "output_type": "stream",
     "text": [
      "Pseudo-terminal will not be allocated because stdin is not a terminal.\n",
      "Loaded plugins: fastestmirror\n",
      "Setting up Install Process\n",
      "Determining fastest mirrors\n",
      " * base: www.ftp.ne.jp\n",
      " * extras: www.ftp.ne.jp\n",
      " * updates: www.ftp.ne.jp\n",
      "Resolving Dependencies\n",
      "--> Running transaction check\n",
      "---> Package jenkins.noarch 0:1.654-1.1 will be installed\n",
      "--> Finished Dependency Resolution\n",
      "\n",
      "Dependencies Resolved\n",
      "\n",
      "================================================================================\n",
      " Package           Arch             Version             Repository         Size\n",
      "================================================================================\n",
      "Installing:\n",
      " jenkins           noarch           1.654-1.1           jenkins            62 M\n",
      "\n",
      "Transaction Summary\n",
      "================================================================================\n",
      "Install       1 Package(s)\n",
      "\n",
      "Total download size: 62 M\n",
      "Installed size: 62 M\n",
      "Downloading Packages:\n",
      "Running rpm_check_debug\n",
      "Running Transaction Test\n",
      "Transaction Test Succeeded\n",
      "Running Transaction\n",
      "Warning: RPMDB altered outside of yum.\n",
      "  Installing : jenkins-1.654-1.1.noarch                                     1/1 \n",
      "  Verifying  : jenkins-1.654-1.1.noarch                                     1/1 \n",
      "\n",
      "Installed:\n",
      "  jenkins.noarch 0:1.654-1.1                                                    \n",
      "\n",
      "Complete!\n"
     ]
    }
   ],
   "source": [
    "# Evaluation Mode: providedscript\n",
    ": ${IP:=10.0.2.100}\n",
    "ssh -qi /home/centos/mykeypair root@$IP <<EOS\n",
    "\n",
    "yum install -y jenkins\n",
    "\n",
    "EOS"
   ]
  },
  {
   "cell_type": "markdown",
   "metadata": {
    "heading_collapsed": true
   },
   "source": [
    "### Check"
   ]
  },
  {
   "cell_type": "code",
   "execution_count": null,
   "metadata": {
    "collapsed": false
   },
   "outputs": [],
   "source": [
    "# Task: install-jenkins-install-jenkins\n",
    "# Evaluation Mode: check\n"
   ]
  },
  {
   "cell_type": "markdown",
   "metadata": {},
   "source": [
    "## 関連するビルドツールのインストール"
   ]
  },
  {
   "cell_type": "markdown",
   "metadata": {
    "heading_collapsed": true
   },
   "source": [
    "### Doit"
   ]
  },
  {
   "cell_type": "code",
   "execution_count": null,
   "metadata": {
    "collapsed": false
   },
   "outputs": [],
   "source": [
    "# Evaluation Mode: myscript\n"
   ]
  },
  {
   "cell_type": "markdown",
   "metadata": {},
   "source": [
    "### Example"
   ]
  },
  {
   "cell_type": "markdown",
   "metadata": {},
   "source": [
    "#### Provided script"
   ]
  },
  {
   "cell_type": "code",
   "execution_count": null,
   "metadata": {
    "collapsed": false,
    "deletable": false,
    "locked": true,
    "run_control": {
     "marked": true
    }
   },
   "outputs": [
    {
     "name": "stdout",
     "output_type": "stream",
     "text": [
      "Pseudo-terminal will not be allocated because stdin is not a terminal.\n",
      "Loaded plugins: fastestmirror\n",
      "Setting up Install Process\n",
      "Loading mirror speeds from cached hostfile\n",
      " * base: www.ftp.ne.jp\n",
      " * extras: www.ftp.ne.jp\n",
      " * updates: www.ftp.ne.jp\n",
      "Resolving Dependencies\n",
      "--> Running transaction check\n",
      "---> Package automake.noarch 0:1.11.1-4.el6 will be installed\n",
      "--> Processing Dependency: perl >= 5.006 for package: automake-1.11.1-4.el6.noarch\n",
      "--> Processing Dependency: perl >= 5.005_03 for package: automake-1.11.1-4.el6.noarch\n",
      "--> Processing Dependency: perl >= 5.005 for package: automake-1.11.1-4.el6.noarch\n",
      "--> Processing Dependency: perl >= 5.000 for package: automake-1.11.1-4.el6.noarch\n",
      "--> Processing Dependency: autoconf >= 2.62 for package: automake-1.11.1-4.el6.noarch\n",
      "--> Processing Dependency: perl(vars) for package: automake-1.11.1-4.el6.noarch\n",
      "--> Processing Dependency: perl(strict) for package: automake-1.11.1-4.el6.noarch\n",
      "--> Processing Dependency: perl(constant) for package: automake-1.11.1-4.el6.noarch\n",
      "--> Processing Dependency: perl(POSIX) for package: automake-1.11.1-4.el6.noarch\n",
      "--> Processing Dependency: perl(IO::File) for package: automake-1.11.1-4.el6.noarch\n",
      "--> Processing Dependency: perl(Getopt::Long) for package: automake-1.11.1-4.el6.noarch\n",
      "--> Processing Dependency: perl(File::stat) for package: automake-1.11.1-4.el6.noarch\n",
      "--> Processing Dependency: perl(File::Spec) for package: automake-1.11.1-4.el6.noarch\n",
      "--> Processing Dependency: perl(File::Copy) for package: automake-1.11.1-4.el6.noarch\n",
      "--> Processing Dependency: perl(File::Compare) for package: automake-1.11.1-4.el6.noarch\n",
      "--> Processing Dependency: perl(File::Basename) for package: automake-1.11.1-4.el6.noarch\n",
      "--> Processing Dependency: perl(Exporter) for package: automake-1.11.1-4.el6.noarch\n",
      "--> Processing Dependency: perl(Errno) for package: automake-1.11.1-4.el6.noarch\n",
      "--> Processing Dependency: perl(DynaLoader) for package: automake-1.11.1-4.el6.noarch\n",
      "--> Processing Dependency: perl(Cwd) for package: automake-1.11.1-4.el6.noarch\n",
      "--> Processing Dependency: perl(Carp) for package: automake-1.11.1-4.el6.noarch\n",
      "--> Processing Dependency: /usr/bin/perl for package: automake-1.11.1-4.el6.noarch\n",
      "---> Package createrepo.noarch 0:0.9.9-22.el6 will be installed\n",
      "--> Processing Dependency: python-deltarpm for package: createrepo-0.9.9-22.el6.noarch\n",
      "--> Processing Dependency: libxml2-python for package: createrepo-0.9.9-22.el6.noarch\n",
      "---> Package gcc.x86_64 0:4.4.7-16.el6 will be installed\n",
      "--> Processing Dependency: libgomp = 4.4.7-16.el6 for package: gcc-4.4.7-16.el6.x86_64\n",
      "--> Processing Dependency: cpp = 4.4.7-16.el6 for package: gcc-4.4.7-16.el6.x86_64\n",
      "--> Processing Dependency: libgcc >= 4.4.7-16.el6 for package: gcc-4.4.7-16.el6.x86_64\n",
      "--> Processing Dependency: glibc-devel >= 2.2.90-12 for package: gcc-4.4.7-16.el6.x86_64\n",
      "--> Processing Dependency: cloog-ppl >= 0.15 for package: gcc-4.4.7-16.el6.x86_64\n",
      "--> Processing Dependency: libgomp.so.1()(64bit) for package: gcc-4.4.7-16.el6.x86_64\n",
      "---> Package git.x86_64 0:1.7.1-4.el6_7.1 will be installed\n",
      "--> Processing Dependency: perl-Git = 1.7.1-4.el6_7.1 for package: git-1.7.1-4.el6_7.1.x86_64\n",
      "--> Processing Dependency: rsync for package: git-1.7.1-4.el6_7.1.x86_64\n",
      "--> Processing Dependency: perl(Git) for package: git-1.7.1-4.el6_7.1.x86_64\n",
      "--> Processing Dependency: perl(Error) for package: git-1.7.1-4.el6_7.1.x86_64\n",
      "---> Package iputils.x86_64 0:20071127-17.el6_4.2 will be updated\n",
      "---> Package iputils.x86_64 0:20071127-20.el6 will be an update\n",
      "---> Package kpartx.x86_64 0:0.4.9-80.el6 will be updated\n",
      "---> Package kpartx.x86_64 0:0.4.9-87.el6 will be an update\n",
      "---> Package nc.x86_64 0:1.84-24.el6 will be installed\n",
      "---> Package openssl-devel.x86_64 0:1.0.1e-42.el6_7.4 will be installed\n",
      "--> Processing Dependency: openssl = 1.0.1e-42.el6_7.4 for package: openssl-devel-1.0.1e-42.el6_7.4.x86_64\n",
      "--> Processing Dependency: krb5-devel for package: openssl-devel-1.0.1e-42.el6_7.4.x86_64\n",
      "---> Package parted.x86_64 0:2.1-29.el6 will be installed\n",
      "---> Package qemu-img.x86_64 2:0.12.1.2-2.479.el6_7.4 will be installed\n",
      "--> Processing Dependency: libaio.so.1(LIBAIO_0.4)(64bit) for package: 2:qemu-img-0.12.1.2-2.479.el6_7.4.x86_64\n",
      "--> Processing Dependency: libaio.so.1(LIBAIO_0.1)(64bit) for package: 2:qemu-img-0.12.1.2-2.479.el6_7.4.x86_64\n",
      "--> Processing Dependency: libusbredirparser.so.1()(64bit) for package: 2:qemu-img-0.12.1.2-2.479.el6_7.4.x86_64\n",
      "--> Processing Dependency: libgfxdr.so.0()(64bit) for package: 2:qemu-img-0.12.1.2-2.479.el6_7.4.x86_64\n",
      "--> Processing Dependency: libgfrpc.so.0()(64bit) for package: 2:qemu-img-0.12.1.2-2.479.el6_7.4.x86_64\n",
      "--> Processing Dependency: libgfapi.so.0()(64bit) for package: 2:qemu-img-0.12.1.2-2.479.el6_7.4.x86_64\n",
      "--> Processing Dependency: libaio.so.1()(64bit) for package: 2:qemu-img-0.12.1.2-2.479.el6_7.4.x86_64\n",
      "---> Package readline-devel.x86_64 0:6.0-4.el6 will be installed\n",
      "--> Processing Dependency: ncurses-devel for package: readline-devel-6.0-4.el6.x86_64\n",
      "---> Package rpm-build.x86_64 0:4.8.0-47.el6 will be installed\n",
      "--> Processing Dependency: rpm = 4.8.0-47.el6 for package: rpm-build-4.8.0-47.el6.x86_64\n",
      "--> Processing Dependency: patch >= 2.5 for package: rpm-build-4.8.0-47.el6.x86_64\n",
      "--> Processing Dependency: elfutils >= 0.128 for package: rpm-build-4.8.0-47.el6.x86_64\n",
      "--> Processing Dependency: xz for package: rpm-build-4.8.0-47.el6.x86_64\n",
      "--> Processing Dependency: unzip for package: rpm-build-4.8.0-47.el6.x86_64\n",
      "--> Processing Dependency: system-rpm-config for package: rpm-build-4.8.0-47.el6.x86_64\n",
      "--> Processing Dependency: lzma for package: rpm-build-4.8.0-47.el6.x86_64\n",
      "--> Processing Dependency: /usr/bin/gdb-add-index for package: rpm-build-4.8.0-47.el6.x86_64\n",
      "---> Package zlib-devel.x86_64 0:1.2.3-29.el6 will be installed\n",
      "--> Running transaction check\n",
      "---> Package autoconf.noarch 0:2.63-5.1.el6 will be installed\n",
      "---> Package cloog-ppl.x86_64 0:0.15.7-1.2.el6 will be installed\n",
      "--> Processing Dependency: libppl_c.so.2()(64bit) for package: cloog-ppl-0.15.7-1.2.el6.x86_64\n",
      "--> Processing Dependency: libppl.so.7()(64bit) for package: cloog-ppl-0.15.7-1.2.el6.x86_64\n",
      "---> Package cpp.x86_64 0:4.4.7-16.el6 will be installed\n",
      "--> Processing Dependency: libmpfr.so.1()(64bit) for package: cpp-4.4.7-16.el6.x86_64\n",
      "---> Package elfutils.x86_64 0:0.161-3.el6 will be installed\n",
      "--> Processing Dependency: elfutils-libs(x86-64) = 0.161-3.el6 for package: elfutils-0.161-3.el6.x86_64\n",
      "--> Processing Dependency: elfutils-libelf(x86-64) = 0.161-3.el6 for package: elfutils-0.161-3.el6.x86_64\n",
      "---> Package gdb.x86_64 0:7.2-83.el6 will be installed\n",
      "---> Package glibc-devel.x86_64 0:2.12-1.166.el6_7.7 will be installed\n",
      "--> Processing Dependency: glibc-headers = 2.12-1.166.el6_7.7 for package: glibc-devel-2.12-1.166.el6_7.7.x86_64\n",
      "--> Processing Dependency: glibc = 2.12-1.166.el6_7.7 for package: glibc-devel-2.12-1.166.el6_7.7.x86_64\n",
      "--> Processing Dependency: glibc-headers for package: glibc-devel-2.12-1.166.el6_7.7.x86_64\n",
      "---> Package glusterfs-api.x86_64 0:3.6.0.55-1.el6 will be installed\n",
      "--> Processing Dependency: glusterfs = 3.6.0.55-1.el6 for package: glusterfs-api-3.6.0.55-1.el6.x86_64\n",
      "---> Package glusterfs-libs.x86_64 0:3.6.0.55-1.el6 will be installed\n",
      "---> Package krb5-devel.x86_64 0:1.10.3-42z1.el6_7 will be installed\n",
      "--> Processing Dependency: krb5-libs = 1.10.3-42z1.el6_7 for package: krb5-devel-1.10.3-42z1.el6_7.x86_64\n",
      "--> Processing Dependency: libselinux-devel for package: krb5-devel-1.10.3-42z1.el6_7.x86_64\n",
      "--> Processing Dependency: libcom_err-devel for package: krb5-devel-1.10.3-42z1.el6_7.x86_64\n",
      "--> Processing Dependency: keyutils-libs-devel for package: krb5-devel-1.10.3-42z1.el6_7.x86_64\n",
      "---> Package libaio.x86_64 0:0.3.107-10.el6 will be installed\n",
      "---> Package libgcc.x86_64 0:4.4.7-11.el6 will be updated\n",
      "---> Package libgcc.x86_64 0:4.4.7-16.el6 will be an update\n",
      "---> Package libgomp.x86_64 0:4.4.7-16.el6 will be installed\n",
      "---> Package libxml2-python.x86_64 0:2.7.6-20.el6_7.1 will be installed\n",
      "--> Processing Dependency: libxml2 = 2.7.6-20.el6_7.1 for package: libxml2-python-2.7.6-20.el6_7.1.x86_64\n",
      "---> Package ncurses-devel.x86_64 0:5.7-4.20090207.el6 will be installed\n",
      "--> Processing Dependency: ncurses-libs = 5.7-4.20090207.el6 for package: ncurses-devel-5.7-4.20090207.el6.x86_64\n",
      "---> Package openssl.x86_64 0:1.0.1e-30.el6 will be updated\n",
      "---> Package openssl.x86_64 0:1.0.1e-42.el6_7.4 will be an update\n",
      "---> Package patch.x86_64 0:2.6-6.el6 will be installed\n",
      "---> Package perl.x86_64 4:5.10.1-141.el6_7.1 will be installed\n",
      "--> Processing Dependency: perl-libs = 4:5.10.1-141.el6_7.1 for package: 4:perl-5.10.1-141.el6_7.1.x86_64\n",
      "--> Processing Dependency: perl-libs for package: 4:perl-5.10.1-141.el6_7.1.x86_64\n",
      "--> Processing Dependency: perl(version) for package: 4:perl-5.10.1-141.el6_7.1.x86_64\n",
      "--> Processing Dependency: perl(Pod::Simple) for package: 4:perl-5.10.1-141.el6_7.1.x86_64\n",
      "--> Processing Dependency: perl(Module::Pluggable) for package: 4:perl-5.10.1-141.el6_7.1.x86_64\n",
      "--> Processing Dependency: libperl.so()(64bit) for package: 4:perl-5.10.1-141.el6_7.1.x86_64\n",
      "---> Package perl-Error.noarch 1:0.17015-4.el6 will be installed\n",
      "---> Package perl-Git.noarch 0:1.7.1-4.el6_7.1 will be installed\n",
      "---> Package python-deltarpm.x86_64 0:3.5-0.5.20090913git.el6 will be installed\n",
      "--> Processing Dependency: deltarpm = 3.5-0.5.20090913git.el6 for package: python-deltarpm-3.5-0.5.20090913git.el6.x86_64\n",
      "---> Package redhat-rpm-config.noarch 0:9.0.3-44.el6.centos will be installed\n",
      "---> Package rpm.x86_64 0:4.8.0-37.el6 will be updated\n",
      "--> Processing Dependency: rpm = 4.8.0-37.el6 for package: rpm-libs-4.8.0-37.el6.x86_64\n",
      "--> Processing Dependency: rpm = 4.8.0-37.el6 for package: rpm-python-4.8.0-37.el6.x86_64\n",
      "---> Package rpm.x86_64 0:4.8.0-47.el6 will be an update\n",
      "---> Package rsync.x86_64 0:3.0.6-12.el6 will be installed\n",
      "---> Package unzip.x86_64 0:6.0-2.el6_6 will be installed\n",
      "---> Package usbredir.x86_64 0:0.5.1-2.el6 will be installed\n",
      "--> Processing Dependency: libusb-1.0.so.0()(64bit) for package: usbredir-0.5.1-2.el6.x86_64\n",
      "---> Package xz.x86_64 0:4.999.9-0.5.beta.20091007git.el6 will be installed\n",
      "---> Package xz-lzma-compat.x86_64 0:4.999.9-0.5.beta.20091007git.el6 will be installed\n",
      "--> Running transaction check\n",
      "---> Package deltarpm.x86_64 0:3.5-0.5.20090913git.el6 will be installed\n",
      "---> Package elfutils-libelf.x86_64 0:0.158-3.2.el6 will be updated\n",
      "---> Package elfutils-libelf.x86_64 0:0.161-3.el6 will be an update\n",
      "---> Package elfutils-libs.x86_64 0:0.158-3.2.el6 will be updated\n",
      "---> Package elfutils-libs.x86_64 0:0.161-3.el6 will be an update\n",
      "---> Package glibc.x86_64 0:2.12-1.149.el6 will be updated\n",
      "--> Processing Dependency: glibc = 2.12-1.149.el6 for package: glibc-common-2.12-1.149.el6.x86_64\n",
      "---> Package glibc.x86_64 0:2.12-1.166.el6_7.7 will be an update\n",
      "---> Package glibc-headers.x86_64 0:2.12-1.166.el6_7.7 will be installed\n",
      "--> Processing Dependency: kernel-headers >= 2.2.1 for package: glibc-headers-2.12-1.166.el6_7.7.x86_64\n",
      "--> Processing Dependency: kernel-headers for package: glibc-headers-2.12-1.166.el6_7.7.x86_64\n",
      "---> Package glusterfs.x86_64 0:3.6.0.55-1.el6 will be installed\n",
      "---> Package keyutils-libs-devel.x86_64 0:1.4-5.el6 will be installed\n",
      "---> Package krb5-libs.x86_64 0:1.10.3-33.el6 will be updated\n",
      "---> Package krb5-libs.x86_64 0:1.10.3-42z1.el6_7 will be an update\n",
      "---> Package libcom_err-devel.x86_64 0:1.41.12-22.el6 will be installed\n",
      "--> Processing Dependency: libcom_err = 1.41.12-22.el6 for package: libcom_err-devel-1.41.12-22.el6.x86_64\n",
      "---> Package libselinux-devel.x86_64 0:2.0.94-5.8.el6 will be installed\n",
      "--> Processing Dependency: libsepol-devel >= 2.0.32-1 for package: libselinux-devel-2.0.94-5.8.el6.x86_64\n",
      "--> Processing Dependency: pkgconfig(libsepol) for package: libselinux-devel-2.0.94-5.8.el6.x86_64\n",
      "---> Package libusb1.x86_64 0:1.0.9-0.6.rc1.el6 will be installed\n",
      "---> Package libxml2.x86_64 0:2.7.6-14.el6_5.2 will be updated\n",
      "---> Package libxml2.x86_64 0:2.7.6-20.el6_7.1 will be an update\n",
      "---> Package mpfr.x86_64 0:2.4.1-6.el6 will be installed\n",
      "---> Package ncurses-libs.x86_64 0:5.7-3.20090208.el6 will be updated\n",
      "---> Package ncurses-libs.x86_64 0:5.7-4.20090207.el6 will be an update\n",
      "--> Processing Dependency: ncurses-base = 5.7-4.20090207.el6 for package: ncurses-libs-5.7-4.20090207.el6.x86_64\n",
      "---> Package perl-Module-Pluggable.x86_64 1:3.90-141.el6_7.1 will be installed\n",
      "---> Package perl-Pod-Simple.x86_64 1:3.13-141.el6_7.1 will be installed\n",
      "--> Processing Dependency: perl(Pod::Escapes) >= 1.04 for package: 1:perl-Pod-Simple-3.13-141.el6_7.1.x86_64\n",
      "---> Package perl-libs.x86_64 4:5.10.1-141.el6_7.1 will be installed\n",
      "---> Package perl-version.x86_64 3:0.77-141.el6_7.1 will be installed\n",
      "---> Package ppl.x86_64 0:0.10.2-11.el6 will be installed\n",
      "---> Package rpm-libs.x86_64 0:4.8.0-37.el6 will be updated\n",
      "---> Package rpm-libs.x86_64 0:4.8.0-47.el6 will be an update\n",
      "---> Package rpm-python.x86_64 0:4.8.0-37.el6 will be updated\n",
      "---> Package rpm-python.x86_64 0:4.8.0-47.el6 will be an update\n",
      "--> Running transaction check\n",
      "---> Package glibc-common.x86_64 0:2.12-1.149.el6 will be updated\n",
      "---> Package glibc-common.x86_64 0:2.12-1.166.el6_7.7 will be an update\n",
      "---> Package kernel-headers.x86_64 0:2.6.32-573.22.1.el6 will be installed\n",
      "---> Package libcom_err.x86_64 0:1.41.12-21.el6 will be updated\n",
      "--> Processing Dependency: libcom_err = 1.41.12-21.el6 for package: e2fsprogs-1.41.12-21.el6.x86_64\n",
      "--> Processing Dependency: libcom_err = 1.41.12-21.el6 for package: e2fsprogs-libs-1.41.12-21.el6.x86_64\n",
      "--> Processing Dependency: libcom_err = 1.41.12-21.el6 for package: libss-1.41.12-21.el6.x86_64\n",
      "---> Package libcom_err.x86_64 0:1.41.12-22.el6 will be an update\n",
      "---> Package libsepol-devel.x86_64 0:2.0.41-4.el6 will be installed\n",
      "---> Package ncurses-base.x86_64 0:5.7-3.20090208.el6 will be updated\n",
      "---> Package ncurses-base.x86_64 0:5.7-4.20090207.el6 will be an update\n",
      "---> Package perl-Pod-Escapes.x86_64 1:1.04-141.el6_7.1 will be installed\n",
      "--> Running transaction check\n",
      "---> Package e2fsprogs.x86_64 0:1.41.12-21.el6 will be updated\n",
      "---> Package e2fsprogs.x86_64 0:1.41.12-22.el6 will be an update\n",
      "---> Package e2fsprogs-libs.x86_64 0:1.41.12-21.el6 will be updated\n",
      "---> Package e2fsprogs-libs.x86_64 0:1.41.12-22.el6 will be an update\n",
      "---> Package libss.x86_64 0:1.41.12-21.el6 will be updated\n",
      "---> Package libss.x86_64 0:1.41.12-22.el6 will be an update\n",
      "--> Finished Dependency Resolution\n",
      "\n",
      "Dependencies Resolved\n",
      "\n",
      "================================================================================\n",
      " Package               Arch   Version                             Repository\n",
      "                                                                           Size\n",
      "================================================================================\n",
      "Installing:\n",
      " automake              noarch 1.11.1-4.el6                        base    550 k\n",
      " createrepo            noarch 0.9.9-22.el6                        base     96 k\n",
      " gcc                   x86_64 4.4.7-16.el6                        base     10 M\n",
      " git                   x86_64 1.7.1-4.el6_7.1                     updates 4.6 M\n",
      " nc                    x86_64 1.84-24.el6                         base     57 k\n",
      " openssl-devel         x86_64 1.0.1e-42.el6_7.4                   updates 1.2 M\n",
      " parted                x86_64 2.1-29.el6                          base    608 k\n",
      " qemu-img              x86_64 2:0.12.1.2-2.479.el6_7.4            updates 831 k\n",
      " readline-devel        x86_64 6.0-4.el6                           base    134 k\n",
      " rpm-build             x86_64 4.8.0-47.el6                        base    130 k\n",
      " zlib-devel            x86_64 1.2.3-29.el6                        base     44 k\n",
      "Updating:\n",
      " iputils               x86_64 20071127-20.el6                     base    120 k\n",
      " kpartx                x86_64 0.4.9-87.el6                        base     65 k\n",
      "Installing for dependencies:\n",
      " autoconf              noarch 2.63-5.1.el6                        base    781 k\n",
      " cloog-ppl             x86_64 0.15.7-1.2.el6                      base     93 k\n",
      " cpp                   x86_64 4.4.7-16.el6                        base    3.7 M\n",
      " deltarpm              x86_64 3.5-0.5.20090913git.el6             base     71 k\n",
      " elfutils              x86_64 0.161-3.el6                         base    237 k\n",
      " gdb                   x86_64 7.2-83.el6                          base    2.3 M\n",
      " glibc-devel           x86_64 2.12-1.166.el6_7.7                  updates 986 k\n",
      " glibc-headers         x86_64 2.12-1.166.el6_7.7                  updates 615 k\n",
      " glusterfs             x86_64 3.6.0.55-1.el6                      updates 1.3 M\n",
      " glusterfs-api         x86_64 3.6.0.55-1.el6                      updates  62 k\n",
      " glusterfs-libs        x86_64 3.6.0.55-1.el6                      updates 272 k\n",
      " kernel-headers        x86_64 2.6.32-573.22.1.el6                 updates 3.9 M\n",
      " keyutils-libs-devel   x86_64 1.4-5.el6                           base     29 k\n",
      " krb5-devel            x86_64 1.10.3-42z1.el6_7                   updates 502 k\n",
      " libaio                x86_64 0.3.107-10.el6                      base     21 k\n",
      " libcom_err-devel      x86_64 1.41.12-22.el6                      base     33 k\n",
      " libgomp               x86_64 4.4.7-16.el6                        base    134 k\n",
      " libselinux-devel      x86_64 2.0.94-5.8.el6                      base    137 k\n",
      " libsepol-devel        x86_64 2.0.41-4.el6                        base     64 k\n",
      " libusb1               x86_64 1.0.9-0.6.rc1.el6                   base     80 k\n",
      " libxml2-python        x86_64 2.7.6-20.el6_7.1                    updates 323 k\n",
      " mpfr                  x86_64 2.4.1-6.el6                         base    157 k\n",
      " ncurses-devel         x86_64 5.7-4.20090207.el6                  base    641 k\n",
      " patch                 x86_64 2.6-6.el6                           base     90 k\n",
      " perl                  x86_64 4:5.10.1-141.el6_7.1                updates  10 M\n",
      " perl-Error            noarch 1:0.17015-4.el6                     base     29 k\n",
      " perl-Git              noarch 1.7.1-4.el6_7.1                     updates  28 k\n",
      " perl-Module-Pluggable x86_64 1:3.90-141.el6_7.1                  updates  40 k\n",
      " perl-Pod-Escapes      x86_64 1:1.04-141.el6_7.1                  updates  33 k\n",
      " perl-Pod-Simple       x86_64 1:3.13-141.el6_7.1                  updates 213 k\n",
      " perl-libs             x86_64 4:5.10.1-141.el6_7.1                updates 579 k\n",
      " perl-version          x86_64 3:0.77-141.el6_7.1                  updates  52 k\n",
      " ppl                   x86_64 0.10.2-11.el6                       base    1.3 M\n",
      " python-deltarpm       x86_64 3.5-0.5.20090913git.el6             base     27 k\n",
      " redhat-rpm-config     noarch 9.0.3-44.el6.centos                 base     59 k\n",
      " rsync                 x86_64 3.0.6-12.el6                        base    335 k\n",
      " unzip                 x86_64 6.0-2.el6_6                         base    149 k\n",
      " usbredir              x86_64 0.5.1-2.el6                         base     40 k\n",
      " xz                    x86_64 4.999.9-0.5.beta.20091007git.el6    base    137 k\n",
      " xz-lzma-compat        x86_64 4.999.9-0.5.beta.20091007git.el6    base     16 k\n",
      "Updating for dependencies:\n",
      " e2fsprogs             x86_64 1.41.12-22.el6                      base    554 k\n",
      " e2fsprogs-libs        x86_64 1.41.12-22.el6                      base    121 k\n",
      " elfutils-libelf       x86_64 0.161-3.el6                         base    193 k\n",
      " elfutils-libs         x86_64 0.161-3.el6                         base    228 k\n",
      " glibc                 x86_64 2.12-1.166.el6_7.7                  updates 3.8 M\n",
      " glibc-common          x86_64 2.12-1.166.el6_7.7                  updates  14 M\n",
      " krb5-libs             x86_64 1.10.3-42z1.el6_7                   updates 769 k\n",
      " libcom_err            x86_64 1.41.12-22.el6                      base     37 k\n",
      " libgcc                x86_64 4.4.7-16.el6                        base    103 k\n",
      " libss                 x86_64 1.41.12-22.el6                      base     42 k\n",
      " libxml2               x86_64 2.7.6-20.el6_7.1                    updates 803 k\n",
      " ncurses-base          x86_64 5.7-4.20090207.el6                  base     61 k\n",
      " ncurses-libs          x86_64 5.7-4.20090207.el6                  base    245 k\n",
      " openssl               x86_64 1.0.1e-42.el6_7.4                   updates 1.5 M\n",
      " rpm                   x86_64 4.8.0-47.el6                        base    904 k\n",
      " rpm-libs              x86_64 4.8.0-47.el6                        base    316 k\n",
      " rpm-python            x86_64 4.8.0-47.el6                        base     59 k\n",
      "\n",
      "Transaction Summary\n",
      "================================================================================\n",
      "Install      51 Package(s)\n",
      "Upgrade      19 Package(s)\n",
      "\n",
      "Total download size: 72 M\n",
      "Downloading Packages:\n",
      "--------------------------------------------------------------------------------\n",
      "Total                                            20 MB/s |  72 MB     00:03     \n",
      "Running rpm_check_debug\n",
      "Running Transaction Test\n",
      "Transaction Test Succeeded\n",
      "Running Transaction\n",
      "  Updating   : libgcc-4.4.7-16.el6.x86_64                                  1/89 \n",
      "  Updating   : glibc-2.12-1.166.el6_7.7.x86_64                             2/89 \n",
      "  Updating   : glibc-common-2.12-1.166.el6_7.7.x86_64                      3/89 \n",
      "  Installing : 1:perl-Pod-Escapes-1.04-141.el6_7.1.x86_64                  4/89 \n",
      "  Installing : 4:perl-libs-5.10.1-141.el6_7.1.x86_64                       5/89 \n",
      "  Installing : 3:perl-version-0.77-141.el6_7.1.x86_64                      6/89 \n",
      "  Installing : 1:perl-Module-Pluggable-3.90-141.el6_7.1.x86_64             7/89 \n",
      "  Installing : 1:perl-Pod-Simple-3.13-141.el6_7.1.x86_64                   8/89 \n",
      "  Installing : 4:perl-5.10.1-141.el6_7.1.x86_64                            9/89 \n",
      "  Updating   : libcom_err-1.41.12-22.el6.x86_64                           10/89 \n",
      "  Updating   : elfutils-libelf-0.161-3.el6.x86_64                         11/89 \n",
      "  Updating   : rpm-libs-4.8.0-47.el6.x86_64                               12/89 \n",
      "  Updating   : rpm-4.8.0-47.el6.x86_64                                    13/89 \n",
      "  Updating   : krb5-libs-1.10.3-42z1.el6_7.x86_64                         14/89 \n",
      "  Updating   : openssl-1.0.1e-42.el6_7.4.x86_64                           15/89 \n",
      "  Installing : glusterfs-libs-3.6.0.55-1.el6.x86_64                       16/89 \n",
      "  Installing : 1:perl-Error-0.17015-4.el6.noarch                          17/89 \n",
      "  Installing : xz-4.999.9-0.5.beta.20091007git.el6.x86_64                 18/89 \n",
      "  Installing : xz-lzma-compat-4.999.9-0.5.beta.20091007git.el6.x86_64     19/89 \n",
      "  Updating   : rpm-python-4.8.0-47.el6.x86_64                             20/89 \n",
      "  Installing : deltarpm-3.5-0.5.20090913git.el6.x86_64                    21/89 \n",
      "  Installing : python-deltarpm-3.5-0.5.20090913git.el6.x86_64             22/89 \n",
      "  Updating   : elfutils-libs-0.161-3.el6.x86_64                           23/89 \n",
      "  Installing : elfutils-0.161-3.el6.x86_64                                24/89 \n",
      "  Updating   : libss-1.41.12-22.el6.x86_64                                25/89 \n",
      "  Updating   : e2fsprogs-libs-1.41.12-22.el6.x86_64                       26/89 \n",
      "  Installing : libcom_err-devel-1.41.12-22.el6.x86_64                     27/89 \n",
      "  Installing : redhat-rpm-config-9.0.3-44.el6.centos.noarch               28/89 \n",
      "  Installing : autoconf-2.63-5.1.el6.noarch                               29/89 \n",
      "  Installing : libusb1-1.0.9-0.6.rc1.el6.x86_64                           30/89 \n",
      "  Installing : usbredir-0.5.1-2.el6.x86_64                                31/89 \n",
      "  Installing : mpfr-2.4.1-6.el6.x86_64                                    32/89 \n",
      "  Installing : cpp-4.4.7-16.el6.x86_64                                    33/89 \n",
      "  Installing : unzip-6.0-2.el6_6.x86_64                                   34/89 \n",
      "  Installing : rsync-3.0.6-12.el6.x86_64                                  35/89 \n",
      "  Installing : perl-Git-1.7.1-4.el6_7.1.noarch                            36/89 \n",
      "  Installing : git-1.7.1-4.el6_7.1.x86_64                                 37/89 \n",
      "  Installing : ppl-0.10.2-11.el6.x86_64                                   38/89 \n",
      "  Installing : cloog-ppl-0.15.7-1.2.el6.x86_64                            39/89 \n",
      "  Installing : patch-2.6-6.el6.x86_64                                     40/89 \n",
      "  Installing : libgomp-4.4.7-16.el6.x86_64                                41/89 \n",
      "  Installing : libaio-0.3.107-10.el6.x86_64                               42/89 \n",
      "  Updating   : libxml2-2.7.6-20.el6_7.1.x86_64                            43/89 \n",
      "  Installing : libxml2-python-2.7.6-20.el6_7.1.x86_64                     44/89 \n",
      "  Installing : keyutils-libs-devel-1.4-5.el6.x86_64                       45/89 \n",
      "  Installing : libsepol-devel-2.0.41-4.el6.x86_64                         46/89 \n",
      "  Installing : libselinux-devel-2.0.94-5.8.el6.x86_64                     47/89 \n",
      "  Installing : krb5-devel-1.10.3-42z1.el6_7.x86_64                        48/89 \n",
      "  Installing : kernel-headers-2.6.32-573.22.1.el6.x86_64                  49/89 \n",
      "  Installing : glibc-headers-2.12-1.166.el6_7.7.x86_64                    50/89 \n",
      "  Installing : glibc-devel-2.12-1.166.el6_7.7.x86_64                      51/89 \n",
      "  Updating   : ncurses-base-5.7-4.20090207.el6.x86_64                     52/89 \n",
      "  Updating   : ncurses-libs-5.7-4.20090207.el6.x86_64                     53/89 \n",
      "  Installing : gdb-7.2-83.el6.x86_64                                      54/89 \n",
      "  Installing : glusterfs-3.6.0.55-1.el6.x86_64                            55/89 \n",
      "  Installing : glusterfs-api-3.6.0.55-1.el6.x86_64                        56/89 \n",
      "  Installing : ncurses-devel-5.7-4.20090207.el6.x86_64                    57/89 \n",
      "  Installing : zlib-devel-1.2.3-29.el6.x86_64                             58/89 \n",
      "  Installing : openssl-devel-1.0.1e-42.el6_7.4.x86_64                     59/89 \n",
      "  Installing : readline-devel-6.0-4.el6.x86_64                            60/89 \n",
      "  Installing : 2:qemu-img-0.12.1.2-2.479.el6_7.4.x86_64                   61/89 \n",
      "  Installing : rpm-build-4.8.0-47.el6.x86_64                              62/89 \n",
      "  Installing : parted-2.1-29.el6.x86_64                                   63/89 \n",
      "  Installing : gcc-4.4.7-16.el6.x86_64                                    64/89 \n",
      "  Installing : createrepo-0.9.9-22.el6.noarch                             65/89 \n",
      "  Installing : automake-1.11.1-4.el6.noarch                               66/89 \n",
      "  Updating   : e2fsprogs-1.41.12-22.el6.x86_64                            67/89 \n",
      "  Updating   : iputils-20071127-20.el6.x86_64                             68/89 \n",
      "  Updating   : kpartx-0.4.9-87.el6.x86_64                                 69/89 \n",
      "  Installing : nc-1.84-24.el6.x86_64                                      70/89 \n",
      "  Cleanup    : rpm-python-4.8.0-37.el6.x86_64                             71/89 \n",
      "  Cleanup    : rpm-libs-4.8.0-37.el6.x86_64                               72/89 \n",
      "  Cleanup    : rpm-4.8.0-37.el6.x86_64                                    73/89 \n",
      "  Cleanup    : e2fsprogs-1.41.12-21.el6.x86_64                            74/89 \n",
      "  Cleanup    : openssl-1.0.1e-30.el6.x86_64                               75/89 \n",
      "  Cleanup    : elfutils-libs-0.158-3.2.el6.x86_64                         76/89 \n",
      "  Cleanup    : krb5-libs-1.10.3-33.el6.x86_64                             77/89 \n",
      "  Cleanup    : e2fsprogs-libs-1.41.12-21.el6.x86_64                       78/89 \n",
      "  Cleanup    : libss-1.41.12-21.el6.x86_64                                79/89 \n",
      "  Cleanup    : ncurses-libs-5.7-3.20090208.el6.x86_64                     80/89 \n",
      "  Cleanup    : libcom_err-1.41.12-21.el6.x86_64                           81/89 \n",
      "  Cleanup    : elfutils-libelf-0.158-3.2.el6.x86_64                       82/89 \n",
      "  Cleanup    : libxml2-2.7.6-14.el6_5.2.x86_64                            83/89 \n",
      "  Cleanup    : kpartx-0.4.9-80.el6.x86_64                                 84/89 \n",
      "  Cleanup    : iputils-20071127-17.el6_4.2.x86_64                         85/89 \n",
      "  Cleanup    : ncurses-base-5.7-3.20090208.el6.x86_64                     86/89 \n",
      "  Cleanup    : glibc-common-2.12-1.149.el6.x86_64                         87/89 \n",
      "  Cleanup    : glibc-2.12-1.149.el6.x86_64                                88/89 \n",
      "  Cleanup    : libgcc-4.4.7-11.el6.x86_64                                 89/89 \n",
      "  Verifying  : libusb1-1.0.9-0.6.rc1.el6.x86_64                            1/89 \n",
      "  Verifying  : krb5-libs-1.10.3-42z1.el6_7.x86_64                          2/89 \n",
      "  Verifying  : createrepo-0.9.9-22.el6.noarch                              3/89 \n",
      "  Verifying  : 4:perl-5.10.1-141.el6_7.1.x86_64                            4/89 \n",
      "  Verifying  : 1:perl-Error-0.17015-4.el6.noarch                           5/89 \n",
      "  Verifying  : libss-1.41.12-22.el6.x86_64                                 6/89 \n",
      "  Verifying  : deltarpm-3.5-0.5.20090913git.el6.x86_64                     7/89 \n",
      "  Verifying  : zlib-devel-1.2.3-29.el6.x86_64                              8/89 \n",
      "  Verifying  : cpp-4.4.7-16.el6.x86_64                                     9/89 \n",
      "  Verifying  : ncurses-base-5.7-4.20090207.el6.x86_64                     10/89 \n",
      "  Verifying  : kernel-headers-2.6.32-573.22.1.el6.x86_64                  11/89 \n",
      "  Verifying  : 4:perl-libs-5.10.1-141.el6_7.1.x86_64                      12/89 \n",
      "  Verifying  : redhat-rpm-config-9.0.3-44.el6.centos.noarch               13/89 \n",
      "  Verifying  : git-1.7.1-4.el6_7.1.x86_64                                 14/89 \n",
      "  Verifying  : libsepol-devel-2.0.41-4.el6.x86_64                         15/89 \n",
      "  Verifying  : gdb-7.2-83.el6.x86_64                                      16/89 \n",
      "  Verifying  : rpm-python-4.8.0-47.el6.x86_64                             17/89 \n",
      "  Verifying  : parted-2.1-29.el6.x86_64                                   18/89 \n",
      "  Verifying  : krb5-devel-1.10.3-42z1.el6_7.x86_64                        19/89 \n",
      "  Verifying  : xz-4.999.9-0.5.beta.20091007git.el6.x86_64                 20/89 \n",
      "  Verifying  : mpfr-2.4.1-6.el6.x86_64                                    21/89 \n",
      "  Verifying  : elfutils-libs-0.161-3.el6.x86_64                           22/89 \n",
      "  Verifying  : usbredir-0.5.1-2.el6.x86_64                                23/89 \n",
      "  Verifying  : glusterfs-libs-3.6.0.55-1.el6.x86_64                       24/89 \n",
      "  Verifying  : glibc-common-2.12-1.166.el6_7.7.x86_64                     25/89 \n",
      "  Verifying  : cloog-ppl-0.15.7-1.2.el6.x86_64                            26/89 \n",
      "  Verifying  : 1:perl-Pod-Escapes-1.04-141.el6_7.1.x86_64                 27/89 \n",
      "  Verifying  : unzip-6.0-2.el6_6.x86_64                                   28/89 \n",
      "  Verifying  : e2fsprogs-1.41.12-22.el6.x86_64                            29/89 \n",
      "  Verifying  : glusterfs-3.6.0.55-1.el6.x86_64                            30/89 \n",
      "  Verifying  : elfutils-0.161-3.el6.x86_64                                31/89 \n",
      "  Verifying  : rsync-3.0.6-12.el6.x86_64                                  32/89 \n",
      "  Verifying  : glibc-2.12-1.166.el6_7.7.x86_64                            33/89 \n",
      "  Verifying  : elfutils-libelf-0.161-3.el6.x86_64                         34/89 \n",
      "  Verifying  : readline-devel-6.0-4.el6.x86_64                            35/89 \n",
      "  Verifying  : iputils-20071127-20.el6.x86_64                             36/89 \n",
      "  Verifying  : automake-1.11.1-4.el6.noarch                               37/89 \n",
      "  Verifying  : rpm-build-4.8.0-47.el6.x86_64                              38/89 \n",
      "  Verifying  : libxml2-python-2.7.6-20.el6_7.1.x86_64                     39/89 \n",
      "  Verifying  : autoconf-2.63-5.1.el6.noarch                               40/89 \n",
      "  Verifying  : libgcc-4.4.7-16.el6.x86_64                                 41/89 \n",
      "  Verifying  : openssl-devel-1.0.1e-42.el6_7.4.x86_64                     42/89 \n",
      "  Verifying  : 3:perl-version-0.77-141.el6_7.1.x86_64                     43/89 \n",
      "  Verifying  : ppl-0.10.2-11.el6.x86_64                                   44/89 \n",
      "  Verifying  : patch-2.6-6.el6.x86_64                                     45/89 \n",
      "  Verifying  : libcom_err-1.41.12-22.el6.x86_64                           46/89 \n",
      "  Verifying  : 2:qemu-img-0.12.1.2-2.479.el6_7.4.x86_64                   47/89 \n",
      "  Verifying  : e2fsprogs-libs-1.41.12-22.el6.x86_64                       48/89 \n",
      "  Verifying  : libgomp-4.4.7-16.el6.x86_64                                49/89 \n",
      "  Verifying  : ncurses-libs-5.7-4.20090207.el6.x86_64                     50/89 \n",
      "  Verifying  : glibc-headers-2.12-1.166.el6_7.7.x86_64                    51/89 \n",
      "  Verifying  : rpm-libs-4.8.0-47.el6.x86_64                               52/89 \n",
      "  Verifying  : 1:perl-Module-Pluggable-3.90-141.el6_7.1.x86_64            53/89 \n",
      "  Verifying  : perl-Git-1.7.1-4.el6_7.1.noarch                            54/89 \n",
      "  Verifying  : kpartx-0.4.9-87.el6.x86_64                                 55/89 \n",
      "  Verifying  : libaio-0.3.107-10.el6.x86_64                               56/89 \n",
      "  Verifying  : glibc-devel-2.12-1.166.el6_7.7.x86_64                      57/89 \n",
      "  Verifying  : ncurses-devel-5.7-4.20090207.el6.x86_64                    58/89 \n",
      "  Verifying  : 1:perl-Pod-Simple-3.13-141.el6_7.1.x86_64                  59/89 \n",
      "  Verifying  : rpm-4.8.0-47.el6.x86_64                                    60/89 \n",
      "  Verifying  : libcom_err-devel-1.41.12-22.el6.x86_64                     61/89 \n",
      "  Verifying  : xz-lzma-compat-4.999.9-0.5.beta.20091007git.el6.x86_64     62/89 \n",
      "  Verifying  : keyutils-libs-devel-1.4-5.el6.x86_64                       63/89 \n",
      "  Verifying  : python-deltarpm-3.5-0.5.20090913git.el6.x86_64             64/89 \n",
      "  Verifying  : nc-1.84-24.el6.x86_64                                      65/89 \n",
      "  Verifying  : libselinux-devel-2.0.94-5.8.el6.x86_64                     66/89 \n",
      "  Verifying  : glusterfs-api-3.6.0.55-1.el6.x86_64                        67/89 \n",
      "  Verifying  : gcc-4.4.7-16.el6.x86_64                                    68/89 \n",
      "  Verifying  : libxml2-2.7.6-20.el6_7.1.x86_64                            69/89 \n",
      "  Verifying  : openssl-1.0.1e-42.el6_7.4.x86_64                           70/89 \n",
      "  Verifying  : libcom_err-1.41.12-21.el6.x86_64                           71/89 \n",
      "  Verifying  : ncurses-base-5.7-3.20090208.el6.x86_64                     72/89 \n",
      "  Verifying  : ncurses-libs-5.7-3.20090208.el6.x86_64                     73/89 \n",
      "  Verifying  : libxml2-2.7.6-14.el6_5.2.x86_64                            74/89 \n",
      "  Verifying  : rpm-libs-4.8.0-37.el6.x86_64                               75/89 \n",
      "  Verifying  : elfutils-libelf-0.158-3.2.el6.x86_64                       76/89 \n",
      "  Verifying  : libss-1.41.12-21.el6.x86_64                                77/89 \n",
      "  Verifying  : libgcc-4.4.7-11.el6.x86_64                                 78/89 \n",
      "  Verifying  : e2fsprogs-1.41.12-21.el6.x86_64                            79/89 \n",
      "  Verifying  : krb5-libs-1.10.3-33.el6.x86_64                             80/89 \n",
      "  Verifying  : e2fsprogs-libs-1.41.12-21.el6.x86_64                       81/89 \n",
      "  Verifying  : rpm-4.8.0-37.el6.x86_64                                    82/89 \n",
      "  Verifying  : openssl-1.0.1e-30.el6.x86_64                               83/89 \n",
      "  Verifying  : elfutils-libs-0.158-3.2.el6.x86_64                         84/89 \n",
      "  Verifying  : kpartx-0.4.9-80.el6.x86_64                                 85/89 \n",
      "  Verifying  : glibc-2.12-1.149.el6.x86_64                                86/89 \n",
      "  Verifying  : glibc-common-2.12-1.149.el6.x86_64                         87/89 \n",
      "  Verifying  : rpm-python-4.8.0-37.el6.x86_64                             88/89 \n",
      "  Verifying  : iputils-20071127-17.el6_4.2.x86_64                         89/89 \n",
      "\n",
      "Installed:\n",
      "  automake.noarch 0:1.11.1-4.el6      createrepo.noarch 0:0.9.9-22.el6          \n",
      "  gcc.x86_64 0:4.4.7-16.el6           git.x86_64 0:1.7.1-4.el6_7.1              \n",
      "  nc.x86_64 0:1.84-24.el6             openssl-devel.x86_64 0:1.0.1e-42.el6_7.4  \n",
      "  parted.x86_64 0:2.1-29.el6          qemu-img.x86_64 2:0.12.1.2-2.479.el6_7.4  \n",
      "  readline-devel.x86_64 0:6.0-4.el6   rpm-build.x86_64 0:4.8.0-47.el6           \n",
      "  zlib-devel.x86_64 0:1.2.3-29.el6   \n",
      "\n",
      "Dependency Installed:\n",
      "  autoconf.noarch 0:2.63-5.1.el6                                                \n",
      "  cloog-ppl.x86_64 0:0.15.7-1.2.el6                                             \n",
      "  cpp.x86_64 0:4.4.7-16.el6                                                     \n",
      "  deltarpm.x86_64 0:3.5-0.5.20090913git.el6                                     \n",
      "  elfutils.x86_64 0:0.161-3.el6                                                 \n",
      "  gdb.x86_64 0:7.2-83.el6                                                       \n",
      "  glibc-devel.x86_64 0:2.12-1.166.el6_7.7                                       \n",
      "  glibc-headers.x86_64 0:2.12-1.166.el6_7.7                                     \n",
      "  glusterfs.x86_64 0:3.6.0.55-1.el6                                             \n",
      "  glusterfs-api.x86_64 0:3.6.0.55-1.el6                                         \n",
      "  glusterfs-libs.x86_64 0:3.6.0.55-1.el6                                        \n",
      "  kernel-headers.x86_64 0:2.6.32-573.22.1.el6                                   \n",
      "  keyutils-libs-devel.x86_64 0:1.4-5.el6                                        \n",
      "  krb5-devel.x86_64 0:1.10.3-42z1.el6_7                                         \n",
      "  libaio.x86_64 0:0.3.107-10.el6                                                \n",
      "  libcom_err-devel.x86_64 0:1.41.12-22.el6                                      \n",
      "  libgomp.x86_64 0:4.4.7-16.el6                                                 \n",
      "  libselinux-devel.x86_64 0:2.0.94-5.8.el6                                      \n",
      "  libsepol-devel.x86_64 0:2.0.41-4.el6                                          \n",
      "  libusb1.x86_64 0:1.0.9-0.6.rc1.el6                                            \n",
      "  libxml2-python.x86_64 0:2.7.6-20.el6_7.1                                      \n",
      "  mpfr.x86_64 0:2.4.1-6.el6                                                     \n",
      "  ncurses-devel.x86_64 0:5.7-4.20090207.el6                                     \n",
      "  patch.x86_64 0:2.6-6.el6                                                      \n",
      "  perl.x86_64 4:5.10.1-141.el6_7.1                                              \n",
      "  perl-Error.noarch 1:0.17015-4.el6                                             \n",
      "  perl-Git.noarch 0:1.7.1-4.el6_7.1                                             \n",
      "  perl-Module-Pluggable.x86_64 1:3.90-141.el6_7.1                               \n",
      "  perl-Pod-Escapes.x86_64 1:1.04-141.el6_7.1                                    \n",
      "  perl-Pod-Simple.x86_64 1:3.13-141.el6_7.1                                     \n",
      "  perl-libs.x86_64 4:5.10.1-141.el6_7.1                                         \n",
      "  perl-version.x86_64 3:0.77-141.el6_7.1                                        \n",
      "  ppl.x86_64 0:0.10.2-11.el6                                                    \n",
      "  python-deltarpm.x86_64 0:3.5-0.5.20090913git.el6                              \n",
      "  redhat-rpm-config.noarch 0:9.0.3-44.el6.centos                                \n",
      "  rsync.x86_64 0:3.0.6-12.el6                                                   \n",
      "  unzip.x86_64 0:6.0-2.el6_6                                                    \n",
      "  usbredir.x86_64 0:0.5.1-2.el6                                                 \n",
      "  xz.x86_64 0:4.999.9-0.5.beta.20091007git.el6                                  \n",
      "  xz-lzma-compat.x86_64 0:4.999.9-0.5.beta.20091007git.el6                      \n",
      "\n",
      "Updated:\n",
      "  iputils.x86_64 0:20071127-20.el6         kpartx.x86_64 0:0.4.9-87.el6        \n",
      "\n",
      "Dependency Updated:\n",
      "  e2fsprogs.x86_64 0:1.41.12-22.el6                                             \n",
      "  e2fsprogs-libs.x86_64 0:1.41.12-22.el6                                        \n",
      "  elfutils-libelf.x86_64 0:0.161-3.el6                                          \n",
      "  elfutils-libs.x86_64 0:0.161-3.el6                                            \n",
      "  glibc.x86_64 0:2.12-1.166.el6_7.7                                             \n",
      "  glibc-common.x86_64 0:2.12-1.166.el6_7.7                                      \n",
      "  krb5-libs.x86_64 0:1.10.3-42z1.el6_7                                          \n",
      "  libcom_err.x86_64 0:1.41.12-22.el6                                            \n",
      "  libgcc.x86_64 0:4.4.7-16.el6                                                  \n",
      "  libss.x86_64 0:1.41.12-22.el6                                                 \n",
      "  libxml2.x86_64 0:2.7.6-20.el6_7.1                                             \n",
      "  ncurses-base.x86_64 0:5.7-4.20090207.el6                                      \n",
      "  ncurses-libs.x86_64 0:5.7-4.20090207.el6                                      \n",
      "  openssl.x86_64 0:1.0.1e-42.el6_7.4                                            \n",
      "  rpm.x86_64 0:4.8.0-47.el6                                                     \n",
      "  rpm-libs.x86_64 0:4.8.0-47.el6                                                \n",
      "  rpm-python.x86_64 0:4.8.0-47.el6                                              \n",
      "\n",
      "Complete!\n"
     ]
    }
   ],
   "source": [
    "# Evaluation Mode: providedscript\n",
    ": ${IP:=10.0.2.100}\n",
    "\n",
    "ssh -qi /home/centos/mykeypair root@$IP <<'EOS'\n",
    "\n",
    "yum install -y git iputils nc qemu-img parted kpartx rpm-build automake createrepo openssl-devel zlib-devel readline-devel gcc\n",
    "\n",
    "EOS"
   ]
  },
  {
   "cell_type": "markdown",
   "metadata": {},
   "source": [
    "### Check"
   ]
  },
  {
   "cell_type": "code",
   "execution_count": null,
   "metadata": {
    "collapsed": false
   },
   "outputs": [],
   "source": [
    "# Task: install-jenkins-install-others\n",
    "# Evaluation Mode: check\n"
   ]
  },
  {
   "cell_type": "markdown",
   "metadata": {
    "heading_collapsed": true
   },
   "source": [
    "# Configuration"
   ]
  },
  {
   "cell_type": "markdown",
   "metadata": {},
   "source": [
    "## sudo権限の付与"
   ]
  },
  {
   "cell_type": "markdown",
   "metadata": {
    "heading_collapsed": true
   },
   "source": [
    "### Your script"
   ]
  },
  {
   "cell_type": "code",
   "execution_count": null,
   "metadata": {
    "collapsed": false
   },
   "outputs": [],
   "source": [
    "# Evaluation Mode: myscript\n"
   ]
  },
  {
   "cell_type": "markdown",
   "metadata": {},
   "source": [
    "### Example"
   ]
  },
  {
   "cell_type": "markdown",
   "metadata": {},
   "source": [
    "#### Provided script"
   ]
  },
  {
   "cell_type": "code",
   "execution_count": null,
   "metadata": {
    "collapsed": true,
    "deletable": false,
    "locked": true,
    "run_control": {
     "marked": true
    }
   },
   "outputs": [],
   "source": [
    "# Evaluation Mode: providedscript\n",
    ": ${IP:=10.0.2.100}\n",
    "\n",
    "ssh -qi /home/centos/mykeypair root@$IP <<'EOS' 2>/dev/null\n",
    "\n",
    "echo 'jenkins ALL=(ALL) NOPASSWD: ALL' >>/etc/sudoers\n",
    "\n",
    "EOS"
   ]
  },
  {
   "cell_type": "markdown",
   "metadata": {
    "heading_collapsed": true
   },
   "source": [
    "### Check"
   ]
  },
  {
   "cell_type": "code",
   "execution_count": null,
   "metadata": {
    "collapsed": false
   },
   "outputs": [],
   "source": [
    "# Task: install-jenkins-sudo-config\n",
    "# Evaluation Mode: check\n"
   ]
  },
  {
   "cell_type": "markdown",
   "metadata": {},
   "source": [
    "## tty設定の変更"
   ]
  },
  {
   "cell_type": "markdown",
   "metadata": {
    "heading_collapsed": true
   },
   "source": [
    "### Your script"
   ]
  },
  {
   "cell_type": "code",
   "execution_count": null,
   "metadata": {
    "collapsed": false
   },
   "outputs": [],
   "source": [
    "# Evaluation Mode: myscript\n"
   ]
  },
  {
   "cell_type": "markdown",
   "metadata": {},
   "source": [
    "### Example"
   ]
  },
  {
   "cell_type": "markdown",
   "metadata": {},
   "source": [
    "#### Provided script"
   ]
  },
  {
   "cell_type": "code",
   "execution_count": null,
   "metadata": {
    "collapsed": true,
    "deletable": false,
    "locked": true,
    "run_control": {
     "marked": true
    }
   },
   "outputs": [],
   "source": [
    "# Evaluation Mode: providedscript\n",
    ": ${IP:=10.0.2.100}\n",
    "\n",
    "ssh -qi /home/centos/mykeypair root@$IP <<'EOS' 2>/dev/null\n",
    "\n",
    "sed -i \"s/^\\(^Defaults\\s*requiretty\\).*/# \\1/\" /etc/sudoers\n",
    "\n",
    "EOS"
   ]
  },
  {
   "cell_type": "markdown",
   "metadata": {
    "heading_collapsed": true
   },
   "source": [
    "### Check"
   ]
  },
  {
   "cell_type": "code",
   "execution_count": null,
   "metadata": {
    "collapsed": false
   },
   "outputs": [],
   "source": [
    "# Task: install-jenkins-sudo-notty\n",
    "# Evaluation Mode: check\n"
   ]
  },
  {
   "cell_type": "markdown",
   "metadata": {},
   "source": [
    "# jenkinsの起動\n"
   ]
  },
  {
   "cell_type": "markdown",
   "metadata": {},
   "source": [
    "## Starting jenkins"
   ]
  },
  {
   "cell_type": "markdown",
   "metadata": {
    "heading_collapsed": true
   },
   "source": [
    "### Your script"
   ]
  },
  {
   "cell_type": "code",
   "execution_count": null,
   "metadata": {
    "collapsed": false
   },
   "outputs": [],
   "source": [
    "# Evaluation Mode: myscript\n"
   ]
  },
  {
   "cell_type": "markdown",
   "metadata": {},
   "source": [
    "### Example"
   ]
  },
  {
   "cell_type": "markdown",
   "metadata": {},
   "source": [
    "#### Provided script"
   ]
  },
  {
   "cell_type": "code",
   "execution_count": null,
   "metadata": {
    "collapsed": false,
    "deletable": false,
    "locked": true,
    "run_control": {
     "marked": true
    }
   },
   "outputs": [
    {
     "name": "stdout",
     "output_type": "stream",
     "text": [
      "Starting Jenkins [  OK  ]\r\n"
     ]
    }
   ],
   "source": [
    "# Evaluation Mode: providedscript\n",
    ": ${IP:=10.0.2.100}\n",
    "\n",
    "ssh -qi /home/centos/mykeypair root@$IP <<'EOS' 2>/dev/null\n",
    "\n",
    "service jenkins start\n",
    "\n",
    "EOS"
   ]
  },
  {
   "cell_type": "markdown",
   "metadata": {
    "heading_collapsed": true,
    "run_control": {
     "marked": false
    }
   },
   "source": [
    "### Check"
   ]
  },
  {
   "cell_type": "code",
   "execution_count": null,
   "metadata": {
    "collapsed": false
   },
   "outputs": [],
   "source": [
    "# Task: install-jenkins-start-service\n",
    "# Evaluation Mode: check\n"
   ]
  },
  {
   "cell_type": "markdown",
   "metadata": {},
   "source": [
    "## Install plugins"
   ]
  },
  {
   "cell_type": "markdown",
   "metadata": {},
   "source": [
    "In order to build our enviroment and make better use of jenkins we need to install certain plugins. "
   ]
  },
  {
   "cell_type": "markdown",
   "metadata": {
    "heading_collapsed": true
   },
   "source": [
    "### Task: Install five plugins"
   ]
  },
  {
   "cell_type": "markdown",
   "metadata": {},
   "source": [
    "Install the following plugins and then restart jenkins.\n",
    "* git\n",
    "* git-client\n",
    "* hipchat\n",
    "* rbenv\n",
    "* parameterized-trigger"
   ]
  },
  {
   "cell_type": "markdown",
   "metadata": {},
   "source": [
    "### Example"
   ]
  },
  {
   "cell_type": "markdown",
   "metadata": {},
   "source": [
    "#### Provided script"
   ]
  },
  {
   "cell_type": "code",
   "execution_count": null,
   "metadata": {
    "collapsed": false,
    "deletable": false,
    "locked": true,
    "run_control": {
     "marked": true
    }
   },
   "outputs": [
    {
     "name": "stdout",
     "output_type": "stream",
     "text": [
      "Installing rbenv from update center\n",
      "Installing hipchat from update center\n",
      "Installing git from update center\n",
      "Installing git-client from update center\n",
      "Installing parameterized-trigger from update center\n",
      "Shutting down Jenkins [  OK  ]\n",
      "Starting Jenkins [  OK  ]\n"
     ]
    }
   ],
   "source": [
    "# Evaluation Mode: providedscript\n",
    ": ${IP:=10.0.2.100}\n",
    "\n",
    "ssh -qi /home/centos/mykeypair root@${IP} <<'EOS' 2> /dev/null\n",
    "\n",
    "# Installs jenkins cli tool to make calls through terminal\n",
    "curl -O http://localhost:8080/jnlpJars/jenkins-cli.jar\n",
    "\n",
    "# Installs the plugins\n",
    "java -jar jenkins-cli.jar -s http://localhost:8080 install-plugin rbenv hipchat git git-client parameterized-trigger\n",
    "\n",
    "service jenkins restart\n",
    "EOS"
   ]
  },
  {
   "cell_type": "markdown",
   "metadata": {},
   "source": [
    "### Check"
   ]
  },
  {
   "cell_type": "markdown",
   "metadata": {},
   "source": [
    "## Wait until ready"
   ]
  },
  {
   "cell_type": "markdown",
   "metadata": {},
   "source": [
    "### Task: Make sure jenkins is up and running"
   ]
  },
  {
   "cell_type": "markdown",
   "metadata": {
    "heading_collapsed": true
   },
   "source": [
    "### Example"
   ]
  },
  {
   "cell_type": "markdown",
   "metadata": {
    "heading_collapsed": true
   },
   "source": [
    "#### Provided script"
   ]
  },
  {
   "cell_type": "code",
   "execution_count": null,
   "metadata": {
    "collapsed": false,
    "deletable": false,
    "locked": true,
    "run_control": {
     "marked": true
    }
   },
   "outputs": [
    {
     "name": "stdout",
     "output_type": "stream",
     "text": [
      "Jenkins is ready.\n"
     ]
    }
   ],
   "source": [
    ": ${IP:=10.0.2.100}\n",
    "\n",
    "ssh -qi /home/centos/mykeypair root@${IP} <<'EOS' 2> /dev/null\n",
    "\n",
    "while ! curl -I -s http://localhost:8080/ | grep -q \"200 OK\" ; do\n",
    "    echo \"Waiting for jenkins...\"\n",
    "    sleep 3\n",
    "done\n",
    "\n",
    "echo \"Jenkins is ready.\"\n",
    "\n",
    "EOS"
   ]
  },
  {
   "cell_type": "markdown",
   "metadata": {},
   "source": [
    "### Check"
   ]
  },
  {
   "cell_type": "markdown",
   "metadata": {},
   "source": [
    "## Configure the git plugins"
   ]
  }
 ],
 "metadata": {
  "kernelspec": {
   "display_name": "Bash",
   "language": "bash",
   "name": "bash"
  },
  "language_info": {
   "codemirror_mode": "shell",
   "file_extension": ".sh",
   "mimetype": "text/x-sh",
   "name": "bash"
  },
  "toc": {
   "toc_cell": false,
   "toc_number_sections": true,
   "toc_section_display": "none",
   "toc_threshold": 6,
   "toc_window_display": false
  },
  "toc_position": {
   "height": "267px",
   "left": "1074.078125px",
   "right": "20px",
   "top": "120px",
   "width": "191px"
  }
 },
 "nbformat": 4,
 "nbformat_minor": 0
}
