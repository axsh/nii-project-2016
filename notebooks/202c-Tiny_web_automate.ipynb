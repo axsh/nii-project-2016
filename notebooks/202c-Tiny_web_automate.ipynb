{
 "cells": [
  {
   "cell_type": "code",
   "execution_count": 3,
   "metadata": {
    "collapsed": false,
    "deletable": true,
    "hide_input": true,
    "hide_output": false,
    "init_cell": true,
    "locked": false,
    "run_control": {
     "marked": false
    }
   },
   "outputs": [
    {
     "name": "stdout",
     "output_type": "stream",
     "text": [
      "Changing global mode to 'my-script'\n"
     ]
    }
   ],
   "source": [
    "source extend_bashkernel-2modes.source\n",
    "set-global-evaluation-mode \"my-script\""
   ]
  },
  {
   "cell_type": "code",
   "execution_count": null,
   "metadata": {
    "collapsed": false,
    "deletable": true,
    "locked": false,
    "run_control": {
     "marked": false
    }
   },
   "outputs": [],
   "source": [
    "set-global-evaluation-mode \"my-script\""
   ]
  },
  {
   "cell_type": "markdown",
   "metadata": {
    "run_control": {
     "marked": false
    }
   },
   "source": [
    "# Jenkinsジョブを自動実行する"
   ]
  },
  {
   "cell_type": "markdown",
   "metadata": {},
   "source": [
    "## はじめに"
   ]
  },
  {
   "cell_type": "markdown",
   "metadata": {
    "run_control": {
     "marked": false
    }
   },
   "source": [
    "本編の演習では、ジョブを自動実行させる方法のうち、次の2つについて学びます。\n",
    "1. ジョブを定期的に実行させる\n",
    "2. 複数のジョブを連続して実行させる\n",
    "\n",
    "演習をすべて終えると、これまで作成してきたJenkinsジョブが、<br>\n",
    "```\n",
    "単体テスト -> rpm作成 -> YUMリポジトリ作成 -> マシンイメージ作成 -> インテグレーションテスト\n",
    "```\n",
    "の順序で連続して実行できるようになります。シンプルなCIのビルドパイプラインが出来上がります。"
   ]
  },
  {
   "cell_type": "markdown",
   "metadata": {},
   "source": [
    "# ジョブを定期的に実行させる"
   ]
  },
  {
   "cell_type": "markdown",
   "metadata": {
    "run_control": {
     "marked": false
    }
   },
   "source": [
    "## 演習 : Tiny_web_exampleの単体テスト実行ジョブを定期実行させてみる"
   ]
  },
  {
   "cell_type": "markdown",
   "metadata": {
    "run_control": {
     "marked": false
    }
   },
   "source": [
    "### 演習の内容"
   ]
  },
  {
   "cell_type": "markdown",
   "metadata": {
    "run_control": {
     "marked": false
    }
   },
   "source": [
    "Jenkinsジョブは定期的に実行することができます。<br>\n",
    "[106b_Tiny_web_example_unit_test](106b_Tiny_web_example_unit_test.ipynb)で作成したTiny_web_exampleの単体テスト実行ジョブを、「5分間隔」で実行するように設定して下さい。"
   ]
  },
  {
   "cell_type": "code",
   "execution_count": null,
   "metadata": {
    "collapsed": false,
    "deletable": true,
    "hide_input": true,
    "hide_output": false,
    "locked": false,
    "run_control": {
     "marked": false
    }
   },
   "outputs": [],
   "source": [
    "# Task: automate-configure-scheduling\n",
    "# Evaluation Mode: load\n",
    "#(hidden load cell)"
   ]
  },
  {
   "cell_type": "code",
   "execution_count": null,
   "metadata": {
    "collapsed": false,
    "deletable": false,
    "hide_input": true,
    "hide_output": true,
    "locked": true,
    "run_control": {
     "marked": false
    }
   },
   "outputs": [],
   "source": [
    "# Task: automate-configure-scheduling\n",
    "# Evaluation Mode: provided-script"
   ]
  },
  {
   "cell_type": "markdown",
   "metadata": {
    "run_control": {
     "marked": false
    }
   },
   "source": [
    "### 確認\n",
    "次のセルを実行して、定期実行の設定が完了していることを確認して下さい。<br>\n",
    "また、単体テストが5分間隔で実行されていることを、JenkinsのGUIで確認して下さい。"
   ]
  },
  {
   "cell_type": "code",
   "execution_count": null,
   "metadata": {
    "collapsed": false,
    "deletable": false,
    "locked": true,
    "run_control": {
     "marked": false
    }
   },
   "outputs": [],
   "source": [
    "# Task: automate-configure-scheduling\n",
    "# Evaluation Mode: check"
   ]
  },
  {
   "cell_type": "markdown",
   "metadata": {},
   "source": [
    "# ジョブを連続して実行させる"
   ]
  },
  {
   "cell_type": "markdown",
   "metadata": {
    "run_control": {
     "marked": false
    }
   },
   "source": [
    "## 演習 : Tiny_web_exampleの単体テスト実行ジョブとrpm作成ジョブを連携させる"
   ]
  },
  {
   "cell_type": "markdown",
   "metadata": {
    "run_control": {
     "marked": false
    }
   },
   "source": [
    "### 演習の内容"
   ]
  },
  {
   "cell_type": "markdown",
   "metadata": {
    "run_control": {
     "marked": false
    }
   },
   "source": [
    "Jenkinsのジョブには、上流及び下流プロジェクトの連携設定によって、他のジョブの完了を待ってジョブの実行を開始する機能があります。<br>\n",
    "ジョブ実行のトリガには、他ジョブの実行が成功したかどうかなどの、他ジョブの実行結果を条件として設定することができます。<br>\n",
    "\n",
    "ここでは、Tiny_web_exampleの単体テスト実行ジョブが終了したら、rpm作成ジョブが開始するように設定します。\n",
    "1. 単体テスト実行ジョブの定期実行は中止します。\n",
    "2. 単体テスト実行ジョブ([106b_Tiny_web_example_unit_test](106b_Tiny_web_example_unit_test.ipynb))を上流プオジェクト、rpm作成ジョブ([107b_RPM_Tiny_web_example_create](107b_RPM_Tiny_web_example_create.ipynb))を下流プロジェクトに設定します。\n",
    "  + 下流プロジェクトへ引き渡すパラメータはありません。\n",
    "  + 引き渡しパラメータなしの下流プロジェクト設定については、[103_jenkins_job_execution_script](103_jenkins_job_execution_script.ipynb)を参照して下さい。"
   ]
  },
  {
   "cell_type": "code",
   "execution_count": null,
   "metadata": {
    "collapsed": false,
    "deletable": true,
    "hide_input": true,
    "hide_output": false,
    "locked": false,
    "run_control": {
     "marked": false
    }
   },
   "outputs": [],
   "source": [
    "# Task: automate-configure-post-build-trigger\n",
    "# Evaluation Mode: load\n",
    "# (hidden load cell)"
   ]
  },
  {
   "cell_type": "code",
   "execution_count": null,
   "metadata": {
    "collapsed": false,
    "deletable": false,
    "hide_input": true,
    "hide_output": true,
    "locked": true,
    "run_control": {
     "marked": false
    }
   },
   "outputs": [],
   "source": [
    "# Task: automate-configure-post-build-trigger\n",
    "# Evaluation Mode: provided-script"
   ]
  },
  {
   "cell_type": "markdown",
   "metadata": {
    "run_control": {
     "marked": false
    }
   },
   "source": [
    "### 確認\n",
    "次のセルを実行して、連携設定が完了していることを確認してください。"
   ]
  },
  {
   "cell_type": "code",
   "execution_count": null,
   "metadata": {
    "collapsed": false,
    "deletable": false,
    "locked": true,
    "run_control": {
     "marked": false
    }
   },
   "outputs": [],
   "source": [
    "# Task: automate-configure-post-build-trigger\n",
    "# Evaluation Mode: check"
   ]
  },
  {
   "cell_type": "markdown",
   "metadata": {},
   "source": [
    "## 演習 : マシンイメージ作成ジョブまでを連携させる"
   ]
  },
  {
   "cell_type": "markdown",
   "metadata": {},
   "source": [
    "### 演習の内容"
   ]
  },
  {
   "cell_type": "markdown",
   "metadata": {},
   "source": [
    "前の演習で、単体テスト実行ジョブとrpm作成ジョブを連携させました。続けて、マシンイメージ作成ジョブまでを連携させてみます。\n",
    "下記の変更を実施して下さい。\n",
    "1. rpm作成ジョブの下流プロジェクトに、[108b_YUM_Tiny_web_example_repository](108b_YUM_Tiny_web_example_repository.ipynb)で作成したYUMリポジトリ作成ジョブを設定します。\n",
    "  + 下流プロジェクトへ引き渡すパラメータはありません。\n",
    "  + 単体テスト実行ジョブと同様に設定します。\n",
    "2. YUMリポジトリ作成ジョブの下流プロジェクトに、[204b_Tiny_web_example_Create_Machine_Image](204b_Tiny_web_example_Create_Machine_Image.ipynb)で作成したマシンイメージ作成ジョブを設定します。\n",
    "  + 下流プロジェクトへ引き渡すパラメータはありません。\n",
    "  + 単体テスト実行ジョブと同様に設定します。\n",
    "\n",
    "ここまでの設定が完了すると、<br>\n",
    "```\n",
    "単体テスト -> rpm作成 -> YUMリポジトリ作成 -> マシンイメージ作成\n",
    "```\n",
    "の順序で一連のジョブが連続して実行できるようになります。\n"
   ]
  },
  {
   "cell_type": "code",
   "execution_count": null,
   "metadata": {
    "collapsed": false,
    "deletable": true,
    "hide_input": true,
    "hide_output": false,
    "locked": false,
    "run_control": {
     "marked": false
    }
   },
   "outputs": [],
   "source": [
    "# Task: automate-link-jobs\n",
    "# Evaluation Mode: load\n",
    "# (hidden load cell)"
   ]
  },
  {
   "cell_type": "code",
   "execution_count": null,
   "metadata": {
    "collapsed": false,
    "deletable": false,
    "hide_input": true,
    "hide_output": true,
    "locked": true,
    "run_control": {
     "marked": true
    }
   },
   "outputs": [],
   "source": [
    "# Task: automate-link-jobs\n",
    "# Evaluation Mode: provided-script"
   ]
  },
  {
   "cell_type": "markdown",
   "metadata": {},
   "source": [
    "### 確認\n",
    "次のセルを実行して、各ジョブで下流プロジェクト設定が完了していることを確認して下さい。<br>"
   ]
  },
  {
   "cell_type": "code",
   "execution_count": null,
   "metadata": {
    "collapsed": false,
    "deletable": false,
    "hide_input": false,
    "hide_output": false,
    "locked": true,
    "run_control": {
     "marked": false
    }
   },
   "outputs": [],
   "source": [
    "# Task: automate-link-jobs\n",
    "# Evaluation Mode: check"
   ]
  },
  {
   "cell_type": "markdown",
   "metadata": {
    "run_control": {
     "marked": false
    }
   },
   "source": [
    "## 演習 : インテグレーションテスト実行ジョブを組み込む"
   ]
  },
  {
   "cell_type": "markdown",
   "metadata": {
    "run_control": {
     "marked": false
    }
   },
   "source": [
    "### 演習の内容"
   ]
  },
  {
   "cell_type": "markdown",
   "metadata": {
    "run_control": {
     "marked": false
    }
   },
   "source": [
    "最後に、[202b-Tiny_web_integration](202b-Tiny_web_integration.ipynb)で作成したインテグレーションテスト実行ジョブを組み込んでみましょう。<br>\n",
    "インテグレーションテスト実行ジョブは、マシンイメージ作成ジョブが完了した後に実行するように設定します。\n",
    "\n",
    "インテグレーションテスト実行ジョブでは、２つのパラメータを設定して実行しました。\n",
    "* APP_IMAGE_ID\n",
    "* DB_IMAGE_ID\n",
    "\n",
    "マシンイメージ作成ジョブとインテグレーションテスト実行ジョブを連携させるためには、この2つのパラメータをマシンイメージ作成ジョブで生成し、インテグレーションテスト実行ジョブに引き渡す必要があります。\n",
    "パラメータの引き渡しには幾つか方法がありますが、ここではマシンイメージ作成ジョブの最後の演習で作成したパラメータファイルを、パラメータとして引き渡す方法を試します。<br>\n",
    "\n",
    "1. マシンイメージ作成ジョブを上流プロジェクト、インテグレーションテスト実行ジョブを下流プロジェクトに設定します。\n",
    "2. マシンイメージ作成ジョブからインテグレーションテスト実行ジョブへ、パラメータファイルのパス名がに渡されるようにします。\n",
    "  * [204a_Create_Machine_Image](204a_Create_Machine_Image.ipynb)の例では、[Add Parameters]で[Predefined Parameters]を選択しましたが、ここでは、[Parameters from properties file]を利用します。\n",
    "3. インテグレーションテスト実行ジョブでは、「シェルの実行」で定義したテストスクリプトの実行に先立って、受け取ったファイルを自動的に読み込みます。したがって、テストスクリプトでは渡されたファイルの操作なしに、格納されているパラメータを参照することができます。\n",
    "\n",
    "それでは、設定してみましょう。"
   ]
  },
  {
   "cell_type": "code",
   "execution_count": null,
   "metadata": {
    "collapsed": false,
    "deletable": true,
    "hide_input": true,
    "hide_output": false,
    "locked": false,
    "run_control": {
     "marked": false
    }
   },
   "outputs": [],
   "source": [
    "# Task: automate-configure-parameterized-trigger\n",
    "# Evaluation Mode: load\n",
    "# (hidden load cell)"
   ]
  },
  {
   "cell_type": "code",
   "execution_count": null,
   "metadata": {
    "collapsed": false,
    "deletable": false,
    "hide_input": true,
    "hide_output": true,
    "locked": true,
    "run_control": {
     "marked": false
    }
   },
   "outputs": [],
   "source": [
    "# Task: automate-configure-parameterized-trigger\n",
    "# Evaluation Mode: provided-script"
   ]
  },
  {
   "cell_type": "markdown",
   "metadata": {
    "run_control": {
     "marked": false
    }
   },
   "source": [
    "### 確認\n",
    "次のセルを実行して、パラメータファイルの引き渡し設定が完了していることを確認して下さい。"
   ]
  },
  {
   "cell_type": "code",
   "execution_count": null,
   "metadata": {
    "collapsed": false,
    "run_control": {
     "marked": false
    }
   },
   "outputs": [],
   "source": [
    "# Task: automate-configure-parameterized-trigger\n",
    "# Evaluation Mode: check"
   ]
  },
  {
   "cell_type": "markdown",
   "metadata": {},
   "source": [
    "## ジョブを連続実行させてみる"
   ]
  },
  {
   "cell_type": "markdown",
   "metadata": {},
   "source": [
    "ここまでの演習で、Tiny_web_exampleのJenkinsジョブが、<br>\n",
    "```\n",
    "単体テスト -> rpm作成 -> YUMリポジトリ作成 -> マシンイメージ作成 -> インテグレーションテスト\n",
    "```\n",
    "の順序で連続して実行できるようになりました。\n",
    "\n",
    "**JenkinsのGUIから単体テストジョブを実行して、ジョブが連続して実行されることを確認して下さい。**"
   ]
  },
  {
   "cell_type": "markdown",
   "metadata": {},
   "source": [
    "# ジョブの自動実行に関わる課題"
   ]
  },
  {
   "cell_type": "markdown",
   "metadata": {},
   "source": [
    "ここまでの演習で、シンプルなビルドパイプラインが出来上がりました。余裕がある場合は、下記の課題に取り組んでみて下さい。\n",
    "1. 「ジョブを定期実行させる」を参考に、1時間に1回ビルドパイプラインが実行されるようにする。\n",
    "2. コードの変更がgithubにpushされたら、ビルドパイプラインが実行されるようにする。"
   ]
  }
 ],
 "metadata": {
  "kernelspec": {
   "display_name": "Bash",
   "language": "bash",
   "name": "bash"
  },
  "language_info": {
   "codemirror_mode": "shell",
   "file_extension": ".sh",
   "mimetype": "text/x-sh",
   "name": "bash"
  },
  "toc": {
   "toc_cell": false,
   "toc_number_sections": true,
   "toc_threshold": 6,
   "toc_window_display": false
  }
 },
 "nbformat": 4,
 "nbformat_minor": 0
}
