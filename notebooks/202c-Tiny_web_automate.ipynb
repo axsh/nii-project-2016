{
 "cells": [
  {
   "cell_type": "code",
   "execution_count": 4,
   "metadata": {
    "collapsed": false,
    "deletable": true,
    "hide_input": true,
    "hide_output": false,
    "init_cell": true,
    "locked": false,
    "run_control": {
     "marked": false
    }
   },
   "outputs": [
    {
     "name": "stdout",
     "output_type": "stream",
     "text": [
      "Changing global mode to 'my-script'\n"
     ]
    }
   ],
   "source": [
    "source extend_bashkernel-2modes.source\n",
    "set-global-evaluation-mode \"my-script\""
   ]
  },
  {
   "cell_type": "code",
   "execution_count": null,
   "metadata": {
    "collapsed": false,
    "deletable": true,
    "locked": false,
    "run_control": {
     "marked": false
    }
   },
   "outputs": [],
   "source": [
    "set-global-evaluation-mode \"my-script\""
   ]
  },
  {
   "cell_type": "markdown",
   "metadata": {
    "run_control": {
     "marked": false
    }
   },
   "source": [
    "# Tiny_web_exampleのJenkinsジョブをすべて自動実行する"
   ]
  },
  {
   "cell_type": "markdown",
   "metadata": {
    "run_control": {
     "marked": false
    }
   },
   "source": [
    "本編の演習を実施すると、これまで作成してきたJenkinsジョブが、<br>\n",
    "```\n",
    "単体テスト -> rpm作成 -> YUMリポジトリ作成 -> イメージ作成 -> インテグレーションテスト\n",
    "```\n",
    "の順序で連続して実行できるようになります。"
   ]
  },
  {
   "cell_type": "markdown",
   "metadata": {
    "run_control": {
     "marked": false
    }
   },
   "source": [
    "## 演習 : Tiny_web_exampleの単体テスト実行ジョブを定期実行させる"
   ]
  },
  {
   "cell_type": "markdown",
   "metadata": {
    "run_control": {
     "marked": false
    }
   },
   "source": [
    "### 演習の内容"
   ]
  },
  {
   "cell_type": "markdown",
   "metadata": {
    "run_control": {
     "marked": false
    }
   },
   "source": [
    "Jenkinsジョブは自動的に実行することができます。<br>\n",
    "まず、[106b_Tiny_web_example_unit_test](106b_Tiny_web_example_unit_test.ipynb)で作成したTiny_web_exampleの単体テスト実行ジョブを、「5分間隔」で実行するように設定して下さい。"
   ]
  },
  {
   "cell_type": "code",
   "execution_count": null,
   "metadata": {
    "collapsed": false,
    "deletable": true,
    "hide_input": true,
    "hide_output": false,
    "locked": false,
    "run_control": {
     "marked": false
    }
   },
   "outputs": [],
   "source": [
    "# Task: automate-configure-scheduling\n",
    "# Evaluation Mode: load\n",
    "#(hidden load cell)"
   ]
  },
  {
   "cell_type": "code",
   "execution_count": null,
   "metadata": {
    "collapsed": false,
    "deletable": false,
    "hide_input": true,
    "hide_output": true,
    "locked": true,
    "run_control": {
     "marked": true
    }
   },
   "outputs": [],
   "source": [
    "# Task: automate-configure-scheduling\n",
    "# Evaluation Mode: provided-script"
   ]
  },
  {
   "cell_type": "markdown",
   "metadata": {
    "run_control": {
     "marked": false
    }
   },
   "source": [
    "### 確認\n",
    "次のセルを実行して、定期実行の設定が完了していることを確認して下さい。<br>\n",
    "また、単体テストが5分間隔で実行されていることを、JenkinsのGUIで確認して下さい。"
   ]
  },
  {
   "cell_type": "code",
   "execution_count": null,
   "metadata": {
    "collapsed": false,
    "deletable": false,
    "locked": true,
    "run_control": {
     "marked": false
    }
   },
   "outputs": [],
   "source": [
    "# Task: automate-configure-scheduling\n",
    "# Evaluation Mode: check"
   ]
  },
  {
   "cell_type": "markdown",
   "metadata": {
    "run_control": {
     "marked": false
    }
   },
   "source": [
    "## 演習 : Tiny_web_exampleの単体テスト実行ジョブとrpm作成ジョブを連携させる"
   ]
  },
  {
   "cell_type": "markdown",
   "metadata": {
    "run_control": {
     "marked": false
    }
   },
   "source": [
    "### 演習の内容"
   ]
  },
  {
   "cell_type": "markdown",
   "metadata": {
    "run_control": {
     "marked": false
    }
   },
   "source": [
    "Jenkinsのジョブには、上流及び下流プロジェクトの連携設定によって、他のジョブの完了を待ってジョブの実行を開始する機能があります。<br>\n",
    "ジョブ実行のトリガには、他ジョブの実行が成功したかどうか、あるいは、他ジョブの実行結果を無視するなどの条件を設定することができます。<br>\n",
    "\n",
    "Tiny_web_exampleのrpm作成ジョブを下流プロジェクトに設定して、単体テスト実行ジョブが終了したらrpm作成ジョブを開始するようにして下さい。上流プロジェクトと下流プロジェクトへの連携については[202a_Post_build_trigger](202a_Post_build_trigger.ipynb)を参照してください。\n",
    "\n",
    "* 単体テスト実行ジョブが成功したら、[107b_RPM_Tiny_web_example_create](107b_RPM_Tiny_web_example_create)で作成したTiny_web_exampleのrpm作成ジョブの実行を開始する。\n",
    "* 下流プロジェクトの実行時間を考慮して、単体テスト実行ジョブの実行間隔を「毎時」に変更する。"
   ]
  },
  {
   "cell_type": "code",
   "execution_count": null,
   "metadata": {
    "collapsed": false,
    "deletable": true,
    "hide_input": true,
    "hide_output": false,
    "locked": false,
    "run_control": {
     "marked": false
    }
   },
   "outputs": [],
   "source": [
    "# Task: automate-configure-post-build-trigger\n",
    "# Evaluation Mode: load\n",
    "# (hidden load cell)"
   ]
  },
  {
   "cell_type": "code",
   "execution_count": null,
   "metadata": {
    "collapsed": false,
    "deletable": false,
    "hide_input": true,
    "hide_output": true,
    "locked": true,
    "run_control": {
     "marked": false
    }
   },
   "outputs": [],
   "source": [
    "# Task: automate-configure-post-build-trigger\n",
    "# Evaluation Mode: provided-script"
   ]
  },
  {
   "cell_type": "markdown",
   "metadata": {
    "run_control": {
     "marked": false
    }
   },
   "source": [
    "### 確認\n",
    "次のセルを実行して、実行条件の設定が完了していることを確認してください。"
   ]
  },
  {
   "cell_type": "code",
   "execution_count": null,
   "metadata": {
    "collapsed": false,
    "deletable": false,
    "locked": true,
    "run_control": {
     "marked": false
    }
   },
   "outputs": [],
   "source": [
    "# Task: automate-configure-post-build-trigger\n",
    "# Evaluation Mode: check"
   ]
  },
  {
   "cell_type": "markdown",
   "metadata": {
    "run_control": {
     "marked": false
    }
   },
   "source": [
    "## 演習 : 単体テストジョブからYUMリポジトリ作成ジョブまでを連携させる"
   ]
  },
  {
   "cell_type": "markdown",
   "metadata": {
    "run_control": {
     "marked": false
    }
   },
   "source": [
    "### 演習の内容"
   ]
  },
  {
   "cell_type": "markdown",
   "metadata": {
    "run_control": {
     "marked": false
    }
   },
   "source": [
    "続けて、次の上流及び下流プロジェクト設定を行って下さい。\n",
    "* rpm作成ジョブの下流プロジェクトに、[108b_YUM_Tiny_web_example_repository](108b_YUM_Tiny_web_example_repository.ipynb)で作成したYUMリポジトリ作成ジョブを設定。\n",
    "* YUMリポジトリ作成ジョブの下流プロジェクトに、[204b_Tiny_web_example_Create_Machine_Image](204b_Tiny_web_example_Create_Machine_Image.ipynb)で作成したイメージ作成ジョブを設定。\n",
    "\n",
    "ここまでの設定が完了すると、<br>\n",
    "```\n",
    "単体テスト -> rpm作成 -> YUMリポジトリ作成 -> イメージ作成\n",
    "```\n",
    "の順序で一連のジョブが連続して実行できるようになります。"
   ]
  },
  {
   "cell_type": "code",
   "execution_count": null,
   "metadata": {
    "collapsed": false,
    "deletable": true,
    "hide_input": true,
    "hide_output": false,
    "locked": false,
    "run_control": {
     "marked": false
    }
   },
   "outputs": [],
   "source": [
    "# Task: automate-link-jobs\n",
    "# Evaluation Mode: load\n",
    "# (hidden load cell)"
   ]
  },
  {
   "cell_type": "code",
   "execution_count": null,
   "metadata": {
    "collapsed": false,
    "deletable": false,
    "hide_input": true,
    "hide_output": true,
    "locked": true,
    "run_control": {
     "marked": false
    }
   },
   "outputs": [],
   "source": [
    "# Task: automate-link-jobs\n",
    "# Evaluation Mode: provided-script"
   ]
  },
  {
   "cell_type": "markdown",
   "metadata": {
    "run_control": {
     "marked": false
    }
   },
   "source": [
    "### 確認\n",
    "次のセルを実行して、各ジョブの上流プロジェクト設定が完了していることを確認して下さい。<br>"
   ]
  },
  {
   "cell_type": "code",
   "execution_count": null,
   "metadata": {
    "collapsed": false,
    "deletable": false,
    "locked": true,
    "run_control": {
     "marked": false
    }
   },
   "outputs": [],
   "source": [
    "# Task: automate-link-jobs\n",
    "# Evaluation Mode: check"
   ]
  },
  {
   "cell_type": "markdown",
   "metadata": {
    "run_control": {
     "marked": false
    }
   },
   "source": [
    "## 演習 : Tiny_web_exampleのインテグレーションテストジョブを組み込む"
   ]
  },
  {
   "cell_type": "markdown",
   "metadata": {
    "run_control": {
     "marked": false
    }
   },
   "source": [
    "### 演習の内容"
   ]
  },
  {
   "cell_type": "markdown",
   "metadata": {
    "run_control": {
     "marked": false
    }
   },
   "source": [
    "最後に、[202b-Tiny_web_integration](202b-Tiny_web_integration.ipynb)で作成したインテグレーションテストジョブを組み込んでみましょう。<br>\n",
    "インテグレーションテストジョブは、イメージ作成ジョブが完了した後に実行するように設定します。\n",
    "\n",
    "[202b-Tiny_web_integration](202b-Tiny_web_integration.ipynb)のインテグレーションテストジョブでは、２つのパラメータを設定して実行しました。\n",
    "* APP_IMAGE_ID\n",
    "* DB_IMAGE_ID\n",
    "\n",
    "イメージ作成ジョブとインテグレーションテストジョブの連携させるためには、この2つのパラメータをイメージ作成ジョブで生成し、インテグレーションテストジョブに引き渡す必要があります。\n",
    "パラメータの引き渡しには幾つか方法がありますが、ここではイメージ作成ジョブの最後の演習で作成したパラメータファイルを、パラメータとして引き渡す方法を試します。<br>\n",
    "\n",
    "1. イメージ作成ジョブを上流プロジェクト、インテグレーションテストジョブを下流プロジェクトに設定します。\n",
    "2. イメージ作成ジョブからインテグレーションテストジョブへ、パラメータファイルのパス名がに渡されるようにします。\n",
    "3. インテグレーションテストジョブでは、「シェルの実行」で定義したインテグレーションテストスクリプトの実行に先立って、受け取ったファイルを自動的に読み込みます。したがって、インテグレーションテストスクリプトでは渡されたファイルの操作なしに、格納されているパラメータを参照することができます。\n",
    "\n",
    "それでは、設定してみましょう。"
   ]
  },
  {
   "cell_type": "code",
   "execution_count": null,
   "metadata": {
    "collapsed": false,
    "deletable": true,
    "hide_input": true,
    "hide_output": false,
    "locked": false,
    "run_control": {
     "marked": false
    }
   },
   "outputs": [],
   "source": [
    "# Task: automate-configure-parameterized-trigger\n",
    "# Evaluation Mode: load\n",
    "# (hidden load cell)"
   ]
  },
  {
   "cell_type": "code",
   "execution_count": null,
   "metadata": {
    "collapsed": false,
    "deletable": false,
    "hide_input": true,
    "hide_output": true,
    "locked": true,
    "run_control": {
     "marked": false
    }
   },
   "outputs": [],
   "source": [
    "# Task: automate-configure-parameterized-trigger\n",
    "# Evaluation Mode: provided-script"
   ]
  },
  {
   "cell_type": "markdown",
   "metadata": {
    "run_control": {
     "marked": false
    }
   },
   "source": [
    "### 確認\n",
    "次のセルを実行して、"
   ]
  },
  {
   "cell_type": "code",
   "execution_count": null,
   "metadata": {
    "collapsed": false,
    "run_control": {
     "marked": false
    }
   },
   "outputs": [],
   "source": [
    "# Task: automate-configure-parameterized-trigger\n",
    "# Evaluation Mode: check"
   ]
  }
 ],
 "metadata": {
  "kernelspec": {
   "display_name": "Bash",
   "language": "bash",
   "name": "bash"
  },
  "language_info": {
   "codemirror_mode": "shell",
   "file_extension": ".sh",
   "mimetype": "text/x-sh",
   "name": "bash"
  },
  "toc": {
   "toc_cell": false,
   "toc_number_sections": true,
   "toc_threshold": 6,
   "toc_window_display": false
  }
 },
 "nbformat": 4,
 "nbformat_minor": 0
}
