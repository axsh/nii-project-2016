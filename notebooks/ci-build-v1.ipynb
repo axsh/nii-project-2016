{
 "cells": [
  {
   "cell_type": "code",
   "execution_count": 1,
   "metadata": {
    "collapsed": false
   },
   "outputs": [
    {
     "name": "stdout",
     "output_type": "stream",
     "text": []
    }
   ],
   "source": [
    "# just a demo:\n",
    "# the following redirects future cells through this loop.\n",
    "# This should make it possible to put wrapper functionality\n",
    "# around cells to keep the text inside the cells clean.\n",
    "\n",
    "while sleep 1; do\n",
    "echo -n \"$PS1\"\n",
    "read ln\n",
    "eval \"$ln\"\n",
    "echo \"It worked! \" # If that last space is removed, it does not work :-(\n",
    "done\n"
   ]
  },
  {
   "cell_type": "code",
   "execution_count": 1,
   "metadata": {
    "collapsed": false
   },
   "outputs": [
    {
     "name": "stdout",
     "output_type": "stream",
     "text": []
    }
   ],
   "source": [
    "# (1) optional reset of Wakame-vdc\n",
    "# Comment out the following lines and run cell to remove all\n",
    "# added images and instances.\n",
    "\n",
    "# reset-wakame.sh"
   ]
  },
  {
   "cell_type": "code",
   "execution_count": null,
   "metadata": {
    "collapsed": true
   },
   "outputs": [],
   "source": [
    "# (2) Create Centos instance using mussel\n",
    "\n",
    "cat <<EOS >vifs.json\n",
    "{\n",
    " \"eth0\":{\"network\":\"nw-demo1\",\"security_groups\":\"sg-cicddemo\"}\n",
    "}\n",
    "\n",
    "mussel instance create --cpu-cores 1 --hypervisor openvz \\\n",
    "    --image-id wmi-centos1d64 --memory-size 1024 \\\n",
    "    --ssh-key-id ssh-cicddemo --vifs vifs.json --display-name centos\n"
   ]
  }
 ],
 "metadata": {
  "kernelspec": {
   "display_name": "Bash",
   "language": "bash",
   "name": "bash"
  },
  "language_info": {
   "codemirror_mode": "shell",
   "file_extension": ".sh",
   "mimetype": "text/x-sh",
   "name": "bash"
  }
 },
 "nbformat": 4,
 "nbformat_minor": 0
}
