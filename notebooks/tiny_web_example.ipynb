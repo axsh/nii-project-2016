{
 "cells": [
  {
   "cell_type": "code",
   "execution_count": 4,
   "metadata": {
    "collapsed": false
   },
   "outputs": [
    {
     "name": "stdout",
     "output_type": "stream",
     "text": [
      "Already Loaded\n"
     ]
    }
   ],
   "source": [
    "source extend_bashkernel.source"
   ]
  },
  {
   "cell_type": "code",
   "execution_count": 8,
   "metadata": {
    "collapsed": false
   },
   "outputs": [
    {
     "name": "stdout",
     "output_type": "stream",
     "text": [
      "Pseudo-terminal will not be allocated because stdin is not a terminal.\n",
      "Initialized empty Git repository in /opt/axsh/wakame-vdc/.git/\n"
     ]
    }
   ],
   "source": [
    "# Clone wakame-vdc to get access to the mussel client.\n",
    "ssh root@10.0.2.100 -qi ../mykeypair\n",
    "\n",
    "mkdir /opt/axsh/\n",
    "cd /opt/axsh\n",
    "git clone https://github.com/axsh/wakame-vdc.git"
   ]
  },
  {
   "cell_type": "code",
   "execution_count": 9,
   "metadata": {
    "collapsed": false
   },
   "outputs": [
    {
     "name": "stdout",
     "output_type": "stream",
     "text": [
      "Installing git from update center\n",
      "Installing rbenv from update center\n",
      "Creating default job for tiny_web.rspec...\n",
      "Creating default job for tiny_web.rpmbuild...\n",
      "Creating default job for tiny_web.rpmpublish...\n",
      "Creating default job for tiny_web.imagebuild...\n",
      "Creating default job for tiny_web.integration...\n"
     ]
    }
   ],
   "source": [
    "# (build-tiny-web-example)\n",
    "doit"
   ]
  }
 ],
 "metadata": {
  "kernelspec": {
   "display_name": "Bash",
   "language": "bash",
   "name": "bash"
  },
  "language_info": {
   "codemirror_mode": "shell",
   "file_extension": ".sh",
   "mimetype": "text/x-sh",
   "name": "bash"
  }
 },
 "nbformat": 4,
 "nbformat_minor": 0
}
