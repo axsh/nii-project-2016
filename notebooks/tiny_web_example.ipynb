{
 "cells": [
  {
   "cell_type": "code",
   "execution_count": 1,
   "metadata": {
    "collapsed": false
   },
   "outputs": [
    {
     "name": "stdout",
     "output_type": "stream",
     "text": [
      "Ready.\n"
     ]
    }
   ],
   "source": [
    "source extend_bashkernel.source"
   ]
  },
  {
   "cell_type": "code",
   "execution_count": 2,
   "metadata": {
    "collapsed": false
   },
   "outputs": [
    {
     "name": "stdout",
     "output_type": "stream",
     "text": [
      "Mussel is installed.\n"
     ]
    }
   ],
   "source": [
    "# (tiny-web-install-mussel)\n",
    "# Evaluation mode: doit"
   ]
  },
  {
   "cell_type": "code",
   "execution_count": 3,
   "metadata": {
    "collapsed": false
   },
   "outputs": [
    {
     "name": "stdout",
     "output_type": "stream",
     "text": [
      "All plugins installed.\n"
     ]
    }
   ],
   "source": [
    "# (tiny-web-install-plugins)\n",
    "# Evaluation mode: doit"
   ]
  },
  {
   "cell_type": "code",
   "execution_count": 4,
   "metadata": {
    "collapsed": false
   },
   "outputs": [
    {
     "name": "stdout",
     "output_type": "stream",
     "text": [
      "Jenkins is ready.\n"
     ]
    }
   ],
   "source": [
    "# (tiny-web-wait-for-jenkins)\n",
    "# Evaluation mode: doit"
   ]
  },
  {
   "cell_type": "code",
   "execution_count": 5,
   "metadata": {
    "collapsed": false
   },
   "outputs": [
    {
     "name": "stdout",
     "output_type": "stream",
     "text": [
      "Creating default job for tiny_web.rspec...\n"
     ]
    }
   ],
   "source": [
    "# (tiny-web-rspec-job)\n",
    "# Evaluation mode: doit"
   ]
  },
  {
   "cell_type": "code",
   "execution_count": 6,
   "metadata": {
    "collapsed": false
   },
   "outputs": [
    {
     "name": "stdout",
     "output_type": "stream",
     "text": [
      "Creating default job for tiny_web.rpmbuild...\n"
     ]
    }
   ],
   "source": [
    "# (tiny-web-rpmbuild-job)\n",
    "# Evaluation mode: doit"
   ]
  },
  {
   "cell_type": "code",
   "execution_count": 7,
   "metadata": {
    "collapsed": false
   },
   "outputs": [
    {
     "name": "stdout",
     "output_type": "stream",
     "text": [
      "Creating default job for tiny_web.rpmpublish...\n"
     ]
    }
   ],
   "source": [
    "# (tiny-web-rpmpublish-job)\n",
    "# Evaluation mode: doit"
   ]
  },
  {
   "cell_type": "code",
   "execution_count": null,
   "metadata": {
    "collapsed": false
   },
   "outputs": [
    {
     "name": "stdout",
     "output_type": "stream",
     "text": [
      "Creating default job for tiny_web.imagebuild...\n"
     ]
    }
   ],
   "source": [
    "# (tiny-web-imagebuild-job)\n",
    "# Evaluation mode: doit"
   ]
  },
  {
   "cell_type": "code",
   "execution_count": 9,
   "metadata": {
    "collapsed": false
   },
   "outputs": [
    {
     "name": "stdout",
     "output_type": "stream",
     "text": [
      "Creating default job for tiny_web.integration...\n"
     ]
    }
   ],
   "source": [
    "# (tiny-web-integration-job)\n",
    "# Evaluation mode: doit"
   ]
  },
  {
   "cell_type": "code",
   "execution_count": 10,
   "metadata": {
    "collapsed": false
   },
   "outputs": [
    {
     "name": "stdout",
     "output_type": "stream",
     "text": []
    }
   ],
   "source": [
    "# (tiny-web-parameterize-image)\n",
    "# Evaluation mode: doit"
   ]
  }
 ],
 "metadata": {
  "kernelspec": {
   "display_name": "Bash",
   "language": "bash",
   "name": "bash"
  },
  "language_info": {
   "codemirror_mode": "shell",
   "file_extension": ".sh",
   "mimetype": "text/x-sh",
   "name": "bash"
  },
  "toc": {
   "toc_cell": false,
   "toc_number_sections": true,
   "toc_threshold": 6,
   "toc_window_display": false
  }
 },
 "nbformat": 4,
 "nbformat_minor": 0
}
