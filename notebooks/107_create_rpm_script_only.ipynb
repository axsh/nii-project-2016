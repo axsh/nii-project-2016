{
 "cells": [
  {
   "cell_type": "code",
   "execution_count": null,
   "metadata": {
    "collapsed": false,
    "deletable": false,
    "hide_input": true,
    "init_cell": true,
    "locked": true,
    "run_control": {
     "marked": false
    }
   },
   "outputs": [],
   "source": [
    "source extend_bashkernel-2modes.source\n",
    "set-global-evaluation-mode \"my-script\""
   ]
  },
  {
   "cell_type": "code",
   "execution_count": null,
   "metadata": {
    "collapsed": true,
    "run_control": {
     "marked": false
    }
   },
   "outputs": [],
   "source": [
    "set-global-evaluation-mode \"my-script\""
   ]
  },
  {
   "cell_type": "markdown",
   "metadata": {},
   "source": [
    "# Creating a rpm package"
   ]
  },
  {
   "cell_type": "markdown",
   "metadata": {},
   "source": [
    "To learn how the rpm packages works, we will go through the process of creating a minimal package from scratch."
   ]
  },
  {
   "cell_type": "markdown",
   "metadata": {
    "run_control": {
     "marked": false
    }
   },
   "source": [
    "## Task: Install packages"
   ]
  },
  {
   "cell_type": "markdown",
   "metadata": {
    "heading_collapsed": true,
    "run_control": {
     "marked": false
    }
   },
   "source": [
    "### Task details"
   ]
  },
  {
   "cell_type": "markdown",
   "metadata": {
    "hidden": true,
    "run_control": {
     "marked": false
    }
   },
   "source": [
    "Make sure the required packages are installed. For this sample install the following packages\n",
    "* git\n",
    "* rpm-build\n",
    "* rpmlint"
   ]
  },
  {
   "cell_type": "code",
   "execution_count": null,
   "metadata": {
    "collapsed": true,
    "hidden": true
   },
   "outputs": [],
   "source": []
  },
  {
   "cell_type": "markdown",
   "metadata": {
    "heading_collapsed": true,
    "run_control": {
     "marked": false
    }
   },
   "source": [
    "### Example"
   ]
  },
  {
   "cell_type": "markdown",
   "metadata": {
    "hidden": true,
    "run_control": {
     "marked": false
    }
   },
   "source": [
    "To install a package we can make use of yum.\n",
    "```\n",
    "yum install package_name\n",
    "```"
   ]
  },
  {
   "cell_type": "markdown",
   "metadata": {
    "heading_collapsed": true,
    "hidden": true,
    "run_control": {
     "marked": false
    }
   },
   "source": [
    "#### Provided script"
   ]
  },
  {
   "cell_type": "code",
   "execution_count": null,
   "metadata": {
    "collapsed": false,
    "deletable": false,
    "hidden": true,
    "locked": true,
    "run_control": {
     "marked": false
    }
   },
   "outputs": [],
   "source": [
    "# Task: create-rpm-install-packages\n",
    "# Evaluation Mode: provided-script\n",
    "\n",
    "# Install required packages\n",
    "\n",
    "ssh -qi ../mykeypair root@10.0.2.100 \"sudo yum install -y git rpm-build rpmlint\""
   ]
  },
  {
   "cell_type": "markdown",
   "metadata": {
    "run_control": {
     "marked": false
    }
   },
   "source": [
    "### Check"
   ]
  },
  {
   "cell_type": "code",
   "execution_count": null,
   "metadata": {
    "collapsed": true,
    "deletable": false,
    "locked": true,
    "run_control": {
     "marked": false
    }
   },
   "outputs": [],
   "source": [
    "# Task: create-rpm-install-packages\n",
    "# Evaluation Mode: check"
   ]
  },
  {
   "cell_type": "markdown",
   "metadata": {
    "run_control": {
     "marked": false
    }
   },
   "source": [
    "## Task: Setup rpmbuild folders"
   ]
  },
  {
   "cell_type": "markdown",
   "metadata": {
    "heading_collapsed": true,
    "run_control": {
     "marked": false
    }
   },
   "source": [
    "### Task details"
   ]
  },
  {
   "cell_type": "markdown",
   "metadata": {
    "hidden": true,
    "run_control": {
     "marked": false
    }
   },
   "source": [
    "rpmbuild makes use of certain folders, so in order for it to work properly create the following folders \n",
    "```\n",
    "${HOME}/rpmbuild/BUILD\n",
    "${HOME}/rpmbuild/BUILDROOT\n",
    "${HOME}/rpmbuild/RPMS\n",
    "${HOME}/rpmbuild/SOURCES\n",
    "${HOME}/rpmbuild/SPECS\n",
    "${HOME}/rpmbuild/SRPMS\n",
    "```"
   ]
  },
  {
   "cell_type": "code",
   "execution_count": null,
   "metadata": {
    "collapsed": true,
    "hidden": true
   },
   "outputs": [],
   "source": []
  },
  {
   "cell_type": "markdown",
   "metadata": {
    "heading_collapsed": true,
    "run_control": {
     "marked": false
    }
   },
   "source": [
    "### Example"
   ]
  },
  {
   "cell_type": "markdown",
   "metadata": {
    "hidden": true,
    "run_control": {
     "marked": false
    }
   },
   "source": [
    "to create a folder make use of the inbuild ```mkdir``` command"
   ]
  },
  {
   "cell_type": "markdown",
   "metadata": {
    "heading_collapsed": true,
    "run_control": {
     "marked": false
    }
   },
   "source": [
    "#### Provided script"
   ]
  },
  {
   "cell_type": "code",
   "execution_count": null,
   "metadata": {
    "collapsed": false,
    "deletable": false,
    "hidden": true,
    "locked": true,
    "run_control": {
     "marked": false
    }
   },
   "outputs": [],
   "source": [
    "# Task: create-rpm-create-folders\n",
    "# Evaluation Mode: provided-script\n",
    "\n",
    "# Create the folders used by rpmbuild\n",
    "\n",
    "ssh -qi ../mykeypair root@10.0.2.100 'mkdir -p ${HOME}/rpmbuild/{BUILD,BUILDROOT,RPMS,SOURCES,SPECS,SRPMS}'"
   ]
  },
  {
   "cell_type": "markdown",
   "metadata": {
    "run_control": {
     "marked": false
    }
   },
   "source": [
    "### Check"
   ]
  },
  {
   "cell_type": "code",
   "execution_count": null,
   "metadata": {
    "collapsed": true,
    "deletable": false,
    "locked": true,
    "run_control": {
     "marked": false
    }
   },
   "outputs": [],
   "source": [
    "# Task: create-rpm-create-folders\n",
    "# Evaluation Mode: check"
   ]
  },
  {
   "cell_type": "markdown",
   "metadata": {
    "run_control": {
     "marked": false
    }
   },
   "source": [
    "## Task: Create the spec file"
   ]
  },
  {
   "cell_type": "markdown",
   "metadata": {
    "heading_collapsed": true,
    "run_control": {
     "marked": false
    }
   },
   "source": [
    "### Task details"
   ]
  },
  {
   "cell_type": "markdown",
   "metadata": {
    "hidden": true,
    "run_control": {
     "marked": false
    }
   },
   "source": [
    "One of two requirements of to create rpms is the rpmspec file. This file has to be placed in the folder\n",
    "```\n",
    "${HOME}/rpmbuild/SPECS\n",
    "```\n",
    "It has to be a .spec file and the name should be the same as the package name. For our package create a file with the following contents in the SPECS folder. Because our package is called example, name the file example.spec\n",
    "```\n",
    "Name:    example\n",
    "Version: 0.1.0\n",
    "Release: 1%{?dist}\n",
    "Summary: example\n",
    "License: BSD\n",
    "Source:  %{name}-%{version}.tar.gz\n",
    "\n",
    "%description\n",
    "\n",
    "%prep\n",
    "%setup -q\n",
    "\n",
    "%build\n",
    "\n",
    "%install\n",
    "rm   -rf $RPM_BUILD_ROOT\n",
    "mkdir -p $RPM_BUILD_ROOT\n",
    "rsync -avx ./ $RPM_BUILD_ROOT/\n",
    "\n",
    "%clean\n",
    "rm -rf $RPM_BUILD_ROOT\n",
    "\n",
    "%files\n",
    "%defattr(-,root,root,-)\n",
    "/\n",
    "%doc\n",
    "\n",
    "%changelog```"
   ]
  },
  {
   "cell_type": "code",
   "execution_count": null,
   "metadata": {
    "collapsed": true,
    "hidden": true
   },
   "outputs": [],
   "source": []
  },
  {
   "cell_type": "markdown",
   "metadata": {
    "heading_collapsed": true,
    "run_control": {
     "marked": false
    }
   },
   "source": [
    "### Example"
   ]
  },
  {
   "cell_type": "markdown",
   "metadata": {
    "hidden": true,
    "run_control": {
     "marked": false
    }
   },
   "source": [
    "* To move between folders make use of the ```cd``` command.\n",
    "* To create files use the ```touch``` command.\n",
    "\n",
    "(Explain how to use here-docs/login and use vi)"
   ]
  },
  {
   "cell_type": "markdown",
   "metadata": {
    "heading_collapsed": true,
    "run_control": {
     "marked": false
    }
   },
   "source": [
    "#### Provided script"
   ]
  },
  {
   "cell_type": "code",
   "execution_count": null,
   "metadata": {
    "collapsed": false,
    "deletable": false,
    "hidden": true,
    "locked": true,
    "run_control": {
     "marked": false
    }
   },
   "outputs": [],
   "source": [
    "# Task: create-rpm-create-spec-file\n",
    "# Evaluatoin Mode: provided-script\n",
    "\n",
    "# Create the spec file\n",
    "\n",
    "ssh -qi ../mykeypair root@10.0.2.100 <<'EOS'\n",
    "cat <<'EOF' > ${HOME}/rpmbuild/SPECS/example.spec\n",
    "Name:    example\n",
    "Version: 0.1.0\n",
    "Release: 1%{?dist}\n",
    "Summary: example\n",
    "License: BSD\n",
    "Source:  %{name}-%{version}.tar.gz\n",
    "\n",
    "%description\n",
    "\n",
    "%prep\n",
    "%setup -q\n",
    "\n",
    "%build\n",
    "\n",
    "%install\n",
    "rm   -rf $RPM_BUILD_ROOT\n",
    "mkdir -p $RPM_BUILD_ROOT\n",
    "rsync -avx ./ $RPM_BUILD_ROOT/\n",
    "\n",
    "%clean\n",
    "rm -rf $RPM_BUILD_ROOT\n",
    "\n",
    "%files\n",
    "%defattr(-,root,root,-)\n",
    "/\n",
    "%doc\n",
    "\n",
    "%changelog\n",
    "EOF\n",
    "EOS"
   ]
  },
  {
   "cell_type": "markdown",
   "metadata": {
    "run_control": {
     "marked": false
    }
   },
   "source": [
    "### Check"
   ]
  },
  {
   "cell_type": "code",
   "execution_count": null,
   "metadata": {
    "collapsed": true,
    "deletable": false,
    "locked": true,
    "run_control": {
     "marked": false
    }
   },
   "outputs": [],
   "source": [
    "# Task: create-rpm-create-spec-file\n",
    "# Evaluation Mode: check"
   ]
  },
  {
   "cell_type": "markdown",
   "metadata": {
    "run_control": {
     "marked": false
    }
   },
   "source": [
    "## Task: Check the spec file"
   ]
  },
  {
   "cell_type": "markdown",
   "metadata": {
    "heading_collapsed": true,
    "run_control": {
     "marked": false
    }
   },
   "source": [
    "### Task details"
   ]
  },
  {
   "cell_type": "markdown",
   "metadata": {
    "hidden": true,
    "run_control": {
     "marked": false
    }
   },
   "source": [
    "To verify that all the required fields are included in the spec file we can use the command ```rpmlint```\n",
    "Use it with the newly created example.spec to confirm that there are no errors.\n",
    "The result should look like this\n",
    "```\n",
    "$ rpmlint example.spec\n",
    "example.spec: W: no-buildroot-tag\n",
    "example.spec: W: invalid-url Source0: example-0.1.0.tar.gz\n",
    "0 packages and 1 specfiles checked; 0 errors, 2 warnings.\n",
    "```\n"
   ]
  },
  {
   "cell_type": "code",
   "execution_count": null,
   "metadata": {
    "collapsed": true,
    "hidden": true
   },
   "outputs": [],
   "source": []
  },
  {
   "cell_type": "markdown",
   "metadata": {
    "heading_collapsed": true,
    "run_control": {
     "marked": false
    }
   },
   "source": [
    "### Example"
   ]
  },
  {
   "cell_type": "markdown",
   "metadata": {
    "hidden": true,
    "run_control": {
     "marked": false
    }
   },
   "source": [
    "```rpmlint package.spec```"
   ]
  },
  {
   "cell_type": "markdown",
   "metadata": {
    "heading_collapsed": true,
    "run_control": {
     "marked": false
    }
   },
   "source": [
    "#### Provided script"
   ]
  },
  {
   "cell_type": "code",
   "execution_count": null,
   "metadata": {
    "collapsed": false,
    "deletable": false,
    "hidden": true,
    "locked": true,
    "run_control": {
     "marked": false
    }
   },
   "outputs": [],
   "source": [
    "# Task: create-rpm-check-required-fields\n",
    "# Evaluation Mode: provided-script\n",
    "\n",
    "# Chech required fields\n",
    "\n",
    "ssh -qi ../mykeypair root@10.0.2.100 <<'EOF'\n",
    "cd ${HOME}/rpmbuild/SPECS/\n",
    "rpmlint example.spec\n",
    "EOF"
   ]
  },
  {
   "cell_type": "markdown",
   "metadata": {
    "run_control": {
     "marked": false
    }
   },
   "source": [
    "### Check"
   ]
  },
  {
   "cell_type": "code",
   "execution_count": null,
   "metadata": {
    "collapsed": true,
    "deletable": false,
    "locked": true,
    "run_control": {
     "marked": false
    }
   },
   "outputs": [],
   "source": [
    "# Task: create-rpm-check-required-fields\n",
    "# Evaluation Mode: check"
   ]
  },
  {
   "cell_type": "markdown",
   "metadata": {
    "run_control": {
     "marked": false
    }
   },
   "source": [
    "## Task: Create package contents"
   ]
  },
  {
   "cell_type": "markdown",
   "metadata": {
    "heading_collapsed": true,
    "run_control": {
     "marked": false
    }
   },
   "source": [
    "### Task details"
   ]
  },
  {
   "cell_type": "markdown",
   "metadata": {
    "hidden": true,
    "run_control": {
     "marked": false
    }
   },
   "source": [
    "The other requirement for rpms are the archive containing the source code. First the contents of the archive will need to be created.\n",
    "\n",
    "* Create the folder ```example-0.1.0``` in ```${HOME}/rpmbuild/SOURCES```\n",
    "* Create the folder ```bin``` inside the newly created ```example-0.1.0```\n",
    "* Create an empty file named ```example``` inside the new ```bin``` folder\n",
    "\n",
    "Use the ```find``` command and confirm that the output looks like this:\n",
    "```\n",
    "example-0.1.0/bin/example\n",
    "```"
   ]
  },
  {
   "cell_type": "code",
   "execution_count": null,
   "metadata": {
    "collapsed": true,
    "hidden": true
   },
   "outputs": [],
   "source": []
  },
  {
   "cell_type": "markdown",
   "metadata": {
    "heading_collapsed": true,
    "run_control": {
     "marked": false
    }
   },
   "source": [
    "### Example"
   ]
  },
  {
   "cell_type": "markdown",
   "metadata": {
    "hidden": true,
    "run_control": {
     "marked": false
    }
   },
   "source": [
    "```find package -type -f```"
   ]
  },
  {
   "cell_type": "markdown",
   "metadata": {
    "heading_collapsed": true,
    "run_control": {
     "marked": false
    }
   },
   "source": [
    "#### Provided script"
   ]
  },
  {
   "cell_type": "code",
   "execution_count": null,
   "metadata": {
    "collapsed": false,
    "deletable": false,
    "hidden": true,
    "locked": true,
    "run_control": {
     "marked": false
    }
   },
   "outputs": [],
   "source": [
    "# Task: create-rpm-prepare-contents\n",
    "# Evaluation Mode: provided-script\n",
    "\n",
    "# Prepare the contents and create a package\n",
    "\n",
    "ssh -qi ../mykeypair root@10.0.2.100 <<'EOF'\n",
    "cd ${HOME}/rpmbuild/SOURCES\n",
    "mkdir example-0.1.0\n",
    "mkdir example-0.1.0/bin\n",
    "touch example-0.1.0/bin/example\n",
    "find example-0.1.0 -type f\n",
    "EOF"
   ]
  },
  {
   "cell_type": "markdown",
   "metadata": {
    "run_control": {
     "marked": false
    }
   },
   "source": [
    "### Check"
   ]
  },
  {
   "cell_type": "code",
   "execution_count": null,
   "metadata": {
    "collapsed": true,
    "deletable": false,
    "locked": true,
    "run_control": {
     "marked": false
    }
   },
   "outputs": [],
   "source": [
    "# Task: create-rpm-prepare-contents\n",
    "# Evaluation Mode: check"
   ]
  },
  {
   "cell_type": "markdown",
   "metadata": {},
   "source": [
    "## Task: Create the archive"
   ]
  },
  {
   "cell_type": "markdown",
   "metadata": {},
   "source": [
    "### Task details"
   ]
  },
  {
   "cell_type": "markdown",
   "metadata": {},
   "source": [
    "Next create the the archive using the ```tar``` command. The rule when creating an archive for rpms is to include the package name and the version."
   ]
  },
  {
   "cell_type": "markdown",
   "metadata": {
    "heading_collapsed": true
   },
   "source": [
    "### Example"
   ]
  },
  {
   "cell_type": "markdown",
   "metadata": {
    "hidden": true
   },
   "source": [
    "the package should be named like this\n",
    "```\n",
    "tar czvf package-0.0.0.tar.gz package-0.0.0\n",
    "```"
   ]
  },
  {
   "cell_type": "markdown",
   "metadata": {
    "hidden": true
   },
   "source": [
    "#### Provided script"
   ]
  },
  {
   "cell_type": "code",
   "execution_count": null,
   "metadata": {
    "collapsed": true,
    "hidden": true
   },
   "outputs": [],
   "source": [
    "# Task: create-rpm-create-tar\n",
    "# Evaluation Mode: provided-script\n",
    "\n",
    "# Prepare the contents and create a package\n",
    "\n",
    "ssh -qi ../mykeypair root@10.0.2.100 <<'EOF'\n",
    "cd ${HOME}/rpmbuild/SOURCES\n",
    "tar zcvf example-0.1.0.tar.gz example-0.1.0\n",
    "EOF"
   ]
  },
  {
   "cell_type": "markdown",
   "metadata": {
    "heading_collapsed": true
   },
   "source": [
    "### Check"
   ]
  },
  {
   "cell_type": "code",
   "execution_count": null,
   "metadata": {
    "collapsed": true,
    "hidden": true
   },
   "outputs": [],
   "source": [
    "# Task: create-rpm-create-tar\n",
    "# Evaluation Mode: provided-script"
   ]
  },
  {
   "cell_type": "markdown",
   "metadata": {
    "run_control": {
     "marked": false
    }
   },
   "source": [
    "## Task: Build the rpm"
   ]
  },
  {
   "cell_type": "markdown",
   "metadata": {
    "heading_collapsed": true,
    "run_control": {
     "marked": false
    }
   },
   "source": [
    "### Task details"
   ]
  },
  {
   "cell_type": "markdown",
   "metadata": {
    "hidden": true,
    "run_control": {
     "marked": false
    }
   },
   "source": [
    "Use the rpmbuild too to create the rpm file, the output should look similar to this:\n",
    "```\n",
    "Executing(%prep): /bin/sh -e /var/tmp/rpm-tmp.thSbon\n",
    "+ umask 022\n",
    "+ cd /home/vagrant/rpmbuild/BUILD\n",
    "+ cd /home/vagrant/rpmbuild/BUILD\n",
    "+ rm -rf example-0.1.0\n",
    "+ /bin/tar -xf -\n",
    "+ /usr/bin/gzip -dc /home/vagrant/rpmbuild/SOURCES/example-0.1.0.tar.gz\n",
    "+ STATUS=0\n",
    "+ '[' 0 -ne 0 ']'\n",
    "+ cd example-0.1.0\n",
    "+ /bin/chmod -Rf a+rX,u+w,g-w,o-w .\n",
    "+ exit 0\n",
    "Executing(%build): /bin/sh -e /var/tmp/rpm-tmp.eYFskt\n",
    "+ umask 022\n",
    "+ cd /home/vagrant/rpmbuild/BUILD\n",
    "+ cd example-0.1.0\n",
    "+ exit 0\n",
    "Executing(%install): /bin/sh -e /var/tmp/rpm-tmp.cwEehz\n",
    "+ umask 022\n",
    "+ cd /home/vagrant/rpmbuild/BUILD\n",
    "+ cd example-0.1.0\n",
    "+ rm -rf /home/vagrant/rpmbuild/BUILDROOT/example-0.1.0-1.el6.x86_64\n",
    "+ mkdir -p /home/vagrant/rpmbuild/BUILDROOT/example-0.1.0-1.el6.x86_64\n",
    "+ rsync -avx ./ /home/vagrant/rpmbuild/BUILDROOT/example-0.1.0-1.el6.x86_64/\n",
    "sending incremental file list\n",
    "./\n",
    "bin/\n",
    "bin/example\n",
    "\n",
    "sent 128 bytes  received 38 bytes  332.00 bytes/sec\n",
    "total size is 0  speedup is 0.00\n",
    "+ /usr/lib/rpm/brp-compress\n",
    "+ /usr/lib/rpm/brp-strip\n",
    "+ /usr/lib/rpm/brp-strip-static-archive\n",
    "+ /usr/lib/rpm/brp-strip-comment-note\n",
    "Processing files: example-0.1.0-1.el6.x86_64\n",
    "Requires(rpmlib): rpmlib(CompressedFileNames) <= 3.0.4-1 rpmlib(PayloadFilesHavePrefix) <= 4.0-1\n",
    "Checking for unpackaged file(s): /usr/lib/rpm/check-files /home/vagrant/rpmbuild/BUILDROOT/example-0.1.0-1.el6.x86_64\n",
    "warning: Could not canonicalize hostname: vagrant-centos6\n",
    "Wrote: /home/vagrant/rpmbuild/RPMS/x86_64/example-0.1.0-1.el6.x86_64.rpm\n",
    "Executing(%clean): /bin/sh -e /var/tmp/rpm-tmp.6TMilN\n",
    "+ umask 022\n",
    "+ cd /home/vagrant/rpmbuild/BUILD\n",
    "+ cd example-0.1.0\n",
    "+ rm -rf /home/vagrant/rpmbuild/BUILDROOT/example-0.1.0-1.el6.x86_64\n",
    "+ exit 0```"
   ]
  },
  {
   "cell_type": "code",
   "execution_count": null,
   "metadata": {
    "collapsed": true,
    "hidden": true
   },
   "outputs": [],
   "source": []
  },
  {
   "cell_type": "markdown",
   "metadata": {
    "heading_collapsed": true,
    "run_control": {
     "marked": false
    }
   },
   "source": [
    "### Example"
   ]
  },
  {
   "cell_type": "markdown",
   "metadata": {
    "hidden": true,
    "run_control": {
     "marked": false
    }
   },
   "source": [
    "```\n",
    "rpmbuild -bb package.spec\n",
    "```"
   ]
  },
  {
   "cell_type": "markdown",
   "metadata": {
    "heading_collapsed": true,
    "run_control": {
     "marked": false
    }
   },
   "source": [
    "#### Provided script"
   ]
  },
  {
   "cell_type": "code",
   "execution_count": null,
   "metadata": {
    "collapsed": false,
    "deletable": false,
    "hidden": true,
    "locked": true,
    "run_control": {
     "marked": false
    }
   },
   "outputs": [],
   "source": [
    "# Task: create-rpm-build-rpm\n",
    "# Evaluation Mode: provided-script\n",
    "\n",
    "# Build the rpm file\n",
    "\n",
    "ssh -qi ../mykeypair root@10.0.2.100 <<'EOF'\n",
    "cd ${HOME}/rpmbuild/SPECS\n",
    "rpmbuild -bb example.spec\n",
    "EOF"
   ]
  },
  {
   "cell_type": "markdown",
   "metadata": {
    "run_control": {
     "marked": false
    }
   },
   "source": [
    "### Check"
   ]
  },
  {
   "cell_type": "code",
   "execution_count": null,
   "metadata": {
    "collapsed": true,
    "deletable": false,
    "locked": true,
    "run_control": {
     "marked": false
    }
   },
   "outputs": [],
   "source": [
    "# Task: create-rpm-build-rpm\n",
    "# Evaluation Mode: check"
   ]
  },
  {
   "cell_type": "markdown",
   "metadata": {
    "run_control": {
     "marked": false
    }
   },
   "source": [
    "## Task: Install package from rpm"
   ]
  },
  {
   "cell_type": "markdown",
   "metadata": {
    "heading_collapsed": true,
    "run_control": {
     "marked": false
    }
   },
   "source": [
    "### Task details"
   ]
  },
  {
   "cell_type": "markdown",
   "metadata": {
    "hidden": true,
    "run_control": {
     "marked": false
    }
   },
   "source": [
    "In the previous task we got the following ouput\n",
    "```\n",
    "Wrote: /home/vagrant/rpmbuild/RPMS/x86_64/example-0.1.0-1.el6.x86_64.rpm\n",
    "```\n",
    "which tells us where our newly created rpm file was placed, use ```rpm``` and try to install the file.\\\n",
    "the output should look similar to this:\n",
    "```\n",
    "Preparing...                ########################################### [100%]\n",
    "   1:example                ########################################### [100%]\n",
    "```\n",
    "\n",
    "with the commands ```rpm -qi example``` and ```rpm -ql example``` we can get the package information and a list of what the package contained."
   ]
  },
  {
   "cell_type": "code",
   "execution_count": null,
   "metadata": {
    "collapsed": true,
    "hidden": true
   },
   "outputs": [],
   "source": []
  },
  {
   "cell_type": "markdown",
   "metadata": {
    "heading_collapsed": true,
    "run_control": {
     "marked": false
    }
   },
   "source": [
    "### Example"
   ]
  },
  {
   "cell_type": "markdown",
   "metadata": {
    "hidden": true,
    "run_control": {
     "marked": false
    }
   },
   "source": [
    "```sudo -ihv /path/to/rpm/file```"
   ]
  },
  {
   "cell_type": "markdown",
   "metadata": {
    "heading_collapsed": true,
    "run_control": {
     "marked": false
    }
   },
   "source": [
    "#### Provided script"
   ]
  },
  {
   "cell_type": "code",
   "execution_count": null,
   "metadata": {
    "collapsed": false,
    "deletable": false,
    "hidden": true,
    "locked": true,
    "run_control": {
     "marked": false
    }
   },
   "outputs": [],
   "source": [
    "# Task: create-rpm-install-from-rpm\n",
    "# Evaluatoin Mode: provided-script\n",
    "\n",
    "# Install and confirm the package contents/information\n",
    "\n",
    "ssh -qi ../mykeypair root@10.0.2.100 <<'EOF'\n",
    "sudo rpm -ivh /root/rpmbuild/RPMS/x86_64/example-0.1.0-1.el6.x86_64.rpm\n",
    "rpm -qi example\n",
    "rpm -ql example\n",
    "ls -l /bin/example\n",
    "EOF"
   ]
  },
  {
   "cell_type": "markdown",
   "metadata": {
    "run_control": {
     "marked": false
    }
   },
   "source": [
    "### Check"
   ]
  },
  {
   "cell_type": "code",
   "execution_count": null,
   "metadata": {
    "collapsed": true,
    "deletable": false,
    "locked": true,
    "run_control": {
     "marked": false
    }
   },
   "outputs": [],
   "source": [
    "# Task: create-rpm-install-from-rpm\n",
    "# Evaluation Mode: check"
   ]
  },
  {
   "cell_type": "markdown",
   "metadata": {
    "run_control": {
     "marked": false
    }
   },
   "source": [
    "## Task"
   ]
  },
  {
   "cell_type": "markdown",
   "metadata": {
    "heading_collapsed": true,
    "run_control": {
     "marked": false
    }
   },
   "source": [
    "### Task details"
   ]
  },
  {
   "cell_type": "markdown",
   "metadata": {
    "hidden": true,
    "run_control": {
     "marked": false
    }
   },
   "source": [
    "Now use the ```rpm``` command to remove the example package.\n",
    "By doing so ```rpm -qi example``` should output that the package is no longer installed"
   ]
  },
  {
   "cell_type": "code",
   "execution_count": null,
   "metadata": {
    "collapsed": true,
    "hidden": true
   },
   "outputs": [],
   "source": []
  },
  {
   "cell_type": "markdown",
   "metadata": {
    "heading_collapsed": true,
    "run_control": {
     "marked": false
    }
   },
   "source": [
    "### Example"
   ]
  },
  {
   "cell_type": "markdown",
   "metadata": {
    "hidden": true,
    "run_control": {
     "marked": false
    }
   },
   "source": [
    "```sudo rpm -e package```"
   ]
  },
  {
   "cell_type": "markdown",
   "metadata": {
    "heading_collapsed": true,
    "hidden": true,
    "run_control": {
     "marked": false
    }
   },
   "source": [
    "#### Provided script"
   ]
  },
  {
   "cell_type": "code",
   "execution_count": null,
   "metadata": {
    "collapsed": false,
    "deletable": false,
    "hidden": true,
    "locked": true,
    "run_control": {
     "marked": false
    }
   },
   "outputs": [],
   "source": [
    "# Task: create-rpm-remove-package\n",
    "# Evaluation Mode: provided-script\n",
    "\n",
    "# Remove the package\n",
    "\n",
    "ssh -qi ../mykeypair root@10.0.2.100 'sudo rpm -e example'"
   ]
  },
  {
   "cell_type": "markdown",
   "metadata": {
    "run_control": {
     "marked": false
    }
   },
   "source": [
    "### Check"
   ]
  },
  {
   "cell_type": "code",
   "execution_count": null,
   "metadata": {
    "collapsed": true,
    "deletable": false,
    "locked": true,
    "run_control": {
     "marked": false
    }
   },
   "outputs": [],
   "source": [
    "# Task: create-rpm-remove-packages\n",
    "# Evaluation Mode: check"
   ]
  }
 ],
 "metadata": {
  "kernelspec": {
   "display_name": "Bash",
   "language": "bash",
   "name": "bash"
  },
  "language_info": {
   "codemirror_mode": "shell",
   "file_extension": ".sh",
   "mimetype": "text/x-sh",
   "name": "bash"
  },
  "toc": {
   "toc_cell": false,
   "toc_number_sections": true,
   "toc_threshold": 6,
   "toc_window_display": false
  }
 },
 "nbformat": 4,
 "nbformat_minor": 0
}
