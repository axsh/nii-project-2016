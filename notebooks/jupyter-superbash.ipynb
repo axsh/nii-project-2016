{
 "cells": [
  {
   "cell_type": "code",
   "execution_count": 1,
   "metadata": {
    "collapsed": false,
    "scrolled": false
   },
   "outputs": [
    {
     "name": "stdout",
     "output_type": "stream",
     "text": [
      "Ready.\r\n"
     ]
    }
   ],
   "source": [
    "(\n",
    "exec 9<&1\n",
    "echo $$ >/tmp/bpid\n",
    "\n",
    "echopat='*echo $?*'\n",
    "\n",
    "# The code below seems to work, but it may be sensitive to\n",
    "# the timeout and sleep values.  Hopefully it works well enough\n",
    "# until we have time to modify the bash_kernel code.\n",
    "\n",
    "blockingread()\n",
    "{\n",
    "   while sleep 0.2; do\n",
    "      IFS= read -r ln\n",
    "      if [[ \"$ln\" == $echopat ]]; then\n",
    "         # give Jupyter a return code when it asks for one\n",
    "         echo \"0\" >&9\n",
    "         echo -n \"$PS1\" >&9\n",
    "         continue\n",
    "      fi\n",
    "      [ \"$ln\" = \"\" ] && continue\n",
    "      break\n",
    "   done\n",
    "}\n",
    "\n",
    "readcell() {\n",
    "    blockingread\n",
    "    echo \"$ln\"\n",
    "    echo -n \"$PS2\">&9\n",
    "    # read rest of the cell contents\n",
    "    while IFS= read -t 0.2 -r lnr; do\n",
    "      ## somehow get make this next line unnecessary!!!\n",
    "      [[ \"$lnr\" == *endofcell* ]] && break\n",
    "      echo \"$lnr\"\n",
    "      # The problem is this next line.  Jupyter will not send the next line unless\n",
    "      # PS2 is sent.  But if there are no more lines, then Jupyter will block.\n",
    "      # Therefore, it is necessary to modify the bash_kernel code to remove the\n",
    "      # requirement for the endofcell marker.\n",
    "      echo -n \"$PS2\">&9\n",
    "    done\n",
    "}\n",
    "   \n",
    "echo \"Ready.\"\n",
    "echo -n \"$PS1\"\n",
    "\n",
    "basedir=\"$(pwd)\"\n",
    "new_job_dir()\n",
    "{\n",
    "    mkdir -p \"$basedir/jobs\"\n",
    "    jobn=1000\n",
    "    while [ -d \"$basedir/jobs/j-$jobn\" ]; do\n",
    "        (( jobn++ ))\n",
    "        sleep 0.2 # use only when debugging\n",
    "    done\n",
    "    mkdir \"$basedir/jobs/j-$jobn\"\n",
    "    echo \"$basedir/jobs/j-$jobn\"\n",
    "}\n",
    "\n",
    "get_step_id()\n",
    "{\n",
    "    # first line of the form: # (\n",
    "    pat='#(*'\n",
    "    while read ln; do\n",
    "        nospaces=\"${ln// /}\"\n",
    "        if [[ \"$nospaces\" == $pat ]]; then\n",
    "            afterparen=\"${nospaces#*\\(}\"\n",
    "            id=\"${afterparen%%\\)*}\"\n",
    "            echo \"$id\"\n",
    "            return 0\n",
    "        fi\n",
    "    done <<<\"$1\"\n",
    "    return 255\n",
    "}\n",
    "\n",
    "get_cell_command()\n",
    "{\n",
    "    # first line of the form: # token1 token2 token3\n",
    "    # where token1 is a file name in the ./stepdefs directory.\n",
    "    id=\"$1\"\n",
    "    inputtoscan=\"$2\"\n",
    "    pat='#*'\n",
    "    while read ln; do\n",
    "        if [[ \"$ln\" == $pat ]]; then\n",
    "            read commentchar token1 othertokens <<<\"${ln}\"\n",
    "            script_path=\"$basedir/stepdefs/s-$id/$token1.sh\"\n",
    "            if [ -f \"$script_path\" ]; then\n",
    "                echo \"$script_path $othertokens\"\n",
    "                return 0\n",
    "            fi\n",
    "        fi\n",
    "    done <<<\"$inputtoscan\"\n",
    "    return 255\n",
    "}\n",
    "\n",
    "# for testing:\n",
    "while sleep 0.2; do\n",
    "    ls -l /proc/$BASHPID/fd >>/tmp/sbash.log\n",
    "    input=\"$(readcell)\"\n",
    "    if [[ \"$input\" = *quit* ]]; then\n",
    "      echo \"bye\"\n",
    "      # the PS1 will be sent by the parent bash (the one created by jupyter)\n",
    "      break\n",
    "    fi\n",
    "\n",
    "    jd=\"$(new_job_dir)\"\n",
    "    echo \"$input\" >\"$jd/input\"\n",
    "\n",
    "    didcmd=false\n",
    "    if stepid=\"$(get_step_id \"$input\")\"; then\n",
    "        # set -x\n",
    "        stepdir=\"$basedir/stepdefs/s-$stepid\"\n",
    "        if [ -d \"$stepdir\" ]; then\n",
    "            if command=\"$(get_cell_command \"$stepid\" \"$input\")\"; then\n",
    "                echo \"$command\" >\"$jd/command\"\n",
    "                echo \"$input\" | bash $command >\"$jd/output\" 2>&1\n",
    "                echo \"$?\" >\"$jd/rc\"\n",
    "                didcmd=true\n",
    "            fi\n",
    "        fi\n",
    "    fi\n",
    "    if ! $didcmd; then\n",
    "        # for default, execute code like normal bash cell\n",
    "        bash \"$jd/input\" >\"$jd/output\" 2>&1\n",
    "        echo \"$?\" >\"$jd/rc\"\n",
    "    fi\n",
    "    echo \"$(cat \"$jd/output\")\"\n",
    "    echo -n \"$PS1\"\n",
    "done\n",
    ")"
   ]
  },
  {
   "cell_type": "code",
   "execution_count": 2,
   "metadata": {
    "collapsed": false
   },
   "outputs": [
    {
     "name": "stdout",
     "output_type": "stream",
     "text": [
      "# (teststep)\r\n",
      "# echo\r\n",
      "one\r\n",
      "two\r\n"
     ]
    }
   ],
   "source": [
    "# (teststep)\n",
    "# echo\n",
    "one\n",
    "two\n",
    "endofcell"
   ]
  },
  {
   "cell_type": "code",
   "execution_count": 3,
   "metadata": {
    "collapsed": false
   },
   "outputs": [
    {
     "name": "stdout",
     "output_type": "stream",
     "text": [
      "Wed Feb  3 01:07:17 JST 2016\r\n",
      "centos\r\n"
     ]
    }
   ],
   "source": [
    "date\n",
    "whoami\n",
    "endofcell"
   ]
  },
  {
   "cell_type": "code",
   "execution_count": 2,
   "metadata": {
    "collapsed": false
   },
   "outputs": [
    {
     "name": "stdout",
     "output_type": "stream",
     "text": [
      "571981\r\n"
     ]
    }
   ],
   "source": [
    "echo $$"
   ]
  },
  {
   "cell_type": "code",
   "execution_count": 6,
   "metadata": {
    "collapsed": false
   },
   "outputs": [
    {
     "name": "stdout",
     "output_type": "stream",
     "text": [
      "0\r\n"
     ]
    }
   ],
   "source": [
    "quit\n",
    "endofcell"
   ]
  }
 ],
 "metadata": {
  "kernelspec": {
   "display_name": "Bash",
   "language": "bash",
   "name": "bash"
  },
  "language_info": {
   "codemirror_mode": "shell",
   "file_extension": ".sh",
   "mimetype": "text/x-sh",
   "name": "bash"
  }
 },
 "nbformat": 4,
 "nbformat_minor": 0
}
