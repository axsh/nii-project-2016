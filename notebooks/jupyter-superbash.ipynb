{
 "cells": [
  {
   "cell_type": "code",
   "execution_count": 1,
   "metadata": {
    "collapsed": false,
    "scrolled": false
   },
   "outputs": [
    {
     "name": "stdout",
     "output_type": "stream",
     "text": [
      "Ready.\r\n"
     ]
    }
   ],
   "source": [
    "(\n",
    "exec 9<&1\n",
    "\n",
    "echopat='*echo $?*'\n",
    "\n",
    "# The code below seems to work, but it may be sensitive to\n",
    "# the timeout and sleep values.  Hopefully it works well enough\n",
    "# until we have time to modify the bash_kernel code.\n",
    "\n",
    "blockingread()\n",
    "{\n",
    "   while sleep 0.2; do\n",
    "      IFS= read -r ln\n",
    "      if [[ \"$ln\" == $echopat ]]; then\n",
    "         # give Jupyter a return code when it asks for one\n",
    "         echo \"0\" >&9\n",
    "         echo -n \"$PS1\" >&9\n",
    "         continue\n",
    "      fi\n",
    "      [ \"$ln\" = \"\" ] && continue\n",
    "      break\n",
    "   done\n",
    "}\n",
    "\n",
    "readcell() {\n",
    "    blockingread\n",
    "    echo \"$ln\"\n",
    "    echo -n \"$PS2\">&9\n",
    "    # read rest of the cell contents\n",
    "    while IFS= read -t 0.2 -r lnr; do\n",
    "      ## somehow get make this next line unnecessary!!!\n",
    "      [[ \"$lnr\" == *endofcell* ]] && break\n",
    "      echo \"$lnr\"\n",
    "      # The problem is this next line.  Jupyter will not send the next line unless\n",
    "      # PS2 is sent.  But if there are no more lines, then Jupyter will block.\n",
    "      # Therefore, it is necessary to modify the bash_kernel code to remove the\n",
    "      # requirement for the endofcell marker.\n",
    "      echo -n \"$PS2\">&9\n",
    "    done\n",
    "}\n",
    "   \n",
    "echo \"Ready.\"\n",
    "echo -n \"$PS1\"\n",
    "\n",
    "basedir=\"$(pwd)\"\n",
    "new_job_dir()\n",
    "{\n",
    "    mkdir -p \"$basedir/jobs\"\n",
    "    jobn=1000\n",
    "    while [ -d \"$basedir/jobs/j-$jobn\" ]; do\n",
    "        (( jobn++ ))\n",
    "        sleep 0.2 # use only when debugging\n",
    "    done\n",
    "    echo \"$basedir/jobs/j-$jobn\"\n",
    "}\n",
    "\n",
    "# for testing:\n",
    "while sleep 0.2; do\n",
    "    echo $$ >>/tmp/sbash.log\n",
    "    ls -l /proc/$BASHPID/fd >>/tmp/sbash.log\n",
    "    input=\"$(readcell)\"\n",
    "    if [[ \"$input\" = *quit* ]]; then\n",
    "      echo \"bye\"\n",
    "      # the PS1 will be sent by the parent bash (the one created by jupyter)\n",
    "      break\n",
    "    fi\n",
    "    jd=\"$(new_job_dir)\"\n",
    "    echo \"$input\" >\"$jd/input\"\n",
    "    bash \"$jd/input\" >\"$jd/output\" 2>&1\n",
    "    echo \"$?\" >\"$jd/rc\"\n",
    "    echo \"$(cat \"$jd/output\")\"\n",
    "    echo -n \"$PS1\"\n",
    "done\n",
    ")"
   ]
  },
  {
   "cell_type": "code",
   "execution_count": 2,
   "metadata": {
    "collapsed": false
   },
   "outputs": [
    {
     "name": "stdout",
     "output_type": "stream",
     "text": [
      "bash: /home/centos/notebooks/jobs/j-1000/input: No such file or directory\r\n",
      "bash: /home/centos/notebooks/jobs/j-1000/output: No such file or directory\r\n",
      "bash: /home/centos/notebooks/jobs/j-1000/rc: No such file or directory\r\n",
      "cat: /home/centos/notebooks/jobs/j-1000/output: No such file or directory\r\n",
      "\r\n"
     ]
    }
   ],
   "source": [
    "date\n",
    "endofcell"
   ]
  },
  {
   "cell_type": "code",
   "execution_count": 4,
   "metadata": {
    "collapsed": false
   },
   "outputs": [
    {
     "name": "stdout",
     "output_type": "stream",
     "text": [
      "begin test echo of cell contents:\r\n",
      "line one\r\n",
      "line two\r\n",
      "end\r\n"
     ]
    }
   ],
   "source": [
    "line one\n",
    "line two\n",
    "endofcell"
   ]
  },
  {
   "cell_type": "code",
   "execution_count": 5,
   "metadata": {
    "collapsed": false
   },
   "outputs": [
    {
     "name": "stdout",
     "output_type": "stream",
     "text": [
      "begin test echo of cell contents:\r\n",
      "one\r\n",
      "end\r\n"
     ]
    }
   ],
   "source": [
    "one\n",
    "endofcell"
   ]
  },
  {
   "cell_type": "code",
   "execution_count": 6,
   "metadata": {
    "collapsed": false
   },
   "outputs": [
    {
     "name": "stdout",
     "output_type": "stream",
     "text": [
      "bye\r\n"
     ]
    }
   ],
   "source": [
    "quit\n",
    "endofcell"
   ]
  }
 ],
 "metadata": {
  "kernelspec": {
   "display_name": "Bash",
   "language": "bash",
   "name": "bash"
  },
  "language_info": {
   "codemirror_mode": "shell",
   "file_extension": ".sh",
   "mimetype": "text/x-sh",
   "name": "bash"
  }
 },
 "nbformat": 4,
 "nbformat_minor": 0
}
