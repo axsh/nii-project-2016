{
 "cells": [
  {
   "cell_type": "code",
   "execution_count": 108,
   "metadata": {
    "collapsed": false,
    "scrolled": false
   },
   "outputs": [
    {
     "name": "stdout",
     "output_type": "stream",
     "text": [
      "Ready.\r\n"
     ]
    }
   ],
   "source": [
    "(\n",
    "exec 9<&1\n",
    "ls -l /proc/$BASHPID/fd >>/tmp/sbash.log\n",
    "\n",
    "exec 2>>/tmp/sbash.log\n",
    "set -x\n",
    "\n",
    "ls -l /proc/$BASHPID/fd >>/tmp/sbash.log\n",
    "\n",
    "echopat='*echo $?*'\n",
    "\n",
    "blockingread()\n",
    "{\n",
    "   while sleep 0.2; do\n",
    "      IFS= read -r ln\n",
    "      if [[ \"$ln\" == $echopat ]]; then\n",
    "         echo 0 >&9  # because we changed fd1 and fd2\n",
    "         echo -n \"$PS1\" >&9\n",
    "         continue\n",
    "      fi\n",
    "      [ \"$ln\" = \"\" ] && continue\n",
    "      break\n",
    "   done\n",
    "}\n",
    "\n",
    "readcell() {\n",
    "    blockingread\n",
    "    echo \"$ln\"\n",
    "    echo -n \"$PS2\">&9  # because we changed fd1 and fd2\n",
    "    # read rest of the cell contents\n",
    "    while IFS= read -t 0.2 -r lnr; do\n",
    "      if [[ \"$lnr\" == $echopat ]]; then\n",
    "         continue\n",
    "      fi\n",
    "      ## somehow get make this next line unnecessary!!!\n",
    "      [[ \"$lnr\" == *endofcell* ]] && break\n",
    "      echo \"$lnr\"\n",
    "      echo -n \"$PS2\">&9  # because we changed fd1 and fd2\n",
    "    done\n",
    "    : return code $? period\n",
    "}\n",
    "   while IFS= read -t 0.5 -r ln; do\n",
    "      echo \"xxx,$ln\"\n",
    "   done\n",
    "echo \"Ready.\"\n",
    "\n",
    "echo -n \"$PS1\"\n",
    "\n",
    "while sleep 0.2; do\n",
    "echo $$ >>/tmp/sbash.log\n",
    "ls -l /proc/$BASHPID/fd >>/tmp/sbash.log\n",
    "input=\"$(readcell)\"\n",
    "if [[ \"$input\" = *quit* ]]; then\n",
    "  echo \"bye\"\n",
    "  break\n",
    "fi\n",
    "echo a\n",
    "echo \"begin\"\n",
    "echo \"$input\"\n",
    "echo \"end\"\n",
    "echo\n",
    "echo -n \"$PS1\"\n",
    "#read ln3\n",
    "#: \"$ln3\"\n",
    "done\n",
    ")"
   ]
  },
  {
   "cell_type": "code",
   "execution_count": 109,
   "metadata": {
    "collapsed": false
   },
   "outputs": [
    {
     "name": "stdout",
     "output_type": "stream",
     "text": [
      "a\r\n",
      "begin\r\n",
      "echo \\\r\n",
      "  a \\\r\n",
      "  b\r\n",
      "end\r\n",
      "\r\n"
     ]
    }
   ],
   "source": [
    "echo \\\n",
    "  a \\\n",
    "  b\n",
    "  endofcell"
   ]
  },
  {
   "cell_type": "code",
   "execution_count": 110,
   "metadata": {
    "collapsed": false
   },
   "outputs": [
    {
     "name": "stdout",
     "output_type": "stream",
     "text": [
      "a\r\n",
      "begin\r\n",
      "dateds\r\n",
      "three\r\n",
      "end\r\n",
      "\r\n"
     ]
    }
   ],
   "source": [
    "dateds\n",
    "three\n",
    "endofcell"
   ]
  },
  {
   "cell_type": "code",
   "execution_count": 111,
   "metadata": {
    "collapsed": false
   },
   "outputs": [
    {
     "name": "stdout",
     "output_type": "stream",
     "text": [
      "a\r\n",
      "begin\r\n",
      "date\r\n",
      "one\r\n",
      "two\r\n",
      "three\r\n",
      "four\r\n",
      "a\r\n",
      "b\r\n",
      "c\r\n",
      "d\r\n",
      "end\r\n",
      "\r\n"
     ]
    }
   ],
   "source": [
    "date\n",
    "one\n",
    "two\n",
    "three\n",
    "four\n",
    "a\n",
    "b\n",
    "c\n",
    "d\n",
    "endofcell"
   ]
  },
  {
   "cell_type": "code",
   "execution_count": 107,
   "metadata": {
    "collapsed": false
   },
   "outputs": [
    {
     "name": "stdout",
     "output_type": "stream",
     "text": [
      "bash: quit: command not found\r\n"
     ]
    }
   ],
   "source": [
    "quit\n"
   ]
  },
  {
   "cell_type": "code",
   "execution_count": 1,
   "metadata": {
    "collapsed": false
   },
   "outputs": [
    {
     "name": "stdout",
     "output_type": "stream",
     "text": []
    }
   ],
   "source": [
    "export PS1 ; export PS2 ; while read -r ln ; do   echo \"$ln\" ; sleep 1 ; done | tee -a /tmp/ii | script /tmp/null | tee -a /tmp/oo"
   ]
  }
 ],
 "metadata": {
  "kernelspec": {
   "display_name": "Bash",
   "language": "bash",
   "name": "bash"
  },
  "language_info": {
   "codemirror_mode": "shell",
   "file_extension": ".sh",
   "mimetype": "text/x-sh",
   "name": "bash"
  }
 },
 "nbformat": 4,
 "nbformat_minor": 0
}
