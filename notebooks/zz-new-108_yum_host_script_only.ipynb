{
 "cells": [
  {
   "cell_type": "code",
   "execution_count": 1,
   "metadata": {
    "collapsed": false,
    "deletable": false,
    "hide_input": true,
    "init_cell": true,
    "locked": true,
    "run_control": {
     "marked": true
    }
   },
   "outputs": [
    {
     "name": "stdout",
     "output_type": "stream",
     "text": [
      "Ready.\n",
      "Changing global mode to 'my-script'\n"
     ]
    }
   ],
   "source": [
    "source extend_bashkernel-2modes.source\n",
    "set-global-evaluation-mode \"my-script\""
   ]
  },
  {
   "cell_type": "code",
   "execution_count": null,
   "metadata": {
    "collapsed": true
   },
   "outputs": [],
   "source": [
    "set-global-evaluation-mode \"my-script\""
   ]
  },
  {
   "cell_type": "markdown",
   "metadata": {},
   "source": [
    "# Yum repository"
   ]
  },
  {
   "cell_type": "markdown",
   "metadata": {},
   "source": [
    "## Task: Install packages"
   ]
  },
  {
   "cell_type": "markdown",
   "metadata": {},
   "source": [
    "### Task details"
   ]
  },
  {
   "cell_type": "markdown",
   "metadata": {},
   "source": [
    "To create a and publish a yum repositry we need to install the ```createrepo``` and ```httpd``` commands."
   ]
  },
  {
   "cell_type": "code",
   "execution_count": null,
   "metadata": {
    "collapsed": true
   },
   "outputs": [],
   "source": []
  },
  {
   "cell_type": "markdown",
   "metadata": {
    "heading_collapsed": true
   },
   "source": [
    "### Example"
   ]
  },
  {
   "cell_type": "markdown",
   "metadata": {
    "hidden": true
   },
   "source": [
    "```sudo yum install -y package```"
   ]
  },
  {
   "cell_type": "markdown",
   "metadata": {
    "hidden": true
   },
   "source": [
    "#### Provided script"
   ]
  },
  {
   "cell_type": "code",
   "execution_count": null,
   "metadata": {
    "collapsed": false,
    "hidden": true,
    "run_control": {
     "marked": false
    }
   },
   "outputs": [],
   "source": [
    "# Task: yum-host-install-packages\n",
    "# Evaluation Mode: provided-script\n",
    "\n",
    "# Install packages\n",
    "\n",
    "IP=\"$(< /home/centos/jenkins-instance-ip)\"\n",
    "ssh -qi /home/centos/mykeypair root@\"$IP\" 'sudo yum install -y createrepo httpd'"
   ]
  },
  {
   "cell_type": "markdown",
   "metadata": {},
   "source": [
    "### Check"
   ]
  },
  {
   "cell_type": "code",
   "execution_count": null,
   "metadata": {
    "collapsed": true
   },
   "outputs": [],
   "source": [
    "# Task: yum-host-install-packages\n",
    "# Evaluation Mode: check"
   ]
  },
  {
   "cell_type": "markdown",
   "metadata": {},
   "source": [
    "## Task: Start the httpd and configure startup setting"
   ]
  },
  {
   "cell_type": "markdown",
   "metadata": {},
   "source": [
    "### Task details"
   ]
  },
  {
   "cell_type": "markdown",
   "metadata": {},
   "source": [
    "Installing the package does not start up the service, it will have to be done manually. Running the service should generate the following output\n",
    "\n",
    "```\n",
    "Starting httpd: httpd: apr_sockaddr_info_get() failed for vagrant-centos6\n",
    "httpd: Could not reliably determine the server's fully qualified domain name, using 127.0.0.1 for ServerName\n",
    "                                                           [  OK  ]\n",
    "```\n",
    "\n",
    "We will also want to configure the server to start automatically at system startup. This can be done with the ```chkconfig``` command. The desired output should look like this:\n",
    "```\n",
    "httpd           0:off   1:off   2:on    3:on    4:on    5:on    6:off\n",
    "```\n",
    "Where ```3:on``` indicates that the service will run when the system boots up the next time\n"
   ]
  },
  {
   "cell_type": "code",
   "execution_count": null,
   "metadata": {
    "collapsed": true
   },
   "outputs": [],
   "source": []
  },
  {
   "cell_type": "markdown",
   "metadata": {
    "heading_collapsed": true
   },
   "source": [
    "### Example"
   ]
  },
  {
   "cell_type": "markdown",
   "metadata": {
    "hidden": true
   },
   "source": [
    "To start a service:\n",
    "```\n",
    "service service-name start\n",
    "```\n",
    "\n",
    "Manage services:\n",
    "```\n",
    "chkconfig service-name on|off\n",
    "```\n",
    "\n",
    "Confirm the status of services:\n",
    "```\n",
    "chkconfig --list service-name\n",
    "```"
   ]
  },
  {
   "cell_type": "markdown",
   "metadata": {
    "collapsed": true,
    "hidden": true
   },
   "source": [
    "#### Provided script"
   ]
  },
  {
   "cell_type": "code",
   "execution_count": null,
   "metadata": {
    "collapsed": false,
    "hidden": true,
    "run_control": {
     "marked": false
    }
   },
   "outputs": [],
   "source": [
    "# Task: yum-host-setup-httpd\n",
    "# Evaluation Mode: provided-script\n",
    "\n",
    "# Configure and confirm/reconfirm httpd status\n",
    "\n",
    "IP=\"$(< /home/centos/jenkins-instance-ip)\"\n",
    "ssh -qi /home/centos/mykeypair root@\"$IP\" <<'EOF'\n",
    "sudo service httpd start\n",
    "sudo chkconfig --list httpd\n",
    "sudo chkconfig httpd on\n",
    "sudo chkconfig --list httpd\n",
    "EOF"
   ]
  },
  {
   "cell_type": "markdown",
   "metadata": {},
   "source": [
    "### Check"
   ]
  },
  {
   "cell_type": "code",
   "execution_count": null,
   "metadata": {
    "collapsed": true
   },
   "outputs": [],
   "source": [
    "# Task: yum-host-setup-httpd\n",
    "# Evaluation Mode: check"
   ]
  },
  {
   "cell_type": "markdown",
   "metadata": {},
   "source": [
    "## Task: Setup the public folder for httpd"
   ]
  },
  {
   "cell_type": "markdown",
   "metadata": {},
   "source": [
    "### Task details"
   ]
  },
  {
   "cell_type": "markdown",
   "metadata": {},
   "source": [
    "This example will publish the folder /pub/. Create the folder\n",
    "```\n",
    "/var/www/html/pub\n",
    "```\n",
    "Then confirm that it was created."
   ]
  },
  {
   "cell_type": "code",
   "execution_count": null,
   "metadata": {
    "collapsed": true
   },
   "outputs": [],
   "source": []
  },
  {
   "cell_type": "markdown",
   "metadata": {
    "heading_collapsed": true
   },
   "source": [
    "### Example"
   ]
  },
  {
   "cell_type": "markdown",
   "metadata": {
    "hidden": true
   },
   "source": [
    "```mkdir folder-name```"
   ]
  },
  {
   "cell_type": "markdown",
   "metadata": {
    "heading_collapsed": true,
    "hidden": true
   },
   "source": [
    "#### Provided script"
   ]
  },
  {
   "cell_type": "code",
   "execution_count": null,
   "metadata": {
    "collapsed": false,
    "hidden": true,
    "run_control": {
     "marked": false
    }
   },
   "outputs": [],
   "source": [
    "# Task: yum-host-setup-publish-folder\n",
    "# Evaluation Mode: provided-script\n",
    "\n",
    "# Cretae the public folder httpd server and confirm\n",
    "\n",
    "IP=\"$(< /home/centos/jenkins-instance-ip)\"\n",
    "ssh -qi /home/centos/mykeypair root@\"$IP\" <<'EOF'\n",
    "sudo mkdir -p /var/www/html/pub\n",
    "sudo ls -la /var/www/html/pub\n",
    "EOF"
   ]
  },
  {
   "cell_type": "markdown",
   "metadata": {},
   "source": [
    "### Check"
   ]
  },
  {
   "cell_type": "code",
   "execution_count": null,
   "metadata": {
    "collapsed": true
   },
   "outputs": [],
   "source": [
    "# Task: yum-host-setup-publish-folder\n",
    "# Evaluation Mode: check"
   ]
  },
  {
   "cell_type": "markdown",
   "metadata": {},
   "source": [
    "## Task: Confirm rpm file"
   ]
  },
  {
   "cell_type": "markdown",
   "metadata": {},
   "source": [
    "### Task details"
   ]
  },
  {
   "cell_type": "markdown",
   "metadata": {},
   "source": [
    "Make sure that the rpm file from the previous notebook exists."
   ]
  },
  {
   "cell_type": "code",
   "execution_count": null,
   "metadata": {
    "collapsed": true
   },
   "outputs": [],
   "source": []
  },
  {
   "cell_type": "markdown",
   "metadata": {
    "heading_collapsed": true
   },
   "source": [
    "### Example"
   ]
  },
  {
   "cell_type": "markdown",
   "metadata": {
    "hidden": true
   },
   "source": [
    "```ls -la /path/to/file/name```"
   ]
  },
  {
   "cell_type": "markdown",
   "metadata": {
    "heading_collapsed": true,
    "hidden": true
   },
   "source": [
    "#### Provided script"
   ]
  },
  {
   "cell_type": "code",
   "execution_count": null,
   "metadata": {
    "collapsed": false,
    "hidden": true,
    "run_control": {
     "marked": false
    }
   },
   "outputs": [],
   "source": [
    "# Task: yum-host-confirm-rpm\n",
    "# Evaluation Mode: provided-script\n",
    "\n",
    "# Confirm that the rpm exists\n",
    "\n",
    "IP=\"$(< /home/centos/jenkins-instance-ip)\"\n",
    "ssh -qi /home/centos/mykeypair root@\"$IP\" ' ls -l ${HOME}/rpmbuild/RPMS/x86_64/example-0.1.0-1.el6.x86_64.rpm'"
   ]
  },
  {
   "cell_type": "markdown",
   "metadata": {},
   "source": [
    "### Check"
   ]
  },
  {
   "cell_type": "code",
   "execution_count": null,
   "metadata": {
    "collapsed": true
   },
   "outputs": [],
   "source": [
    "# Task: yum-host-confirm-rpm\n",
    "# Evaluation Mode: check"
   ]
  },
  {
   "cell_type": "markdown",
   "metadata": {},
   "source": [
    "## Task: Publish the rpm"
   ]
  },
  {
   "cell_type": "markdown",
   "metadata": {},
   "source": [
    "### Task details"
   ]
  },
  {
   "cell_type": "markdown",
   "metadata": {},
   "source": [
    "To publish the rpm we will make an identical copy of it inside the published folder. This example will make use of ```rsync``` to synchronize the rpm folder with the folder on out httpd server.\n",
    "\n",
    "Go into the RPM folder inside the rpm and synchronize it with /var/www/html/pub/ using ```rsync```"
   ]
  },
  {
   "cell_type": "code",
   "execution_count": null,
   "metadata": {
    "collapsed": true
   },
   "outputs": [],
   "source": []
  },
  {
   "cell_type": "markdown",
   "metadata": {
    "heading_collapsed": true
   },
   "source": [
    "### Example"
   ]
  },
  {
   "cell_type": "markdown",
   "metadata": {
    "hidden": true
   },
   "source": [
    "```rsync -avx /from/ /to/```"
   ]
  },
  {
   "cell_type": "markdown",
   "metadata": {
    "heading_collapsed": true,
    "hidden": true
   },
   "source": [
    "#### Provided script"
   ]
  },
  {
   "cell_type": "code",
   "execution_count": null,
   "metadata": {
    "collapsed": false,
    "hidden": true,
    "run_control": {
     "marked": false
    }
   },
   "outputs": [],
   "source": [
    "# Task: yum-host-publish-rpm\n",
    "# Evaluation Mode: provided-script\n",
    "\n",
    "# Copy the rpm to newly created published folder\n",
    "\n",
    "IP=\"$(< /home/centos/jenkins-instance-ip)\"\n",
    "ssh -qi /home/centos/mykeypair root@\"$IP\" <<'EOF'\n",
    "cd ${HOME}/rpmbuild/RPMS/\n",
    "sudo rsync -avx . /var/www/html/pub/\n",
    "ls -l /var/www/html/pub/x86_64/example-0.1.0-1.el6.x86_64.rpm\n",
    "EOF"
   ]
  },
  {
   "cell_type": "markdown",
   "metadata": {},
   "source": [
    "### Check"
   ]
  },
  {
   "cell_type": "code",
   "execution_count": null,
   "metadata": {
    "collapsed": true
   },
   "outputs": [],
   "source": [
    "# Task: yum-host-publish-rpm\n",
    "# Evaluation Mode: check"
   ]
  },
  {
   "cell_type": "markdown",
   "metadata": {},
   "source": [
    "## Task: Create repo"
   ]
  },
  {
   "cell_type": "markdown",
   "metadata": {},
   "source": [
    "### Task details"
   ]
  },
  {
   "cell_type": "markdown",
   "metadata": {},
   "source": [
    "Inside the published folder use the ```createrepo``` command to create the repository. It should generate this output.\n",
    "```\n",
    "Spawning worker 0 with 1 pkgs\n",
    "Workers Finished\n",
    "Gathering worker results\n",
    "\n",
    "Saving Primary metadata\n",
    "Saving file lists metadata\n",
    "Saving other metadata\n",
    "Generating sqlite DBs\n",
    "Sqlite DBs complete\n",
    "```\n",
    "\n",
    "It can be confirmed by looking inside the folder reopdata."
   ]
  },
  {
   "cell_type": "code",
   "execution_count": null,
   "metadata": {
    "collapsed": true
   },
   "outputs": [],
   "source": []
  },
  {
   "cell_type": "markdown",
   "metadata": {
    "heading_collapsed": true
   },
   "source": [
    "### Example"
   ]
  },
  {
   "cell_type": "markdown",
   "metadata": {
    "hidden": true
   },
   "source": [
    "```createrepo```"
   ]
  },
  {
   "cell_type": "markdown",
   "metadata": {
    "heading_collapsed": true,
    "hidden": true
   },
   "source": [
    "#### Provided script"
   ]
  },
  {
   "cell_type": "code",
   "execution_count": null,
   "metadata": {
    "collapsed": false,
    "run_control": {
     "marked": false
    }
   },
   "outputs": [],
   "source": [
    "# Task: yum-host-publish-repo\n",
    "# Evaluation Mode: provided-script\n",
    "\n",
    "# Create the repo\n",
    "\n",
    "IP=\"$(< /home/centos/jenkins-instance-ip)\"\n",
    "ssh -qi /home/centos/mykeypair root@\"$IP\" <<'EOF'\n",
    "cd /var/www/html/pub\n",
    "sudo createrepo .\n",
    "ls -l repodata/\n",
    "EOF"
   ]
  },
  {
   "cell_type": "markdown",
   "metadata": {},
   "source": [
    "### Check"
   ]
  },
  {
   "cell_type": "code",
   "execution_count": null,
   "metadata": {
    "collapsed": true
   },
   "outputs": [],
   "source": [
    "# Task: yum-host-publish-repo\n",
    "# Evaluation Mode: check"
   ]
  },
  {
   "cell_type": "markdown",
   "metadata": {},
   "source": [
    "## Task: Add to repository list"
   ]
  },
  {
   "cell_type": "markdown",
   "metadata": {},
   "source": [
    "### Task details"
   ]
  },
  {
   "cell_type": "markdown",
   "metadata": {},
   "source": [
    "Now to use the repositry a repo file is needed. The repo files aare located in the ```/etc/yum.repos.d/``` directory. This time we are creating a repo for ```example```, the repo file will therefore be called example.repo. The contents should look like this:\n",
    "```\n",
    "[example]\n",
    "name=example\n",
    "baseurl=http://127.0.0.1/pub/\n",
    "enabled=1\n",
    "gpgcheck=0\n",
    "```\n",
    "\n",
    "Where baseurl specifies where the repo is to be downloaded from. (This time we are using the locally published ```/pub/``` folder)"
   ]
  },
  {
   "cell_type": "code",
   "execution_count": null,
   "metadata": {
    "collapsed": true
   },
   "outputs": [],
   "source": []
  },
  {
   "cell_type": "markdown",
   "metadata": {
    "heading_collapsed": true
   },
   "source": [
    "### Example"
   ]
  },
  {
   "cell_type": "markdown",
   "metadata": {
    "hidden": true
   },
   "source": [
    "```EXAMPLE_CODE```"
   ]
  },
  {
   "cell_type": "markdown",
   "metadata": {
    "heading_collapsed": true,
    "hidden": true
   },
   "source": [
    "#### Provided script"
   ]
  },
  {
   "cell_type": "code",
   "execution_count": null,
   "metadata": {
    "collapsed": false,
    "hidden": true,
    "run_control": {
     "marked": false
    }
   },
   "outputs": [],
   "source": [
    "# Task: yum-host-add-repo\n",
    "# Evaluation Mode: provided-script\n",
    "\n",
    "# Add the repo to list\n",
    "\n",
    "IP=\"$(< /home/centos/jenkins-instance-ip)\"\n",
    "ssh -qi /home/centos/mykeypair root@\"$IP\" <<'EOS'\n",
    "cat <<EOF > /etc/yum.repos.d/example.repo\n",
    "[example]\n",
    "name=example\n",
    "baseurl=http://127.0.0.1/pub/\n",
    "enabled=1\n",
    "gpgcheck=0\n",
    "EOF\n",
    "EOS"
   ]
  },
  {
   "cell_type": "markdown",
   "metadata": {},
   "source": [
    "### Check"
   ]
  },
  {
   "cell_type": "code",
   "execution_count": null,
   "metadata": {
    "collapsed": true
   },
   "outputs": [],
   "source": [
    "# Task: yum-host-add-repo\n",
    "# Evaluation Mode: check"
   ]
  },
  {
   "cell_type": "markdown",
   "metadata": {},
   "source": [
    "## Task: Confirm and install repo"
   ]
  },
  {
   "cell_type": "markdown",
   "metadata": {},
   "source": [
    "### Task details"
   ]
  },
  {
   "cell_type": "markdown",
   "metadata": {},
   "source": [
    "We can now run some commands to make sure that the repository is available and also get information about the package.\n",
    "```\n",
    "sudo yum makecache --disablerepo='*' --enablerepo='example'\n",
    "```\n",
    "Should give us this\n",
    "```\n",
    "Loaded plugins: fastestmirror\n",
    "Loading mirror speeds from cached hostfile\n",
    "example                                                  | 2.9 kB     00:00\n",
    "example/filelists_db                                     |  748 B     00:00\n",
    "example/other_db                                         |  650 B     00:00\n",
    "Metadata Cache Created\n",
    "```\n",
    "This confirms that the example is available\n",
    "```\n",
    "yum info example\n",
    "```\n",
    "Should output this\n",
    "```\n",
    "Loaded plugins: fastestmirror\n",
    "Determining fastest mirrors\n",
    " * base: www.ftp.ne.jp\n",
    " * extras: www.ftp.ne.jp\n",
    " * updates: www.ftp.ne.jp\n",
    "Available Packages\n",
    "Name        : example\n",
    "Arch        : x86_64\n",
    "Version     : 0.1.0\n",
    "Release     : 1.el6\n",
    "Size        : 1.7 k\n",
    "Repo        : example\n",
    "Summary     : example\n",
    "License     : BSD\n",
    "Description :\n",
    "```\n",
    "This gives us some information about the package\n",
    "\n",
    "Now install the package using ```yum```"
   ]
  },
  {
   "cell_type": "code",
   "execution_count": null,
   "metadata": {
    "collapsed": true
   },
   "outputs": [],
   "source": []
  },
  {
   "cell_type": "markdown",
   "metadata": {
    "heading_collapsed": true
   },
   "source": [
    "### Example"
   ]
  },
  {
   "cell_type": "markdown",
   "metadata": {
    "hidden": true
   },
   "source": [
    "```yum install -y package-name```"
   ]
  },
  {
   "cell_type": "markdown",
   "metadata": {
    "heading_collapsed": true,
    "hidden": true
   },
   "source": [
    "#### Provided script"
   ]
  },
  {
   "cell_type": "code",
   "execution_count": null,
   "metadata": {
    "collapsed": false,
    "hidden": true,
    "run_control": {
     "marked": false
    }
   },
   "outputs": [],
   "source": [
    "# Task: yum-host-install-example-package\n",
    "# Evaluation Mode: provided-script\n",
    "\n",
    "# Check information and install the example package\n",
    "\n",
    "IP=\"$(< /home/centos/jenkins-instance-ip)\"\n",
    "ssh -qi /home/centos/mykeypair root@\"$IP\" <<'EOF'\n",
    "sudo yum makecache --disablerepo='*' --enablerepo='example'\n",
    "sudo yum info example\n",
    "sudo yum install -y example\n",
    "EOF"
   ]
  },
  {
   "cell_type": "markdown",
   "metadata": {},
   "source": [
    "### Check"
   ]
  },
  {
   "cell_type": "code",
   "execution_count": null,
   "metadata": {
    "collapsed": true
   },
   "outputs": [],
   "source": [
    "# Task: yum-host-install-example-package\n",
    "# Evaluation Mode: check"
   ]
  },
  {
   "cell_type": "markdown",
   "metadata": {},
   "source": [
    "## Task: Upgrade package"
   ]
  },
  {
   "cell_type": "markdown",
   "metadata": {},
   "source": [
    "### Task details"
   ]
  },
  {
   "cell_type": "markdown",
   "metadata": {},
   "source": [
    "Now that we have created a repository we will also manage the repository for an upgraded version, example-0.2.0.\n",
    "Go into the SOURCES folder of our rpm and make a copy of example-0.1.0 name it example-0.2.0 using ```rsync```\n",
    "And like in the previous excersise make it into an archive using ```tar```"
   ]
  },
  {
   "cell_type": "code",
   "execution_count": null,
   "metadata": {
    "collapsed": true
   },
   "outputs": [],
   "source": []
  },
  {
   "cell_type": "markdown",
   "metadata": {
    "heading_collapsed": true
   },
   "source": [
    "### Example"
   ]
  },
  {
   "cell_type": "markdown",
   "metadata": {
    "hidden": true
   },
   "source": [
    "Refer to previous examples"
   ]
  },
  {
   "cell_type": "markdown",
   "metadata": {
    "heading_collapsed": true,
    "hidden": true
   },
   "source": [
    "#### Provided script"
   ]
  },
  {
   "cell_type": "code",
   "execution_count": null,
   "metadata": {
    "collapsed": false,
    "hidden": true,
    "run_control": {
     "marked": false
    }
   },
   "outputs": [],
   "source": [
    "# Task: yum-host-upgrade-version\n",
    "# Evaluation Mode: provided-script\n",
    "\n",
    "# Adding a new version\n",
    "\n",
    "IP=\"$(< /home/centos/jenkins-instance-ip)\"\n",
    "ssh -qi /home/centos/mykeypair root@\"$IP\" <<'EOF'\n",
    "cd ${HOME}/rpmbuild/SOURCES\n",
    "rsync -avx example-0.1.0/ example-0.2.0\n",
    "tar zcvf example-0.2.0.tar.gz example-0.2.0\n",
    "EOF"
   ]
  },
  {
   "cell_type": "markdown",
   "metadata": {},
   "source": [
    "### Check"
   ]
  },
  {
   "cell_type": "code",
   "execution_count": null,
   "metadata": {
    "collapsed": true
   },
   "outputs": [],
   "source": [
    "# Task: yum-host-upgrade-version\n",
    "# Evaluation Mode: check"
   ]
  },
  {
   "cell_type": "markdown",
   "metadata": {},
   "source": [
    "## Task: Upgrade the spec file"
   ]
  },
  {
   "cell_type": "markdown",
   "metadata": {},
   "source": [
    "### Task details"
   ]
  },
  {
   "cell_type": "markdown",
   "metadata": {},
   "source": [
    "The spec file also needs to be updated to indicate that example is now version 0.2.0.\n",
    "Go into the SPECS folder, make a backup of example.spec. Then edit the file that is being used and replace 0.1.0 with 0.2.0 for the version."
   ]
  },
  {
   "cell_type": "code",
   "execution_count": null,
   "metadata": {
    "collapsed": true
   },
   "outputs": [],
   "source": []
  },
  {
   "cell_type": "markdown",
   "metadata": {
    "heading_collapsed": true
   },
   "source": [
    "### Example"
   ]
  },
  {
   "cell_type": "markdown",
   "metadata": {
    "hidden": true
   },
   "source": [
    "```EXAMPLE_CODE```"
   ]
  },
  {
   "cell_type": "markdown",
   "metadata": {
    "heading_collapsed": true,
    "hidden": true
   },
   "source": [
    "#### Provided script"
   ]
  },
  {
   "cell_type": "code",
   "execution_count": null,
   "metadata": {
    "collapsed": false,
    "hidden": true,
    "run_control": {
     "marked": false
    }
   },
   "outputs": [],
   "source": [
    "# Task: yum-host-upgrade-spec\n",
    "# Evaluation Mode: provided-script\n",
    "\n",
    "# Upgrade the information inside spec file\n",
    "\n",
    "IP=\"$(< /home/centos/jenkins-instance-ip)\"\n",
    "ssh -qi /home/centos/mykeypair root@\"$IP\" <<'EOF'\n",
    "cd ${HOME}/rpmbuild/SPECS/\n",
    "cp -p example.spec example.spec.orig\n",
    "sed -i 's,0.1.0,0.2.0,' example.spec\n",
    "diff example.spec.orig example.spec\n",
    "EOF"
   ]
  },
  {
   "cell_type": "markdown",
   "metadata": {},
   "source": [
    "### Check"
   ]
  },
  {
   "cell_type": "code",
   "execution_count": null,
   "metadata": {
    "collapsed": true
   },
   "outputs": [],
   "source": [
    "# Task: yum-host-upgrade-spec\n",
    "# Evaluation Mode: check"
   ]
  },
  {
   "cell_type": "markdown",
   "metadata": {},
   "source": [
    "## Task: Rebuild rpm file"
   ]
  },
  {
   "cell_type": "markdown",
   "metadata": {},
   "source": [
    "### Task details"
   ]
  },
  {
   "cell_type": "markdown",
   "metadata": {},
   "source": [
    "Build the spec again, using the ```rpmbuild``` command. The same way we used it in the previous exercise."
   ]
  },
  {
   "cell_type": "code",
   "execution_count": null,
   "metadata": {
    "collapsed": true
   },
   "outputs": [],
   "source": []
  },
  {
   "cell_type": "markdown",
   "metadata": {
    "heading_collapsed": true
   },
   "source": [
    "### Example"
   ]
  },
  {
   "cell_type": "markdown",
   "metadata": {
    "hidden": true
   },
   "source": [
    "Refer to 107"
   ]
  },
  {
   "cell_type": "markdown",
   "metadata": {
    "heading_collapsed": true,
    "hidden": true
   },
   "source": [
    "#### Provided script"
   ]
  },
  {
   "cell_type": "code",
   "execution_count": null,
   "metadata": {
    "collapsed": false,
    "hidden": true,
    "run_control": {
     "marked": false
    }
   },
   "outputs": [],
   "source": [
    "# Task: yum-host-upgrade-rebuild-spec\n",
    "# Evaluation Mode: provided-script\n",
    "\n",
    "# Rebuild the spec file to be versoin 0.2.0\n",
    "\n",
    "IP=\"$(< /home/centos/jenkins-instance-ip)\"\n",
    "ssh -qi /home/centos/mykeypair root@\"$IP\" <<'EOF'\n",
    "cd ${HOME}/rpmbuild/SPECS/\n",
    "rpmbuild -bb example.spec\n",
    "EOF"
   ]
  },
  {
   "cell_type": "markdown",
   "metadata": {},
   "source": [
    "### Check"
   ]
  },
  {
   "cell_type": "code",
   "execution_count": null,
   "metadata": {
    "collapsed": true
   },
   "outputs": [],
   "source": [
    "# Task: yum-host-upgrade-rebuild-spec\n",
    "# Evaluation Mode: check"
   ]
  },
  {
   "cell_type": "markdown",
   "metadata": {},
   "source": [
    "## Task: Resync /var/www/html/pub/"
   ]
  },
  {
   "cell_type": "markdown",
   "metadata": {},
   "source": [
    "### Task details"
   ]
  },
  {
   "cell_type": "markdown",
   "metadata": {},
   "source": [
    "Because the version was updated the /pub/ folder needs to be updated as well.\n",
    "\n",
    "Use ```rsync``` to update the folder to the new version from the RPMS folder."
   ]
  },
  {
   "cell_type": "code",
   "execution_count": null,
   "metadata": {
    "collapsed": true
   },
   "outputs": [],
   "source": []
  },
  {
   "cell_type": "markdown",
   "metadata": {
    "heading_collapsed": true
   },
   "source": [
    "### Example"
   ]
  },
  {
   "cell_type": "markdown",
   "metadata": {
    "hidden": true
   },
   "source": [
    "Refer to previous example on how to publish rpm to repository"
   ]
  },
  {
   "cell_type": "markdown",
   "metadata": {
    "heading_collapsed": true,
    "hidden": true
   },
   "source": [
    "#### Provided script"
   ]
  },
  {
   "cell_type": "code",
   "execution_count": null,
   "metadata": {
    "collapsed": false,
    "hidden": true,
    "run_control": {
     "marked": false
    }
   },
   "outputs": [],
   "source": [
    "# Task: yum-host-upgrade-republish-spec\n",
    "# Evaluation Mode: provided-script\n",
    "\n",
    "# Publish new version on the webserver\n",
    "\n",
    "IP=\"$(< /home/centos/jenkins-instance-ip)\"\n",
    "ssh -qi /home/centos/mykeypair root@\"$IP\" <<'EOF'\n",
    "cd ${HOME}/rpmbuild/RPMS/\n",
    "sudo rsync -avx . /var/www/html/pub\n",
    "ls -l /var/www/html/pub/x86_64/example-0.2.0-1.el6.x86_64.\n",
    "EOF"
   ]
  },
  {
   "cell_type": "markdown",
   "metadata": {},
   "source": [
    "### Check"
   ]
  },
  {
   "cell_type": "code",
   "execution_count": null,
   "metadata": {
    "collapsed": true
   },
   "outputs": [],
   "source": [
    "# Task: yum-host-upgrade-republish-spec\n",
    "# Evaluation Mode: check"
   ]
  },
  {
   "cell_type": "markdown",
   "metadata": {},
   "source": [
    "## Task: Recreate repo"
   ]
  },
  {
   "cell_type": "markdown",
   "metadata": {},
   "source": [
    "### Task details"
   ]
  },
  {
   "cell_type": "markdown",
   "metadata": {},
   "source": [
    "Go to ```/var/www/html/pub/``` and create the repo once again."
   ]
  },
  {
   "cell_type": "code",
   "execution_count": null,
   "metadata": {
    "collapsed": true
   },
   "outputs": [],
   "source": []
  },
  {
   "cell_type": "markdown",
   "metadata": {
    "heading_collapsed": true
   },
   "source": [
    "### Example"
   ]
  },
  {
   "cell_type": "markdown",
   "metadata": {
    "hidden": true
   },
   "source": [
    "Refer to previous example"
   ]
  },
  {
   "cell_type": "markdown",
   "metadata": {
    "heading_collapsed": true,
    "hidden": true
   },
   "source": [
    "#### Provided script"
   ]
  },
  {
   "cell_type": "code",
   "execution_count": null,
   "metadata": {
    "collapsed": false,
    "hidden": true,
    "run_control": {
     "marked": false
    }
   },
   "outputs": [],
   "source": [
    "# Task: yum-host-upgrade-publish-repo\n",
    "# Evaluation Mode: provided-script\n",
    "\n",
    "IP=\"$(< /home/centos/jenkins-instance-ip)\"\n",
    "ssh -qi /home/centos/mykeypair root@\"$IP\" <<'EOF'\n",
    "cd /var/www/html/pub\n",
    "sudo createrepo .\n",
    "EOF"
   ]
  },
  {
   "cell_type": "markdown",
   "metadata": {},
   "source": [
    "### Check"
   ]
  },
  {
   "cell_type": "code",
   "execution_count": null,
   "metadata": {
    "collapsed": true
   },
   "outputs": [],
   "source": [
    "# Task: yum-host-upgrade-publish-repo\n",
    "# Evaluation Mode: check"
   ]
  },
  {
   "cell_type": "markdown",
   "metadata": {},
   "source": [
    "## Task: Reload yum metadata"
   ]
  },
  {
   "cell_type": "markdown",
   "metadata": {},
   "source": [
    "### Task details"
   ]
  },
  {
   "cell_type": "markdown",
   "metadata": {},
   "source": [
    "Clear the metadata and run ```yum info example``` again and the package should now be upgraded to 0.2.0"
   ]
  },
  {
   "cell_type": "code",
   "execution_count": null,
   "metadata": {
    "collapsed": true
   },
   "outputs": [],
   "source": []
  },
  {
   "cell_type": "markdown",
   "metadata": {},
   "source": [
    "### Example"
   ]
  },
  {
   "cell_type": "markdown",
   "metadata": {
    "hidden": true
   },
   "metadata": {},
   "source": [
    "```yum info package-name```"
   ]
  },
  {
   "cell_type": "markdown",
   "metadata": {},
   "source": [
    "#### Provided script"
   ]
  },
  {
   "cell_type": "code",
   "execution_count": null,
   "metadata": {
    "collapsed": false,
    "run_control": {
     "marked": false
    }
   },
   "outputs": [],
   "source": [
    "# Task: yum-host-upgrade-reset-metadata\n",
    "# Evaluation Mode: provided-script\n",
    "\n",
    "IP=\"$(< /home/centos/jenkins-instance-ip)\"\n",
    "ssh -qi /home/centos/mykeypair root@\"$IP\" <<'EOF'\n",
    "yum clean metadata\n",
    "yum info example\n",
    "EOF"
   ]
  },
  {
   "cell_type": "markdown",
   "metadata": {},
   "source": [
    "### Check"
   ]
  },
  {
   "cell_type": "code",
   "execution_count": null,
   "metadata": {
    "collapsed": true
   },
   "outputs": [],
   "source": [
    "# Task: yum-host-upgrade-reset-metadata\n",
    "# Evaluation Mode: check"
   ]
  },
  {
   "cell_type": "markdown",
   "metadata": {},
   "source": [
    "## Task: "
   ]
  },
  {
   "cell_type": "markdown",
   "metadata": {},
   "source": [
    "### Task details"
   ]
  },
  {
   "cell_type": "markdown",
   "metadata": {},
   "source": [
    "Since the packge versoin has been upgraded, yum can also update the package by calling `update`\n",
    "Update the package with yum"
   ]
  },
  {
   "cell_type": "code",
   "execution_count": null,
   "metadata": {
    "collapsed": true
   },
   "outputs": [],
   "source": []
  },
  {
   "cell_type": "markdown",
   "metadata": {},
   "source": [
    "### Example"
   ]
  },
  {
   "cell_type": "markdown",
   "metadata": {},
   "source": [
    "```yum update -y package-name```"
   ]
  },
  {
   "cell_type": "markdown",
   "metadata": {},
   "source": [
    "#### Provided script"
   ]
  },
  {
   "cell_type": "code",
   "execution_count": null,
   "metadata": {
    "collapsed": false,
    "run_control": {
     "marked": false
    }
   },
   "outputs": [],
   "source": [
    "# Task: yum-host-upgrade-install\n",
    "# Evaluation Mode: provided-script\n",
    "\n",
    "IP=\"$(< /home/centos/jenkins-instance-ip)\"\n",
    "ssh -qi /home/centos/mykeypair root@\"$IP\" <<'EOF'\n",
    "sudo yum update -y example\n",
    "rpm -qi example\n",
    "EOF"
   ]
  },
  {
   "cell_type": "markdown",
   "metadata": {},
   "source": [
    "### Check"
   ]
  },
  {
   "cell_type": "code",
   "execution_count": null,
   "metadata": {
    "collapsed": true
   },
   "outputs": [],
   "source": [
    "# Task: yum-host-upgrade-install\n",
    "# Evaluation Mode: check"
   ]
  }
 ],
 "metadata": {
  "kernelspec": {
   "display_name": "Bash",
   "language": "bash",
   "name": "bash"
  },
  "language_info": {
   "codemirror_mode": "shell",
   "file_extension": ".sh",
   "mimetype": "text/x-sh",
   "name": "bash"
  },
  "toc": {
   "toc_cell": false,
   "toc_number_sections": true,
   "toc_threshold": 6,
   "toc_window_display": false
  }
 },
 "nbformat": 4,
 "nbformat_minor": 0
}
