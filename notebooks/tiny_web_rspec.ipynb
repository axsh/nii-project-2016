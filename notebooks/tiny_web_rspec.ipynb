{
 "cells": [
  {
   "cell_type": "code",
   "execution_count": 1,
   "metadata": {
    "collapsed": false,
    "deletable": true,
    "hide_input": true,
    "hide_output": true,
    "init_cell": true,
    "locked": false,
    "run_control": {
     "marked": true
    }
   },
   "outputs": [
    {
     "name": "stdout",
     "output_type": "stream",
     "text": [
      "Ready.\n",
      "Changing global mode to 'my-script'\n"
     ]
    }
   ],
   "source": [
    "source extend_bashkernel-2modes.source\n",
    "set-global-evaluation-mode \"my-script\"\n",
    "# (initialization cell, input hidden)"
   ]
  },
  {
   "cell_type": "code",
   "execution_count": null,
   "metadata": {
    "collapsed": false
   },
   "outputs": [],
   "source": [
    "set-global-evaluation-mode \"provided-script\""
   ]
  },
  {
   "cell_type": "markdown",
   "metadata": {},
   "source": [
    "# Objective: Create and configure rspec job"
   ]
  },
  {
   "cell_type": "markdown",
   "metadata": {},
   "source": [
    "## Task: Reset job"
   ]
  },
  {
   "cell_type": "markdown",
   "metadata": {},
   "source": [
    "### Task Details"
   ]
  },
  {
   "cell_type": "markdown",
   "metadata": {},
   "source": [
    "To avoid conflicts between the jobs, make sure that any previous job created through this sheet is deleted before moving on. This can be done through the jenkins graphical user interface by following the example below."
   ]
  },
  {
   "cell_type": "code",
   "execution_count": null,
   "metadata": {
    "collapsed": false,
    "deletable": false,
    "hide_input": true,
    "hide_output": true,
    "locked": true,
    "run_control": {
     "marked": true
    }
   },
   "outputs": [],
   "source": [
    "# Task: rspec-reset-job\n",
    "# Evaluation Mode: load\n",
    "# (hidden load cell)\n",
    "ssh -i ../mykeypair root@10.0.2.100\n",
    "\n",
    "# Call to jenkins-cli client to delete the job.\n",
    "java -jar jenkins-cli.jar -s http://localhost:8080/ delete-job tiny_web.rspec"
   ]
  },
  {
   "cell_type": "markdown",
   "metadata": {},
   "source": [
    "### Example"
   ]
  },
  {
   "cell_type": "markdown",
   "metadata": {},
   "source": [
    "#### Provided script"
   ]
  },
  {
   "cell_type": "code",
   "execution_count": null,
   "metadata": {
    "collapsed": false,
    "deletable": false,
    "locked": true,
    "run_control": {
     "marked": false
    }
   },
   "outputs": [],
   "source": [
    "# Task: rspec-reset-job\n",
    "# Evaluation Mode: provided-script\n",
    "\n",
    "ssh -i ../mykeypair root@10.0.2.100\n",
    "\n",
    "# Call to jenkins-cli client to delete the job.\n",
    "java -jar jenkins-cli.jar -s http://localhost:8080/ delete-job tiny_web.rspec"
   ]
  },
  {
   "cell_type": "markdown",
   "metadata": {},
   "source": [
    "### Check"
   ]
  },
  {
   "cell_type": "code",
   "execution_count": null,
   "metadata": {
    "collapsed": false,
    "deletable": false,
    "locked": true,
    "run_control": {
     "marked": false
    }
   },
   "outputs": [],
   "source": [
    "# Task: rspec-reset-job\n",
    "# Evaluation Mode: check"
   ]
  },
  {
   "cell_type": "markdown",
   "metadata": {},
   "source": [
    "## _Task: Create the job_"
   ]
  },
  {
   "cell_type": "markdown",
   "metadata": {},
   "source": [
    "### Task details"
   ]
  },
  {
   "cell_type": "markdown",
   "metadata": {},
   "source": [
    "In order to start working with jenkins we need to create a new job. This particular job is intended for running the unit tests. Create an empty job and name accordingly."
   ]
  },
  {
   "cell_type": "code",
   "execution_count": null,
   "metadata": {
    "collapsed": false,
    "deletable": false,
    "hide_input": true,
    "hide_output": true,
    "locked": true,
    "run_control": {
     "marked": true
    }
   },
   "outputs": [],
   "source": [
    "# Task: rspec-create-job\n",
    "# Evaluation Mode: load\n",
    "# (hidden load cell)\n",
    "ssh -i ../mykeypair root@10.0.2.100\n",
    "\n",
    "# Call to jenkins-cli client to create an empty job.\n",
    "java -jar jenkins-cli.jar -s http://localhost:8080/ create-job tiny_web.rspec < ~/templates/config.xml"
   ]
  },
  {
   "cell_type": "markdown",
   "metadata": {},
   "source": [
    "### Example"
   ]
  },
  {
   "cell_type": "markdown",
   "metadata": {},
   "source": [
    "An example of how to create an empty job using the Jenkins GUI.<br><br>\n",
    "<a href=\"https://cloud.githubusercontent.com/assets/9693694/14140448/f9e48dde-f6b3-11e5-8877-618771a4a92a.png\"><img src=\"https://cloud.githubusercontent.com/assets/9693694/14140448/f9e48dde-f6b3-11e5-8877-618771a4a92a.png\" height=\"20%\" width=\"20%\" align=\"left\"></a>\n",
    "<a href=\"https://cloud.githubusercontent.com/assets/9693694/14140449/fb68b19e-f6b3-11e5-94a0-9a031f23ab24.png\"><img src=\"https://cloud.githubusercontent.com/assets/9693694/14140449/fb68b19e-f6b3-11e5-94a0-9a031f23ab24.png\" height=\"20%\" width=\"20%\" align=\"left\"></a>"
   ]
  },
  {
   "cell_type": "markdown",
   "metadata": {},
   "source": [
    "#### Provided script"
   ]
  },
  {
   "cell_type": "code",
   "execution_count": null,
   "metadata": {
    "collapsed": false,
    "deletable": false,
    "hide_input": false,
    "hide_output": true,
    "locked": true,
    "run_control": {
     "marked": false
    }
   },
   "outputs": [],
   "source": [
    "# Task: rspec-create-job\n",
    "# Evaluation Mode: provided-script\n",
    "\n",
    "ssh -i ../mykeypair root@10.0.2.100\n",
    "\n",
    "# Call to jenkins-cli client to create an empty job.\n",
    "java -jar jenkins-cli.jar -s http://localhost:8080/ create-job tiny_web.rspec < ~/templates/config.xml"
   ]
  },
  {
   "cell_type": "markdown",
   "metadata": {},
   "source": [
    "### Check"
   ]
  },
  {
   "cell_type": "code",
   "execution_count": null,
   "metadata": {
    "collapsed": false,
    "deletable": false,
    "hide_input": false,
    "hide_output": false,
    "locked": true,
    "run_control": {
     "marked": false
    }
   },
   "outputs": [],
   "source": [
    "# Task: rspec-create-job\n",
    "# Evaluation Mode: check"
   ]
  },
  {
   "cell_type": "markdown",
   "metadata": {},
   "source": [
    "## _Task: Configure git_"
   ]
  },
  {
   "cell_type": "markdown",
   "metadata": {},
   "source": [
    "### Task details"
   ]
  },
  {
   "cell_type": "markdown",
   "metadata": {},
   "source": [
    "When running a job, Jenkins creates a separate workspace where it stores data concerning the specific job. By using the git plugin we installed earlier, Jenkins can pull the files from the repository and use them within the workspace for reading data or executing files.\n",
    "\n",
    "Setup jenkins to fetch from your git account with the repository being the tiny_web_example which was forked earlier. Once done apply the changes."
   ]
  },
  {
   "cell_type": "code",
   "execution_count": null,
   "metadata": {
    "collapsed": false,
    "deletable": false,
    "hide_input": true,
    "hide_output": true,
    "locked": true,
    "run_control": {
     "marked": true
    }
   },
   "outputs": [],
   "source": [
    "# Task: rspec-configure-git\n",
    "# Evaluation Mode: load\n",
    "# (hidden load cell)"
   ]
  },
  {
   "cell_type": "markdown",
   "metadata": {},
   "source": [
    "### Example"
   ]
  },
  {
   "cell_type": "markdown",
   "metadata": {},
   "source": [
    "How to setup the job to fetch from a git repository.\n",
    "\n",
    "<a href=\"https://cloud.githubusercontent.com/assets/9693694/14140473/0dba2d8c-f6b4-11e5-8503-6ca337e0ca26.png\"><img align=\"left\" width=\"20%\" height=\"20%\" src=\"https://cloud.githubusercontent.com/assets/9693694/14140473/0dba2d8c-f6b4-11e5-8503-6ca337e0ca26.png\"></a>\n",
    "<a href=\"https://cloud.githubusercontent.com/assets/9693694/14140474/0dbe6faa-f6b4-11e5-88e8-14b6042481c2.png\"><img align=\"left\" width=\"20%\" height=\"20%\" src=\"https://cloud.githubusercontent.com/assets/9693694/14140474/0dbe6faa-f6b4-11e5-88e8-14b6042481c2.png\"></a>\n",
    "<a href=\"https://cloud.githubusercontent.com/assets/9693694/14140471/0dba3e94-f6b4-11e5-9c9d-1edf4bf006d0.png\"><img align=\"left\" width=\"20%\" height=\"20%\" src=\"https://cloud.githubusercontent.com/assets/9693694/14140471/0dba3e94-f6b4-11e5-9c9d-1edf4bf006d0.png\"></a>"
   ]
  },
  {
   "cell_type": "markdown",
   "metadata": {
    "collapsed": true
   },
   "source": [
    "#### Provided script"
   ]
  },
  {
   "cell_type": "code",
   "execution_count": null,
   "metadata": {
    "collapsed": false,
    "deletable": false,
    "locked": true,
    "run_control": {
     "marked": false
    }
   },
   "outputs": [],
   "source": [
    "# (rspec-configure-git)\n",
    "# Evaluation Mode: provided-script "
   ]
  },
  {
   "cell_type": "markdown",
   "metadata": {},
   "source": [
    "### Check"
   ]
  },
  {
   "cell_type": "code",
   "execution_count": null,
   "metadata": {
    "collapsed": false,
    "deletable": false,
    "locked": true,
    "run_control": {
     "marked": false
    }
   },
   "outputs": [],
   "source": [
    "# Task: rspec-configure-git\n",
    "# Evaluation Mode: check"
   ]
  },
  {
   "cell_type": "markdown",
   "metadata": {},
   "source": [
    "## _Task: Configure hipchat_"
   ]
  },
  {
   "cell_type": "markdown",
   "metadata": {},
   "source": [
    "### Task details"
   ]
  },
  {
   "cell_type": "markdown",
   "metadata": {},
   "source": [
    "The hipchat plugin that was installed earlier allows us to let jenkins notify a hipchat room of events related to the job. Such as if when it gets started, finishes, results etc.\n",
    "\n",
    "Go to the job configuration and setup the plugin to report the following events.\n",
    "**Build started**, **Succeded to build**, **Job failed to build job**"
   ]
  },
  {
   "cell_type": "code",
   "execution_count": null,
   "metadata": {
    "collapsed": false,
    "deletable": false,
    "hide_input": true,
    "hide_output": true,
    "locked": true,
    "run_control": {
     "marked": true
    }
   },
   "outputs": [],
   "source": [
    "# Task: rspec-configure-hipchat\n",
    "# Evaluation Mode: load\n",
    "# (hidden load cell)"
   ]
  },
  {
   "cell_type": "markdown",
   "metadata": {},
   "source": [
    "### Example"
   ]
  },
  {
   "cell_type": "markdown",
   "metadata": {},
   "source": [
    "<a href=\"https://cloud.githubusercontent.com/assets/9693694/14170170/0fe8eebe-f767-11e5-9e46-b57233786905.png\"><img align=\"left\" width=\"20%\" height=\"20%\" src=\"https://cloud.githubusercontent.com/assets/9693694/14170170/0fe8eebe-f767-11e5-9e46-b57233786905.png\"></a>\n",
    "<a href=\"https://cloud.githubusercontent.com/assets/9693694/14170171/0fe9fa34-f767-11e5-8eda-93845c743661.png\"><img align=\"left\" width=\"20%\" height=\"20%\" src=\"https://cloud.githubusercontent.com/assets/9693694/14170171/0fe9fa34-f767-11e5-8eda-93845c743661.png\"></a>\n",
    "<a href=\"https://cloud.githubusercontent.com/assets/9693694/14170172/0fec0f40-f767-11e5-9f26-7cc39c177588.png\"><img align=\"left\" width=\"20%\" height=\"20%\" src=\"https://cloud.githubusercontent.com/assets/9693694/14170172/0fec0f40-f767-11e5-9f26-7cc39c177588.png\"></a>"
   ]
  },
  {
   "cell_type": "markdown",
   "metadata": {},
   "source": [
    "#### Provided script"
   ]
  },
  {
   "cell_type": "code",
   "execution_count": null,
   "metadata": {
    "collapsed": false,
    "deletable": false,
    "locked": true,
    "run_control": {
     "marked": false
    }
   },
   "outputs": [],
   "source": [
    "# Task: rspec-configure-hipchat\n",
    "# Evaluation Mode: provided-script"
   ]
  },
  {
   "cell_type": "markdown",
   "metadata": {},
   "source": [
    "### Check"
   ]
  },
  {
   "cell_type": "code",
   "execution_count": null,
   "metadata": {
    "collapsed": false,
    "deletable": false,
    "locked": true,
    "run_control": {
     "marked": false
    }
   },
   "outputs": [],
   "source": [
    "# Task: rspec-configure-hipchat\n",
    "# Evaluation Mode: check"
   ]
  },
  {
   "cell_type": "markdown",
   "metadata": {},
   "source": [
    "## Task: Configure rbenv"
   ]
  },
  {
   "cell_type": "markdown",
   "metadata": {},
   "source": [
    "### Task details"
   ]
  },
  {
   "cell_type": "markdown",
   "metadata": {},
   "source": [
    "The application we are building the system for is written in ruby, so in order to run the unit-tests we need a ruby enviroment. For this we can use **rbenv** which was installed in the Introduction.\n",
    "\n",
    "Enable the rbenv plugin in the job configuration and make sure the following settings are applied:\n",
    "* Use ruby 2.0.0-p598.\n",
    "* Preinstall the gems bundler and rake.\n",
    "\n",
    "Save/Apply changes."
   ]
  },
  {
   "cell_type": "code",
   "execution_count": null,
   "metadata": {
    "collapsed": false,
    "deletable": false,
    "hide_input": true,
    "hide_output": true,
    "locked": true,
    "run_control": {
     "marked": true
    }
   },
   "outputs": [],
   "source": [
    "# Task: rspec-configure-rbenv\n",
    "# Evaluation Mode: load\n",
    "# (Hidden load cell)"
   ]
  },
  {
   "cell_type": "markdown",
   "metadata": {},
   "source": [
    "### Example"
   ]
  },
  {
   "cell_type": "markdown",
   "metadata": {},
   "source": [
    "<a href=\"https://cloud.githubusercontent.com/assets/9693694/14201161/04f47022-f82b-11e5-8238-adf77b5715fc.png\"><img align=\"left\" width=\"20%\" height=\"20%\" alt=\"rspec-configure-rbenv-01\" src=\"https://cloud.githubusercontent.com/assets/9693694/14201161/04f47022-f82b-11e5-8238-adf77b5715fc.png\"></a>"
   ]
  },
  {
   "cell_type": "markdown",
   "metadata": {},
   "source": [
    "#### Provided script"
   ]
  },
  {
   "cell_type": "code",
   "execution_count": null,
   "metadata": {
    "collapsed": false,
    "deletable": false,
    "locked": true,
    "run_control": {
     "marked": false
    }
   },
   "outputs": [],
   "source": [
    "# Task: rspec-configure-rbenv\n",
    "# Evaluation Mode: provided-script"
   ]
  },
  {
   "cell_type": "markdown",
   "metadata": {},
   "source": [
    "### Check"
   ]
  },
  {
   "cell_type": "code",
   "execution_count": null,
   "metadata": {
    "collapsed": false,
    "deletable": false,
    "locked": true,
    "run_control": {
     "marked": false
    }
   },
   "outputs": [],
   "source": [
    "# Task: rspec-configure-rbenv\n",
    "# Evaluation Mode: check"
   ]
  },
  {
   "cell_type": "markdown",
   "metadata": {},
   "source": [
    "## _Task: Add build script_"
   ]
  },
  {
   "cell_type": "markdown",
   "metadata": {},
   "source": [
    "### Task: Run a script as part of the build job"
   ]
  },
  {
   "cell_type": "markdown",
   "metadata": {},
   "source": [
    "Withing jenkins we can add scripts that will run within our enviroments, through writing the scripts directly in jenkins, or by calling files within the workspace.\n",
    "\n",
    "In order to proceed add an empty shell script and apply. This will be used later for running the unit scripts."
   ]
  },
  {
   "cell_type": "code",
   "execution_count": null,
   "metadata": {
    "collapsed": false,
    "deletable": false,
    "hide_input": true,
    "hide_output": true,
    "locked": true,
    "run_control": {
     "marked": true
    }
   },
   "outputs": [],
   "source": [
    "# Task: rspec-configure-rbenv\n",
    "# Evaluation Mode: load\n",
    "# (hidden load cell)"
   ]
  },
  {
   "cell_type": "markdown",
   "metadata": {},
   "source": [
    "### Example"
   ]
  },
  {
   "cell_type": "markdown",
   "metadata": {},
   "source": [
    "<a href=\"https://cloud.githubusercontent.com/assets/9693694/14201176/15f0b868-f82b-11e5-85cc-0b9e4d1aa980.png\"><img align=\"left\" width=\"20%\" height=\"20%\" src=\"https://cloud.githubusercontent.com/assets/9693694/14201176/15f0b868-f82b-11e5-85cc-0b9e4d1aa980.png\"></a>\n",
    "<a href=\"https://cloud.githubusercontent.com/assets/9693694/14201177/15f109a8-f82b-11e5-8b6e-5c11a262b881.png\"><img align=\"left\" width=\"20%\" height=\"20%\" src=\"https://cloud.githubusercontent.com/assets/9693694/14201177/15f109a8-f82b-11e5-8b6e-5c11a262b881.png\"></a>\n"
   ]
  },
  {
   "cell_type": "markdown",
   "metadata": {},
   "source": [
    "#### Provided script"
   ]
  },
  {
   "cell_type": "code",
   "execution_count": null,
   "metadata": {
    "collapsed": false,
    "deletable": false,
    "locked": true,
    "run_control": {
     "marked": false
    }
   },
   "outputs": [],
   "source": [
    "# Task: rspec-add-build-script\n",
    "# Evaluation Mode: provided-script"
   ]
  },
  {
   "cell_type": "markdown",
   "metadata": {},
   "source": [
    "### Check"
   ]
  },
  {
   "cell_type": "code",
   "execution_count": null,
   "metadata": {
    "collapsed": false,
    "deletable": false,
    "locked": true,
    "run_control": {
     "marked": false
    }
   },
   "outputs": [],
   "source": [
    "# Task: rspec-add-build-script\n",
    "# Evaluation Mode: check"
   ]
  },
  {
   "cell_type": "markdown",
   "metadata": {},
   "source": [
    "## _Task: Insert Template_"
   ]
  },
  {
   "cell_type": "markdown",
   "metadata": {},
   "source": [
    "Execute the following cell to load in a template, where there are certain parts missing from the final script. The following tasks will work towards filling in the missing parts to complete the script."
   ]
  },
  {
   "cell_type": "markdown",
   "metadata": {},
   "source": [
    "#### Provided script"
   ]
  },
  {
   "cell_type": "code",
   "execution_count": null,
   "metadata": {
    "collapsed": false,
    "deletable": false,
    "hide_input": true,
    "hide_output": true,
    "locked": true,
    "run_control": {
     "marked": true
    }
   },
   "outputs": [],
   "source": [
    "# Task: rspec-insert-template\n",
    "# Evaluation Mode: template"
   ]
  },
  {
   "cell_type": "markdown",
   "metadata": {},
   "source": [
    "##  _Task: Prepare database_"
   ]
  },
  {
   "cell_type": "markdown",
   "metadata": {
    "collapsed": true
   },
   "source": [
    "### Task details"
   ]
  },
  {
   "cell_type": "markdown",
   "metadata": {},
   "source": [
    "The unit tests makes use of a database called tiny_web_example.<br>\n",
    "Add a command that creates the database to the script."
   ]
  },
  {
   "cell_type": "code",
   "execution_count": null,
   "metadata": {
    "collapsed": false,
    "deletable": false,
    "hide_input": true,
    "hide_output": true,
    "locked": true,
    "run_control": {
     "marked": true
    }
   },
   "outputs": [],
   "source": [
    "# Task: rspec-script-prepare-database\n",
    "# Evaluation Mode: load\n",
    "# (hidden load cell)"
   ]
  },
  {
   "cell_type": "markdown",
   "metadata": {},
   "source": [
    "### Example"
   ]
  },
  {
   "cell_type": "markdown",
   "metadata": {},
   "source": [
    "```mysqladmin -uroot create mydatabase```"
   ]
  },
  {
   "cell_type": "markdown",
   "metadata": {},
   "source": [
    "#### Provided script"
   ]
  },
  {
   "cell_type": "code",
   "execution_count": null,
   "metadata": {
    "collapsed": false,
    "deletable": false,
    "locked": true,
    "run_control": {
     "marked": false
    }
   },
   "outputs": [],
   "source": [
    "# Task: rspec-script-prepare-database\n",
    "# Evaluation Mode: provided-script"
   ]
  },
  {
   "cell_type": "markdown",
   "metadata": {},
   "source": [
    "### Check"
   ]
  },
  {
   "cell_type": "code",
   "execution_count": null,
   "metadata": {
    "collapsed": false,
    "deletable": false,
    "locked": true,
    "run_control": {
     "marked": false
    }
   },
   "outputs": [],
   "source": [
    "# Task: rspec-script-prepare-database\n",
    "# Evaluation Mode: check"
   ]
  },
  {
   "cell_type": "markdown",
   "metadata": {},
   "source": [
    "## Build job"
   ]
  }
 ],
 "metadata": {
  "kernelspec": {
   "display_name": "Bash",
   "language": "bash",
   "name": "bash"
  },
  "language_info": {
   "codemirror_mode": "shell",
   "file_extension": ".sh",
   "mimetype": "text/x-sh",
   "name": "bash"
  },
  "toc": {
   "toc_cell": false,
   "toc_number_sections": true,
   "toc_threshold": 6,
   "toc_window_display": false
  }
 },
 "nbformat": 4,
 "nbformat_minor": 0
}
