{
 "cells": [
  {
   "cell_type": "code",
   "execution_count": 2,
   "metadata": {
    "collapsed": false
   },
   "outputs": [
    {
     "name": "stdout",
     "output_type": "stream",
     "text": [
      "Ready.\n"
     ]
    }
   ],
   "source": [
    "source extend_bashkernel.source"
   ]
  },
  {
   "cell_type": "markdown",
   "metadata": {},
   "source": [
    "# rspec job"
   ]
  },
  {
   "cell_type": "markdown",
   "metadata": {},
   "source": [
    "## _Create the job_"
   ]
  },
  {
   "cell_type": "markdown",
   "metadata": {},
   "source": [
    "### Task: Create rspec job"
   ]
  },
  {
   "cell_type": "markdown",
   "metadata": {},
   "source": [
    "Create an empty job in jenkins and name it tiny_web.rspec."
   ]
  },
  {
   "cell_type": "code",
   "execution_count": null,
   "metadata": {
    "collapsed": true,
    "deletable": false,
    "hide_input": false,
    "hide_output": true,
    "locked": true,
    "run_control": {
     "marked": true
    }
   },
   "outputs": [],
   "source": [
    "# Task: rspec-create-job\n",
    "# Evaluation Mode: load\n",
    "# ((This cell should be hidden))"
   ]
  },
  {
   "cell_type": "markdown",
   "metadata": {},
   "source": [
    "### Example"
   ]
  },
  {
   "cell_type": "markdown",
   "metadata": {},
   "source": [
    "An example of how to create an empty job using the Jenkins GUI.<br><br>\n",
    "<a href=\"https://cloud.githubusercontent.com/assets/9693694/14140448/f9e48dde-f6b3-11e5-8877-618771a4a92a.png\"><img src=\"https://cloud.githubusercontent.com/assets/9693694/14140448/f9e48dde-f6b3-11e5-8877-618771a4a92a.png\" height=\"20%\" width=\"20%\" align=\"left\"></a>\n",
    "<a href=\"https://cloud.githubusercontent.com/assets/9693694/14140449/fb68b19e-f6b3-11e5-94a0-9a031f23ab24.png\"><img src=\"https://cloud.githubusercontent.com/assets/9693694/14140449/fb68b19e-f6b3-11e5-94a0-9a031f23ab24.png\" height=\"20%\" width=\"20%\" align=\"left\"></a>"
   ]
  },
  {
   "cell_type": "markdown",
   "metadata": {},
   "source": [
    "#### Provided script"
   ]
  },
  {
   "cell_type": "code",
   "execution_count": null,
   "metadata": {
    "collapsed": false,
    "deletable": false,
    "hide_input": false,
    "hide_output": true,
    "locked": true,
    "run_control": {
     "marked": false
    }
   },
   "outputs": [
    {
     "name": "stdout",
     "output_type": "stream",
     "text": [
      "Pseudo-terminal will not be allocated because stdin is not a terminal.\n",
      "Warning: Permanently added '10.0.2.100' (RSA) to the list of known hosts.\n"
     ]
    }
   ],
   "source": [
    "# Task: rspec-create-job\n",
    "# Evaluation Mode: provided-script\n",
    "\n",
    "ssh -i ../mykeypair root@10.0.2.100\n",
    "\n",
    "# Call to jenkins-cli client to create an empty job.\n",
    "java -jar jenkins-cli.jar -s http://localhost:8080/ create-job tiny_web.rspec < ~/templates/config.xml"
   ]
  },
  {
   "cell_type": "markdown",
   "metadata": {},
   "source": [
    "### Check"
   ]
  },
  {
   "cell_type": "code",
   "execution_count": null,
   "metadata": {
    "collapsed": false,
    "deletable": false,
    "hide_input": false,
    "hide_output": true,
    "locked": true,
    "run_control": {
     "marked": false
    }
   },
   "outputs": [
    {
     "name": "stdout",
     "output_type": "stream",
     "text": [
      "This task has been done\n"
     ]
    }
   ],
   "source": [
    "# Task: rspec-create-job\n",
    "# Evaluation Mode: check"
   ]
  },
  {
   "cell_type": "markdown",
   "metadata": {},
   "source": [
    "## _Configure git_"
   ]
  },
  {
   "cell_type": "markdown",
   "metadata": {},
   "source": [
    "### Task: Setup github repository"
   ]
  },
  {
   "cell_type": "markdown",
   "metadata": {},
   "source": [
    "Set your github repository inside the job configurations and save/apply the changes."
   ]
  },
  {
   "cell_type": "code",
   "execution_count": null,
   "metadata": {
    "collapsed": false,
    "deletable": false,
    "hide_input": false,
    "locked": true,
    "run_control": {
     "marked": true
    }
   },
   "outputs": [
    {
     "name": "stdout",
     "output_type": "stream",
     "text": [
      "Loading progress...\n"
     ]
    }
   ],
   "source": [
    "# hidden load cell\n",
    "# (rspec-configure-git)\n",
    "# Evaluation Mode: load"
   ]
  },
  {
   "cell_type": "markdown",
   "metadata": {},
   "source": [
    "### Example"
   ]
  },
  {
   "cell_type": "markdown",
   "metadata": {},
   "source": [
    "How to setup the job to fetch from a git repository.\n",
    "\n",
    "<a href=\"https://cloud.githubusercontent.com/assets/9693694/14140473/0dba2d8c-f6b4-11e5-8503-6ca337e0ca26.png\"><img align=\"left\" width=\"20%\" height=\"20%\" src=\"https://cloud.githubusercontent.com/assets/9693694/14140473/0dba2d8c-f6b4-11e5-8503-6ca337e0ca26.png\"></a>\n",
    "<a href=\"https://cloud.githubusercontent.com/assets/9693694/14140474/0dbe6faa-f6b4-11e5-88e8-14b6042481c2.png\"><img align=\"left\" width=\"20%\" height=\"20%\" src=\"https://cloud.githubusercontent.com/assets/9693694/14140474/0dbe6faa-f6b4-11e5-88e8-14b6042481c2.png\"></a>\n",
    "<a href=\"https://cloud.githubusercontent.com/assets/9693694/14140471/0dba3e94-f6b4-11e5-9c9d-1edf4bf006d0.png\"><img align=\"left\" width=\"20%\" height=\"20%\" src=\"https://cloud.githubusercontent.com/assets/9693694/14140471/0dba3e94-f6b4-11e5-9c9d-1edf4bf006d0.png\"></a>"
   ]
  },
  {
   "cell_type": "markdown",
   "metadata": {
    "collapsed": true
   },
   "source": [
    "#### Provided script"
   ]
  },
  {
   "cell_type": "code",
   "execution_count": null,
   "metadata": {
    "collapsed": false,
    "deletable": false,
    "locked": true,
    "run_control": {
     "marked": false
    }
   },
   "outputs": [
    {
     "name": "stdout",
     "output_type": "stream",
     "text": [
      "Loading provided settings...\n"
     ]
    }
   ],
   "source": [
    "# (rspec-configure-git)\n",
    "# Evaluation Mode: provided-script "
   ]
  },
  {
   "cell_type": "markdown",
   "metadata": {},
   "source": [
    "### Check"
   ]
  },
  {
   "cell_type": "code",
   "execution_count": null,
   "metadata": {
    "collapsed": false,
    "deletable": false,
    "locked": true,
    "run_control": {
     "marked": false
    }
   },
   "outputs": [
    {
     "name": "stdout",
     "output_type": "stream",
     "text": [
      "Check [ ok ]\n"
     ]
    }
   ],
   "source": [
    "# Task: rspec-configure-git\n",
    "# Evaluation Mode: check"
   ]
  },
  {
   "cell_type": "markdown",
   "metadata": {},
   "source": [
    "## _Configure hipchat_"
   ]
  },
  {
   "cell_type": "markdown",
   "metadata": {},
   "source": [
    "### Task: Setup notifications"
   ]
  },
  {
   "cell_type": "markdown",
   "metadata": {},
   "source": [
    "In the job configuration, set the hipchat plugin to report the following to hipchat\n",
    "\n",
    "* Build started.\n",
    "* Succeded to build job.\n",
    "* Failed to build job.\n",
    "\n",
    "then save/apply."
   ]
  },
  {
   "cell_type": "markdown",
   "metadata": {},
   "source": [
    "### Example"
   ]
  },
  {
   "cell_type": "markdown",
   "metadata": {},
   "source": [
    "<a href=\"https://cloud.githubusercontent.com/assets/9693694/14170170/0fe8eebe-f767-11e5-9e46-b57233786905.png\"><img align=\"left\" width=\"20%\" height=\"20%\" src=\"https://cloud.githubusercontent.com/assets/9693694/14170170/0fe8eebe-f767-11e5-9e46-b57233786905.png\"></a>\n",
    "<a href=\"https://cloud.githubusercontent.com/assets/9693694/14170171/0fe9fa34-f767-11e5-8eda-93845c743661.png\"><img align=\"left\" width=\"20%\" height=\"20%\" src=\"https://cloud.githubusercontent.com/assets/9693694/14170171/0fe9fa34-f767-11e5-8eda-93845c743661.png\"></a>\n",
    "<a href=\"https://cloud.githubusercontent.com/assets/9693694/14170172/0fec0f40-f767-11e5-9f26-7cc39c177588.png\"><img align=\"left\" width=\"20%\" height=\"20%\" src=\"https://cloud.githubusercontent.com/assets/9693694/14170172/0fec0f40-f767-11e5-9f26-7cc39c177588.png\"></a>"
   ]
  },
  {
   "cell_type": "markdown",
   "metadata": {},
   "source": [
    "#### Provided script"
   ]
  },
  {
   "cell_type": "code",
   "execution_count": null,
   "metadata": {
    "collapsed": false,
    "deletable": false,
    "locked": true,
    "run_control": {
     "marked": true
    }
   },
   "outputs": [],
   "source": [
    "# Task: rspec-configure-hipchat\n",
    "# Evaluation Mode: load"
   ]
  },
  {
   "cell_type": "code",
   "execution_count": null,
   "metadata": {
    "collapsed": false,
    "deletable": false,
    "locked": true,
    "run_control": {
     "marked": false
    }
   },
   "outputs": [
    {
     "name": "stdout",
     "output_type": "stream",
     "text": [
      "Loading provided settings...\n"
     ]
    }
   ],
   "source": [
    "# Task: rspec-configure-hipchat\n",
    "# Evaluation Mode: provided-script"
   ]
  },
  {
   "cell_type": "markdown",
   "metadata": {},
   "source": [
    "### Check"
   ]
  },
  {
   "cell_type": "code",
   "execution_count": null,
   "metadata": {
    "collapsed": false,
    "deletable": false,
    "locked": true,
    "run_control": {
     "marked": false
    }
   },
   "outputs": [
    {
     "name": "stdout",
     "output_type": "stream",
     "text": [
      "Added notifications: Passed\n",
      "Enabled notifications: Passed\n"
     ]
    }
   ],
   "source": [
    "# Task: rspec-configure-hipchat\n",
    "# Evaluation Mode: check"
   ]
  },
  {
   "cell_type": "markdown",
   "metadata": {},
   "source": [
    "## _Add build script_"
   ]
  },
  {
   "cell_type": "markdown",
   "metadata": {},
   "source": [
    "### Task: Run a script as part of the build job"
   ]
  },
  {
   "cell_type": "markdown",
   "metadata": {},
   "source": [
    "### Example"
   ]
  },
  {
   "cell_type": "markdown",
   "metadata": {},
   "source": [
    "## _Insert Template_"
   ]
  },
  {
   "cell_type": "markdown",
   "metadata": {},
   "source": [
    "Execute this cell to load a script template into jenkins."
   ]
  },
  {
   "cell_type": "markdown",
   "metadata": {},
   "source": [
    "#### Provided script"
   ]
  },
  {
   "cell_type": "code",
   "execution_count": null,
   "metadata": {
    "collapsed": false,
    "deletable": false,
    "locked": true,
    "run_control": {
     "marked": false
    }
   },
   "outputs": [
    {
     "name": "stdout",
     "output_type": "stream",
     "text": [
      "Loading provided settings...\n"
     ]
    }
   ],
   "source": [
    "# Task: rspec-insert-template\n",
    "# Evaluation Mode: provided-script"
   ]
  },
  {
   "cell_type": "markdown",
   "metadata": {},
   "source": [
    "##  _Add script: Prepare database_"
   ]
  },
  {
   "cell_type": "markdown",
   "metadata": {
    "collapsed": true
   },
   "source": [
    "### Task: Edit script to prepare a database"
   ]
  },
  {
   "cell_type": "markdown",
   "metadata": {},
   "source": [
    "Create a new database called tiny_web_example"
   ]
  },
  {
   "cell_type": "code",
   "execution_count": null,
   "metadata": {
    "collapsed": true,
    "deletable": false,
    "locked": true,
    "run_control": {
     "marked": true
    }
   },
   "outputs": [],
   "source": [
    "# Task: rspec-script-prepare-database\n",
    "# Evaluation Mode: load"
   ]
  },
  {
   "cell_type": "markdown",
   "metadata": {},
   "source": [
    "### Example"
   ]
  },
  {
   "cell_type": "markdown",
   "metadata": {},
   "source": [
    "```mysqladmin -uroot create mydatabase```"
   ]
  },
  {
   "cell_type": "markdown",
   "metadata": {},
   "source": [
    "#### Provided script"
   ]
  },
  {
   "cell_type": "code",
   "execution_count": null,
   "metadata": {
    "collapsed": false,
    "deletable": false,
    "locked": true,
    "run_control": {
     "marked": false
    }
   },
   "outputs": [
    {
     "name": "stdout",
     "output_type": "stream",
     "text": [
      "Loading provided settings...\n"
     ]
    }
   ],
   "source": [
    "# Task: rspec-script-prepare-database\n",
    "# Evaluation Mode: provided-script"
   ]
  },
  {
   "cell_type": "markdown",
   "metadata": {},
   "source": [
    "### Check"
   ]
  },
  {
   "cell_type": "code",
   "execution_count": null,
   "metadata": {
    "collapsed": false,
    "deletable": false,
    "locked": true,
    "run_control": {
     "marked": false
    }
   },
   "outputs": [
    {
     "name": "stdout",
     "output_type": "stream",
     "text": [
      "Check [ ok ]\n"
     ]
    }
   ],
   "source": [
    "# Task: rspec-script-prepare-database\n",
    "# Evaluation Mode: check"
   ]
  },
  {
   "cell_type": "markdown",
   "metadata": {},
   "source": [
    "## _Add sciprt: Prepare ruby_"
   ]
  },
  {
   "cell_type": "markdown",
   "metadata": {
    "heading_collapsed": true
   },
   "source": [
    "### Task: Install ruby gems"
   ]
  },
  {
   "cell_type": "markdown",
   "metadata": {},
   "source": [
    "Install bundler and initialize the database using the rake gem."
   ]
  },
  {
   "cell_type": "markdown",
   "metadata": {},
   "source": [
    "### Example"
   ]
  },
  {
   "cell_type": "markdown",
   "metadata": {},
   "source": [
    "#### Provided script"
   ]
  },
  {
   "cell_type": "markdown",
   "metadata": {},
   "source": [
    "### Check"
   ]
  },
  {
   "cell_type": "markdown",
   "metadata": {},
   "source": [
    "## _Add script: Prepare unit tests_"
   ]
  },
  {
   "cell_type": "markdown",
   "metadata": {
    "heading_collapsed": true
   },
   "source": [
    "### Task: Run unit tests"
   ]
  },
  {
   "cell_type": "markdown",
   "metadata": {},
   "source": [
    "Have the job run the unit tests, build the job and observe the results"
   ]
  },
  {
   "cell_type": "markdown",
   "metadata": {
    "heading_collapsed": true
   },
   "source": [
    "### Example"
   ]
  },
  {
   "cell_type": "markdown",
   "metadata": {},
   "source": [
    "#### Provided script"
   ]
  },
  {
   "cell_type": "markdown",
   "metadata": {},
   "source": [
    "### Check"
   ]
  },
  {
   "cell_type": "markdown",
   "metadata": {},
   "source": [
    "## _Build Job_"
   ]
  },
  {
   "cell_type": "markdown",
   "metadata": {},
   "source": [
    "### d"
   ]
  },
  {
   "cell_type": "markdown",
   "metadata": {},
   "source": [
    "### dfs"
   ]
  },
  {
   "cell_type": "markdown",
   "metadata": {},
   "source": [
    "### fsd"
   ]
  }
 ],
 "metadata": {
  "kernelspec": {
   "display_name": "Bash",
   "language": "bash",
   "name": "bash"
  },
  "language_info": {
   "codemirror_mode": "shell",
   "file_extension": ".sh",
   "mimetype": "text/x-sh",
   "name": "bash"
  },
  "toc": {
   "toc_cell": false,
   "toc_number_sections": true,
   "toc_threshold": 6,
   "toc_window_display": false
  }
 },
 "nbformat": 4,
 "nbformat_minor": 0
}
